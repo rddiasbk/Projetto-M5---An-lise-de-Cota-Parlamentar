{
  "cells": [
    {
      "cell_type": "markdown",
      "metadata": {
        "id": "view-in-github",
        "colab_type": "text"
      },
      "source": [
        "<a href=\"https://colab.research.google.com/github/rddiasbk/Projetto-M5---An-lise-de-Cota-Parlamentar/blob/main/projeto5_grupo1.ipynb\" target=\"_parent\"><img src=\"https://colab.research.google.com/assets/colab-badge.svg\" alt=\"Open In Colab\"/></a>"
      ]
    },
    {
      "cell_type": "markdown",
      "metadata": {
        "id": "ziBZiD1VJYip"
      },
      "source": [
        "# **Briefing**"
      ]
    },
    {
      "cell_type": "markdown",
      "metadata": {
        "id": "jwc-S_PgVIXW"
      },
      "source": [
        "\n",
        "O objetivo do projeto é investigar os gastos dos parlamentares brasileiros nos anos de 2019, 2020 e 2021. \n",
        "\n",
        "Para isso, foi utilizado o conjunto de dados sobre a Cota para o Exercício da Atividade Parlamentar, a CEAP. Em resumo, a CEAP pode ser definida como: “cota única mensal destinada a custear os gastos dos deputados exclusivamente vinculados ao exercício da atividade parlamentar.” Essa ajuda de custo para os nossos digníssimos representantes podem cobrir despesas com alimentação, transporte, hospedagem, consultoria técnica, combustíveis e entre outras.\n",
        "\n",
        "A CEAP é regida por uma série de regras. Há algumas iniciativas, como o Serenata de Amor, que visam acompanhar\n",
        "os gastos realizados pelos nossos políticos e podem ser utilizadas para\n",
        "auxiliar na geração de insights.\n"
      ]
    },
    {
      "cell_type": "markdown",
      "metadata": {
        "id": "z4X_oq6AU-6M"
      },
      "source": [
        "## **01. Importação de bibliotecas**"
      ]
    },
    {
      "cell_type": "code",
      "execution_count": null,
      "metadata": {
        "id": "h5noJZUN8SO2"
      },
      "outputs": [],
      "source": [
        "import pandas as pd\n",
        "import numpy as np\n",
        "import seaborn as sns\n",
        "import matplotlib.pyplot as plt"
      ]
    },
    {
      "cell_type": "markdown",
      "metadata": {
        "id": "I3WACpqEUjcI"
      },
      "source": [
        "## 02. **Limpeza e tratamento de dados**"
      ]
    },
    {
      "cell_type": "markdown",
      "metadata": {
        "id": "M44Tf0pk2bjO"
      },
      "source": [
        "  > **Importação de Datasets**"
      ]
    },
    {
      "cell_type": "code",
      "execution_count": null,
      "metadata": {
        "id": "OpClwPcPJYKX"
      },
      "outputs": [],
      "source": [
        "dados_2019 = pd.read_csv('/content/Ano-2019.csv', sep = ';')"
      ]
    },
    {
      "cell_type": "code",
      "execution_count": null,
      "metadata": {
        "id": "5NNqjnIHWBiG"
      },
      "outputs": [],
      "source": [
        "dados_2020 =pd.read_csv('/content/Ano-2020.csv', sep = ';') "
      ]
    },
    {
      "cell_type": "code",
      "execution_count": null,
      "metadata": {
        "id": "Z4YBtIYEWDhV"
      },
      "outputs": [],
      "source": [
        "dados_2021 =pd.read_csv('/content/Ano-2021.csv', sep = ';') "
      ]
    },
    {
      "cell_type": "markdown",
      "metadata": {
        "id": "dV0ihmZVWKq4"
      },
      "source": [
        "  > **Concatenando os Datasets**"
      ]
    },
    {
      "cell_type": "code",
      "execution_count": null,
      "metadata": {
        "id": "hD2cUl5ZWSyV"
      },
      "outputs": [],
      "source": [
        "dados_concat = pd.concat([dados_2019,dados_2020,dados_2021])"
      ]
    },
    {
      "cell_type": "code",
      "execution_count": null,
      "metadata": {
        "id": "UT7ku8ncWa99"
      },
      "outputs": [],
      "source": [
        "dados_ceap1 = dados_concat.copy()"
      ]
    },
    {
      "cell_type": "code",
      "execution_count": null,
      "metadata": {
        "id": "_TfIKNwvlzI9"
      },
      "outputs": [],
      "source": [
        "dados_ceap1.drop(['cpf', 'ideCadastro','txtDescricaoEspecificacao','nuCarteiraParlamentar','nuLegislatura','codLegislatura','numSubCota','numEspecificacaoSubCota','txtCNPJCPF', 'txtNumero','numParcela','numLote','nuDeputadoId', 'ideDocumento','urlDocumento'],axis='columns', inplace = True)"
      ]
    },
    {
      "cell_type": "markdown",
      "metadata": {
        "id": "ehIysuBAksI9"
      },
      "source": [
        ">Dicionário dos Dados"
      ]
    },
    {
      "cell_type": "markdown",
      "metadata": {
        "id": "XQGfOdTylNRz"
      },
      "source": [
        "- **NomeParlamentar** (txNomeParlamentar) : Nome adotado pelo Parlamentar ao tomar posse do seu mandato. \n",
        "-**UF** (sgUF) : Unidade da federação pela qual o deputado foi eleito e é utilizada para definir o valor da cota a que o deputado tem.\n",
        "-**Partido** (sgPartido) : Sigla do Partido\n",
        "-**TipoDespesa** (txtDescricao) : descrição do Tipo de Despesa.\n",
        "-**EspecificacaoDespesa** (numEspecificacaoSubCota) : Número da Especificação mais detalhada do Tipo de Despesa.\n",
        "- **Fornecedor** (txtFornecedor):O conteúdo deste dado representa o nome do fornecedor do produto ou serviço presente no documento fiscal.\n",
        "-**TipoDocumento** (indTipoDocumento) : Indicativo de Tipo de Documento Fiscal - 0 (Zero), para Nota Fiscal 1 (um), para Recibo; e 2, para Despesa no Exterior.\n",
        "-**DataEmissao** (datEmissao) : data de emissão do documento fiscal ou a data do documento que tenha dado causa à despesa.\n",
        "-**ValorDocumento** (vlrDocumento) : Valor do Documento.valor de face do documento fiscal ou o valor do documento que deu causa à despesa. Quando se tratar de bilhete aéreo, esse valor poderá ser negativo, significando que o referido bilhete é um bilhete de compensação, pois compensa um outro bilhete emitido e não utilizado pelo deputado\n",
        "-**ValorGlosa** (vlrGlosa) : valor da glosa do documento fiscal que incidirá sobre o Valor do Documento, ou o valor da glosa do documento que deu causa à despesa.\n",
        "-**ValorLiquido**(vlrLiquido) : valor líquido do documento fiscal ou do documento que deu causa à despesa e será calculado pela diferença entre o Valor do Documento e o Valor da Glosa. É este valor que será debitado da cota do deputado. Caso o débito seja do Tipo Telefonia e o valor seja igual a zero, significa que a despesa foi franqueada.\n",
        "-**Mes** (numMes) : Mês da competência financeira do documento fiscal ou do documento que deu causa à despesa. É utilizado, junto com o ano, para determinar em que período o débito gerará efeito financeiro sobre a cota.\n",
        "-**Ano**(numAno) : Ano da competência financeira do documento fiscal ou do documento que deu causa à despesa. É utilizado, junto com o mês, para determinar em que período o débito gerará efeito financeiro sobre a cota.\n",
        "-**NomePassageiro**(txtPassageiro) : nome do passageiro, quando o documento que deu causa à despesa se tratar de emissão de bilhete aéreo.\n",
        "-**Trecho**(txtTrecho) : trecho da viagem, quando o documento que deu causa à despesa se tratar de emissão de bilhete aéreo.\n",
        "-**IdRessarcimento** (numRessarcimento) : indica o ressarcimento do qual o documento fez parte por ocasião do processamento do seu reembolso. Este dado, juntamente com o Número do Ressarcimento, auxilia a localização do documento no Arquivo da Casa.\n",
        "-**Restituicao**(vlrRestituicao) :  valor restituído do documento fiscal que incidirá sobre o Valor do Documento.\n"
      ]
    },
    {
      "cell_type": "markdown",
      "metadata": {
        "id": "xO_kFt9y22Zt"
      },
      "source": [
        "> Análise de objetos"
      ]
    },
    {
      "cell_type": "code",
      "execution_count": null,
      "metadata": {
        "id": "WR7RCCLQWgMl",
        "colab": {
          "base_uri": "https://localhost:8080/",
          "height": 617
        },
        "outputId": "8adadbbb-f61e-47b5-e870-440bbce4c11e"
      },
      "outputs": [
        {
          "output_type": "execute_result",
          "data": {
            "text/plain": [
              "  txNomeParlamentar sgUF sgPartido  \\\n",
              "0        LID.GOV-CD  NaN       NaN   \n",
              "1        LID.GOV-CD  NaN       NaN   \n",
              "2        LID.GOV-CD  NaN       NaN   \n",
              "3        LID.GOV-CD  NaN       NaN   \n",
              "4        LID.GOV-CD  NaN       NaN   \n",
              "\n",
              "                                 txtDescricao  \\\n",
              "0  FORNECIMENTO DE ALIMENTAÇÃO DO PARLAMENTAR   \n",
              "1  FORNECIMENTO DE ALIMENTAÇÃO DO PARLAMENTAR   \n",
              "2  FORNECIMENTO DE ALIMENTAÇÃO DO PARLAMENTAR   \n",
              "3  FORNECIMENTO DE ALIMENTAÇÃO DO PARLAMENTAR   \n",
              "4  FORNECIMENTO DE ALIMENTAÇÃO DO PARLAMENTAR   \n",
              "\n",
              "                           txtFornecedor  indTipoDocumento  \\\n",
              "0                 CRISTIANE FERREIRA EPP                 4   \n",
              "1                 CRISTIANE FERREIRA EPP                 4   \n",
              "2                 CRISTIANE FERREIRA EPP                 4   \n",
              "3                 CRISTIANE FERREIRA EPP                 4   \n",
              "4  PANIFICADORA FERREIRA NETO LTDA - EPP                 4   \n",
              "\n",
              "            datEmissao  vlrDocumento  vlrGlosa  vlrLiquido  numMes  numAno  \\\n",
              "0  2019-01-16T00:00:00        111.30       0.0      111.30       1    2019   \n",
              "1  2019-02-04T00:00:00        117.19       0.0      117.19       2    2019   \n",
              "2  2019-02-25T00:00:00        120.15       0.0      120.15       2    2019   \n",
              "3  2019-03-28T00:00:00        151.18       0.0      151.18       3    2019   \n",
              "4  2019-05-07T00:00:00        119.90       0.0      119.90       5    2019   \n",
              "\n",
              "  txtPassageiro txtTrecho  numRessarcimento  vlrRestituicao  \n",
              "0           NaN       NaN               NaN             NaN  \n",
              "1           NaN       NaN               NaN             NaN  \n",
              "2           NaN       NaN               NaN             NaN  \n",
              "3           NaN       NaN               NaN             NaN  \n",
              "4           NaN       NaN               NaN             NaN  "
            ],
            "text/html": [
              "\n",
              "  <div id=\"df-b0815855-726e-42ff-b193-acc6033755a9\">\n",
              "    <div class=\"colab-df-container\">\n",
              "      <div>\n",
              "<style scoped>\n",
              "    .dataframe tbody tr th:only-of-type {\n",
              "        vertical-align: middle;\n",
              "    }\n",
              "\n",
              "    .dataframe tbody tr th {\n",
              "        vertical-align: top;\n",
              "    }\n",
              "\n",
              "    .dataframe thead th {\n",
              "        text-align: right;\n",
              "    }\n",
              "</style>\n",
              "<table border=\"1\" class=\"dataframe\">\n",
              "  <thead>\n",
              "    <tr style=\"text-align: right;\">\n",
              "      <th></th>\n",
              "      <th>txNomeParlamentar</th>\n",
              "      <th>sgUF</th>\n",
              "      <th>sgPartido</th>\n",
              "      <th>txtDescricao</th>\n",
              "      <th>txtFornecedor</th>\n",
              "      <th>indTipoDocumento</th>\n",
              "      <th>datEmissao</th>\n",
              "      <th>vlrDocumento</th>\n",
              "      <th>vlrGlosa</th>\n",
              "      <th>vlrLiquido</th>\n",
              "      <th>numMes</th>\n",
              "      <th>numAno</th>\n",
              "      <th>txtPassageiro</th>\n",
              "      <th>txtTrecho</th>\n",
              "      <th>numRessarcimento</th>\n",
              "      <th>vlrRestituicao</th>\n",
              "    </tr>\n",
              "  </thead>\n",
              "  <tbody>\n",
              "    <tr>\n",
              "      <th>0</th>\n",
              "      <td>LID.GOV-CD</td>\n",
              "      <td>NaN</td>\n",
              "      <td>NaN</td>\n",
              "      <td>FORNECIMENTO DE ALIMENTAÇÃO DO PARLAMENTAR</td>\n",
              "      <td>CRISTIANE FERREIRA EPP</td>\n",
              "      <td>4</td>\n",
              "      <td>2019-01-16T00:00:00</td>\n",
              "      <td>111.30</td>\n",
              "      <td>0.0</td>\n",
              "      <td>111.30</td>\n",
              "      <td>1</td>\n",
              "      <td>2019</td>\n",
              "      <td>NaN</td>\n",
              "      <td>NaN</td>\n",
              "      <td>NaN</td>\n",
              "      <td>NaN</td>\n",
              "    </tr>\n",
              "    <tr>\n",
              "      <th>1</th>\n",
              "      <td>LID.GOV-CD</td>\n",
              "      <td>NaN</td>\n",
              "      <td>NaN</td>\n",
              "      <td>FORNECIMENTO DE ALIMENTAÇÃO DO PARLAMENTAR</td>\n",
              "      <td>CRISTIANE FERREIRA EPP</td>\n",
              "      <td>4</td>\n",
              "      <td>2019-02-04T00:00:00</td>\n",
              "      <td>117.19</td>\n",
              "      <td>0.0</td>\n",
              "      <td>117.19</td>\n",
              "      <td>2</td>\n",
              "      <td>2019</td>\n",
              "      <td>NaN</td>\n",
              "      <td>NaN</td>\n",
              "      <td>NaN</td>\n",
              "      <td>NaN</td>\n",
              "    </tr>\n",
              "    <tr>\n",
              "      <th>2</th>\n",
              "      <td>LID.GOV-CD</td>\n",
              "      <td>NaN</td>\n",
              "      <td>NaN</td>\n",
              "      <td>FORNECIMENTO DE ALIMENTAÇÃO DO PARLAMENTAR</td>\n",
              "      <td>CRISTIANE FERREIRA EPP</td>\n",
              "      <td>4</td>\n",
              "      <td>2019-02-25T00:00:00</td>\n",
              "      <td>120.15</td>\n",
              "      <td>0.0</td>\n",
              "      <td>120.15</td>\n",
              "      <td>2</td>\n",
              "      <td>2019</td>\n",
              "      <td>NaN</td>\n",
              "      <td>NaN</td>\n",
              "      <td>NaN</td>\n",
              "      <td>NaN</td>\n",
              "    </tr>\n",
              "    <tr>\n",
              "      <th>3</th>\n",
              "      <td>LID.GOV-CD</td>\n",
              "      <td>NaN</td>\n",
              "      <td>NaN</td>\n",
              "      <td>FORNECIMENTO DE ALIMENTAÇÃO DO PARLAMENTAR</td>\n",
              "      <td>CRISTIANE FERREIRA EPP</td>\n",
              "      <td>4</td>\n",
              "      <td>2019-03-28T00:00:00</td>\n",
              "      <td>151.18</td>\n",
              "      <td>0.0</td>\n",
              "      <td>151.18</td>\n",
              "      <td>3</td>\n",
              "      <td>2019</td>\n",
              "      <td>NaN</td>\n",
              "      <td>NaN</td>\n",
              "      <td>NaN</td>\n",
              "      <td>NaN</td>\n",
              "    </tr>\n",
              "    <tr>\n",
              "      <th>4</th>\n",
              "      <td>LID.GOV-CD</td>\n",
              "      <td>NaN</td>\n",
              "      <td>NaN</td>\n",
              "      <td>FORNECIMENTO DE ALIMENTAÇÃO DO PARLAMENTAR</td>\n",
              "      <td>PANIFICADORA FERREIRA NETO LTDA - EPP</td>\n",
              "      <td>4</td>\n",
              "      <td>2019-05-07T00:00:00</td>\n",
              "      <td>119.90</td>\n",
              "      <td>0.0</td>\n",
              "      <td>119.90</td>\n",
              "      <td>5</td>\n",
              "      <td>2019</td>\n",
              "      <td>NaN</td>\n",
              "      <td>NaN</td>\n",
              "      <td>NaN</td>\n",
              "      <td>NaN</td>\n",
              "    </tr>\n",
              "  </tbody>\n",
              "</table>\n",
              "</div>\n",
              "      <button class=\"colab-df-convert\" onclick=\"convertToInteractive('df-b0815855-726e-42ff-b193-acc6033755a9')\"\n",
              "              title=\"Convert this dataframe to an interactive table.\"\n",
              "              style=\"display:none;\">\n",
              "        \n",
              "  <svg xmlns=\"http://www.w3.org/2000/svg\" height=\"24px\"viewBox=\"0 0 24 24\"\n",
              "       width=\"24px\">\n",
              "    <path d=\"M0 0h24v24H0V0z\" fill=\"none\"/>\n",
              "    <path d=\"M18.56 5.44l.94 2.06.94-2.06 2.06-.94-2.06-.94-.94-2.06-.94 2.06-2.06.94zm-11 1L8.5 8.5l.94-2.06 2.06-.94-2.06-.94L8.5 2.5l-.94 2.06-2.06.94zm10 10l.94 2.06.94-2.06 2.06-.94-2.06-.94-.94-2.06-.94 2.06-2.06.94z\"/><path d=\"M17.41 7.96l-1.37-1.37c-.4-.4-.92-.59-1.43-.59-.52 0-1.04.2-1.43.59L10.3 9.45l-7.72 7.72c-.78.78-.78 2.05 0 2.83L4 21.41c.39.39.9.59 1.41.59.51 0 1.02-.2 1.41-.59l7.78-7.78 2.81-2.81c.8-.78.8-2.07 0-2.86zM5.41 20L4 18.59l7.72-7.72 1.47 1.35L5.41 20z\"/>\n",
              "  </svg>\n",
              "      </button>\n",
              "      \n",
              "  <style>\n",
              "    .colab-df-container {\n",
              "      display:flex;\n",
              "      flex-wrap:wrap;\n",
              "      gap: 12px;\n",
              "    }\n",
              "\n",
              "    .colab-df-convert {\n",
              "      background-color: #E8F0FE;\n",
              "      border: none;\n",
              "      border-radius: 50%;\n",
              "      cursor: pointer;\n",
              "      display: none;\n",
              "      fill: #1967D2;\n",
              "      height: 32px;\n",
              "      padding: 0 0 0 0;\n",
              "      width: 32px;\n",
              "    }\n",
              "\n",
              "    .colab-df-convert:hover {\n",
              "      background-color: #E2EBFA;\n",
              "      box-shadow: 0px 1px 2px rgba(60, 64, 67, 0.3), 0px 1px 3px 1px rgba(60, 64, 67, 0.15);\n",
              "      fill: #174EA6;\n",
              "    }\n",
              "\n",
              "    [theme=dark] .colab-df-convert {\n",
              "      background-color: #3B4455;\n",
              "      fill: #D2E3FC;\n",
              "    }\n",
              "\n",
              "    [theme=dark] .colab-df-convert:hover {\n",
              "      background-color: #434B5C;\n",
              "      box-shadow: 0px 1px 3px 1px rgba(0, 0, 0, 0.15);\n",
              "      filter: drop-shadow(0px 1px 2px rgba(0, 0, 0, 0.3));\n",
              "      fill: #FFFFFF;\n",
              "    }\n",
              "  </style>\n",
              "\n",
              "      <script>\n",
              "        const buttonEl =\n",
              "          document.querySelector('#df-b0815855-726e-42ff-b193-acc6033755a9 button.colab-df-convert');\n",
              "        buttonEl.style.display =\n",
              "          google.colab.kernel.accessAllowed ? 'block' : 'none';\n",
              "\n",
              "        async function convertToInteractive(key) {\n",
              "          const element = document.querySelector('#df-b0815855-726e-42ff-b193-acc6033755a9');\n",
              "          const dataTable =\n",
              "            await google.colab.kernel.invokeFunction('convertToInteractive',\n",
              "                                                     [key], {});\n",
              "          if (!dataTable) return;\n",
              "\n",
              "          const docLinkHtml = 'Like what you see? Visit the ' +\n",
              "            '<a target=\"_blank\" href=https://colab.research.google.com/notebooks/data_table.ipynb>data table notebook</a>'\n",
              "            + ' to learn more about interactive tables.';\n",
              "          element.innerHTML = '';\n",
              "          dataTable['output_type'] = 'display_data';\n",
              "          await google.colab.output.renderOutput(dataTable, element);\n",
              "          const docLink = document.createElement('div');\n",
              "          docLink.innerHTML = docLinkHtml;\n",
              "          element.appendChild(docLink);\n",
              "        }\n",
              "      </script>\n",
              "    </div>\n",
              "  </div>\n",
              "  "
            ]
          },
          "metadata": {},
          "execution_count": 8
        }
      ],
      "source": [
        "dados_ceap1.head()"
      ]
    },
    {
      "cell_type": "code",
      "execution_count": null,
      "metadata": {
        "id": "89MAYUoy274y",
        "colab": {
          "base_uri": "https://localhost:8080/"
        },
        "outputId": "7841f892-6a89-4bcf-e979-53f4868e9de6"
      },
      "outputs": [
        {
          "output_type": "execute_result",
          "data": {
            "text/plain": [
              "(555500, 16)"
            ]
          },
          "metadata": {},
          "execution_count": 9
        }
      ],
      "source": [
        "dados_ceap1.shape"
      ]
    },
    {
      "cell_type": "code",
      "execution_count": null,
      "metadata": {
        "id": "IkdsjZ14Wspt",
        "colab": {
          "base_uri": "https://localhost:8080/"
        },
        "outputId": "116ca75c-e26d-4d19-d9dc-3f290910f433"
      },
      "outputs": [
        {
          "output_type": "execute_result",
          "data": {
            "text/plain": [
              "txNomeParlamentar     object\n",
              "sgUF                  object\n",
              "sgPartido             object\n",
              "txtDescricao          object\n",
              "txtFornecedor         object\n",
              "indTipoDocumento       int64\n",
              "datEmissao            object\n",
              "vlrDocumento         float64\n",
              "vlrGlosa             float64\n",
              "vlrLiquido           float64\n",
              "numMes                 int64\n",
              "numAno                 int64\n",
              "txtPassageiro         object\n",
              "txtTrecho             object\n",
              "numRessarcimento     float64\n",
              "vlrRestituicao       float64\n",
              "dtype: object"
            ]
          },
          "metadata": {},
          "execution_count": 10
        }
      ],
      "source": [
        "dados_ceap1.dtypes"
      ]
    },
    {
      "cell_type": "code",
      "execution_count": null,
      "metadata": {
        "id": "jd5BvmiGWvil",
        "colab": {
          "base_uri": "https://localhost:8080/"
        },
        "outputId": "0837a13d-3520-4a80-c1e4-135e0d8be35c"
      },
      "outputs": [
        {
          "output_type": "execute_result",
          "data": {
            "text/plain": [
              "vlrRestituicao       0.999345\n",
              "txtTrecho            0.768810\n",
              "txtPassageiro        0.766889\n",
              "numRessarcimento     0.674452\n",
              "datEmissao           0.028173\n",
              "sgUF                 0.003134\n",
              "sgPartido            0.003134\n",
              "txtFornecedor        0.000059\n",
              "txNomeParlamentar    0.000000\n",
              "txtDescricao         0.000000\n",
              "indTipoDocumento     0.000000\n",
              "vlrDocumento         0.000000\n",
              "vlrGlosa             0.000000\n",
              "vlrLiquido           0.000000\n",
              "numMes               0.000000\n",
              "numAno               0.000000\n",
              "dtype: float64"
            ]
          },
          "metadata": {},
          "execution_count": 11
        }
      ],
      "source": [
        "(dados_ceap1.isnull().sum() / dados_ceap1.shape[0]).sort_values(ascending=False) # Cálculo do percentual de dados faltantes por coluna"
      ]
    },
    {
      "cell_type": "code",
      "execution_count": null,
      "metadata": {
        "id": "6PZKgbASlS4P",
        "colab": {
          "base_uri": "https://localhost:8080/",
          "height": 300
        },
        "outputId": "e307123e-bee3-4714-be46-66ca52375d87"
      },
      "outputs": [
        {
          "output_type": "execute_result",
          "data": {
            "text/plain": [
              "                     count         mean          std      min       25%  \\\n",
              "indTipoDocumento  555500.0     1.029525     1.567946     0.00     0.000   \n",
              "vlrDocumento      555500.0   884.412172  2464.526292 -6605.57    63.000   \n",
              "vlrGlosa          555500.0     3.900387   139.446699     0.00     0.000   \n",
              "vlrLiquido        555500.0   808.744693  2464.253989 -7821.20    49.510   \n",
              "numMes            555500.0     6.083879     3.337029     1.00     3.000   \n",
              "numAno            555500.0  2019.669870     0.775475  2019.00  2019.000   \n",
              "numRessarcimento  180842.0     0.000000     0.000000     0.00     0.000   \n",
              "vlrRestituicao       364.0   873.633571  2367.571616     1.00     6.975   \n",
              "\n",
              "                       50%       75%       max  \n",
              "indTipoDocumento     0.000     1.000       4.0  \n",
              "vlrDocumento       201.380   747.600  172000.0  \n",
              "vlrGlosa             0.000     0.000   86000.0  \n",
              "vlrLiquido         184.500   642.000  151260.0  \n",
              "numMes               6.000     9.000      12.0  \n",
              "numAno            2019.000  2020.000    2021.0  \n",
              "numRessarcimento     0.000     0.000       0.0  \n",
              "vlrRestituicao      26.105   277.395   20000.0  "
            ],
            "text/html": [
              "\n",
              "  <div id=\"df-a0e16314-be13-4ffd-8e54-643d22f2a89e\">\n",
              "    <div class=\"colab-df-container\">\n",
              "      <div>\n",
              "<style scoped>\n",
              "    .dataframe tbody tr th:only-of-type {\n",
              "        vertical-align: middle;\n",
              "    }\n",
              "\n",
              "    .dataframe tbody tr th {\n",
              "        vertical-align: top;\n",
              "    }\n",
              "\n",
              "    .dataframe thead th {\n",
              "        text-align: right;\n",
              "    }\n",
              "</style>\n",
              "<table border=\"1\" class=\"dataframe\">\n",
              "  <thead>\n",
              "    <tr style=\"text-align: right;\">\n",
              "      <th></th>\n",
              "      <th>count</th>\n",
              "      <th>mean</th>\n",
              "      <th>std</th>\n",
              "      <th>min</th>\n",
              "      <th>25%</th>\n",
              "      <th>50%</th>\n",
              "      <th>75%</th>\n",
              "      <th>max</th>\n",
              "    </tr>\n",
              "  </thead>\n",
              "  <tbody>\n",
              "    <tr>\n",
              "      <th>indTipoDocumento</th>\n",
              "      <td>555500.0</td>\n",
              "      <td>1.029525</td>\n",
              "      <td>1.567946</td>\n",
              "      <td>0.00</td>\n",
              "      <td>0.000</td>\n",
              "      <td>0.000</td>\n",
              "      <td>1.000</td>\n",
              "      <td>4.0</td>\n",
              "    </tr>\n",
              "    <tr>\n",
              "      <th>vlrDocumento</th>\n",
              "      <td>555500.0</td>\n",
              "      <td>884.412172</td>\n",
              "      <td>2464.526292</td>\n",
              "      <td>-6605.57</td>\n",
              "      <td>63.000</td>\n",
              "      <td>201.380</td>\n",
              "      <td>747.600</td>\n",
              "      <td>172000.0</td>\n",
              "    </tr>\n",
              "    <tr>\n",
              "      <th>vlrGlosa</th>\n",
              "      <td>555500.0</td>\n",
              "      <td>3.900387</td>\n",
              "      <td>139.446699</td>\n",
              "      <td>0.00</td>\n",
              "      <td>0.000</td>\n",
              "      <td>0.000</td>\n",
              "      <td>0.000</td>\n",
              "      <td>86000.0</td>\n",
              "    </tr>\n",
              "    <tr>\n",
              "      <th>vlrLiquido</th>\n",
              "      <td>555500.0</td>\n",
              "      <td>808.744693</td>\n",
              "      <td>2464.253989</td>\n",
              "      <td>-7821.20</td>\n",
              "      <td>49.510</td>\n",
              "      <td>184.500</td>\n",
              "      <td>642.000</td>\n",
              "      <td>151260.0</td>\n",
              "    </tr>\n",
              "    <tr>\n",
              "      <th>numMes</th>\n",
              "      <td>555500.0</td>\n",
              "      <td>6.083879</td>\n",
              "      <td>3.337029</td>\n",
              "      <td>1.00</td>\n",
              "      <td>3.000</td>\n",
              "      <td>6.000</td>\n",
              "      <td>9.000</td>\n",
              "      <td>12.0</td>\n",
              "    </tr>\n",
              "    <tr>\n",
              "      <th>numAno</th>\n",
              "      <td>555500.0</td>\n",
              "      <td>2019.669870</td>\n",
              "      <td>0.775475</td>\n",
              "      <td>2019.00</td>\n",
              "      <td>2019.000</td>\n",
              "      <td>2019.000</td>\n",
              "      <td>2020.000</td>\n",
              "      <td>2021.0</td>\n",
              "    </tr>\n",
              "    <tr>\n",
              "      <th>numRessarcimento</th>\n",
              "      <td>180842.0</td>\n",
              "      <td>0.000000</td>\n",
              "      <td>0.000000</td>\n",
              "      <td>0.00</td>\n",
              "      <td>0.000</td>\n",
              "      <td>0.000</td>\n",
              "      <td>0.000</td>\n",
              "      <td>0.0</td>\n",
              "    </tr>\n",
              "    <tr>\n",
              "      <th>vlrRestituicao</th>\n",
              "      <td>364.0</td>\n",
              "      <td>873.633571</td>\n",
              "      <td>2367.571616</td>\n",
              "      <td>1.00</td>\n",
              "      <td>6.975</td>\n",
              "      <td>26.105</td>\n",
              "      <td>277.395</td>\n",
              "      <td>20000.0</td>\n",
              "    </tr>\n",
              "  </tbody>\n",
              "</table>\n",
              "</div>\n",
              "      <button class=\"colab-df-convert\" onclick=\"convertToInteractive('df-a0e16314-be13-4ffd-8e54-643d22f2a89e')\"\n",
              "              title=\"Convert this dataframe to an interactive table.\"\n",
              "              style=\"display:none;\">\n",
              "        \n",
              "  <svg xmlns=\"http://www.w3.org/2000/svg\" height=\"24px\"viewBox=\"0 0 24 24\"\n",
              "       width=\"24px\">\n",
              "    <path d=\"M0 0h24v24H0V0z\" fill=\"none\"/>\n",
              "    <path d=\"M18.56 5.44l.94 2.06.94-2.06 2.06-.94-2.06-.94-.94-2.06-.94 2.06-2.06.94zm-11 1L8.5 8.5l.94-2.06 2.06-.94-2.06-.94L8.5 2.5l-.94 2.06-2.06.94zm10 10l.94 2.06.94-2.06 2.06-.94-2.06-.94-.94-2.06-.94 2.06-2.06.94z\"/><path d=\"M17.41 7.96l-1.37-1.37c-.4-.4-.92-.59-1.43-.59-.52 0-1.04.2-1.43.59L10.3 9.45l-7.72 7.72c-.78.78-.78 2.05 0 2.83L4 21.41c.39.39.9.59 1.41.59.51 0 1.02-.2 1.41-.59l7.78-7.78 2.81-2.81c.8-.78.8-2.07 0-2.86zM5.41 20L4 18.59l7.72-7.72 1.47 1.35L5.41 20z\"/>\n",
              "  </svg>\n",
              "      </button>\n",
              "      \n",
              "  <style>\n",
              "    .colab-df-container {\n",
              "      display:flex;\n",
              "      flex-wrap:wrap;\n",
              "      gap: 12px;\n",
              "    }\n",
              "\n",
              "    .colab-df-convert {\n",
              "      background-color: #E8F0FE;\n",
              "      border: none;\n",
              "      border-radius: 50%;\n",
              "      cursor: pointer;\n",
              "      display: none;\n",
              "      fill: #1967D2;\n",
              "      height: 32px;\n",
              "      padding: 0 0 0 0;\n",
              "      width: 32px;\n",
              "    }\n",
              "\n",
              "    .colab-df-convert:hover {\n",
              "      background-color: #E2EBFA;\n",
              "      box-shadow: 0px 1px 2px rgba(60, 64, 67, 0.3), 0px 1px 3px 1px rgba(60, 64, 67, 0.15);\n",
              "      fill: #174EA6;\n",
              "    }\n",
              "\n",
              "    [theme=dark] .colab-df-convert {\n",
              "      background-color: #3B4455;\n",
              "      fill: #D2E3FC;\n",
              "    }\n",
              "\n",
              "    [theme=dark] .colab-df-convert:hover {\n",
              "      background-color: #434B5C;\n",
              "      box-shadow: 0px 1px 3px 1px rgba(0, 0, 0, 0.15);\n",
              "      filter: drop-shadow(0px 1px 2px rgba(0, 0, 0, 0.3));\n",
              "      fill: #FFFFFF;\n",
              "    }\n",
              "  </style>\n",
              "\n",
              "      <script>\n",
              "        const buttonEl =\n",
              "          document.querySelector('#df-a0e16314-be13-4ffd-8e54-643d22f2a89e button.colab-df-convert');\n",
              "        buttonEl.style.display =\n",
              "          google.colab.kernel.accessAllowed ? 'block' : 'none';\n",
              "\n",
              "        async function convertToInteractive(key) {\n",
              "          const element = document.querySelector('#df-a0e16314-be13-4ffd-8e54-643d22f2a89e');\n",
              "          const dataTable =\n",
              "            await google.colab.kernel.invokeFunction('convertToInteractive',\n",
              "                                                     [key], {});\n",
              "          if (!dataTable) return;\n",
              "\n",
              "          const docLinkHtml = 'Like what you see? Visit the ' +\n",
              "            '<a target=\"_blank\" href=https://colab.research.google.com/notebooks/data_table.ipynb>data table notebook</a>'\n",
              "            + ' to learn more about interactive tables.';\n",
              "          element.innerHTML = '';\n",
              "          dataTable['output_type'] = 'display_data';\n",
              "          await google.colab.output.renderOutput(dataTable, element);\n",
              "          const docLink = document.createElement('div');\n",
              "          docLink.innerHTML = docLinkHtml;\n",
              "          element.appendChild(docLink);\n",
              "        }\n",
              "      </script>\n",
              "    </div>\n",
              "  </div>\n",
              "  "
            ]
          },
          "metadata": {},
          "execution_count": 12
        }
      ],
      "source": [
        "dados_ceap1.describe().T"
      ]
    },
    {
      "cell_type": "markdown",
      "metadata": {
        "id": "ZxTs-ihD25pk"
      },
      "source": [
        "> Substituições"
      ]
    },
    {
      "cell_type": "markdown",
      "metadata": {
        "id": "vHb5W8zTv_8d"
      },
      "source": [
        "Ajuste de hora e ano"
      ]
    },
    {
      "cell_type": "code",
      "execution_count": null,
      "metadata": {
        "id": "yQ_rkabNumRN"
      },
      "outputs": [],
      "source": [
        "dados_ceap1['datEmissao'] = pd.to_datetime(dados_ceap1['datEmissao'], format='%Y-%m-%d %H:%M:%S').dt.strftime('%d-%m-%Y')"
      ]
    },
    {
      "cell_type": "code",
      "execution_count": null,
      "metadata": {
        "id": "-I4F0AjCzkeF"
      },
      "outputs": [],
      "source": [
        "dados_ceap_int = dados_ceap1['numAno'].astype('float').astype('Int64')"
      ]
    },
    {
      "cell_type": "code",
      "execution_count": null,
      "metadata": {
        "id": "W5CnoN71P048",
        "colab": {
          "base_uri": "https://localhost:8080/",
          "height": 617
        },
        "outputId": "2396245f-c9ff-44e8-e83c-d60fd819621e"
      },
      "outputs": [
        {
          "output_type": "execute_result",
          "data": {
            "text/plain": [
              "  NomeParlamentar   UF Partido                                 TipoDespesa  \\\n",
              "0      LID.GOV-CD  NaN     NaN  FORNECIMENTO DE ALIMENTAÇÃO DO PARLAMENTAR   \n",
              "1      LID.GOV-CD  NaN     NaN  FORNECIMENTO DE ALIMENTAÇÃO DO PARLAMENTAR   \n",
              "2      LID.GOV-CD  NaN     NaN  FORNECIMENTO DE ALIMENTAÇÃO DO PARLAMENTAR   \n",
              "3      LID.GOV-CD  NaN     NaN  FORNECIMENTO DE ALIMENTAÇÃO DO PARLAMENTAR   \n",
              "4      LID.GOV-CD  NaN     NaN  FORNECIMENTO DE ALIMENTAÇÃO DO PARLAMENTAR   \n",
              "\n",
              "                              Fornecedor  TipoDocumento DataEmissao  \\\n",
              "0                 CRISTIANE FERREIRA EPP              4  16-01-2019   \n",
              "1                 CRISTIANE FERREIRA EPP              4  04-02-2019   \n",
              "2                 CRISTIANE FERREIRA EPP              4  25-02-2019   \n",
              "3                 CRISTIANE FERREIRA EPP              4  28-03-2019   \n",
              "4  PANIFICADORA FERREIRA NETO LTDA - EPP              4  07-05-2019   \n",
              "\n",
              "   ValorDocumento  ValorGlosa  ValorLiquido  Mes   Ano NomePassageiro Trecho  \\\n",
              "0          111.30         0.0        111.30    1  2019            NaN    NaN   \n",
              "1          117.19         0.0        117.19    2  2019            NaN    NaN   \n",
              "2          120.15         0.0        120.15    2  2019            NaN    NaN   \n",
              "3          151.18         0.0        151.18    3  2019            NaN    NaN   \n",
              "4          119.90         0.0        119.90    5  2019            NaN    NaN   \n",
              "\n",
              "   IdRessarcimento  Restituicao  \n",
              "0              NaN          NaN  \n",
              "1              NaN          NaN  \n",
              "2              NaN          NaN  \n",
              "3              NaN          NaN  \n",
              "4              NaN          NaN  "
            ],
            "text/html": [
              "\n",
              "  <div id=\"df-aa90d130-97b1-4731-90c6-d8ea390c7fcd\">\n",
              "    <div class=\"colab-df-container\">\n",
              "      <div>\n",
              "<style scoped>\n",
              "    .dataframe tbody tr th:only-of-type {\n",
              "        vertical-align: middle;\n",
              "    }\n",
              "\n",
              "    .dataframe tbody tr th {\n",
              "        vertical-align: top;\n",
              "    }\n",
              "\n",
              "    .dataframe thead th {\n",
              "        text-align: right;\n",
              "    }\n",
              "</style>\n",
              "<table border=\"1\" class=\"dataframe\">\n",
              "  <thead>\n",
              "    <tr style=\"text-align: right;\">\n",
              "      <th></th>\n",
              "      <th>NomeParlamentar</th>\n",
              "      <th>UF</th>\n",
              "      <th>Partido</th>\n",
              "      <th>TipoDespesa</th>\n",
              "      <th>Fornecedor</th>\n",
              "      <th>TipoDocumento</th>\n",
              "      <th>DataEmissao</th>\n",
              "      <th>ValorDocumento</th>\n",
              "      <th>ValorGlosa</th>\n",
              "      <th>ValorLiquido</th>\n",
              "      <th>Mes</th>\n",
              "      <th>Ano</th>\n",
              "      <th>NomePassageiro</th>\n",
              "      <th>Trecho</th>\n",
              "      <th>IdRessarcimento</th>\n",
              "      <th>Restituicao</th>\n",
              "    </tr>\n",
              "  </thead>\n",
              "  <tbody>\n",
              "    <tr>\n",
              "      <th>0</th>\n",
              "      <td>LID.GOV-CD</td>\n",
              "      <td>NaN</td>\n",
              "      <td>NaN</td>\n",
              "      <td>FORNECIMENTO DE ALIMENTAÇÃO DO PARLAMENTAR</td>\n",
              "      <td>CRISTIANE FERREIRA EPP</td>\n",
              "      <td>4</td>\n",
              "      <td>16-01-2019</td>\n",
              "      <td>111.30</td>\n",
              "      <td>0.0</td>\n",
              "      <td>111.30</td>\n",
              "      <td>1</td>\n",
              "      <td>2019</td>\n",
              "      <td>NaN</td>\n",
              "      <td>NaN</td>\n",
              "      <td>NaN</td>\n",
              "      <td>NaN</td>\n",
              "    </tr>\n",
              "    <tr>\n",
              "      <th>1</th>\n",
              "      <td>LID.GOV-CD</td>\n",
              "      <td>NaN</td>\n",
              "      <td>NaN</td>\n",
              "      <td>FORNECIMENTO DE ALIMENTAÇÃO DO PARLAMENTAR</td>\n",
              "      <td>CRISTIANE FERREIRA EPP</td>\n",
              "      <td>4</td>\n",
              "      <td>04-02-2019</td>\n",
              "      <td>117.19</td>\n",
              "      <td>0.0</td>\n",
              "      <td>117.19</td>\n",
              "      <td>2</td>\n",
              "      <td>2019</td>\n",
              "      <td>NaN</td>\n",
              "      <td>NaN</td>\n",
              "      <td>NaN</td>\n",
              "      <td>NaN</td>\n",
              "    </tr>\n",
              "    <tr>\n",
              "      <th>2</th>\n",
              "      <td>LID.GOV-CD</td>\n",
              "      <td>NaN</td>\n",
              "      <td>NaN</td>\n",
              "      <td>FORNECIMENTO DE ALIMENTAÇÃO DO PARLAMENTAR</td>\n",
              "      <td>CRISTIANE FERREIRA EPP</td>\n",
              "      <td>4</td>\n",
              "      <td>25-02-2019</td>\n",
              "      <td>120.15</td>\n",
              "      <td>0.0</td>\n",
              "      <td>120.15</td>\n",
              "      <td>2</td>\n",
              "      <td>2019</td>\n",
              "      <td>NaN</td>\n",
              "      <td>NaN</td>\n",
              "      <td>NaN</td>\n",
              "      <td>NaN</td>\n",
              "    </tr>\n",
              "    <tr>\n",
              "      <th>3</th>\n",
              "      <td>LID.GOV-CD</td>\n",
              "      <td>NaN</td>\n",
              "      <td>NaN</td>\n",
              "      <td>FORNECIMENTO DE ALIMENTAÇÃO DO PARLAMENTAR</td>\n",
              "      <td>CRISTIANE FERREIRA EPP</td>\n",
              "      <td>4</td>\n",
              "      <td>28-03-2019</td>\n",
              "      <td>151.18</td>\n",
              "      <td>0.0</td>\n",
              "      <td>151.18</td>\n",
              "      <td>3</td>\n",
              "      <td>2019</td>\n",
              "      <td>NaN</td>\n",
              "      <td>NaN</td>\n",
              "      <td>NaN</td>\n",
              "      <td>NaN</td>\n",
              "    </tr>\n",
              "    <tr>\n",
              "      <th>4</th>\n",
              "      <td>LID.GOV-CD</td>\n",
              "      <td>NaN</td>\n",
              "      <td>NaN</td>\n",
              "      <td>FORNECIMENTO DE ALIMENTAÇÃO DO PARLAMENTAR</td>\n",
              "      <td>PANIFICADORA FERREIRA NETO LTDA - EPP</td>\n",
              "      <td>4</td>\n",
              "      <td>07-05-2019</td>\n",
              "      <td>119.90</td>\n",
              "      <td>0.0</td>\n",
              "      <td>119.90</td>\n",
              "      <td>5</td>\n",
              "      <td>2019</td>\n",
              "      <td>NaN</td>\n",
              "      <td>NaN</td>\n",
              "      <td>NaN</td>\n",
              "      <td>NaN</td>\n",
              "    </tr>\n",
              "  </tbody>\n",
              "</table>\n",
              "</div>\n",
              "      <button class=\"colab-df-convert\" onclick=\"convertToInteractive('df-aa90d130-97b1-4731-90c6-d8ea390c7fcd')\"\n",
              "              title=\"Convert this dataframe to an interactive table.\"\n",
              "              style=\"display:none;\">\n",
              "        \n",
              "  <svg xmlns=\"http://www.w3.org/2000/svg\" height=\"24px\"viewBox=\"0 0 24 24\"\n",
              "       width=\"24px\">\n",
              "    <path d=\"M0 0h24v24H0V0z\" fill=\"none\"/>\n",
              "    <path d=\"M18.56 5.44l.94 2.06.94-2.06 2.06-.94-2.06-.94-.94-2.06-.94 2.06-2.06.94zm-11 1L8.5 8.5l.94-2.06 2.06-.94-2.06-.94L8.5 2.5l-.94 2.06-2.06.94zm10 10l.94 2.06.94-2.06 2.06-.94-2.06-.94-.94-2.06-.94 2.06-2.06.94z\"/><path d=\"M17.41 7.96l-1.37-1.37c-.4-.4-.92-.59-1.43-.59-.52 0-1.04.2-1.43.59L10.3 9.45l-7.72 7.72c-.78.78-.78 2.05 0 2.83L4 21.41c.39.39.9.59 1.41.59.51 0 1.02-.2 1.41-.59l7.78-7.78 2.81-2.81c.8-.78.8-2.07 0-2.86zM5.41 20L4 18.59l7.72-7.72 1.47 1.35L5.41 20z\"/>\n",
              "  </svg>\n",
              "      </button>\n",
              "      \n",
              "  <style>\n",
              "    .colab-df-container {\n",
              "      display:flex;\n",
              "      flex-wrap:wrap;\n",
              "      gap: 12px;\n",
              "    }\n",
              "\n",
              "    .colab-df-convert {\n",
              "      background-color: #E8F0FE;\n",
              "      border: none;\n",
              "      border-radius: 50%;\n",
              "      cursor: pointer;\n",
              "      display: none;\n",
              "      fill: #1967D2;\n",
              "      height: 32px;\n",
              "      padding: 0 0 0 0;\n",
              "      width: 32px;\n",
              "    }\n",
              "\n",
              "    .colab-df-convert:hover {\n",
              "      background-color: #E2EBFA;\n",
              "      box-shadow: 0px 1px 2px rgba(60, 64, 67, 0.3), 0px 1px 3px 1px rgba(60, 64, 67, 0.15);\n",
              "      fill: #174EA6;\n",
              "    }\n",
              "\n",
              "    [theme=dark] .colab-df-convert {\n",
              "      background-color: #3B4455;\n",
              "      fill: #D2E3FC;\n",
              "    }\n",
              "\n",
              "    [theme=dark] .colab-df-convert:hover {\n",
              "      background-color: #434B5C;\n",
              "      box-shadow: 0px 1px 3px 1px rgba(0, 0, 0, 0.15);\n",
              "      filter: drop-shadow(0px 1px 2px rgba(0, 0, 0, 0.3));\n",
              "      fill: #FFFFFF;\n",
              "    }\n",
              "  </style>\n",
              "\n",
              "      <script>\n",
              "        const buttonEl =\n",
              "          document.querySelector('#df-aa90d130-97b1-4731-90c6-d8ea390c7fcd button.colab-df-convert');\n",
              "        buttonEl.style.display =\n",
              "          google.colab.kernel.accessAllowed ? 'block' : 'none';\n",
              "\n",
              "        async function convertToInteractive(key) {\n",
              "          const element = document.querySelector('#df-aa90d130-97b1-4731-90c6-d8ea390c7fcd');\n",
              "          const dataTable =\n",
              "            await google.colab.kernel.invokeFunction('convertToInteractive',\n",
              "                                                     [key], {});\n",
              "          if (!dataTable) return;\n",
              "\n",
              "          const docLinkHtml = 'Like what you see? Visit the ' +\n",
              "            '<a target=\"_blank\" href=https://colab.research.google.com/notebooks/data_table.ipynb>data table notebook</a>'\n",
              "            + ' to learn more about interactive tables.';\n",
              "          element.innerHTML = '';\n",
              "          dataTable['output_type'] = 'display_data';\n",
              "          await google.colab.output.renderOutput(dataTable, element);\n",
              "          const docLink = document.createElement('div');\n",
              "          docLink.innerHTML = docLinkHtml;\n",
              "          element.appendChild(docLink);\n",
              "        }\n",
              "      </script>\n",
              "    </div>\n",
              "  </div>\n",
              "  "
            ]
          },
          "metadata": {},
          "execution_count": 15
        }
      ],
      "source": [
        "dados_ceap = dados_ceap1.rename(columns={'txNomeParlamentar': 'NomeParlamentar', 'sgUF':'UF', 'sgPartido':'Partido', 'txtDescricao':'TipoDespesa', 'txtFornecedor': 'Fornecedor','numEspecificacaoSubCota':'EspecificacaoDespesa', 'indTipoDocumento':'TipoDocumento', 'datEmissao':'DataEmissao', 'vlrDocumento':'ValorDocumento', 'vlrGlosa':'ValorGlosa', 'vlrLiquido':'ValorLiquido', 'numMes':'Mes', 'numAno':'Ano', 'txtPassageiro':'NomePassageiro','txtTrecho':'Trecho','numRessarcimento':'IdRessarcimento','vlrRestituicao' : 'Restituicao'})\n",
        "dados_ceap.head()"
      ]
    },
    {
      "cell_type": "markdown",
      "source": [
        "Substituindo Valores"
      ],
      "metadata": {
        "id": "INRi0EgI8OYO"
      }
    },
    {
      "cell_type": "code",
      "source": [
        "dados_ceap['Partido']= dados_ceap['Partido'].replace(r'\\bPATRI\\b','PATRIOTA',regex = True)"
      ],
      "metadata": {
        "id": "XA7in3hA8Yaj"
      },
      "execution_count": null,
      "outputs": []
    },
    {
      "cell_type": "markdown",
      "metadata": {
        "id": "La1XoHpFpA9H"
      },
      "source": [
        "> Tratando Dados Ausentes"
      ]
    },
    {
      "cell_type": "code",
      "execution_count": null,
      "metadata": {
        "id": "EwyTpunMuWpD",
        "colab": {
          "base_uri": "https://localhost:8080/"
        },
        "outputId": "c6d9550c-fa05-413f-bcf7-50132b435c6f"
      },
      "outputs": [
        {
          "output_type": "execute_result",
          "data": {
            "text/plain": [
              "1802040"
            ]
          },
          "metadata": {},
          "execution_count": 17
        }
      ],
      "source": [
        "dados_ceap.isnull().sum().sum() # vlr total de dados ausentes no dataset"
      ]
    },
    {
      "cell_type": "code",
      "execution_count": null,
      "metadata": {
        "id": "0un_rKvnuEDy",
        "colab": {
          "base_uri": "https://localhost:8080/"
        },
        "outputId": "32ce4587-b2e0-43f8-f5b5-ce667c33e6e6"
      },
      "outputs": [
        {
          "output_type": "execute_result",
          "data": {
            "text/plain": [
              "NomeParlamentar         0\n",
              "UF                   1741\n",
              "Partido              1741\n",
              "TipoDespesa             0\n",
              "Fornecedor             33\n",
              "TipoDocumento           0\n",
              "DataEmissao         15650\n",
              "ValorDocumento          0\n",
              "ValorGlosa              0\n",
              "ValorLiquido            0\n",
              "Mes                     0\n",
              "Ano                     0\n",
              "NomePassageiro     426007\n",
              "Trecho             427074\n",
              "IdRessarcimento    374658\n",
              "Restituicao        555136\n",
              "dtype: int64"
            ]
          },
          "metadata": {},
          "execution_count": 18
        }
      ],
      "source": [
        "dados_ceap.isnull().sum() # qtd de dados ausentes por coluna"
      ]
    },
    {
      "cell_type": "code",
      "execution_count": null,
      "metadata": {
        "id": "8ZIAjbeNxESB",
        "colab": {
          "base_uri": "https://localhost:8080/",
          "height": 617
        },
        "outputId": "31d22e4c-689b-488c-cb4e-e4929fa3d1e8"
      },
      "outputs": [
        {
          "output_type": "execute_result",
          "data": {
            "text/plain": [
              "  NomeParlamentar   UF Partido                                 TipoDespesa  \\\n",
              "0      LID.GOV-CD  NaN     NaN  FORNECIMENTO DE ALIMENTAÇÃO DO PARLAMENTAR   \n",
              "1      LID.GOV-CD  NaN     NaN  FORNECIMENTO DE ALIMENTAÇÃO DO PARLAMENTAR   \n",
              "2      LID.GOV-CD  NaN     NaN  FORNECIMENTO DE ALIMENTAÇÃO DO PARLAMENTAR   \n",
              "3      LID.GOV-CD  NaN     NaN  FORNECIMENTO DE ALIMENTAÇÃO DO PARLAMENTAR   \n",
              "4      LID.GOV-CD  NaN     NaN  FORNECIMENTO DE ALIMENTAÇÃO DO PARLAMENTAR   \n",
              "\n",
              "                              Fornecedor  TipoDocumento DataEmissao  \\\n",
              "0                 CRISTIANE FERREIRA EPP              4  16-01-2019   \n",
              "1                 CRISTIANE FERREIRA EPP              4  04-02-2019   \n",
              "2                 CRISTIANE FERREIRA EPP              4  25-02-2019   \n",
              "3                 CRISTIANE FERREIRA EPP              4  28-03-2019   \n",
              "4  PANIFICADORA FERREIRA NETO LTDA - EPP              4  07-05-2019   \n",
              "\n",
              "   ValorDocumento  ValorGlosa  ValorLiquido  Mes   Ano NomePassageiro Trecho  \\\n",
              "0          111.30         0.0        111.30    1  2019            NaN    NaN   \n",
              "1          117.19         0.0        117.19    2  2019            NaN    NaN   \n",
              "2          120.15         0.0        120.15    2  2019            NaN    NaN   \n",
              "3          151.18         0.0        151.18    3  2019            NaN    NaN   \n",
              "4          119.90         0.0        119.90    5  2019            NaN    NaN   \n",
              "\n",
              "   IdRessarcimento  Restituicao  \n",
              "0              NaN          NaN  \n",
              "1              NaN          NaN  \n",
              "2              NaN          NaN  \n",
              "3              NaN          NaN  \n",
              "4              NaN          NaN  "
            ],
            "text/html": [
              "\n",
              "  <div id=\"df-35a378a5-7ff5-4be1-a8fe-d6c4f8482e16\">\n",
              "    <div class=\"colab-df-container\">\n",
              "      <div>\n",
              "<style scoped>\n",
              "    .dataframe tbody tr th:only-of-type {\n",
              "        vertical-align: middle;\n",
              "    }\n",
              "\n",
              "    .dataframe tbody tr th {\n",
              "        vertical-align: top;\n",
              "    }\n",
              "\n",
              "    .dataframe thead th {\n",
              "        text-align: right;\n",
              "    }\n",
              "</style>\n",
              "<table border=\"1\" class=\"dataframe\">\n",
              "  <thead>\n",
              "    <tr style=\"text-align: right;\">\n",
              "      <th></th>\n",
              "      <th>NomeParlamentar</th>\n",
              "      <th>UF</th>\n",
              "      <th>Partido</th>\n",
              "      <th>TipoDespesa</th>\n",
              "      <th>Fornecedor</th>\n",
              "      <th>TipoDocumento</th>\n",
              "      <th>DataEmissao</th>\n",
              "      <th>ValorDocumento</th>\n",
              "      <th>ValorGlosa</th>\n",
              "      <th>ValorLiquido</th>\n",
              "      <th>Mes</th>\n",
              "      <th>Ano</th>\n",
              "      <th>NomePassageiro</th>\n",
              "      <th>Trecho</th>\n",
              "      <th>IdRessarcimento</th>\n",
              "      <th>Restituicao</th>\n",
              "    </tr>\n",
              "  </thead>\n",
              "  <tbody>\n",
              "    <tr>\n",
              "      <th>0</th>\n",
              "      <td>LID.GOV-CD</td>\n",
              "      <td>NaN</td>\n",
              "      <td>NaN</td>\n",
              "      <td>FORNECIMENTO DE ALIMENTAÇÃO DO PARLAMENTAR</td>\n",
              "      <td>CRISTIANE FERREIRA EPP</td>\n",
              "      <td>4</td>\n",
              "      <td>16-01-2019</td>\n",
              "      <td>111.30</td>\n",
              "      <td>0.0</td>\n",
              "      <td>111.30</td>\n",
              "      <td>1</td>\n",
              "      <td>2019</td>\n",
              "      <td>NaN</td>\n",
              "      <td>NaN</td>\n",
              "      <td>NaN</td>\n",
              "      <td>NaN</td>\n",
              "    </tr>\n",
              "    <tr>\n",
              "      <th>1</th>\n",
              "      <td>LID.GOV-CD</td>\n",
              "      <td>NaN</td>\n",
              "      <td>NaN</td>\n",
              "      <td>FORNECIMENTO DE ALIMENTAÇÃO DO PARLAMENTAR</td>\n",
              "      <td>CRISTIANE FERREIRA EPP</td>\n",
              "      <td>4</td>\n",
              "      <td>04-02-2019</td>\n",
              "      <td>117.19</td>\n",
              "      <td>0.0</td>\n",
              "      <td>117.19</td>\n",
              "      <td>2</td>\n",
              "      <td>2019</td>\n",
              "      <td>NaN</td>\n",
              "      <td>NaN</td>\n",
              "      <td>NaN</td>\n",
              "      <td>NaN</td>\n",
              "    </tr>\n",
              "    <tr>\n",
              "      <th>2</th>\n",
              "      <td>LID.GOV-CD</td>\n",
              "      <td>NaN</td>\n",
              "      <td>NaN</td>\n",
              "      <td>FORNECIMENTO DE ALIMENTAÇÃO DO PARLAMENTAR</td>\n",
              "      <td>CRISTIANE FERREIRA EPP</td>\n",
              "      <td>4</td>\n",
              "      <td>25-02-2019</td>\n",
              "      <td>120.15</td>\n",
              "      <td>0.0</td>\n",
              "      <td>120.15</td>\n",
              "      <td>2</td>\n",
              "      <td>2019</td>\n",
              "      <td>NaN</td>\n",
              "      <td>NaN</td>\n",
              "      <td>NaN</td>\n",
              "      <td>NaN</td>\n",
              "    </tr>\n",
              "    <tr>\n",
              "      <th>3</th>\n",
              "      <td>LID.GOV-CD</td>\n",
              "      <td>NaN</td>\n",
              "      <td>NaN</td>\n",
              "      <td>FORNECIMENTO DE ALIMENTAÇÃO DO PARLAMENTAR</td>\n",
              "      <td>CRISTIANE FERREIRA EPP</td>\n",
              "      <td>4</td>\n",
              "      <td>28-03-2019</td>\n",
              "      <td>151.18</td>\n",
              "      <td>0.0</td>\n",
              "      <td>151.18</td>\n",
              "      <td>3</td>\n",
              "      <td>2019</td>\n",
              "      <td>NaN</td>\n",
              "      <td>NaN</td>\n",
              "      <td>NaN</td>\n",
              "      <td>NaN</td>\n",
              "    </tr>\n",
              "    <tr>\n",
              "      <th>4</th>\n",
              "      <td>LID.GOV-CD</td>\n",
              "      <td>NaN</td>\n",
              "      <td>NaN</td>\n",
              "      <td>FORNECIMENTO DE ALIMENTAÇÃO DO PARLAMENTAR</td>\n",
              "      <td>PANIFICADORA FERREIRA NETO LTDA - EPP</td>\n",
              "      <td>4</td>\n",
              "      <td>07-05-2019</td>\n",
              "      <td>119.90</td>\n",
              "      <td>0.0</td>\n",
              "      <td>119.90</td>\n",
              "      <td>5</td>\n",
              "      <td>2019</td>\n",
              "      <td>NaN</td>\n",
              "      <td>NaN</td>\n",
              "      <td>NaN</td>\n",
              "      <td>NaN</td>\n",
              "    </tr>\n",
              "  </tbody>\n",
              "</table>\n",
              "</div>\n",
              "      <button class=\"colab-df-convert\" onclick=\"convertToInteractive('df-35a378a5-7ff5-4be1-a8fe-d6c4f8482e16')\"\n",
              "              title=\"Convert this dataframe to an interactive table.\"\n",
              "              style=\"display:none;\">\n",
              "        \n",
              "  <svg xmlns=\"http://www.w3.org/2000/svg\" height=\"24px\"viewBox=\"0 0 24 24\"\n",
              "       width=\"24px\">\n",
              "    <path d=\"M0 0h24v24H0V0z\" fill=\"none\"/>\n",
              "    <path d=\"M18.56 5.44l.94 2.06.94-2.06 2.06-.94-2.06-.94-.94-2.06-.94 2.06-2.06.94zm-11 1L8.5 8.5l.94-2.06 2.06-.94-2.06-.94L8.5 2.5l-.94 2.06-2.06.94zm10 10l.94 2.06.94-2.06 2.06-.94-2.06-.94-.94-2.06-.94 2.06-2.06.94z\"/><path d=\"M17.41 7.96l-1.37-1.37c-.4-.4-.92-.59-1.43-.59-.52 0-1.04.2-1.43.59L10.3 9.45l-7.72 7.72c-.78.78-.78 2.05 0 2.83L4 21.41c.39.39.9.59 1.41.59.51 0 1.02-.2 1.41-.59l7.78-7.78 2.81-2.81c.8-.78.8-2.07 0-2.86zM5.41 20L4 18.59l7.72-7.72 1.47 1.35L5.41 20z\"/>\n",
              "  </svg>\n",
              "      </button>\n",
              "      \n",
              "  <style>\n",
              "    .colab-df-container {\n",
              "      display:flex;\n",
              "      flex-wrap:wrap;\n",
              "      gap: 12px;\n",
              "    }\n",
              "\n",
              "    .colab-df-convert {\n",
              "      background-color: #E8F0FE;\n",
              "      border: none;\n",
              "      border-radius: 50%;\n",
              "      cursor: pointer;\n",
              "      display: none;\n",
              "      fill: #1967D2;\n",
              "      height: 32px;\n",
              "      padding: 0 0 0 0;\n",
              "      width: 32px;\n",
              "    }\n",
              "\n",
              "    .colab-df-convert:hover {\n",
              "      background-color: #E2EBFA;\n",
              "      box-shadow: 0px 1px 2px rgba(60, 64, 67, 0.3), 0px 1px 3px 1px rgba(60, 64, 67, 0.15);\n",
              "      fill: #174EA6;\n",
              "    }\n",
              "\n",
              "    [theme=dark] .colab-df-convert {\n",
              "      background-color: #3B4455;\n",
              "      fill: #D2E3FC;\n",
              "    }\n",
              "\n",
              "    [theme=dark] .colab-df-convert:hover {\n",
              "      background-color: #434B5C;\n",
              "      box-shadow: 0px 1px 3px 1px rgba(0, 0, 0, 0.15);\n",
              "      filter: drop-shadow(0px 1px 2px rgba(0, 0, 0, 0.3));\n",
              "      fill: #FFFFFF;\n",
              "    }\n",
              "  </style>\n",
              "\n",
              "      <script>\n",
              "        const buttonEl =\n",
              "          document.querySelector('#df-35a378a5-7ff5-4be1-a8fe-d6c4f8482e16 button.colab-df-convert');\n",
              "        buttonEl.style.display =\n",
              "          google.colab.kernel.accessAllowed ? 'block' : 'none';\n",
              "\n",
              "        async function convertToInteractive(key) {\n",
              "          const element = document.querySelector('#df-35a378a5-7ff5-4be1-a8fe-d6c4f8482e16');\n",
              "          const dataTable =\n",
              "            await google.colab.kernel.invokeFunction('convertToInteractive',\n",
              "                                                     [key], {});\n",
              "          if (!dataTable) return;\n",
              "\n",
              "          const docLinkHtml = 'Like what you see? Visit the ' +\n",
              "            '<a target=\"_blank\" href=https://colab.research.google.com/notebooks/data_table.ipynb>data table notebook</a>'\n",
              "            + ' to learn more about interactive tables.';\n",
              "          element.innerHTML = '';\n",
              "          dataTable['output_type'] = 'display_data';\n",
              "          await google.colab.output.renderOutput(dataTable, element);\n",
              "          const docLink = document.createElement('div');\n",
              "          docLink.innerHTML = docLinkHtml;\n",
              "          element.appendChild(docLink);\n",
              "        }\n",
              "      </script>\n",
              "    </div>\n",
              "  </div>\n",
              "  "
            ]
          },
          "metadata": {},
          "execution_count": 19
        }
      ],
      "source": [
        "# fiz um filtro pegando da coluna 'nome parlamentar' somente os lideres de partido na camara, e verificando  usando o isnull().sum() dentro dessa seleção,\n",
        "# é possível que a maioria dos dados faltantes do dataset encontram-se aqui.\n",
        "# já identifiquei quem sao os lideres de partido e farei a substituição da nomenclatura lider pelo seu respectivo parlamentar e completarei as\n",
        "# as colunas respectivas com as informações corretas. (Carla) \n",
        "lideres = dados_ceap[dados_ceap['NomeParlamentar'].str.contains('LID')]\n",
        "lideres.head()"
      ]
    },
    {
      "cell_type": "code",
      "execution_count": null,
      "metadata": {
        "id": "GA6TY-RGxV4I",
        "colab": {
          "base_uri": "https://localhost:8080/"
        },
        "outputId": "5e5e39be-52e5-40c0-8822-78745090fd61"
      },
      "outputs": [
        {
          "output_type": "execute_result",
          "data": {
            "text/plain": [
              "UF                 1.00000\n",
              "Partido            1.00000\n",
              "Trecho             1.00000\n",
              "IdRessarcimento    1.00000\n",
              "Restituicao        1.00000\n",
              "NomePassageiro     0.97645\n",
              "NomeParlamentar    0.00000\n",
              "TipoDespesa        0.00000\n",
              "Fornecedor         0.00000\n",
              "TipoDocumento      0.00000\n",
              "DataEmissao        0.00000\n",
              "ValorDocumento     0.00000\n",
              "ValorGlosa         0.00000\n",
              "ValorLiquido       0.00000\n",
              "Mes                0.00000\n",
              "Ano                0.00000\n",
              "dtype: float64"
            ]
          },
          "metadata": {},
          "execution_count": 20
        }
      ],
      "source": [
        "(lideres.isnull().sum() / lideres.shape[0]).sort_values(ascending=False) "
      ]
    },
    {
      "cell_type": "code",
      "execution_count": null,
      "metadata": {
        "id": "gjMVH10DxLcA",
        "colab": {
          "base_uri": "https://localhost:8080/"
        },
        "outputId": "8a005955-a901-4c5a-ff80-82483797050d"
      },
      "outputs": [
        {
          "output_type": "execute_result",
          "data": {
            "text/plain": [
              "NomeParlamentar       0\n",
              "UF                 1741\n",
              "Partido            1741\n",
              "TipoDespesa           0\n",
              "Fornecedor            0\n",
              "TipoDocumento         0\n",
              "DataEmissao           0\n",
              "ValorDocumento        0\n",
              "ValorGlosa            0\n",
              "ValorLiquido          0\n",
              "Mes                   0\n",
              "Ano                   0\n",
              "NomePassageiro     1700\n",
              "Trecho             1741\n",
              "IdRessarcimento    1741\n",
              "Restituicao        1741\n",
              "dtype: int64"
            ]
          },
          "metadata": {},
          "execution_count": 21
        }
      ],
      "source": [
        "lideres.isnull().sum() "
      ]
    },
    {
      "cell_type": "code",
      "source": [
        "dados_ceap = dados_ceap[dados_ceap.NomeParlamentar.str.startswith('LID') == False]\n",
        "dados_ceap"
      ],
      "metadata": {
        "id": "fCaPHAjc-0Z8",
        "colab": {
          "base_uri": "https://localhost:8080/",
          "height": 782
        },
        "outputId": "7fc6a0ba-202f-4bad-eb58-f5d528090b3a"
      },
      "execution_count": null,
      "outputs": [
        {
          "output_type": "execute_result",
          "data": {
            "text/plain": [
              "            NomeParlamentar  UF       Partido  \\\n",
              "905            SILVIO COSTA  PE        AVANTE   \n",
              "906            SILVIO COSTA  PE        AVANTE   \n",
              "907            SILVIO COSTA  PE        AVANTE   \n",
              "908            SILVIO COSTA  PE        AVANTE   \n",
              "909            SILVIO COSTA  PE        AVANTE   \n",
              "...                     ...  ..           ...   \n",
              "105600  Henrique do Paraíso  SP  REPUBLICANOS   \n",
              "105601  Henrique do Paraíso  SP  REPUBLICANOS   \n",
              "105602  Henrique do Paraíso  SP  REPUBLICANOS   \n",
              "105603  Henrique do Paraíso  SP  REPUBLICANOS   \n",
              "105604        DaLua do Rota  AP           PSC   \n",
              "\n",
              "                                          TipoDespesa  \\\n",
              "905                     COMBUSTÍVEIS E LUBRIFICANTES.   \n",
              "906     CONSULTORIAS, PESQUISAS E TRABALHOS TÉCNICOS.   \n",
              "907              DIVULGAÇÃO DA ATIVIDADE PARLAMENTAR.   \n",
              "908                                         TELEFONIA   \n",
              "909                                         TELEFONIA   \n",
              "...                                               ...   \n",
              "105600           DIVULGAÇÃO DA ATIVIDADE PARLAMENTAR.   \n",
              "105601           DIVULGAÇÃO DA ATIVIDADE PARLAMENTAR.   \n",
              "105602           DIVULGAÇÃO DA ATIVIDADE PARLAMENTAR.   \n",
              "105603                                      TELEFONIA   \n",
              "105604                                      TELEFONIA   \n",
              "\n",
              "                                 Fornecedor  TipoDocumento DataEmissao  \\\n",
              "905                POSTO SAO SEBASTIAO LTDA              4  23-01-2019   \n",
              "906       PLURAL PESQUISAS & MARKETING LTDA              0  30-01-2019   \n",
              "907          Editora Paradox Zero Eireli Me              4  18-01-2019   \n",
              "908                       CELULAR FUNCIONAL              0  10-01-2019   \n",
              "909                       CELULAR FUNCIONAL              0  11-02-2019   \n",
              "...                                     ...            ...         ...   \n",
              "105600  FABIO FRERICHS TREVISAN PUBLICIDADE              0  28-07-2021   \n",
              "105601               LAR COMUNICAÇÃO VISUAL              0  11-08-2021   \n",
              "105602               LAR COMUNICAÇÃO VISUAL              0  29-07-2021   \n",
              "105603                                RAMAL              0         NaN   \n",
              "105604                                RAMAL              0         NaN   \n",
              "\n",
              "        ValorDocumento  ValorGlosa  ValorLiquido  Mes   Ano NomePassageiro  \\\n",
              "905            5990.37         0.0       5990.37    1  2019            NaN   \n",
              "906           22000.00         0.0      22000.00    1  2019            NaN   \n",
              "907            5500.00         0.0       5500.00    1  2019            NaN   \n",
              "908               0.61         0.0          0.61    1  2019            NaN   \n",
              "909             305.59         0.0        305.59    1  2019            NaN   \n",
              "...                ...         ...           ...  ...   ...            ...   \n",
              "105600         5000.00         0.0       5000.00    7  2021            NaN   \n",
              "105601         7000.00         0.0       7000.00    8  2021            NaN   \n",
              "105602         4000.00         0.0       4000.00    7  2021            NaN   \n",
              "105603            1.10         0.0          1.10    7  2021            NaN   \n",
              "105604            1.08         0.0          1.08    7  2021            NaN   \n",
              "\n",
              "       Trecho  IdRessarcimento  Restituicao  \n",
              "905       NaN              NaN          NaN  \n",
              "906       NaN              NaN          NaN  \n",
              "907       NaN              NaN          NaN  \n",
              "908       NaN              0.0          NaN  \n",
              "909       NaN              0.0          NaN  \n",
              "...       ...              ...          ...  \n",
              "105600    NaN              NaN          NaN  \n",
              "105601    NaN              NaN          NaN  \n",
              "105602    NaN              NaN          NaN  \n",
              "105603    NaN              0.0          NaN  \n",
              "105604    NaN              0.0          NaN  \n",
              "\n",
              "[553759 rows x 16 columns]"
            ],
            "text/html": [
              "\n",
              "  <div id=\"df-86fce58a-8ce2-4e04-8f0f-e281b77a1f56\">\n",
              "    <div class=\"colab-df-container\">\n",
              "      <div>\n",
              "<style scoped>\n",
              "    .dataframe tbody tr th:only-of-type {\n",
              "        vertical-align: middle;\n",
              "    }\n",
              "\n",
              "    .dataframe tbody tr th {\n",
              "        vertical-align: top;\n",
              "    }\n",
              "\n",
              "    .dataframe thead th {\n",
              "        text-align: right;\n",
              "    }\n",
              "</style>\n",
              "<table border=\"1\" class=\"dataframe\">\n",
              "  <thead>\n",
              "    <tr style=\"text-align: right;\">\n",
              "      <th></th>\n",
              "      <th>NomeParlamentar</th>\n",
              "      <th>UF</th>\n",
              "      <th>Partido</th>\n",
              "      <th>TipoDespesa</th>\n",
              "      <th>Fornecedor</th>\n",
              "      <th>TipoDocumento</th>\n",
              "      <th>DataEmissao</th>\n",
              "      <th>ValorDocumento</th>\n",
              "      <th>ValorGlosa</th>\n",
              "      <th>ValorLiquido</th>\n",
              "      <th>Mes</th>\n",
              "      <th>Ano</th>\n",
              "      <th>NomePassageiro</th>\n",
              "      <th>Trecho</th>\n",
              "      <th>IdRessarcimento</th>\n",
              "      <th>Restituicao</th>\n",
              "    </tr>\n",
              "  </thead>\n",
              "  <tbody>\n",
              "    <tr>\n",
              "      <th>905</th>\n",
              "      <td>SILVIO COSTA</td>\n",
              "      <td>PE</td>\n",
              "      <td>AVANTE</td>\n",
              "      <td>COMBUSTÍVEIS E LUBRIFICANTES.</td>\n",
              "      <td>POSTO SAO SEBASTIAO LTDA</td>\n",
              "      <td>4</td>\n",
              "      <td>23-01-2019</td>\n",
              "      <td>5990.37</td>\n",
              "      <td>0.0</td>\n",
              "      <td>5990.37</td>\n",
              "      <td>1</td>\n",
              "      <td>2019</td>\n",
              "      <td>NaN</td>\n",
              "      <td>NaN</td>\n",
              "      <td>NaN</td>\n",
              "      <td>NaN</td>\n",
              "    </tr>\n",
              "    <tr>\n",
              "      <th>906</th>\n",
              "      <td>SILVIO COSTA</td>\n",
              "      <td>PE</td>\n",
              "      <td>AVANTE</td>\n",
              "      <td>CONSULTORIAS, PESQUISAS E TRABALHOS TÉCNICOS.</td>\n",
              "      <td>PLURAL PESQUISAS &amp; MARKETING LTDA</td>\n",
              "      <td>0</td>\n",
              "      <td>30-01-2019</td>\n",
              "      <td>22000.00</td>\n",
              "      <td>0.0</td>\n",
              "      <td>22000.00</td>\n",
              "      <td>1</td>\n",
              "      <td>2019</td>\n",
              "      <td>NaN</td>\n",
              "      <td>NaN</td>\n",
              "      <td>NaN</td>\n",
              "      <td>NaN</td>\n",
              "    </tr>\n",
              "    <tr>\n",
              "      <th>907</th>\n",
              "      <td>SILVIO COSTA</td>\n",
              "      <td>PE</td>\n",
              "      <td>AVANTE</td>\n",
              "      <td>DIVULGAÇÃO DA ATIVIDADE PARLAMENTAR.</td>\n",
              "      <td>Editora Paradox Zero Eireli Me</td>\n",
              "      <td>4</td>\n",
              "      <td>18-01-2019</td>\n",
              "      <td>5500.00</td>\n",
              "      <td>0.0</td>\n",
              "      <td>5500.00</td>\n",
              "      <td>1</td>\n",
              "      <td>2019</td>\n",
              "      <td>NaN</td>\n",
              "      <td>NaN</td>\n",
              "      <td>NaN</td>\n",
              "      <td>NaN</td>\n",
              "    </tr>\n",
              "    <tr>\n",
              "      <th>908</th>\n",
              "      <td>SILVIO COSTA</td>\n",
              "      <td>PE</td>\n",
              "      <td>AVANTE</td>\n",
              "      <td>TELEFONIA</td>\n",
              "      <td>CELULAR FUNCIONAL</td>\n",
              "      <td>0</td>\n",
              "      <td>10-01-2019</td>\n",
              "      <td>0.61</td>\n",
              "      <td>0.0</td>\n",
              "      <td>0.61</td>\n",
              "      <td>1</td>\n",
              "      <td>2019</td>\n",
              "      <td>NaN</td>\n",
              "      <td>NaN</td>\n",
              "      <td>0.0</td>\n",
              "      <td>NaN</td>\n",
              "    </tr>\n",
              "    <tr>\n",
              "      <th>909</th>\n",
              "      <td>SILVIO COSTA</td>\n",
              "      <td>PE</td>\n",
              "      <td>AVANTE</td>\n",
              "      <td>TELEFONIA</td>\n",
              "      <td>CELULAR FUNCIONAL</td>\n",
              "      <td>0</td>\n",
              "      <td>11-02-2019</td>\n",
              "      <td>305.59</td>\n",
              "      <td>0.0</td>\n",
              "      <td>305.59</td>\n",
              "      <td>1</td>\n",
              "      <td>2019</td>\n",
              "      <td>NaN</td>\n",
              "      <td>NaN</td>\n",
              "      <td>0.0</td>\n",
              "      <td>NaN</td>\n",
              "    </tr>\n",
              "    <tr>\n",
              "      <th>...</th>\n",
              "      <td>...</td>\n",
              "      <td>...</td>\n",
              "      <td>...</td>\n",
              "      <td>...</td>\n",
              "      <td>...</td>\n",
              "      <td>...</td>\n",
              "      <td>...</td>\n",
              "      <td>...</td>\n",
              "      <td>...</td>\n",
              "      <td>...</td>\n",
              "      <td>...</td>\n",
              "      <td>...</td>\n",
              "      <td>...</td>\n",
              "      <td>...</td>\n",
              "      <td>...</td>\n",
              "      <td>...</td>\n",
              "    </tr>\n",
              "    <tr>\n",
              "      <th>105600</th>\n",
              "      <td>Henrique do Paraíso</td>\n",
              "      <td>SP</td>\n",
              "      <td>REPUBLICANOS</td>\n",
              "      <td>DIVULGAÇÃO DA ATIVIDADE PARLAMENTAR.</td>\n",
              "      <td>FABIO FRERICHS TREVISAN PUBLICIDADE</td>\n",
              "      <td>0</td>\n",
              "      <td>28-07-2021</td>\n",
              "      <td>5000.00</td>\n",
              "      <td>0.0</td>\n",
              "      <td>5000.00</td>\n",
              "      <td>7</td>\n",
              "      <td>2021</td>\n",
              "      <td>NaN</td>\n",
              "      <td>NaN</td>\n",
              "      <td>NaN</td>\n",
              "      <td>NaN</td>\n",
              "    </tr>\n",
              "    <tr>\n",
              "      <th>105601</th>\n",
              "      <td>Henrique do Paraíso</td>\n",
              "      <td>SP</td>\n",
              "      <td>REPUBLICANOS</td>\n",
              "      <td>DIVULGAÇÃO DA ATIVIDADE PARLAMENTAR.</td>\n",
              "      <td>LAR COMUNICAÇÃO VISUAL</td>\n",
              "      <td>0</td>\n",
              "      <td>11-08-2021</td>\n",
              "      <td>7000.00</td>\n",
              "      <td>0.0</td>\n",
              "      <td>7000.00</td>\n",
              "      <td>8</td>\n",
              "      <td>2021</td>\n",
              "      <td>NaN</td>\n",
              "      <td>NaN</td>\n",
              "      <td>NaN</td>\n",
              "      <td>NaN</td>\n",
              "    </tr>\n",
              "    <tr>\n",
              "      <th>105602</th>\n",
              "      <td>Henrique do Paraíso</td>\n",
              "      <td>SP</td>\n",
              "      <td>REPUBLICANOS</td>\n",
              "      <td>DIVULGAÇÃO DA ATIVIDADE PARLAMENTAR.</td>\n",
              "      <td>LAR COMUNICAÇÃO VISUAL</td>\n",
              "      <td>0</td>\n",
              "      <td>29-07-2021</td>\n",
              "      <td>4000.00</td>\n",
              "      <td>0.0</td>\n",
              "      <td>4000.00</td>\n",
              "      <td>7</td>\n",
              "      <td>2021</td>\n",
              "      <td>NaN</td>\n",
              "      <td>NaN</td>\n",
              "      <td>NaN</td>\n",
              "      <td>NaN</td>\n",
              "    </tr>\n",
              "    <tr>\n",
              "      <th>105603</th>\n",
              "      <td>Henrique do Paraíso</td>\n",
              "      <td>SP</td>\n",
              "      <td>REPUBLICANOS</td>\n",
              "      <td>TELEFONIA</td>\n",
              "      <td>RAMAL</td>\n",
              "      <td>0</td>\n",
              "      <td>NaN</td>\n",
              "      <td>1.10</td>\n",
              "      <td>0.0</td>\n",
              "      <td>1.10</td>\n",
              "      <td>7</td>\n",
              "      <td>2021</td>\n",
              "      <td>NaN</td>\n",
              "      <td>NaN</td>\n",
              "      <td>0.0</td>\n",
              "      <td>NaN</td>\n",
              "    </tr>\n",
              "    <tr>\n",
              "      <th>105604</th>\n",
              "      <td>DaLua do Rota</td>\n",
              "      <td>AP</td>\n",
              "      <td>PSC</td>\n",
              "      <td>TELEFONIA</td>\n",
              "      <td>RAMAL</td>\n",
              "      <td>0</td>\n",
              "      <td>NaN</td>\n",
              "      <td>1.08</td>\n",
              "      <td>0.0</td>\n",
              "      <td>1.08</td>\n",
              "      <td>7</td>\n",
              "      <td>2021</td>\n",
              "      <td>NaN</td>\n",
              "      <td>NaN</td>\n",
              "      <td>0.0</td>\n",
              "      <td>NaN</td>\n",
              "    </tr>\n",
              "  </tbody>\n",
              "</table>\n",
              "<p>553759 rows × 16 columns</p>\n",
              "</div>\n",
              "      <button class=\"colab-df-convert\" onclick=\"convertToInteractive('df-86fce58a-8ce2-4e04-8f0f-e281b77a1f56')\"\n",
              "              title=\"Convert this dataframe to an interactive table.\"\n",
              "              style=\"display:none;\">\n",
              "        \n",
              "  <svg xmlns=\"http://www.w3.org/2000/svg\" height=\"24px\"viewBox=\"0 0 24 24\"\n",
              "       width=\"24px\">\n",
              "    <path d=\"M0 0h24v24H0V0z\" fill=\"none\"/>\n",
              "    <path d=\"M18.56 5.44l.94 2.06.94-2.06 2.06-.94-2.06-.94-.94-2.06-.94 2.06-2.06.94zm-11 1L8.5 8.5l.94-2.06 2.06-.94-2.06-.94L8.5 2.5l-.94 2.06-2.06.94zm10 10l.94 2.06.94-2.06 2.06-.94-2.06-.94-.94-2.06-.94 2.06-2.06.94z\"/><path d=\"M17.41 7.96l-1.37-1.37c-.4-.4-.92-.59-1.43-.59-.52 0-1.04.2-1.43.59L10.3 9.45l-7.72 7.72c-.78.78-.78 2.05 0 2.83L4 21.41c.39.39.9.59 1.41.59.51 0 1.02-.2 1.41-.59l7.78-7.78 2.81-2.81c.8-.78.8-2.07 0-2.86zM5.41 20L4 18.59l7.72-7.72 1.47 1.35L5.41 20z\"/>\n",
              "  </svg>\n",
              "      </button>\n",
              "      \n",
              "  <style>\n",
              "    .colab-df-container {\n",
              "      display:flex;\n",
              "      flex-wrap:wrap;\n",
              "      gap: 12px;\n",
              "    }\n",
              "\n",
              "    .colab-df-convert {\n",
              "      background-color: #E8F0FE;\n",
              "      border: none;\n",
              "      border-radius: 50%;\n",
              "      cursor: pointer;\n",
              "      display: none;\n",
              "      fill: #1967D2;\n",
              "      height: 32px;\n",
              "      padding: 0 0 0 0;\n",
              "      width: 32px;\n",
              "    }\n",
              "\n",
              "    .colab-df-convert:hover {\n",
              "      background-color: #E2EBFA;\n",
              "      box-shadow: 0px 1px 2px rgba(60, 64, 67, 0.3), 0px 1px 3px 1px rgba(60, 64, 67, 0.15);\n",
              "      fill: #174EA6;\n",
              "    }\n",
              "\n",
              "    [theme=dark] .colab-df-convert {\n",
              "      background-color: #3B4455;\n",
              "      fill: #D2E3FC;\n",
              "    }\n",
              "\n",
              "    [theme=dark] .colab-df-convert:hover {\n",
              "      background-color: #434B5C;\n",
              "      box-shadow: 0px 1px 3px 1px rgba(0, 0, 0, 0.15);\n",
              "      filter: drop-shadow(0px 1px 2px rgba(0, 0, 0, 0.3));\n",
              "      fill: #FFFFFF;\n",
              "    }\n",
              "  </style>\n",
              "\n",
              "      <script>\n",
              "        const buttonEl =\n",
              "          document.querySelector('#df-86fce58a-8ce2-4e04-8f0f-e281b77a1f56 button.colab-df-convert');\n",
              "        buttonEl.style.display =\n",
              "          google.colab.kernel.accessAllowed ? 'block' : 'none';\n",
              "\n",
              "        async function convertToInteractive(key) {\n",
              "          const element = document.querySelector('#df-86fce58a-8ce2-4e04-8f0f-e281b77a1f56');\n",
              "          const dataTable =\n",
              "            await google.colab.kernel.invokeFunction('convertToInteractive',\n",
              "                                                     [key], {});\n",
              "          if (!dataTable) return;\n",
              "\n",
              "          const docLinkHtml = 'Like what you see? Visit the ' +\n",
              "            '<a target=\"_blank\" href=https://colab.research.google.com/notebooks/data_table.ipynb>data table notebook</a>'\n",
              "            + ' to learn more about interactive tables.';\n",
              "          element.innerHTML = '';\n",
              "          dataTable['output_type'] = 'display_data';\n",
              "          await google.colab.output.renderOutput(dataTable, element);\n",
              "          const docLink = document.createElement('div');\n",
              "          docLink.innerHTML = docLinkHtml;\n",
              "          element.appendChild(docLink);\n",
              "        }\n",
              "      </script>\n",
              "    </div>\n",
              "  </div>\n",
              "  "
            ]
          },
          "metadata": {},
          "execution_count": 22
        }
      ]
    },
    {
      "cell_type": "markdown",
      "metadata": {
        "id": "hA95ykqBUtH_"
      },
      "source": [
        "## 03. Organização"
      ]
    },
    {
      "cell_type": "markdown",
      "metadata": {
        "id": "TN8MjaaI9EXO"
      },
      "source": [
        "## **Questão 1**\n",
        "\n",
        ">### Como se comportam os gastos com cotas parlamentares ao longo do tempo? Existe alguma tendência de aumento ou redução desse custo?"
      ]
    },
    {
      "cell_type": "markdown",
      "metadata": {
        "id": "8vhBLlqLjK-P"
      },
      "source": [
        "Estrutura de desenvolvimento sugerida:\n",
        "\n",
        "- Separar dados de gastos, mantendo parlamentares, ano, Número da especificação subcota.\n",
        "- Num do mes, valor liquido < a analise pode ser feita de forma anual e mensal"
      ]
    },
    {
      "cell_type": "markdown",
      "source": [
        "Podemos ver a seguir a media dos gastos de  cada ano  de cada partido."
      ],
      "metadata": {
        "id": "gaqmgJtzLssO"
      }
    },
    {
      "cell_type": "code",
      "execution_count": null,
      "metadata": {
        "id": "gCUL45eG-tcQ"
      },
      "outputs": [],
      "source": [
        "#codigo que a carla me ajudou para ver as tendencias de gastos\n",
        "tendencia = pd.crosstab(dados_ceap['Partido'],dados_ceap['Ano'],aggfunc = 'sum',values = dados_ceap['ValorLiquido'])\n",
        "tendencia"
      ]
    },
    {
      "cell_type": "markdown",
      "source": [
        "No grafico é possivel ter um noção de que a media dos gastos tem um tendencia a queda."
      ],
      "metadata": {
        "id": "uhiVVuq2MDz8"
      }
    },
    {
      "cell_type": "code",
      "source": [
        "#grafico da 1\n",
        "plt.figure(figsize=(15,5))\n",
        "sns.barplot(data=tendencia,palette='Blues_d')\n",
        "plt.title('Tendencia da media de gastos')\n",
        "sns.set_theme(style=\"whitegrid\")\n",
        "plt.ylabel('Valor em Reais (R$)')\n",
        "plt.show()"
      ],
      "metadata": {
        "id": "QQJ88PjRWszl"
      },
      "execution_count": null,
      "outputs": []
    },
    {
      "cell_type": "markdown",
      "metadata": {
        "id": "CATr_mfh_xxh"
      },
      "source": [
        "## **Questão 2**\n",
        "\n",
        ">### Qual a média de gastos por parlamentar?"
      ]
    },
    {
      "cell_type": "markdown",
      "metadata": {
        "id": "YBySACs4jSdg"
      },
      "source": [
        "Estrutura de desenvolvimento sugerida:\n",
        "\n",
        "- Seleção de nomes de parlamentar, ano, valor liquido, mes.\n",
        "- Organizar e concatenar\n",
        "- criar_variavel.mean()\n",
        "\n"
      ]
    },
    {
      "cell_type": "code",
      "source": [
        "#  RESPOSTA DA QUESTÃO 2\n",
        "#Media de gastos por parlamentar \n",
        "#Seleção de nomes de parlamentar, Partido,ano, valor liquido.\n",
        "media_gastos_parlamentar = dados_ceap.groupby(['NomeParlamentar','Partido','Ano'])[['ValorLiquido']].mean().sort_values(by='ValorLiquido',ascending=False).reset_index()\n",
        "media_gastos_parlamentar"
      ],
      "metadata": {
        "id": "IB3Uv-8PH-GG"
      },
      "execution_count": null,
      "outputs": []
    },
    {
      "cell_type": "markdown",
      "source": [
        "As  5 maiores medias dos gastos dos  parlamenteres,nota-se que a maioria se deu no ano de 2019."
      ],
      "metadata": {
        "id": "AuT0eFUxMVoL"
      }
    },
    {
      "cell_type": "code",
      "source": [
        "plt.figure(figsize=(20,8))\n",
        "sns.barplot(data= media_gastos_parlamentar.head(),x='NomeParlamentar',y='ValorLiquido',hue='Ano',ci=\"sd\")\n",
        "sns.set_theme(style='whitegrid')\n",
        "plt.xlabel('Nome do Parlamentar')\n",
        "plt.ylabel('Valor em Reais (R$)')\n",
        "plt.show()"
      ],
      "metadata": {
        "id": "jvGchI7AIFd-"
      },
      "execution_count": null,
      "outputs": []
    },
    {
      "cell_type": "markdown",
      "metadata": {
        "id": "0v642dnY_2lv"
      },
      "source": [
        "## **Questão 3**\n",
        "\n",
        ">### Quais foram os parlamentares que mais e que menos consumiram recursos?"
      ]
    },
    {
      "cell_type": "markdown",
      "metadata": {
        "id": "u2UC5C9NjTD9"
      },
      "source": [
        "Estrutura de desenvolvimento sugerida:\n",
        "\n",
        "- Seleção de nomes de parlamentar, ano, valor liquido, mes.\n",
        "- Organizar e concatenar\n",
        "- ordenar uma lista e utilizar head() e tail()"
      ]
    },
    {
      "cell_type": "markdown",
      "source": [
        "Podemos ver a seguir a media dos gastos de  cada ano  de cada partido."
      ],
      "metadata": {
        "id": "OgjCaA0lMcNW"
      }
    },
    {
      "cell_type": "code",
      "source": [
        "m = dados_ceap[['NomeParlamentar','Partido','Ano','ValorLiquido']]\n",
        "m['Ano'] = m['Ano'].astype(str)\n",
        "m"
      ],
      "metadata": {
        "id": "E18AeIhtMlql"
      },
      "execution_count": null,
      "outputs": []
    },
    {
      "cell_type": "markdown",
      "source": [
        "organizando ordenando pelo valor do maior para o menor."
      ],
      "metadata": {
        "id": "W9zszFHrMsh8"
      }
    },
    {
      "cell_type": "code",
      "source": [
        "#SOMA DE TODOS OS GASTOS\n",
        "soma_par = m.groupby(['NomeParlamentar']).sum().sort_values(by='ValorLiquido',ascending=False).reset_index()\n",
        "soma_par"
      ],
      "metadata": {
        "id": "30TAd2U9Mwoj"
      },
      "execution_count": null,
      "outputs": []
    },
    {
      "cell_type": "code",
      "source": [
        "#SOMA DOS QUE MAIS GASTARAM POR ANO\n",
        "soma_par_ano = m.groupby(['NomeParlamentar','Partido','Ano']).sum().sort_values(by='ValorLiquido',ascending=False).reset_index()\n",
        "soma_par_ano"
      ],
      "metadata": {
        "id": "pAAN2yh8NGwU"
      },
      "execution_count": null,
      "outputs": []
    },
    {
      "cell_type": "markdown",
      "source": [
        "Grafico dos 5 parlamentares que mais gastaram."
      ],
      "metadata": {
        "id": "EIQghIeJM5ST"
      }
    },
    {
      "cell_type": "code",
      "source": [
        "soma_par.head()"
      ],
      "metadata": {
        "id": "f8UYxmQhM9Az"
      },
      "execution_count": null,
      "outputs": []
    },
    {
      "cell_type": "code",
      "source": [
        "plt.figure(figsize=(20,8))\n",
        "sns.barplot(data= soma_par.head(),x='NomeParlamentar',y='ValorLiquido')\n",
        "sns.set_theme(style='whitegrid')\n",
        "plt.xlabel('Nome do Parlamentar')\n",
        "plt.ylabel('Valor em Reais (R$)')\n",
        "plt.show()"
      ],
      "metadata": {
        "id": "mpuK0K2fNPMb"
      },
      "execution_count": null,
      "outputs": []
    },
    {
      "cell_type": "markdown",
      "source": [
        "Usando a soma por ano."
      ],
      "metadata": {
        "id": "Fch2YtV6NR50"
      }
    },
    {
      "cell_type": "code",
      "source": [
        "soma_par_ano.head(10)"
      ],
      "metadata": {
        "id": "15BKI9TMNTu7"
      },
      "execution_count": null,
      "outputs": []
    },
    {
      "cell_type": "code",
      "source": [
        "plt.figure(figsize=(20,8))\n",
        "sns.barplot(data= soma_par_ano.head(),x='NomeParlamentar',y='ValorLiquido',hue = 'Ano')\n",
        "sns.set_theme(style='whitegrid')\n",
        "plt.xlabel('Nome do Parlamentar')\n",
        "plt.ylabel('Valor em Reais (R$)')\n",
        "plt.show()"
      ],
      "metadata": {
        "id": "Lt0DPm5wNZxk"
      },
      "execution_count": null,
      "outputs": []
    },
    {
      "cell_type": "markdown",
      "source": [
        "Grafico dos 5 parlamentares que menos gastaram"
      ],
      "metadata": {
        "id": "wsbvbvVdNoSk"
      }
    },
    {
      "cell_type": "code",
      "source": [
        "soma_par.tail()"
      ],
      "metadata": {
        "id": "4F68m03eNqJM"
      },
      "execution_count": null,
      "outputs": []
    },
    {
      "cell_type": "markdown",
      "source": [
        "No grafico existem valores do Mandeta e Lucina Santos são tão proximos de 0 e a distancia dos outros valores é tão grande que a barra praticamente  não aparece."
      ],
      "metadata": {
        "id": "P91g9BxINsn7"
      }
    },
    {
      "cell_type": "code",
      "source": [
        "plt.figure(figsize=(20,8))\n",
        "sns.barplot(data= soma_par.tail(),x='NomeParlamentar',y='ValorLiquido',hue = 'ValorLiquido')\n",
        "sns.set_theme(style='whitegrid')\n",
        "plt.xlabel('Nome do Parlamentar')\n",
        "plt.ylabel('Valor em Reais (R$)')\n",
        "plt.show()"
      ],
      "metadata": {
        "id": "bL82pf9gNvCj"
      },
      "execution_count": null,
      "outputs": []
    },
    {
      "cell_type": "markdown",
      "source": [
        "Os menores valores so que por ano."
      ],
      "metadata": {
        "id": "hCkLdQ7oNyB1"
      }
    },
    {
      "cell_type": "code",
      "source": [
        "soma_par_ano.tail()"
      ],
      "metadata": {
        "id": "OP_I4k--N1oD"
      },
      "execution_count": null,
      "outputs": []
    },
    {
      "cell_type": "code",
      "source": [
        "plt.figure(figsize=(20,8))\n",
        "sns.barplot(data= soma_par_ano.tail(),x='NomeParlamentar',y='ValorLiquido')\n",
        "sns.set_theme(style='whitegrid')\n",
        "plt.xlabel('Nome do Parlamentar')\n",
        "plt.ylabel('Valor em Reais (R$)')\n",
        "plt.show()"
      ],
      "metadata": {
        "id": "-tzqMmGrN3gz"
      },
      "execution_count": null,
      "outputs": []
    },
    {
      "cell_type": "markdown",
      "metadata": {
        "id": "eukG1SUQ_79T"
      },
      "source": [
        "## **Questão 4**\n",
        "\n",
        ">###  Quais são as categorias de despesas mais onerosas dentre os recursos destinados às cotas parlamentares?"
      ]
    },
    {
      "cell_type": "markdown",
      "metadata": {
        "id": "pK7Ym3yFjVmb"
      },
      "source": [
        "Estrutura de Desenvolvimento:\n",
        "\n",
        "- Filtragem da cota e da despesa para saber a qual correspondente e o nome do parlamentar \n",
        "- Filtragem somada à soma dos gastos."
      ]
    },
    {
      "cell_type": "code",
      "execution_count": null,
      "metadata": {
        "id": "9_qS-s2dLa_3"
      },
      "outputs": [],
      "source": [
        "desc = dados_ceap[['numSubCota','TipoDespesa']]\n",
        "desc.drop_duplicates().sort_values(by ='numSubCota') # VISUALIZAÇÃO de subcota e respectiva descrição"
      ]
    },
    {
      "cell_type": "code",
      "execution_count": null,
      "metadata": {
        "id": "MWh4UcuULgyS"
      },
      "outputs": [],
      "source": [
        "gasto_cota_grup = dados_ceap.groupby(['numSubCota', 'TipoDespesa',]).agg({'ValorLiquido':sum}) \n",
        "gasto_cota_grup = gasto_cota_grup.sort_values(by = 'ValorLiquido', ascending = False)\n",
        "#Somei pelo valor da cota ressarcida(valor liquido) e mantive a visualização do valor total dos documentos\n"
      ]
    },
    {
      "cell_type": "code",
      "source": [
        "gasto_por_cota = gasto_cota_grup.reset_index().head(5)"
      ],
      "metadata": {
        "id": "9vYPqxFinOMy"
      },
      "execution_count": null,
      "outputs": []
    },
    {
      "cell_type": "markdown",
      "source": [
        "Gráfico de barras:"
      ],
      "metadata": {
        "id": "odx8Avw3nb3A"
      }
    },
    {
      "cell_type": "code",
      "source": [
        "sns.set(rc={'figure.figsize': (11.7, 8.27)})\n",
        "f,ax = plt.subplots()\n",
        "ax.ticklabel_format(style='plain', axis='both')\n",
        "sns.barplot(y=\"TipoDespesa\", x=\"ValorLiquido\", palette = 'mako', data=gasto_por_cota, ax=ax)"
      ],
      "metadata": {
        "id": "kMqdOvy1nfy-"
      },
      "execution_count": null,
      "outputs": []
    },
    {
      "cell_type": "markdown",
      "metadata": {
        "id": "0AhCbgHMAlZW"
      },
      "source": [
        "## **Questão 5**\n",
        "\n",
        ">###  Quais são os trechos de viagem mais recorrentes entre as despesas de viagem?"
      ]
    },
    {
      "cell_type": "markdown",
      "metadata": {
        "id": "5_25mBXsjWIs"
      },
      "source": [
        "Estrutura de desenvolvimento sugerida:\n",
        "\n",
        "-  analisar a frequencia de txtTrecho \n",
        "- ordenar e utilizar count"
      ]
    },
    {
      "cell_type": "code",
      "execution_count": null,
      "metadata": {
        "id": "0_sUmghbqV2I"
      },
      "outputs": [],
      "source": [
        "viagens = dados_ceap.Trecho.dropna()"
      ]
    },
    {
      "cell_type": "code",
      "execution_count": null,
      "metadata": {
        "id": "wJfdDp9RqY9d"
      },
      "outputs": [],
      "source": [
        "trechos_viajados = pd.DataFrame(viagens.value_counts().head(5))\n",
        "trechos_viajados.reset_index(inplace = True)"
      ]
    },
    {
      "cell_type": "markdown",
      "source": [
        "O trecho mais recorrente foi o de BSB/BSB"
      ],
      "metadata": {
        "id": "XyrYrLgqnrc-"
      }
    },
    {
      "cell_type": "code",
      "source": [
        "sns.set(rc={'figure.figsize': (11.7, 8.27)})\n",
        "plt.title('Principais trechos de viagens aéreas')\n",
        "sns.barplot(x= 'index', y ='Trecho',palette = 'mako', data=trechos_viajados)"
      ],
      "metadata": {
        "id": "LzlU7HvkoI8w"
      },
      "execution_count": null,
      "outputs": []
    },
    {
      "cell_type": "markdown",
      "source": [
        "**Extra:** Os 5 políticos que mais viajaram no trecho BSB/BSB.\n",
        "Resultado: \n",
        "1.   João Henrique Campos\n",
        "2.   Joice Hasselmann\n",
        "3.   Arthur Lira\n",
        "4.   David Soares\n",
        "5.   Dionilso Marcon"
      ],
      "metadata": {
        "id": "PGyndnJ7oGOx"
      }
    },
    {
      "cell_type": "code",
      "source": [
        "#Os 5 políticos que mais utilizaram o voo \n",
        "filtro_bsb = dados_ceap[(dados_ceap['Trecho'] == 'BSB/BSB')]\n",
        "grupo = filtro_bsb[['Trecho','DataEmissao','cpf','NomePassageiro','Partido','ValorLiquido']]\n",
        "grupo2 = grupo.groupby(['NomePassageiro','Partido', 'Trecho']).agg({'ValorLiquido': sum}).sort_values('ValorLiquido', ascending = False)\n",
        "cinco_maiores_gastos = grupo2.head(5).reset_index()\n",
        "cinco_maiores_gastos"
      ],
      "metadata": {
        "id": "NQnL-2tJnnt7"
      },
      "execution_count": null,
      "outputs": []
    },
    {
      "cell_type": "markdown",
      "source": [
        "Gráfico de Barras"
      ],
      "metadata": {
        "id": "EM8lzbB4n2pf"
      }
    },
    {
      "cell_type": "code",
      "source": [
        "sns.set(rc={'figure.figsize': (11.7, 8.27)})\n",
        "plt.title('05 maiores gastos no trecho BSB/BSB')\n",
        "sns.barplot(x = 'Partido',y = 'ValorLiquido', hue = 'NomePassageiro', palette = \"mako\", data = cinco_maiores_gastos,)"
      ],
      "metadata": {
        "id": "NQW1fLEKnzo2"
      },
      "execution_count": null,
      "outputs": []
    },
    {
      "cell_type": "markdown",
      "metadata": {
        "id": "JLDlwxyJqbT5"
      },
      "source": [
        ""
      ]
    },
    {
      "cell_type": "markdown",
      "metadata": {
        "id": "yE2rAS6GArgh"
      },
      "source": [
        "## **Questão 6**\n",
        "\n",
        ">###  Qual a média de gastos por Estado?"
      ]
    },
    {
      "cell_type": "markdown",
      "metadata": {
        "id": "yvFldvnbjXdq"
      },
      "source": [
        "Estrutura de desenvolvimento: \n",
        "\n",
        "- Filtro e visualização da UF + Despesa e Valor\n",
        "- Agrupamento da UF e o tipo de Despesa com a Soma dos valores\n",
        "- Visualização da maior média, a despesa e o estado.\n"
      ]
    },
    {
      "cell_type": "code",
      "source": [
        "gasto_UF = dados_ceap[['UF','ValorLiquido']].groupby('UF')\n",
        "media_por_estado = gasto_UF.mean().sort_values(by='ValorLiquido', ascending = False) #FILTRA os dados por estado etc\n",
        "media_por_estado"
      ],
      "metadata": {
        "id": "fIq0Tew-ofVq"
      },
      "execution_count": null,
      "outputs": []
    },
    {
      "cell_type": "code",
      "source": [
        "sns.set(rc={'figure.figsize': (11.7, 8.27)})\n",
        "plt.title('Média de Gastos por Unidade Federativa')\n",
        "sns.barplot(x=media_por_estado.index, y = 'ValorLiquido',palette = 'mako', data = media_por_estado)"
      ],
      "metadata": {
        "id": "8EwQNwPFogRA"
      },
      "execution_count": null,
      "outputs": []
    },
    {
      "cell_type": "markdown",
      "source": [
        "**Extra:** A média de gastos de cada estado por classificado pelo *tipo de despesa*.\n",
        ">   Como os gastos acabaram diluidos entre os diversos tipos de gastos e notas optei por agrupar e conferir os estados possuíam maior média de gastos e em quais despesa se concentravam.\n",
        "\n",
        "\n",
        ">   Os gastos maiores foram de Locação de Aeronaves e Consultorias. A maior parte de estados da região Norte. Talvez explique-se pela conhecida dificuldade de locomoção nas rodovias e hidrovias da Região Norte."
      ],
      "metadata": {
        "id": "TSFzsPvKoiIB"
      }
    },
    {
      "cell_type": "code",
      "execution_count": null,
      "metadata": {
        "id": "IByGN_06qshk"
      },
      "outputs": [],
      "source": [
        "gasto_UF2 = dados_ceap.groupby(['UF', 'numSubCota','TipoDespesa']).agg({'ValorLiquido':'mean'})\n",
        "media_por_estado_despesa = gasto_UF2.sort_values(by = 'ValorLiquido', ascending = False).head(5).reset_index()\n",
        "#organizar os valores valores e a maior média.\n",
        "media_por_estado_despesa"
      ]
    },
    {
      "cell_type": "markdown",
      "source": [
        "Gráfico de barras: "
      ],
      "metadata": {
        "id": "5qgYFuAEoERJ"
      }
    },
    {
      "cell_type": "code",
      "source": [
        "sns.set(rc={'figure.figsize': (11.7, 8.27)})\n",
        "plt.title('Média de gasto X Tipo de Despesa')\n",
        "sns.barplot(x= 'UF', y = 'ValorLiquido', hue = 'TipoDespesa', palette = 'mako', data = media_por_estado_despesa)"
      ],
      "metadata": {
        "id": "T1glGLLOoDXK"
      },
      "execution_count": null,
      "outputs": []
    },
    {
      "cell_type": "markdown",
      "metadata": {
        "id": "mJKMyovLAwDc"
      },
      "source": [
        "## **Questão 7**\n",
        "\n",
        ">###  Qual é o valor total de gastos por Estado?"
      ]
    },
    {
      "cell_type": "markdown",
      "metadata": {
        "id": "_Odf8vPMjYeO"
      },
      "source": [
        "Estrutura de desenvolvimento sugerida:\n",
        "\n",
        "- Tipos de gastos e UF\n",
        "- Somar os gastos por federação e ordenar lista"
      ]
    },
    {
      "cell_type": "code",
      "source": [
        "dados_ceap_uf= dados_ceap.filter(['UF', 'ValorLiquido'], axis=1).groupby(['UF']).sum()\n",
        "dados_ceap_uf"
      ],
      "metadata": {
        "id": "CojKVv-1digu"
      },
      "execution_count": null,
      "outputs": []
    },
    {
      "cell_type": "code",
      "source": [
        "dados_ceap_valoruf = dados_ceap_uf.sort_values(['ValorLiquido'], ascending=False)\n",
        "dados_ceap_valoruf"
      ],
      "metadata": {
        "id": "1Txk0JHik_gZ"
      },
      "execution_count": null,
      "outputs": []
    },
    {
      "cell_type": "markdown",
      "source": [
        "Os estados que possuem maior gastos: \n",
        "- SP\t\n",
        "- MG\t\n",
        "- BA\t\n",
        "- RJ\t\n",
        "- PR"
      ],
      "metadata": {
        "id": "et5-VcSTJXoD"
      }
    },
    {
      "cell_type": "code",
      "source": [
        "sns.set(rc={'figure.figsize': (11.7, 8.27)})\n",
        "# sns.set_theme(style=\"whitegrid\")\n",
        "\n",
        "# palette=\"Blues_d\" -> Colocar dentro do gráfico para mudar o esquema de cores das barras.\n",
        "sns.barplot(y=dados_ceap_valoruf.index, x=\"ValorLiquido\" ,data=dados_ceap_valoruf)"
      ],
      "metadata": {
        "id": "b9gshWrrQTVK"
      },
      "execution_count": null,
      "outputs": []
    },
    {
      "cell_type": "markdown",
      "metadata": {
        "id": "_q-TDPhQA0Vi"
      },
      "source": [
        "## **Questão 8**\n",
        "\n",
        ">###  Quais Estados têm maior número de representantes?\n",
        "\n"
      ]
    },
    {
      "cell_type": "markdown",
      "metadata": {
        "id": "DAnoweREjZwz"
      },
      "source": [
        "Estrutura de desenvolvimento sugerida:\n",
        "- separar nome de representantes por UF\n",
        "- count por UF"
      ]
    },
    {
      "cell_type": "code",
      "execution_count": null,
      "metadata": {
        "id": "hGeSudaBwEDd"
      },
      "outputs": [],
      "source": [
        "dados_ceap_parlamentar = dados_ceap[['UF', 'NomeParlamentar']].drop_duplicates().copy()\n",
        "dados_ceap_parlamentar"
      ]
    },
    {
      "cell_type": "code",
      "source": [
        "dados_ceap_parlamentarcount = dados_ceap_parlamentar.groupby(['UF']).count().sort_values(['NomeParlamentar'], ascending=False)\n",
        "dados_ceap_parlamentarcount "
      ],
      "metadata": {
        "id": "vveo5-MEYK-1"
      },
      "execution_count": null,
      "outputs": []
    },
    {
      "cell_type": "code",
      "source": [
        "sns.set(rc={'figure.figsize': (11.7, 8.27)})\n",
        "sns.barplot(y=dados_ceap_parlamentarcount.index, x=\"NomeParlamentar\" ,data=dados_ceap_parlamentarcount)"
      ],
      "metadata": {
        "id": "PGmTZOzanBm0"
      },
      "execution_count": null,
      "outputs": []
    },
    {
      "cell_type": "markdown",
      "source": [
        "As unidades federativas que mais possuem parlamentares são: \n",
        "- SP\n",
        "- RJ\n",
        "- MG\n",
        "- BA\n",
        "- RS\n"
      ],
      "metadata": {
        "id": "tgV9sPmQLDDS"
      }
    },
    {
      "cell_type": "markdown",
      "metadata": {
        "id": "r8RAr1Z8A_22"
      },
      "source": [
        "## **Questão 9**\n",
        "\n",
        ">###  Há alguma correlação entre a quantidade de parlamentares por estado e o valor total dos gastos?"
      ]
    },
    {
      "cell_type": "markdown",
      "metadata": {
        "id": "U6yW60AWjbNh"
      },
      "source": [
        "Estrutura de desenvolvimento sugerida:\n",
        "\n",
        "- UF, utilizar a variavel da questao 8 de count por UF, total de gastos\n",
        "- calculo da correlação"
      ]
    },
    {
      "cell_type": "code",
      "source": [
        "dadosParlamentar_ceap = dados_ceap_parlamentarcount.copy()"
      ],
      "metadata": {
        "id": "w3FrJiDvYX7N"
      },
      "execution_count": null,
      "outputs": []
    },
    {
      "cell_type": "code",
      "source": [
        "valorLiquidoTotalUf = dados_ceap_valoruf.copy()"
      ],
      "metadata": {
        "id": "mEUHWK3AYaY1"
      },
      "execution_count": null,
      "outputs": []
    },
    {
      "cell_type": "code",
      "source": [
        "corr_gasto_parlamentar_uf = dadosParlamentar_ceap.merge(valorLiquidoTotalUf, how='inner', left_on='UF', right_on='UF')\n",
        "corr_gasto_parlamentar_uf"
      ],
      "metadata": {
        "id": "XKMgRudrYa-5"
      },
      "execution_count": null,
      "outputs": []
    },
    {
      "cell_type": "code",
      "source": [
        "corr_gasto_parlamentar_uf.corr()"
      ],
      "metadata": {
        "id": "ito9kWH-YfT6"
      },
      "execution_count": null,
      "outputs": []
    },
    {
      "cell_type": "markdown",
      "source": [
        "A correlação entre quantidade de parlamentares por estados é proporcional aos valores líquidos abatidos das cotas mensais.\n",
        "\n",
        "É interessante observar que esse cálculo se faz necessário dentro do contexto, pois a distancia entre eles demonstraria uma possível alerta de fraude onde as despesas não estariam sendo apresentadas de forma correta."
      ],
      "metadata": {
        "id": "LOGCBLkOYf0l"
      }
    },
    {
      "cell_type": "code",
      "source": [
        "# corr_gasto_parlamentar_uf.plot.scatter(x='NomeParlamentar',y='ValorLiquido', c='Red')\n",
        "sns.regplot(corr_gasto_parlamentar_uf['NomeParlamentar'], corr_gasto_parlamentar_uf['ValorLiquido'] )"
      ],
      "metadata": {
        "id": "02nPN3aeCVZo"
      },
      "execution_count": null,
      "outputs": []
    },
    {
      "cell_type": "markdown",
      "metadata": {
        "id": "JKgKeDYLBF3u"
      },
      "source": [
        "## **Questão 10** \n",
        "\n",
        ">### Qual a média de gastos por partido?\n"
      ]
    },
    {
      "cell_type": "markdown",
      "metadata": {
        "id": "dRws6ymR5itw"
      },
      "source": [
        "- Selecionei as colunas `'Partido'` e `'Valor Líquido'` do Dataset original;\n",
        "\n",
        "- Para calcular a média dos valores utilizei a função `.mean()` agrupando o resultado por Partido com o `.groupby()` ;\n",
        "\n",
        "- Com o método `.sort_values()` ordenei pelos valores da coluna `'Valor Liquido', de forma decrescente `(ascending = False)`;\n",
        "\n",
        "- E com a função `.round()` fiz o arredondadento dos valores para duas casas decimais."
      ]
    },
    {
      "cell_type": "code",
      "source": [
        "media_gasto_partido_total= dados_ceap[['Partido','ValorLiquido']].groupby('Partido').mean().sort_values('ValorLiquido', ascending=False).round(2).reset_index()\n",
        "media_gasto_partido_total.head()"
      ],
      "metadata": {
        "id": "JG518C8N_tYY",
        "colab": {
          "base_uri": "https://localhost:8080/",
          "height": 206
        },
        "outputId": "3e503956-8982-404b-c102-40929acfa650"
      },
      "execution_count": null,
      "outputs": [
        {
          "output_type": "execute_result",
          "data": {
            "text/plain": [
              "   Partido  ValorLiquido\n",
              "0      PPL       2246.29\n",
              "1  S.PART.       1614.39\n",
              "2      PHS       1295.36\n",
              "3      PRB       1169.67\n",
              "4     REDE       1151.66"
            ],
            "text/html": [
              "\n",
              "  <div id=\"df-20b02383-f8f2-4015-b4c3-8b2f6cc0e63a\">\n",
              "    <div class=\"colab-df-container\">\n",
              "      <div>\n",
              "<style scoped>\n",
              "    .dataframe tbody tr th:only-of-type {\n",
              "        vertical-align: middle;\n",
              "    }\n",
              "\n",
              "    .dataframe tbody tr th {\n",
              "        vertical-align: top;\n",
              "    }\n",
              "\n",
              "    .dataframe thead th {\n",
              "        text-align: right;\n",
              "    }\n",
              "</style>\n",
              "<table border=\"1\" class=\"dataframe\">\n",
              "  <thead>\n",
              "    <tr style=\"text-align: right;\">\n",
              "      <th></th>\n",
              "      <th>Partido</th>\n",
              "      <th>ValorLiquido</th>\n",
              "    </tr>\n",
              "  </thead>\n",
              "  <tbody>\n",
              "    <tr>\n",
              "      <th>0</th>\n",
              "      <td>PPL</td>\n",
              "      <td>2246.29</td>\n",
              "    </tr>\n",
              "    <tr>\n",
              "      <th>1</th>\n",
              "      <td>S.PART.</td>\n",
              "      <td>1614.39</td>\n",
              "    </tr>\n",
              "    <tr>\n",
              "      <th>2</th>\n",
              "      <td>PHS</td>\n",
              "      <td>1295.36</td>\n",
              "    </tr>\n",
              "    <tr>\n",
              "      <th>3</th>\n",
              "      <td>PRB</td>\n",
              "      <td>1169.67</td>\n",
              "    </tr>\n",
              "    <tr>\n",
              "      <th>4</th>\n",
              "      <td>REDE</td>\n",
              "      <td>1151.66</td>\n",
              "    </tr>\n",
              "  </tbody>\n",
              "</table>\n",
              "</div>\n",
              "      <button class=\"colab-df-convert\" onclick=\"convertToInteractive('df-20b02383-f8f2-4015-b4c3-8b2f6cc0e63a')\"\n",
              "              title=\"Convert this dataframe to an interactive table.\"\n",
              "              style=\"display:none;\">\n",
              "        \n",
              "  <svg xmlns=\"http://www.w3.org/2000/svg\" height=\"24px\"viewBox=\"0 0 24 24\"\n",
              "       width=\"24px\">\n",
              "    <path d=\"M0 0h24v24H0V0z\" fill=\"none\"/>\n",
              "    <path d=\"M18.56 5.44l.94 2.06.94-2.06 2.06-.94-2.06-.94-.94-2.06-.94 2.06-2.06.94zm-11 1L8.5 8.5l.94-2.06 2.06-.94-2.06-.94L8.5 2.5l-.94 2.06-2.06.94zm10 10l.94 2.06.94-2.06 2.06-.94-2.06-.94-.94-2.06-.94 2.06-2.06.94z\"/><path d=\"M17.41 7.96l-1.37-1.37c-.4-.4-.92-.59-1.43-.59-.52 0-1.04.2-1.43.59L10.3 9.45l-7.72 7.72c-.78.78-.78 2.05 0 2.83L4 21.41c.39.39.9.59 1.41.59.51 0 1.02-.2 1.41-.59l7.78-7.78 2.81-2.81c.8-.78.8-2.07 0-2.86zM5.41 20L4 18.59l7.72-7.72 1.47 1.35L5.41 20z\"/>\n",
              "  </svg>\n",
              "      </button>\n",
              "      \n",
              "  <style>\n",
              "    .colab-df-container {\n",
              "      display:flex;\n",
              "      flex-wrap:wrap;\n",
              "      gap: 12px;\n",
              "    }\n",
              "\n",
              "    .colab-df-convert {\n",
              "      background-color: #E8F0FE;\n",
              "      border: none;\n",
              "      border-radius: 50%;\n",
              "      cursor: pointer;\n",
              "      display: none;\n",
              "      fill: #1967D2;\n",
              "      height: 32px;\n",
              "      padding: 0 0 0 0;\n",
              "      width: 32px;\n",
              "    }\n",
              "\n",
              "    .colab-df-convert:hover {\n",
              "      background-color: #E2EBFA;\n",
              "      box-shadow: 0px 1px 2px rgba(60, 64, 67, 0.3), 0px 1px 3px 1px rgba(60, 64, 67, 0.15);\n",
              "      fill: #174EA6;\n",
              "    }\n",
              "\n",
              "    [theme=dark] .colab-df-convert {\n",
              "      background-color: #3B4455;\n",
              "      fill: #D2E3FC;\n",
              "    }\n",
              "\n",
              "    [theme=dark] .colab-df-convert:hover {\n",
              "      background-color: #434B5C;\n",
              "      box-shadow: 0px 1px 3px 1px rgba(0, 0, 0, 0.15);\n",
              "      filter: drop-shadow(0px 1px 2px rgba(0, 0, 0, 0.3));\n",
              "      fill: #FFFFFF;\n",
              "    }\n",
              "  </style>\n",
              "\n",
              "      <script>\n",
              "        const buttonEl =\n",
              "          document.querySelector('#df-20b02383-f8f2-4015-b4c3-8b2f6cc0e63a button.colab-df-convert');\n",
              "        buttonEl.style.display =\n",
              "          google.colab.kernel.accessAllowed ? 'block' : 'none';\n",
              "\n",
              "        async function convertToInteractive(key) {\n",
              "          const element = document.querySelector('#df-20b02383-f8f2-4015-b4c3-8b2f6cc0e63a');\n",
              "          const dataTable =\n",
              "            await google.colab.kernel.invokeFunction('convertToInteractive',\n",
              "                                                     [key], {});\n",
              "          if (!dataTable) return;\n",
              "\n",
              "          const docLinkHtml = 'Like what you see? Visit the ' +\n",
              "            '<a target=\"_blank\" href=https://colab.research.google.com/notebooks/data_table.ipynb>data table notebook</a>'\n",
              "            + ' to learn more about interactive tables.';\n",
              "          element.innerHTML = '';\n",
              "          dataTable['output_type'] = 'display_data';\n",
              "          await google.colab.output.renderOutput(dataTable, element);\n",
              "          const docLink = document.createElement('div');\n",
              "          docLink.innerHTML = docLinkHtml;\n",
              "          element.appendChild(docLink);\n",
              "        }\n",
              "      </script>\n",
              "    </div>\n",
              "  </div>\n",
              "  "
            ]
          },
          "metadata": {},
          "execution_count": 23
        }
      ]
    },
    {
      "cell_type": "markdown",
      "metadata": {
        "id": "dP2XwYKguho6"
      },
      "source": [
        ">Os Partidos que não possuem registro de gastos nos anos de 2020 e 2021 foram incorporados a outros partidos ou tiveram alteração na nomenclatura no ano de 2019 conforme abaixo:\n",
        "\n",
        "- mudança da denominação do Partido da República (PR) para Partido Liberal (PL) em 07/05/2019\n",
        "\n",
        "- Fusão do Partido Humanista da Solidariedade (PHS) ao Podemos em 19/07/2019\n",
        "\n",
        "- a incorporação do Partido Pátria Livre (PPL) ao Partido Comunista do Brasil (PCdoB) em 28/05/2019\n",
        "\n",
        "- mudança do nome do Partido Popular Socialista (PPS) para Cidadania em 19/09/2019\n",
        "\n",
        "- mudança de nome do PRB (Partido Republicano Brasileiro) para Republicanos em 15/08/2019"
      ]
    },
    {
      "cell_type": "code",
      "source": [
        "media_gasto_partido_total.boxplot(vert=False,figsize = (16,8))"
      ],
      "metadata": {
        "id": "ookP6-I9_-g4",
        "colab": {
          "base_uri": "https://localhost:8080/",
          "height": 501
        },
        "outputId": "b8b5f34c-a29c-4705-9674-c11d3685dd4e"
      },
      "execution_count": null,
      "outputs": [
        {
          "output_type": "execute_result",
          "data": {
            "text/plain": [
              "<matplotlib.axes._subplots.AxesSubplot at 0x7fd3a91a4690>"
            ]
          },
          "metadata": {},
          "execution_count": 24
        },
        {
          "output_type": "display_data",
          "data": {
            "text/plain": [
              "<Figure size 1152x576 with 1 Axes>"
            ],
            "image/png": "[encoded data removed]"
          },
          "metadata": {
            "needs_background": "light"
          }
        }
      ]
    },
    {
      "cell_type": "markdown",
      "source": [
        "><font color='orange' style='font-size: 50px;'>**Resultado da Análise**\n",
        "\n",
        "A média geral dos gastos foi de 952,48 reais,com a mediana no valor de 890,46 e apresentou apenas três outliers:\n",
        "\n",
        "- O Partido PPL apresentou a maior média por não haver registro de gastos nos anos de 2020 e 2021 pois foi incorporado  ao Partido Comunista do Brasil (PCdoB) em 28/05/2019.\n",
        "\n",
        "- S.PART também apresentou uma média muito alta pois nesse grupo só há um Parlamentar, o Deputado Federal licenciado Rodrigo Maia.Apesar de ter sido filiado ao Democratas até 13/06/2021, data que antecedeu à sua expulsão do Partido, só há registro de gastos no mês de janeiro de 2019.\n",
        "\n",
        "- O Partido NOVO apresentou a menor média,monstrando que seus Parlamentares vem seguindo a risca um dos príncípios do Partido, a economia de gastos públicos com o uso racional dos recursos públicos.\n",
        "\n",
        "\n"
      ],
      "metadata": {
        "id": "Z6MMATM0Lujy"
      }
    },
    {
      "cell_type": "markdown",
      "metadata": {
        "id": "6esZZN4FBL8s"
      },
      "source": [
        "##**Questão 11** \n",
        "\n",
        ">### Quais são os partidos que mais e que menos consumiram a cota parlamentar?"
      ]
    },
    {
      "cell_type": "markdown",
      "source": [
        "><font color='orange' style='font-size: 50px;'>Cota para o Exercício da Atividade Parlamentar\n",
        "\n",
        "<hr style='border: 2px solid red;'>\n",
        "\n",
        "O valor máximo mensal da cota depende da unidade da federação que o deputado representa. Essa variação ocorre por causa das passagens aéreas e está relacionada ao valor do trecho entre Brasília e o Estado que o deputado representa.\n",
        "\n",
        "\n",
        "|UF    |Cota Mensal  |\n",
        "|------|-------------|\n",
        "|AC|38433,51|\n",
        "|AL|35257,42|\n",
        "|AM|37518,71|\n",
        "|AP|37350,51|\n",
        "|BA|3592,68|\n",
        "|CE|36555,69|\n",
        "|DF|\t26512,46|\n",
        "|ES\t|32226,14|\n",
        "|GO\t|30575,52|\n",
        "|MA\t|36297,29|\n",
        "|MG|\t31079,83|\n",
        "|MS\t|34911,89|\n",
        "|MT|\t33951,91|\n",
        "|PA\t|36362,53|\n",
        "|PB|\t36194,70|\n",
        "|PE\t|35888,36|\n",
        "|PI|\t35281,25|\n",
        "|PR|33472,99|\n",
        "|RJ\t|30793,31|\n",
        "|RN\t|36796,99|\n",
        "|RO\t|37606,87|\n",
        "|RR\t|39277,46|\n",
        "|RS\t|35198,69|\n",
        "|SC\t|34339,20|\n",
        "|SE|\t34564,36|\n",
        "|SP|\t31898,60|\n",
        "|TO\t|34017,00|"
      ],
      "metadata": {
        "id": "ykVojQNgzUAi"
      }
    },
    {
      "cell_type": "markdown",
      "metadata": {
        "id": "V4bspS-S3No5"
      },
      "source": [
        "### 1 - **Criando o Primeiro Dataframe Auxiliar** : <font color='orange' style='font-size: 50px;'>Valor da Cota por Estado\n",
        "\n"
      ]
    },
    {
      "cell_type": "markdown",
      "source": [
        "- criei uma planilha no excel com os valores das cotas e seus respectivos Estados;\n",
        "- Utilizando `pd.read_excel` fiz a leitura do arquivo.\n",
        "\n",
        "\n",
        "**OBS.: Os valores são referentes a soma dos três anos, de 2019 até julho de 2021**"
      ],
      "metadata": {
        "id": "prAhV9eAHodg"
      }
    },
    {
      "cell_type": "code",
      "execution_count": null,
      "metadata": {
        "id": "DBRZNP9jTwex",
        "colab": {
          "base_uri": "https://localhost:8080/",
          "height": 237
        },
        "outputId": "1d8b10fb-94a7-4e95-e01b-aa7345a661f6"
      },
      "outputs": [
        {
          "output_type": "execute_result",
          "data": {
            "text/plain": [
              "     TotalCota\n",
              "UF            \n",
              "AC  1383606.26\n",
              "AL  1269267.10\n",
              "AM  1350673.72\n",
              "AP  1344618.18\n",
              "BA  1209336.35"
            ],
            "text/html": [
              "\n",
              "  <div id=\"df-2c349c70-9ebc-4cd1-a9f1-78727a85d791\">\n",
              "    <div class=\"colab-df-container\">\n",
              "      <div>\n",
              "<style scoped>\n",
              "    .dataframe tbody tr th:only-of-type {\n",
              "        vertical-align: middle;\n",
              "    }\n",
              "\n",
              "    .dataframe tbody tr th {\n",
              "        vertical-align: top;\n",
              "    }\n",
              "\n",
              "    .dataframe thead th {\n",
              "        text-align: right;\n",
              "    }\n",
              "</style>\n",
              "<table border=\"1\" class=\"dataframe\">\n",
              "  <thead>\n",
              "    <tr style=\"text-align: right;\">\n",
              "      <th></th>\n",
              "      <th>TotalCota</th>\n",
              "    </tr>\n",
              "    <tr>\n",
              "      <th>UF</th>\n",
              "      <th></th>\n",
              "    </tr>\n",
              "  </thead>\n",
              "  <tbody>\n",
              "    <tr>\n",
              "      <th>AC</th>\n",
              "      <td>1383606.26</td>\n",
              "    </tr>\n",
              "    <tr>\n",
              "      <th>AL</th>\n",
              "      <td>1269267.10</td>\n",
              "    </tr>\n",
              "    <tr>\n",
              "      <th>AM</th>\n",
              "      <td>1350673.72</td>\n",
              "    </tr>\n",
              "    <tr>\n",
              "      <th>AP</th>\n",
              "      <td>1344618.18</td>\n",
              "    </tr>\n",
              "    <tr>\n",
              "      <th>BA</th>\n",
              "      <td>1209336.35</td>\n",
              "    </tr>\n",
              "  </tbody>\n",
              "</table>\n",
              "</div>\n",
              "      <button class=\"colab-df-convert\" onclick=\"convertToInteractive('df-2c349c70-9ebc-4cd1-a9f1-78727a85d791')\"\n",
              "              title=\"Convert this dataframe to an interactive table.\"\n",
              "              style=\"display:none;\">\n",
              "        \n",
              "  <svg xmlns=\"http://www.w3.org/2000/svg\" height=\"24px\"viewBox=\"0 0 24 24\"\n",
              "       width=\"24px\">\n",
              "    <path d=\"M0 0h24v24H0V0z\" fill=\"none\"/>\n",
              "    <path d=\"M18.56 5.44l.94 2.06.94-2.06 2.06-.94-2.06-.94-.94-2.06-.94 2.06-2.06.94zm-11 1L8.5 8.5l.94-2.06 2.06-.94-2.06-.94L8.5 2.5l-.94 2.06-2.06.94zm10 10l.94 2.06.94-2.06 2.06-.94-2.06-.94-.94-2.06-.94 2.06-2.06.94z\"/><path d=\"M17.41 7.96l-1.37-1.37c-.4-.4-.92-.59-1.43-.59-.52 0-1.04.2-1.43.59L10.3 9.45l-7.72 7.72c-.78.78-.78 2.05 0 2.83L4 21.41c.39.39.9.59 1.41.59.51 0 1.02-.2 1.41-.59l7.78-7.78 2.81-2.81c.8-.78.8-2.07 0-2.86zM5.41 20L4 18.59l7.72-7.72 1.47 1.35L5.41 20z\"/>\n",
              "  </svg>\n",
              "      </button>\n",
              "      \n",
              "  <style>\n",
              "    .colab-df-container {\n",
              "      display:flex;\n",
              "      flex-wrap:wrap;\n",
              "      gap: 12px;\n",
              "    }\n",
              "\n",
              "    .colab-df-convert {\n",
              "      background-color: #E8F0FE;\n",
              "      border: none;\n",
              "      border-radius: 50%;\n",
              "      cursor: pointer;\n",
              "      display: none;\n",
              "      fill: #1967D2;\n",
              "      height: 32px;\n",
              "      padding: 0 0 0 0;\n",
              "      width: 32px;\n",
              "    }\n",
              "\n",
              "    .colab-df-convert:hover {\n",
              "      background-color: #E2EBFA;\n",
              "      box-shadow: 0px 1px 2px rgba(60, 64, 67, 0.3), 0px 1px 3px 1px rgba(60, 64, 67, 0.15);\n",
              "      fill: #174EA6;\n",
              "    }\n",
              "\n",
              "    [theme=dark] .colab-df-convert {\n",
              "      background-color: #3B4455;\n",
              "      fill: #D2E3FC;\n",
              "    }\n",
              "\n",
              "    [theme=dark] .colab-df-convert:hover {\n",
              "      background-color: #434B5C;\n",
              "      box-shadow: 0px 1px 3px 1px rgba(0, 0, 0, 0.15);\n",
              "      filter: drop-shadow(0px 1px 2px rgba(0, 0, 0, 0.3));\n",
              "      fill: #FFFFFF;\n",
              "    }\n",
              "  </style>\n",
              "\n",
              "      <script>\n",
              "        const buttonEl =\n",
              "          document.querySelector('#df-2c349c70-9ebc-4cd1-a9f1-78727a85d791 button.colab-df-convert');\n",
              "        buttonEl.style.display =\n",
              "          google.colab.kernel.accessAllowed ? 'block' : 'none';\n",
              "\n",
              "        async function convertToInteractive(key) {\n",
              "          const element = document.querySelector('#df-2c349c70-9ebc-4cd1-a9f1-78727a85d791');\n",
              "          const dataTable =\n",
              "            await google.colab.kernel.invokeFunction('convertToInteractive',\n",
              "                                                     [key], {});\n",
              "          if (!dataTable) return;\n",
              "\n",
              "          const docLinkHtml = 'Like what you see? Visit the ' +\n",
              "            '<a target=\"_blank\" href=https://colab.research.google.com/notebooks/data_table.ipynb>data table notebook</a>'\n",
              "            + ' to learn more about interactive tables.';\n",
              "          element.innerHTML = '';\n",
              "          dataTable['output_type'] = 'display_data';\n",
              "          await google.colab.output.renderOutput(dataTable, element);\n",
              "          const docLink = document.createElement('div');\n",
              "          docLink.innerHTML = docLinkHtml;\n",
              "          element.appendChild(docLink);\n",
              "        }\n",
              "      </script>\n",
              "    </div>\n",
              "  </div>\n",
              "  "
            ]
          },
          "metadata": {},
          "execution_count": 25
        }
      ],
      "source": [
        "cota_total =pd.read_excel('/content/Cota_Total.xlsx', index_col=0) \n",
        "cota_total.head()"
      ]
    },
    {
      "cell_type": "markdown",
      "metadata": {
        "id": "TH9mLSQeQWR2"
      },
      "source": [
        "### 2 -  **Criando o Segundo DataFrame Auxiliar** : <font color='orange' style='font-size: 50px;'>Qtd de Parlamentares por Estado\n",
        " \n",
        "\n"
      ]
    },
    {
      "cell_type": "markdown",
      "source": [
        "- Selecionei as colunas 'UF', 'Partido' e 'NomeParlamentar' do DataFrame original e exclui seus valores duplicados utilizando a função `.drop_duplicates()`;\n",
        "- Fiz o agrupamento `.groupby()` por 'Partido' e 'UF' e a contagem dos Parlamentares  `.count()`;\n",
        "- Os valores foram ordenados `.sort_values()`em ordem decrescente `ascendig=False`;\n",
        "- A coluna 'NomeParlamentar'foi renomeada `.rename()`.\n"
      ],
      "metadata": {
        "id": "249ZeVVRH1gI"
      }
    },
    {
      "cell_type": "code",
      "source": [
        "qtd_parlamentar_aux = dados_ceap[['UF','Partido','NomeParlamentar']].drop_duplicates().copy()\n",
        "qtd_parlamentar = qtd_parlamentar_aux.groupby(['Partido','UF']).count().sort_values('NomeParlamentar',ascending = False).rename(columns={'NomeParlamentar':'Qtd.Parlamentares'})\n",
        "qtd_parlamentar\n"
      ],
      "metadata": {
        "id": "XK-cw6rnCGTC",
        "colab": {
          "base_uri": "https://localhost:8080/"
        },
        "outputId": "1e1f3d3d-9002-488e-9821-7bbc329b74ac"
      },
      "execution_count": null,
      "outputs": [
        {
          "output_type": "execute_result",
          "data": {
            "text/plain": [
              "            Qtd.Parlamentares\n",
              "Partido UF                   \n",
              "PSDB    SP                 15\n",
              "PT      SP                 13\n",
              "PSL     RJ                 13\n",
              "PT      MG                 11\n",
              "PSL     SP                 10\n",
              "...                       ...\n",
              "PPS     PE                  1\n",
              "        PA                  1\n",
              "        MA                  1\n",
              "        GO                  1\n",
              "PRB     PB                  1\n",
              "\n",
              "[423 rows x 1 columns]"
            ],
            "text/html": [
              "\n",
              "  <div id=\"df-d2197026-f995-48f8-8038-f5d244dc9ac4\">\n",
              "    <div class=\"colab-df-container\">\n",
              "      <div>\n",
              "<style scoped>\n",
              "    .dataframe tbody tr th:only-of-type {\n",
              "        vertical-align: middle;\n",
              "    }\n",
              "\n",
              "    .dataframe tbody tr th {\n",
              "        vertical-align: top;\n",
              "    }\n",
              "\n",
              "    .dataframe thead th {\n",
              "        text-align: right;\n",
              "    }\n",
              "</style>\n",
              "<table border=\"1\" class=\"dataframe\">\n",
              "  <thead>\n",
              "    <tr style=\"text-align: right;\">\n",
              "      <th></th>\n",
              "      <th></th>\n",
              "      <th>Qtd.Parlamentares</th>\n",
              "    </tr>\n",
              "    <tr>\n",
              "      <th>Partido</th>\n",
              "      <th>UF</th>\n",
              "      <th></th>\n",
              "    </tr>\n",
              "  </thead>\n",
              "  <tbody>\n",
              "    <tr>\n",
              "      <th>PSDB</th>\n",
              "      <th>SP</th>\n",
              "      <td>15</td>\n",
              "    </tr>\n",
              "    <tr>\n",
              "      <th>PT</th>\n",
              "      <th>SP</th>\n",
              "      <td>13</td>\n",
              "    </tr>\n",
              "    <tr>\n",
              "      <th>PSL</th>\n",
              "      <th>RJ</th>\n",
              "      <td>13</td>\n",
              "    </tr>\n",
              "    <tr>\n",
              "      <th>PT</th>\n",
              "      <th>MG</th>\n",
              "      <td>11</td>\n",
              "    </tr>\n",
              "    <tr>\n",
              "      <th>PSL</th>\n",
              "      <th>SP</th>\n",
              "      <td>10</td>\n",
              "    </tr>\n",
              "    <tr>\n",
              "      <th>...</th>\n",
              "      <th>...</th>\n",
              "      <td>...</td>\n",
              "    </tr>\n",
              "    <tr>\n",
              "      <th rowspan=\"4\" valign=\"top\">PPS</th>\n",
              "      <th>PE</th>\n",
              "      <td>1</td>\n",
              "    </tr>\n",
              "    <tr>\n",
              "      <th>PA</th>\n",
              "      <td>1</td>\n",
              "    </tr>\n",
              "    <tr>\n",
              "      <th>MA</th>\n",
              "      <td>1</td>\n",
              "    </tr>\n",
              "    <tr>\n",
              "      <th>GO</th>\n",
              "      <td>1</td>\n",
              "    </tr>\n",
              "    <tr>\n",
              "      <th>PRB</th>\n",
              "      <th>PB</th>\n",
              "      <td>1</td>\n",
              "    </tr>\n",
              "  </tbody>\n",
              "</table>\n",
              "<p>423 rows × 1 columns</p>\n",
              "</div>\n",
              "      <button class=\"colab-df-convert\" onclick=\"convertToInteractive('df-d2197026-f995-48f8-8038-f5d244dc9ac4')\"\n",
              "              title=\"Convert this dataframe to an interactive table.\"\n",
              "              style=\"display:none;\">\n",
              "        \n",
              "  <svg xmlns=\"http://www.w3.org/2000/svg\" height=\"24px\"viewBox=\"0 0 24 24\"\n",
              "       width=\"24px\">\n",
              "    <path d=\"M0 0h24v24H0V0z\" fill=\"none\"/>\n",
              "    <path d=\"M18.56 5.44l.94 2.06.94-2.06 2.06-.94-2.06-.94-.94-2.06-.94 2.06-2.06.94zm-11 1L8.5 8.5l.94-2.06 2.06-.94-2.06-.94L8.5 2.5l-.94 2.06-2.06.94zm10 10l.94 2.06.94-2.06 2.06-.94-2.06-.94-.94-2.06-.94 2.06-2.06.94z\"/><path d=\"M17.41 7.96l-1.37-1.37c-.4-.4-.92-.59-1.43-.59-.52 0-1.04.2-1.43.59L10.3 9.45l-7.72 7.72c-.78.78-.78 2.05 0 2.83L4 21.41c.39.39.9.59 1.41.59.51 0 1.02-.2 1.41-.59l7.78-7.78 2.81-2.81c.8-.78.8-2.07 0-2.86zM5.41 20L4 18.59l7.72-7.72 1.47 1.35L5.41 20z\"/>\n",
              "  </svg>\n",
              "      </button>\n",
              "      \n",
              "  <style>\n",
              "    .colab-df-container {\n",
              "      display:flex;\n",
              "      flex-wrap:wrap;\n",
              "      gap: 12px;\n",
              "    }\n",
              "\n",
              "    .colab-df-convert {\n",
              "      background-color: #E8F0FE;\n",
              "      border: none;\n",
              "      border-radius: 50%;\n",
              "      cursor: pointer;\n",
              "      display: none;\n",
              "      fill: #1967D2;\n",
              "      height: 32px;\n",
              "      padding: 0 0 0 0;\n",
              "      width: 32px;\n",
              "    }\n",
              "\n",
              "    .colab-df-convert:hover {\n",
              "      background-color: #E2EBFA;\n",
              "      box-shadow: 0px 1px 2px rgba(60, 64, 67, 0.3), 0px 1px 3px 1px rgba(60, 64, 67, 0.15);\n",
              "      fill: #174EA6;\n",
              "    }\n",
              "\n",
              "    [theme=dark] .colab-df-convert {\n",
              "      background-color: #3B4455;\n",
              "      fill: #D2E3FC;\n",
              "    }\n",
              "\n",
              "    [theme=dark] .colab-df-convert:hover {\n",
              "      background-color: #434B5C;\n",
              "      box-shadow: 0px 1px 3px 1px rgba(0, 0, 0, 0.15);\n",
              "      filter: drop-shadow(0px 1px 2px rgba(0, 0, 0, 0.3));\n",
              "      fill: #FFFFFF;\n",
              "    }\n",
              "  </style>\n",
              "\n",
              "      <script>\n",
              "        const buttonEl =\n",
              "          document.querySelector('#df-d2197026-f995-48f8-8038-f5d244dc9ac4 button.colab-df-convert');\n",
              "        buttonEl.style.display =\n",
              "          google.colab.kernel.accessAllowed ? 'block' : 'none';\n",
              "\n",
              "        async function convertToInteractive(key) {\n",
              "          const element = document.querySelector('#df-d2197026-f995-48f8-8038-f5d244dc9ac4');\n",
              "          const dataTable =\n",
              "            await google.colab.kernel.invokeFunction('convertToInteractive',\n",
              "                                                     [key], {});\n",
              "          if (!dataTable) return;\n",
              "\n",
              "          const docLinkHtml = 'Like what you see? Visit the ' +\n",
              "            '<a target=\"_blank\" href=https://colab.research.google.com/notebooks/data_table.ipynb>data table notebook</a>'\n",
              "            + ' to learn more about interactive tables.';\n",
              "          element.innerHTML = '';\n",
              "          dataTable['output_type'] = 'display_data';\n",
              "          await google.colab.output.renderOutput(dataTable, element);\n",
              "          const docLink = document.createElement('div');\n",
              "          docLink.innerHTML = docLinkHtml;\n",
              "          element.appendChild(docLink);\n",
              "        }\n",
              "      </script>\n",
              "    </div>\n",
              "  </div>\n",
              "  "
            ]
          },
          "metadata": {},
          "execution_count": 26
        }
      ]
    },
    {
      "cell_type": "markdown",
      "source": [
        "### 3 - **Terceiro DataFrame Auxiliar** : <font color='orange' style='font-size: 50px;'>Junção do Primeiro com o Segundo Dataframe Auxiliares\n"
      ],
      "metadata": {
        "id": "r09d8IJjXy9H"
      }
    },
    {
      "cell_type": "markdown",
      "source": [
        "- A junção dos dois primeiros Dataframes foi feita através da função `.join()`"
      ],
      "metadata": {
        "id": "FKNkAkCCH8-K"
      }
    },
    {
      "cell_type": "code",
      "execution_count": null,
      "metadata": {
        "id": "loyDGi69KiG1",
        "colab": {
          "base_uri": "https://localhost:8080/"
        },
        "outputId": "1206ccc8-6ef6-41af-da4f-e5dc8f356536"
      },
      "outputs": [
        {
          "output_type": "execute_result",
          "data": {
            "text/plain": [
              "             TotalCota  Qtd.Parlamentares\n",
              "Partido UF                               \n",
              "PSDB    SP  1148349.43                 15\n",
              "PT      SP  1148349.43                 13\n",
              "PSL     RJ  1108559.07                 13\n",
              "PT      MG  1118874.01                 11\n",
              "PSL     SP  1148349.43                 10"
            ],
            "text/html": [
              "\n",
              "  <div id=\"df-0ba5415a-d726-4691-9076-1d06e6fb652d\">\n",
              "    <div class=\"colab-df-container\">\n",
              "      <div>\n",
              "<style scoped>\n",
              "    .dataframe tbody tr th:only-of-type {\n",
              "        vertical-align: middle;\n",
              "    }\n",
              "\n",
              "    .dataframe tbody tr th {\n",
              "        vertical-align: top;\n",
              "    }\n",
              "\n",
              "    .dataframe thead th {\n",
              "        text-align: right;\n",
              "    }\n",
              "</style>\n",
              "<table border=\"1\" class=\"dataframe\">\n",
              "  <thead>\n",
              "    <tr style=\"text-align: right;\">\n",
              "      <th></th>\n",
              "      <th></th>\n",
              "      <th>TotalCota</th>\n",
              "      <th>Qtd.Parlamentares</th>\n",
              "    </tr>\n",
              "    <tr>\n",
              "      <th>Partido</th>\n",
              "      <th>UF</th>\n",
              "      <th></th>\n",
              "      <th></th>\n",
              "    </tr>\n",
              "  </thead>\n",
              "  <tbody>\n",
              "    <tr>\n",
              "      <th>PSDB</th>\n",
              "      <th>SP</th>\n",
              "      <td>1148349.43</td>\n",
              "      <td>15</td>\n",
              "    </tr>\n",
              "    <tr>\n",
              "      <th>PT</th>\n",
              "      <th>SP</th>\n",
              "      <td>1148349.43</td>\n",
              "      <td>13</td>\n",
              "    </tr>\n",
              "    <tr>\n",
              "      <th>PSL</th>\n",
              "      <th>RJ</th>\n",
              "      <td>1108559.07</td>\n",
              "      <td>13</td>\n",
              "    </tr>\n",
              "    <tr>\n",
              "      <th>PT</th>\n",
              "      <th>MG</th>\n",
              "      <td>1118874.01</td>\n",
              "      <td>11</td>\n",
              "    </tr>\n",
              "    <tr>\n",
              "      <th>PSL</th>\n",
              "      <th>SP</th>\n",
              "      <td>1148349.43</td>\n",
              "      <td>10</td>\n",
              "    </tr>\n",
              "  </tbody>\n",
              "</table>\n",
              "</div>\n",
              "      <button class=\"colab-df-convert\" onclick=\"convertToInteractive('df-0ba5415a-d726-4691-9076-1d06e6fb652d')\"\n",
              "              title=\"Convert this dataframe to an interactive table.\"\n",
              "              style=\"display:none;\">\n",
              "        \n",
              "  <svg xmlns=\"http://www.w3.org/2000/svg\" height=\"24px\"viewBox=\"0 0 24 24\"\n",
              "       width=\"24px\">\n",
              "    <path d=\"M0 0h24v24H0V0z\" fill=\"none\"/>\n",
              "    <path d=\"M18.56 5.44l.94 2.06.94-2.06 2.06-.94-2.06-.94-.94-2.06-.94 2.06-2.06.94zm-11 1L8.5 8.5l.94-2.06 2.06-.94-2.06-.94L8.5 2.5l-.94 2.06-2.06.94zm10 10l.94 2.06.94-2.06 2.06-.94-2.06-.94-.94-2.06-.94 2.06-2.06.94z\"/><path d=\"M17.41 7.96l-1.37-1.37c-.4-.4-.92-.59-1.43-.59-.52 0-1.04.2-1.43.59L10.3 9.45l-7.72 7.72c-.78.78-.78 2.05 0 2.83L4 21.41c.39.39.9.59 1.41.59.51 0 1.02-.2 1.41-.59l7.78-7.78 2.81-2.81c.8-.78.8-2.07 0-2.86zM5.41 20L4 18.59l7.72-7.72 1.47 1.35L5.41 20z\"/>\n",
              "  </svg>\n",
              "      </button>\n",
              "      \n",
              "  <style>\n",
              "    .colab-df-container {\n",
              "      display:flex;\n",
              "      flex-wrap:wrap;\n",
              "      gap: 12px;\n",
              "    }\n",
              "\n",
              "    .colab-df-convert {\n",
              "      background-color: #E8F0FE;\n",
              "      border: none;\n",
              "      border-radius: 50%;\n",
              "      cursor: pointer;\n",
              "      display: none;\n",
              "      fill: #1967D2;\n",
              "      height: 32px;\n",
              "      padding: 0 0 0 0;\n",
              "      width: 32px;\n",
              "    }\n",
              "\n",
              "    .colab-df-convert:hover {\n",
              "      background-color: #E2EBFA;\n",
              "      box-shadow: 0px 1px 2px rgba(60, 64, 67, 0.3), 0px 1px 3px 1px rgba(60, 64, 67, 0.15);\n",
              "      fill: #174EA6;\n",
              "    }\n",
              "\n",
              "    [theme=dark] .colab-df-convert {\n",
              "      background-color: #3B4455;\n",
              "      fill: #D2E3FC;\n",
              "    }\n",
              "\n",
              "    [theme=dark] .colab-df-convert:hover {\n",
              "      background-color: #434B5C;\n",
              "      box-shadow: 0px 1px 3px 1px rgba(0, 0, 0, 0.15);\n",
              "      filter: drop-shadow(0px 1px 2px rgba(0, 0, 0, 0.3));\n",
              "      fill: #FFFFFF;\n",
              "    }\n",
              "  </style>\n",
              "\n",
              "      <script>\n",
              "        const buttonEl =\n",
              "          document.querySelector('#df-0ba5415a-d726-4691-9076-1d06e6fb652d button.colab-df-convert');\n",
              "        buttonEl.style.display =\n",
              "          google.colab.kernel.accessAllowed ? 'block' : 'none';\n",
              "\n",
              "        async function convertToInteractive(key) {\n",
              "          const element = document.querySelector('#df-0ba5415a-d726-4691-9076-1d06e6fb652d');\n",
              "          const dataTable =\n",
              "            await google.colab.kernel.invokeFunction('convertToInteractive',\n",
              "                                                     [key], {});\n",
              "          if (!dataTable) return;\n",
              "\n",
              "          const docLinkHtml = 'Like what you see? Visit the ' +\n",
              "            '<a target=\"_blank\" href=https://colab.research.google.com/notebooks/data_table.ipynb>data table notebook</a>'\n",
              "            + ' to learn more about interactive tables.';\n",
              "          element.innerHTML = '';\n",
              "          dataTable['output_type'] = 'display_data';\n",
              "          await google.colab.output.renderOutput(dataTable, element);\n",
              "          const docLink = document.createElement('div');\n",
              "          docLink.innerHTML = docLinkHtml;\n",
              "          element.appendChild(docLink);\n",
              "        }\n",
              "      </script>\n",
              "    </div>\n",
              "  </div>\n",
              "  "
            ]
          },
          "metadata": {},
          "execution_count": 27
        }
      ],
      "source": [
        "df_aux=cota_total.join(qtd_parlamentar)\n",
        "df_aux.head()"
      ]
    },
    {
      "cell_type": "markdown",
      "source": [
        "- Criei uma nova coluna `'TotalCotaEstado` onde o valor contido nela será o valor da Cota de cada Estado multiplicado pela quantidade de Parlamentares que o representa;\n",
        "- Fiz a conversão dos valores de notação científica para float `pd.options.display.float_format´` "
      ],
      "metadata": {
        "id": "BpLO09qlY2UL"
      }
    },
    {
      "cell_type": "code",
      "execution_count": null,
      "metadata": {
        "id": "PgR5_3IiLZo4",
        "colab": {
          "base_uri": "https://localhost:8080/"
        },
        "outputId": "229b17de-9bee-4487-e644-9836fd55296d"
      },
      "outputs": [
        {
          "output_type": "execute_result",
          "data": {
            "text/plain": [
              "              TotalCota  Qtd.Parlamentares  TotalCotaEstado\n",
              "Partido UF                                                 \n",
              "PSDB    SP 1,148,349.43                 15    17,225,241.45\n",
              "PT      SP 1,148,349.43                 13    14,928,542.59\n",
              "PSL     RJ 1,108,559.07                 13    14,411,267.91\n",
              "PT      MG 1,118,874.01                 11    12,307,614.11\n",
              "PSL     SP 1,148,349.43                 10    11,483,494.30"
            ],
            "text/html": [
              "\n",
              "  <div id=\"df-e5a5a2f9-267a-4b07-8e30-532926f64795\">\n",
              "    <div class=\"colab-df-container\">\n",
              "      <div>\n",
              "<style scoped>\n",
              "    .dataframe tbody tr th:only-of-type {\n",
              "        vertical-align: middle;\n",
              "    }\n",
              "\n",
              "    .dataframe tbody tr th {\n",
              "        vertical-align: top;\n",
              "    }\n",
              "\n",
              "    .dataframe thead th {\n",
              "        text-align: right;\n",
              "    }\n",
              "</style>\n",
              "<table border=\"1\" class=\"dataframe\">\n",
              "  <thead>\n",
              "    <tr style=\"text-align: right;\">\n",
              "      <th></th>\n",
              "      <th></th>\n",
              "      <th>TotalCota</th>\n",
              "      <th>Qtd.Parlamentares</th>\n",
              "      <th>TotalCotaEstado</th>\n",
              "    </tr>\n",
              "    <tr>\n",
              "      <th>Partido</th>\n",
              "      <th>UF</th>\n",
              "      <th></th>\n",
              "      <th></th>\n",
              "      <th></th>\n",
              "    </tr>\n",
              "  </thead>\n",
              "  <tbody>\n",
              "    <tr>\n",
              "      <th>PSDB</th>\n",
              "      <th>SP</th>\n",
              "      <td>1,148,349.43</td>\n",
              "      <td>15</td>\n",
              "      <td>17,225,241.45</td>\n",
              "    </tr>\n",
              "    <tr>\n",
              "      <th>PT</th>\n",
              "      <th>SP</th>\n",
              "      <td>1,148,349.43</td>\n",
              "      <td>13</td>\n",
              "      <td>14,928,542.59</td>\n",
              "    </tr>\n",
              "    <tr>\n",
              "      <th>PSL</th>\n",
              "      <th>RJ</th>\n",
              "      <td>1,108,559.07</td>\n",
              "      <td>13</td>\n",
              "      <td>14,411,267.91</td>\n",
              "    </tr>\n",
              "    <tr>\n",
              "      <th>PT</th>\n",
              "      <th>MG</th>\n",
              "      <td>1,118,874.01</td>\n",
              "      <td>11</td>\n",
              "      <td>12,307,614.11</td>\n",
              "    </tr>\n",
              "    <tr>\n",
              "      <th>PSL</th>\n",
              "      <th>SP</th>\n",
              "      <td>1,148,349.43</td>\n",
              "      <td>10</td>\n",
              "      <td>11,483,494.30</td>\n",
              "    </tr>\n",
              "  </tbody>\n",
              "</table>\n",
              "</div>\n",
              "      <button class=\"colab-df-convert\" onclick=\"convertToInteractive('df-e5a5a2f9-267a-4b07-8e30-532926f64795')\"\n",
              "              title=\"Convert this dataframe to an interactive table.\"\n",
              "              style=\"display:none;\">\n",
              "        \n",
              "  <svg xmlns=\"http://www.w3.org/2000/svg\" height=\"24px\"viewBox=\"0 0 24 24\"\n",
              "       width=\"24px\">\n",
              "    <path d=\"M0 0h24v24H0V0z\" fill=\"none\"/>\n",
              "    <path d=\"M18.56 5.44l.94 2.06.94-2.06 2.06-.94-2.06-.94-.94-2.06-.94 2.06-2.06.94zm-11 1L8.5 8.5l.94-2.06 2.06-.94-2.06-.94L8.5 2.5l-.94 2.06-2.06.94zm10 10l.94 2.06.94-2.06 2.06-.94-2.06-.94-.94-2.06-.94 2.06-2.06.94z\"/><path d=\"M17.41 7.96l-1.37-1.37c-.4-.4-.92-.59-1.43-.59-.52 0-1.04.2-1.43.59L10.3 9.45l-7.72 7.72c-.78.78-.78 2.05 0 2.83L4 21.41c.39.39.9.59 1.41.59.51 0 1.02-.2 1.41-.59l7.78-7.78 2.81-2.81c.8-.78.8-2.07 0-2.86zM5.41 20L4 18.59l7.72-7.72 1.47 1.35L5.41 20z\"/>\n",
              "  </svg>\n",
              "      </button>\n",
              "      \n",
              "  <style>\n",
              "    .colab-df-container {\n",
              "      display:flex;\n",
              "      flex-wrap:wrap;\n",
              "      gap: 12px;\n",
              "    }\n",
              "\n",
              "    .colab-df-convert {\n",
              "      background-color: #E8F0FE;\n",
              "      border: none;\n",
              "      border-radius: 50%;\n",
              "      cursor: pointer;\n",
              "      display: none;\n",
              "      fill: #1967D2;\n",
              "      height: 32px;\n",
              "      padding: 0 0 0 0;\n",
              "      width: 32px;\n",
              "    }\n",
              "\n",
              "    .colab-df-convert:hover {\n",
              "      background-color: #E2EBFA;\n",
              "      box-shadow: 0px 1px 2px rgba(60, 64, 67, 0.3), 0px 1px 3px 1px rgba(60, 64, 67, 0.15);\n",
              "      fill: #174EA6;\n",
              "    }\n",
              "\n",
              "    [theme=dark] .colab-df-convert {\n",
              "      background-color: #3B4455;\n",
              "      fill: #D2E3FC;\n",
              "    }\n",
              "\n",
              "    [theme=dark] .colab-df-convert:hover {\n",
              "      background-color: #434B5C;\n",
              "      box-shadow: 0px 1px 3px 1px rgba(0, 0, 0, 0.15);\n",
              "      filter: drop-shadow(0px 1px 2px rgba(0, 0, 0, 0.3));\n",
              "      fill: #FFFFFF;\n",
              "    }\n",
              "  </style>\n",
              "\n",
              "      <script>\n",
              "        const buttonEl =\n",
              "          document.querySelector('#df-e5a5a2f9-267a-4b07-8e30-532926f64795 button.colab-df-convert');\n",
              "        buttonEl.style.display =\n",
              "          google.colab.kernel.accessAllowed ? 'block' : 'none';\n",
              "\n",
              "        async function convertToInteractive(key) {\n",
              "          const element = document.querySelector('#df-e5a5a2f9-267a-4b07-8e30-532926f64795');\n",
              "          const dataTable =\n",
              "            await google.colab.kernel.invokeFunction('convertToInteractive',\n",
              "                                                     [key], {});\n",
              "          if (!dataTable) return;\n",
              "\n",
              "          const docLinkHtml = 'Like what you see? Visit the ' +\n",
              "            '<a target=\"_blank\" href=https://colab.research.google.com/notebooks/data_table.ipynb>data table notebook</a>'\n",
              "            + ' to learn more about interactive tables.';\n",
              "          element.innerHTML = '';\n",
              "          dataTable['output_type'] = 'display_data';\n",
              "          await google.colab.output.renderOutput(dataTable, element);\n",
              "          const docLink = document.createElement('div');\n",
              "          docLink.innerHTML = docLinkHtml;\n",
              "          element.appendChild(docLink);\n",
              "        }\n",
              "      </script>\n",
              "    </div>\n",
              "  </div>\n",
              "  "
            ]
          },
          "metadata": {},
          "execution_count": 28
        }
      ],
      "source": [
        "pd.options.display.float_format = '{:,.2f}'.format\n",
        "df_aux['TotalCotaEstado'] = df_aux['TotalCota'] * df_aux['Qtd.Parlamentares']\n",
        "df_aux.head()"
      ]
    },
    {
      "cell_type": "markdown",
      "metadata": {
        "id": "uqd3emuKPE7I"
      },
      "source": [
        "### 4 - **Criando o Quarto DataFrame Auxiliar**: <font color='orange' style='font-size: 50px;'>Total de gastos por Partido\n",
        "\n",
        "\n",
        "\n"
      ]
    },
    {
      "cell_type": "markdown",
      "source": [
        "- Criei um Dataframe com três colunas selecionadas do Dataframe original , fiz uma cópia pra que o Dataset original não fosse alterado.\n",
        "\n",
        "- Utilizei `groupby()` para fazer o agrupamento da nova tabela por Partido e UF usei a função `.sum()` para somar os valores gastos;\n",
        "\n",
        "**OBS: Foram considerados os valores até julho de 2021**"
      ],
      "metadata": {
        "id": "zgUcVGpgIB3f"
      }
    },
    {
      "cell_type": "code",
      "execution_count": null,
      "metadata": {
        "id": "79VKO1KQdt1m",
        "colab": {
          "base_uri": "https://localhost:8080/",
          "height": 455
        },
        "outputId": "4a8e00cf-4f58-44f0-ad61-756629200631"
      },
      "outputs": [
        {
          "output_type": "execute_result",
          "data": {
            "text/plain": [
              "                  ValorLiquido\n",
              "Partido       UF              \n",
              "AVANTE        AL     38,165.41\n",
              "              AP    487,753.05\n",
              "              BA    916,318.74\n",
              "              CE     24,793.92\n",
              "              MG  1,074,292.28\n",
              "...                        ...\n",
              "SOLIDARIEDADE RJ    427,529.97\n",
              "              RR    468,803.62\n",
              "              SE    754,771.76\n",
              "              SP    436,608.52\n",
              "              TO  1,162,315.72\n",
              "\n",
              "[423 rows x 1 columns]"
            ],
            "text/html": [
              "\n",
              "  <div id=\"df-3fc81602-7566-4c15-bd01-b2164b52c82b\">\n",
              "    <div class=\"colab-df-container\">\n",
              "      <div>\n",
              "<style scoped>\n",
              "    .dataframe tbody tr th:only-of-type {\n",
              "        vertical-align: middle;\n",
              "    }\n",
              "\n",
              "    .dataframe tbody tr th {\n",
              "        vertical-align: top;\n",
              "    }\n",
              "\n",
              "    .dataframe thead th {\n",
              "        text-align: right;\n",
              "    }\n",
              "</style>\n",
              "<table border=\"1\" class=\"dataframe\">\n",
              "  <thead>\n",
              "    <tr style=\"text-align: right;\">\n",
              "      <th></th>\n",
              "      <th></th>\n",
              "      <th>ValorLiquido</th>\n",
              "    </tr>\n",
              "    <tr>\n",
              "      <th>Partido</th>\n",
              "      <th>UF</th>\n",
              "      <th></th>\n",
              "    </tr>\n",
              "  </thead>\n",
              "  <tbody>\n",
              "    <tr>\n",
              "      <th rowspan=\"5\" valign=\"top\">AVANTE</th>\n",
              "      <th>AL</th>\n",
              "      <td>38,165.41</td>\n",
              "    </tr>\n",
              "    <tr>\n",
              "      <th>AP</th>\n",
              "      <td>487,753.05</td>\n",
              "    </tr>\n",
              "    <tr>\n",
              "      <th>BA</th>\n",
              "      <td>916,318.74</td>\n",
              "    </tr>\n",
              "    <tr>\n",
              "      <th>CE</th>\n",
              "      <td>24,793.92</td>\n",
              "    </tr>\n",
              "    <tr>\n",
              "      <th>MG</th>\n",
              "      <td>1,074,292.28</td>\n",
              "    </tr>\n",
              "    <tr>\n",
              "      <th>...</th>\n",
              "      <th>...</th>\n",
              "      <td>...</td>\n",
              "    </tr>\n",
              "    <tr>\n",
              "      <th rowspan=\"5\" valign=\"top\">SOLIDARIEDADE</th>\n",
              "      <th>RJ</th>\n",
              "      <td>427,529.97</td>\n",
              "    </tr>\n",
              "    <tr>\n",
              "      <th>RR</th>\n",
              "      <td>468,803.62</td>\n",
              "    </tr>\n",
              "    <tr>\n",
              "      <th>SE</th>\n",
              "      <td>754,771.76</td>\n",
              "    </tr>\n",
              "    <tr>\n",
              "      <th>SP</th>\n",
              "      <td>436,608.52</td>\n",
              "    </tr>\n",
              "    <tr>\n",
              "      <th>TO</th>\n",
              "      <td>1,162,315.72</td>\n",
              "    </tr>\n",
              "  </tbody>\n",
              "</table>\n",
              "<p>423 rows × 1 columns</p>\n",
              "</div>\n",
              "      <button class=\"colab-df-convert\" onclick=\"convertToInteractive('df-3fc81602-7566-4c15-bd01-b2164b52c82b')\"\n",
              "              title=\"Convert this dataframe to an interactive table.\"\n",
              "              style=\"display:none;\">\n",
              "        \n",
              "  <svg xmlns=\"http://www.w3.org/2000/svg\" height=\"24px\"viewBox=\"0 0 24 24\"\n",
              "       width=\"24px\">\n",
              "    <path d=\"M0 0h24v24H0V0z\" fill=\"none\"/>\n",
              "    <path d=\"M18.56 5.44l.94 2.06.94-2.06 2.06-.94-2.06-.94-.94-2.06-.94 2.06-2.06.94zm-11 1L8.5 8.5l.94-2.06 2.06-.94-2.06-.94L8.5 2.5l-.94 2.06-2.06.94zm10 10l.94 2.06.94-2.06 2.06-.94-2.06-.94-.94-2.06-.94 2.06-2.06.94z\"/><path d=\"M17.41 7.96l-1.37-1.37c-.4-.4-.92-.59-1.43-.59-.52 0-1.04.2-1.43.59L10.3 9.45l-7.72 7.72c-.78.78-.78 2.05 0 2.83L4 21.41c.39.39.9.59 1.41.59.51 0 1.02-.2 1.41-.59l7.78-7.78 2.81-2.81c.8-.78.8-2.07 0-2.86zM5.41 20L4 18.59l7.72-7.72 1.47 1.35L5.41 20z\"/>\n",
              "  </svg>\n",
              "      </button>\n",
              "      \n",
              "  <style>\n",
              "    .colab-df-container {\n",
              "      display:flex;\n",
              "      flex-wrap:wrap;\n",
              "      gap: 12px;\n",
              "    }\n",
              "\n",
              "    .colab-df-convert {\n",
              "      background-color: #E8F0FE;\n",
              "      border: none;\n",
              "      border-radius: 50%;\n",
              "      cursor: pointer;\n",
              "      display: none;\n",
              "      fill: #1967D2;\n",
              "      height: 32px;\n",
              "      padding: 0 0 0 0;\n",
              "      width: 32px;\n",
              "    }\n",
              "\n",
              "    .colab-df-convert:hover {\n",
              "      background-color: #E2EBFA;\n",
              "      box-shadow: 0px 1px 2px rgba(60, 64, 67, 0.3), 0px 1px 3px 1px rgba(60, 64, 67, 0.15);\n",
              "      fill: #174EA6;\n",
              "    }\n",
              "\n",
              "    [theme=dark] .colab-df-convert {\n",
              "      background-color: #3B4455;\n",
              "      fill: #D2E3FC;\n",
              "    }\n",
              "\n",
              "    [theme=dark] .colab-df-convert:hover {\n",
              "      background-color: #434B5C;\n",
              "      box-shadow: 0px 1px 3px 1px rgba(0, 0, 0, 0.15);\n",
              "      filter: drop-shadow(0px 1px 2px rgba(0, 0, 0, 0.3));\n",
              "      fill: #FFFFFF;\n",
              "    }\n",
              "  </style>\n",
              "\n",
              "      <script>\n",
              "        const buttonEl =\n",
              "          document.querySelector('#df-3fc81602-7566-4c15-bd01-b2164b52c82b button.colab-df-convert');\n",
              "        buttonEl.style.display =\n",
              "          google.colab.kernel.accessAllowed ? 'block' : 'none';\n",
              "\n",
              "        async function convertToInteractive(key) {\n",
              "          const element = document.querySelector('#df-3fc81602-7566-4c15-bd01-b2164b52c82b');\n",
              "          const dataTable =\n",
              "            await google.colab.kernel.invokeFunction('convertToInteractive',\n",
              "                                                     [key], {});\n",
              "          if (!dataTable) return;\n",
              "\n",
              "          const docLinkHtml = 'Like what you see? Visit the ' +\n",
              "            '<a target=\"_blank\" href=https://colab.research.google.com/notebooks/data_table.ipynb>data table notebook</a>'\n",
              "            + ' to learn more about interactive tables.';\n",
              "          element.innerHTML = '';\n",
              "          dataTable['output_type'] = 'display_data';\n",
              "          await google.colab.output.renderOutput(dataTable, element);\n",
              "          const docLink = document.createElement('div');\n",
              "          docLink.innerHTML = docLinkHtml;\n",
              "          element.appendChild(docLink);\n",
              "        }\n",
              "      </script>\n",
              "    </div>\n",
              "  </div>\n",
              "  "
            ]
          },
          "metadata": {},
          "execution_count": 29
        }
      ],
      "source": [
        "gasto_partido_total_aux = dados_ceap[['Partido','UF','ValorLiquido']].loc[dados_ceap['Mes']<= 7].copy()\n",
        "gasto_partido_total = gasto_partido_total_aux.groupby(['Partido','UF']).sum()\n",
        "gasto_partido_total.fillna(0)"
      ]
    },
    {
      "cell_type": "markdown",
      "source": [
        "###<font color='orange' style='font-size: 50px;'> **DataFrame Consumo da Cota Por Partido**\n",
        "\n",
        "\n"
      ],
      "metadata": {
        "id": "JkPSVkJskDgp"
      }
    },
    {
      "cell_type": "markdown",
      "source": [
        "\n",
        "- Junção do Terceiro e Quarto Dataframe Auxiliar `.join()`"
      ],
      "metadata": {
        "id": "b0BkA8AeGmEQ"
      }
    },
    {
      "cell_type": "code",
      "execution_count": null,
      "metadata": {
        "id": "Gf0R8tdkfIMy",
        "colab": {
          "base_uri": "https://localhost:8080/",
          "height": 455
        },
        "outputId": "8beed276-1302-490a-8b8b-71809a479713"
      },
      "outputs": [
        {
          "output_type": "execute_result",
          "data": {
            "text/plain": [
              "                  ValorLiquido    TotalCota  Qtd.Parlamentares  \\\n",
              "Partido       UF                                                 \n",
              "AVANTE        AL     38,165.41 1,269,267.10                  1   \n",
              "              AP    487,753.05 1,344,618.18                  1   \n",
              "              BA    916,318.74 1,209,336.35                  2   \n",
              "              CE     24,793.92 1,316,004.87                  1   \n",
              "              MG  1,074,292.28 1,118,874.01                  4   \n",
              "...                        ...          ...                ...   \n",
              "SOLIDARIEDADE RJ    427,529.97 1,108,559.07                  1   \n",
              "              RR    468,803.62 1,413,988.43                  1   \n",
              "              SE    754,771.76 1,244,317.06                  1   \n",
              "              SP    436,608.52 1,148,349.43                  1   \n",
              "              TO  1,162,315.72 1,224,611.91                  2   \n",
              "\n",
              "                  TotalCotaEstado  \n",
              "Partido       UF                   \n",
              "AVANTE        AL     1,269,267.10  \n",
              "              AP     1,344,618.18  \n",
              "              BA     2,418,672.70  \n",
              "              CE     1,316,004.87  \n",
              "              MG     4,475,496.04  \n",
              "...                           ...  \n",
              "SOLIDARIEDADE RJ     1,108,559.07  \n",
              "              RR     1,413,988.43  \n",
              "              SE     1,244,317.06  \n",
              "              SP     1,148,349.43  \n",
              "              TO     2,449,223.82  \n",
              "\n",
              "[423 rows x 4 columns]"
            ],
            "text/html": [
              "\n",
              "  <div id=\"df-a4126318-321a-42f6-ab97-bc3a44e83082\">\n",
              "    <div class=\"colab-df-container\">\n",
              "      <div>\n",
              "<style scoped>\n",
              "    .dataframe tbody tr th:only-of-type {\n",
              "        vertical-align: middle;\n",
              "    }\n",
              "\n",
              "    .dataframe tbody tr th {\n",
              "        vertical-align: top;\n",
              "    }\n",
              "\n",
              "    .dataframe thead th {\n",
              "        text-align: right;\n",
              "    }\n",
              "</style>\n",
              "<table border=\"1\" class=\"dataframe\">\n",
              "  <thead>\n",
              "    <tr style=\"text-align: right;\">\n",
              "      <th></th>\n",
              "      <th></th>\n",
              "      <th>ValorLiquido</th>\n",
              "      <th>TotalCota</th>\n",
              "      <th>Qtd.Parlamentares</th>\n",
              "      <th>TotalCotaEstado</th>\n",
              "    </tr>\n",
              "    <tr>\n",
              "      <th>Partido</th>\n",
              "      <th>UF</th>\n",
              "      <th></th>\n",
              "      <th></th>\n",
              "      <th></th>\n",
              "      <th></th>\n",
              "    </tr>\n",
              "  </thead>\n",
              "  <tbody>\n",
              "    <tr>\n",
              "      <th rowspan=\"5\" valign=\"top\">AVANTE</th>\n",
              "      <th>AL</th>\n",
              "      <td>38,165.41</td>\n",
              "      <td>1,269,267.10</td>\n",
              "      <td>1</td>\n",
              "      <td>1,269,267.10</td>\n",
              "    </tr>\n",
              "    <tr>\n",
              "      <th>AP</th>\n",
              "      <td>487,753.05</td>\n",
              "      <td>1,344,618.18</td>\n",
              "      <td>1</td>\n",
              "      <td>1,344,618.18</td>\n",
              "    </tr>\n",
              "    <tr>\n",
              "      <th>BA</th>\n",
              "      <td>916,318.74</td>\n",
              "      <td>1,209,336.35</td>\n",
              "      <td>2</td>\n",
              "      <td>2,418,672.70</td>\n",
              "    </tr>\n",
              "    <tr>\n",
              "      <th>CE</th>\n",
              "      <td>24,793.92</td>\n",
              "      <td>1,316,004.87</td>\n",
              "      <td>1</td>\n",
              "      <td>1,316,004.87</td>\n",
              "    </tr>\n",
              "    <tr>\n",
              "      <th>MG</th>\n",
              "      <td>1,074,292.28</td>\n",
              "      <td>1,118,874.01</td>\n",
              "      <td>4</td>\n",
              "      <td>4,475,496.04</td>\n",
              "    </tr>\n",
              "    <tr>\n",
              "      <th>...</th>\n",
              "      <th>...</th>\n",
              "      <td>...</td>\n",
              "      <td>...</td>\n",
              "      <td>...</td>\n",
              "      <td>...</td>\n",
              "    </tr>\n",
              "    <tr>\n",
              "      <th rowspan=\"5\" valign=\"top\">SOLIDARIEDADE</th>\n",
              "      <th>RJ</th>\n",
              "      <td>427,529.97</td>\n",
              "      <td>1,108,559.07</td>\n",
              "      <td>1</td>\n",
              "      <td>1,108,559.07</td>\n",
              "    </tr>\n",
              "    <tr>\n",
              "      <th>RR</th>\n",
              "      <td>468,803.62</td>\n",
              "      <td>1,413,988.43</td>\n",
              "      <td>1</td>\n",
              "      <td>1,413,988.43</td>\n",
              "    </tr>\n",
              "    <tr>\n",
              "      <th>SE</th>\n",
              "      <td>754,771.76</td>\n",
              "      <td>1,244,317.06</td>\n",
              "      <td>1</td>\n",
              "      <td>1,244,317.06</td>\n",
              "    </tr>\n",
              "    <tr>\n",
              "      <th>SP</th>\n",
              "      <td>436,608.52</td>\n",
              "      <td>1,148,349.43</td>\n",
              "      <td>1</td>\n",
              "      <td>1,148,349.43</td>\n",
              "    </tr>\n",
              "    <tr>\n",
              "      <th>TO</th>\n",
              "      <td>1,162,315.72</td>\n",
              "      <td>1,224,611.91</td>\n",
              "      <td>2</td>\n",
              "      <td>2,449,223.82</td>\n",
              "    </tr>\n",
              "  </tbody>\n",
              "</table>\n",
              "<p>423 rows × 4 columns</p>\n",
              "</div>\n",
              "      <button class=\"colab-df-convert\" onclick=\"convertToInteractive('df-a4126318-321a-42f6-ab97-bc3a44e83082')\"\n",
              "              title=\"Convert this dataframe to an interactive table.\"\n",
              "              style=\"display:none;\">\n",
              "        \n",
              "  <svg xmlns=\"http://www.w3.org/2000/svg\" height=\"24px\"viewBox=\"0 0 24 24\"\n",
              "       width=\"24px\">\n",
              "    <path d=\"M0 0h24v24H0V0z\" fill=\"none\"/>\n",
              "    <path d=\"M18.56 5.44l.94 2.06.94-2.06 2.06-.94-2.06-.94-.94-2.06-.94 2.06-2.06.94zm-11 1L8.5 8.5l.94-2.06 2.06-.94-2.06-.94L8.5 2.5l-.94 2.06-2.06.94zm10 10l.94 2.06.94-2.06 2.06-.94-2.06-.94-.94-2.06-.94 2.06-2.06.94z\"/><path d=\"M17.41 7.96l-1.37-1.37c-.4-.4-.92-.59-1.43-.59-.52 0-1.04.2-1.43.59L10.3 9.45l-7.72 7.72c-.78.78-.78 2.05 0 2.83L4 21.41c.39.39.9.59 1.41.59.51 0 1.02-.2 1.41-.59l7.78-7.78 2.81-2.81c.8-.78.8-2.07 0-2.86zM5.41 20L4 18.59l7.72-7.72 1.47 1.35L5.41 20z\"/>\n",
              "  </svg>\n",
              "      </button>\n",
              "      \n",
              "  <style>\n",
              "    .colab-df-container {\n",
              "      display:flex;\n",
              "      flex-wrap:wrap;\n",
              "      gap: 12px;\n",
              "    }\n",
              "\n",
              "    .colab-df-convert {\n",
              "      background-color: #E8F0FE;\n",
              "      border: none;\n",
              "      border-radius: 50%;\n",
              "      cursor: pointer;\n",
              "      display: none;\n",
              "      fill: #1967D2;\n",
              "      height: 32px;\n",
              "      padding: 0 0 0 0;\n",
              "      width: 32px;\n",
              "    }\n",
              "\n",
              "    .colab-df-convert:hover {\n",
              "      background-color: #E2EBFA;\n",
              "      box-shadow: 0px 1px 2px rgba(60, 64, 67, 0.3), 0px 1px 3px 1px rgba(60, 64, 67, 0.15);\n",
              "      fill: #174EA6;\n",
              "    }\n",
              "\n",
              "    [theme=dark] .colab-df-convert {\n",
              "      background-color: #3B4455;\n",
              "      fill: #D2E3FC;\n",
              "    }\n",
              "\n",
              "    [theme=dark] .colab-df-convert:hover {\n",
              "      background-color: #434B5C;\n",
              "      box-shadow: 0px 1px 3px 1px rgba(0, 0, 0, 0.15);\n",
              "      filter: drop-shadow(0px 1px 2px rgba(0, 0, 0, 0.3));\n",
              "      fill: #FFFFFF;\n",
              "    }\n",
              "  </style>\n",
              "\n",
              "      <script>\n",
              "        const buttonEl =\n",
              "          document.querySelector('#df-a4126318-321a-42f6-ab97-bc3a44e83082 button.colab-df-convert');\n",
              "        buttonEl.style.display =\n",
              "          google.colab.kernel.accessAllowed ? 'block' : 'none';\n",
              "\n",
              "        async function convertToInteractive(key) {\n",
              "          const element = document.querySelector('#df-a4126318-321a-42f6-ab97-bc3a44e83082');\n",
              "          const dataTable =\n",
              "            await google.colab.kernel.invokeFunction('convertToInteractive',\n",
              "                                                     [key], {});\n",
              "          if (!dataTable) return;\n",
              "\n",
              "          const docLinkHtml = 'Like what you see? Visit the ' +\n",
              "            '<a target=\"_blank\" href=https://colab.research.google.com/notebooks/data_table.ipynb>data table notebook</a>'\n",
              "            + ' to learn more about interactive tables.';\n",
              "          element.innerHTML = '';\n",
              "          dataTable['output_type'] = 'display_data';\n",
              "          await google.colab.output.renderOutput(dataTable, element);\n",
              "          const docLink = document.createElement('div');\n",
              "          docLink.innerHTML = docLinkHtml;\n",
              "          element.appendChild(docLink);\n",
              "        }\n",
              "      </script>\n",
              "    </div>\n",
              "  </div>\n",
              "  "
            ]
          },
          "metadata": {},
          "execution_count": 30
        }
      ],
      "source": [
        "df_aux2 =gasto_partido_total.join(df_aux)\n",
        "df_aux2"
      ]
    },
    {
      "cell_type": "markdown",
      "source": [
        "- Selecionei apenas as colunas 'ValorLiquido' e 'ValorEstado' do DataFrame gerado após a junção;\n",
        "- Agrupei o resultado da soma `.sum()`por Partido;\n",
        "- Criei uma nova coluna `Percentual`cujo valor será o percentual do total de gastos do Partido (ValorLiquido) em relação a Cota (TotalCotaEstado)"
      ],
      "metadata": {
        "id": "jWlcAc_hk_H2"
      }
    },
    {
      "cell_type": "code",
      "source": [
        "consumo_cota_partido_aux= df_aux2[['ValorLiquido','TotalCotaEstado']]\n",
        "consumo_cota_partido = consumo_cota_partido_aux.groupby(['Partido']).sum()\n",
        "consumo_cota_partido['Percentual'] = ((consumo_cota_partido['ValorLiquido'] /consumo_cota_partido['TotalCotaEstado']) * 100)\n",
        "consumo_cota_partido.head()"
      ],
      "metadata": {
        "id": "eY5GQx5YFdDH",
        "colab": {
          "base_uri": "https://localhost:8080/",
          "height": 237
        },
        "outputId": "4513b21b-9a5b-469f-8469-865f2115be52"
      },
      "execution_count": null,
      "outputs": [
        {
          "output_type": "execute_result",
          "data": {
            "text/plain": [
              "           ValorLiquido  TotalCotaEstado  Percentual\n",
              "Partido                                             \n",
              "AVANTE     3,808,964.10    15,808,560.36       24.09\n",
              "CIDADANIA  3,376,855.99     9,417,492.79       35.86\n",
              "DEM       16,065,345.49    65,597,656.64       24.49\n",
              "MDB       20,592,354.09    78,640,955.31       26.19\n",
              "NOVO       1,097,705.91     9,294,719.46       11.81"
            ],
            "text/html": [
              "\n",
              "  <div id=\"df-2c18a358-ea96-4db3-a391-580b20a29fa8\">\n",
              "    <div class=\"colab-df-container\">\n",
              "      <div>\n",
              "<style scoped>\n",
              "    .dataframe tbody tr th:only-of-type {\n",
              "        vertical-align: middle;\n",
              "    }\n",
              "\n",
              "    .dataframe tbody tr th {\n",
              "        vertical-align: top;\n",
              "    }\n",
              "\n",
              "    .dataframe thead th {\n",
              "        text-align: right;\n",
              "    }\n",
              "</style>\n",
              "<table border=\"1\" class=\"dataframe\">\n",
              "  <thead>\n",
              "    <tr style=\"text-align: right;\">\n",
              "      <th></th>\n",
              "      <th>ValorLiquido</th>\n",
              "      <th>TotalCotaEstado</th>\n",
              "      <th>Percentual</th>\n",
              "    </tr>\n",
              "    <tr>\n",
              "      <th>Partido</th>\n",
              "      <th></th>\n",
              "      <th></th>\n",
              "      <th></th>\n",
              "    </tr>\n",
              "  </thead>\n",
              "  <tbody>\n",
              "    <tr>\n",
              "      <th>AVANTE</th>\n",
              "      <td>3,808,964.10</td>\n",
              "      <td>15,808,560.36</td>\n",
              "      <td>24.09</td>\n",
              "    </tr>\n",
              "    <tr>\n",
              "      <th>CIDADANIA</th>\n",
              "      <td>3,376,855.99</td>\n",
              "      <td>9,417,492.79</td>\n",
              "      <td>35.86</td>\n",
              "    </tr>\n",
              "    <tr>\n",
              "      <th>DEM</th>\n",
              "      <td>16,065,345.49</td>\n",
              "      <td>65,597,656.64</td>\n",
              "      <td>24.49</td>\n",
              "    </tr>\n",
              "    <tr>\n",
              "      <th>MDB</th>\n",
              "      <td>20,592,354.09</td>\n",
              "      <td>78,640,955.31</td>\n",
              "      <td>26.19</td>\n",
              "    </tr>\n",
              "    <tr>\n",
              "      <th>NOVO</th>\n",
              "      <td>1,097,705.91</td>\n",
              "      <td>9,294,719.46</td>\n",
              "      <td>11.81</td>\n",
              "    </tr>\n",
              "  </tbody>\n",
              "</table>\n",
              "</div>\n",
              "      <button class=\"colab-df-convert\" onclick=\"convertToInteractive('df-2c18a358-ea96-4db3-a391-580b20a29fa8')\"\n",
              "              title=\"Convert this dataframe to an interactive table.\"\n",
              "              style=\"display:none;\">\n",
              "        \n",
              "  <svg xmlns=\"http://www.w3.org/2000/svg\" height=\"24px\"viewBox=\"0 0 24 24\"\n",
              "       width=\"24px\">\n",
              "    <path d=\"M0 0h24v24H0V0z\" fill=\"none\"/>\n",
              "    <path d=\"M18.56 5.44l.94 2.06.94-2.06 2.06-.94-2.06-.94-.94-2.06-.94 2.06-2.06.94zm-11 1L8.5 8.5l.94-2.06 2.06-.94-2.06-.94L8.5 2.5l-.94 2.06-2.06.94zm10 10l.94 2.06.94-2.06 2.06-.94-2.06-.94-.94-2.06-.94 2.06-2.06.94z\"/><path d=\"M17.41 7.96l-1.37-1.37c-.4-.4-.92-.59-1.43-.59-.52 0-1.04.2-1.43.59L10.3 9.45l-7.72 7.72c-.78.78-.78 2.05 0 2.83L4 21.41c.39.39.9.59 1.41.59.51 0 1.02-.2 1.41-.59l7.78-7.78 2.81-2.81c.8-.78.8-2.07 0-2.86zM5.41 20L4 18.59l7.72-7.72 1.47 1.35L5.41 20z\"/>\n",
              "  </svg>\n",
              "      </button>\n",
              "      \n",
              "  <style>\n",
              "    .colab-df-container {\n",
              "      display:flex;\n",
              "      flex-wrap:wrap;\n",
              "      gap: 12px;\n",
              "    }\n",
              "\n",
              "    .colab-df-convert {\n",
              "      background-color: #E8F0FE;\n",
              "      border: none;\n",
              "      border-radius: 50%;\n",
              "      cursor: pointer;\n",
              "      display: none;\n",
              "      fill: #1967D2;\n",
              "      height: 32px;\n",
              "      padding: 0 0 0 0;\n",
              "      width: 32px;\n",
              "    }\n",
              "\n",
              "    .colab-df-convert:hover {\n",
              "      background-color: #E2EBFA;\n",
              "      box-shadow: 0px 1px 2px rgba(60, 64, 67, 0.3), 0px 1px 3px 1px rgba(60, 64, 67, 0.15);\n",
              "      fill: #174EA6;\n",
              "    }\n",
              "\n",
              "    [theme=dark] .colab-df-convert {\n",
              "      background-color: #3B4455;\n",
              "      fill: #D2E3FC;\n",
              "    }\n",
              "\n",
              "    [theme=dark] .colab-df-convert:hover {\n",
              "      background-color: #434B5C;\n",
              "      box-shadow: 0px 1px 3px 1px rgba(0, 0, 0, 0.15);\n",
              "      filter: drop-shadow(0px 1px 2px rgba(0, 0, 0, 0.3));\n",
              "      fill: #FFFFFF;\n",
              "    }\n",
              "  </style>\n",
              "\n",
              "      <script>\n",
              "        const buttonEl =\n",
              "          document.querySelector('#df-2c18a358-ea96-4db3-a391-580b20a29fa8 button.colab-df-convert');\n",
              "        buttonEl.style.display =\n",
              "          google.colab.kernel.accessAllowed ? 'block' : 'none';\n",
              "\n",
              "        async function convertToInteractive(key) {\n",
              "          const element = document.querySelector('#df-2c18a358-ea96-4db3-a391-580b20a29fa8');\n",
              "          const dataTable =\n",
              "            await google.colab.kernel.invokeFunction('convertToInteractive',\n",
              "                                                     [key], {});\n",
              "          if (!dataTable) return;\n",
              "\n",
              "          const docLinkHtml = 'Like what you see? Visit the ' +\n",
              "            '<a target=\"_blank\" href=https://colab.research.google.com/notebooks/data_table.ipynb>data table notebook</a>'\n",
              "            + ' to learn more about interactive tables.';\n",
              "          element.innerHTML = '';\n",
              "          dataTable['output_type'] = 'display_data';\n",
              "          await google.colab.output.renderOutput(dataTable, element);\n",
              "          const docLink = document.createElement('div');\n",
              "          docLink.innerHTML = docLinkHtml;\n",
              "          element.appendChild(docLink);\n",
              "        }\n",
              "      </script>\n",
              "    </div>\n",
              "  </div>\n",
              "  "
            ]
          },
          "metadata": {},
          "execution_count": 31
        }
      ]
    },
    {
      "cell_type": "markdown",
      "source": [
        "><font color='orange' style='font-size: 50px;'>**Partidos que menos utilizaram a Cota Parlamentar**</font>\n",
        "<hr style='border: 2px solid red;'>"
      ],
      "metadata": {
        "id": "mMMn8FQnPlpj"
      }
    },
    {
      "cell_type": "code",
      "source": [
        "partido_menor_consumo =consumo_cota_partido.sort_values('Percentual',ascending = True)\n",
        "partido_menor_consumo.head(10)"
      ],
      "metadata": {
        "id": "-WWRhaEARVhS",
        "colab": {
          "base_uri": "https://localhost:8080/",
          "height": 394
        },
        "outputId": "e4637d89-e2d2-4d83-ffab-a0688543abcf"
      },
      "execution_count": null,
      "outputs": [
        {
          "output_type": "execute_result",
          "data": {
            "text/plain": [
              "         ValorLiquido  TotalCotaEstado  Percentual\n",
              "Partido                                           \n",
              "PPS        218,419.43     9,746,390.70        2.24\n",
              "PHS        180,055.49     7,596,368.96        2.37\n",
              "PRB        621,097.18    25,777,452.01        2.41\n",
              "PR       1,218,771.70    48,049,881.27        2.54\n",
              "PPL         44,925.75     1,209,336.35        3.71\n",
              "NOVO     1,097,705.91     9,294,719.46       11.81\n",
              "REDE       501,309.38     3,789,700.40       13.23\n",
              "PODE     5,592,259.15    29,222,451.01       19.14\n",
              "PSC      4,876,752.33    24,265,819.16       20.10\n",
              "PV       1,654,988.82     8,227,231.67       20.12"
            ],
            "text/html": [
              "\n",
              "  <div id=\"df-6e71a807-40e0-4470-8ac2-5d47c63f3ac0\">\n",
              "    <div class=\"colab-df-container\">\n",
              "      <div>\n",
              "<style scoped>\n",
              "    .dataframe tbody tr th:only-of-type {\n",
              "        vertical-align: middle;\n",
              "    }\n",
              "\n",
              "    .dataframe tbody tr th {\n",
              "        vertical-align: top;\n",
              "    }\n",
              "\n",
              "    .dataframe thead th {\n",
              "        text-align: right;\n",
              "    }\n",
              "</style>\n",
              "<table border=\"1\" class=\"dataframe\">\n",
              "  <thead>\n",
              "    <tr style=\"text-align: right;\">\n",
              "      <th></th>\n",
              "      <th>ValorLiquido</th>\n",
              "      <th>TotalCotaEstado</th>\n",
              "      <th>Percentual</th>\n",
              "    </tr>\n",
              "    <tr>\n",
              "      <th>Partido</th>\n",
              "      <th></th>\n",
              "      <th></th>\n",
              "      <th></th>\n",
              "    </tr>\n",
              "  </thead>\n",
              "  <tbody>\n",
              "    <tr>\n",
              "      <th>PPS</th>\n",
              "      <td>218,419.43</td>\n",
              "      <td>9,746,390.70</td>\n",
              "      <td>2.24</td>\n",
              "    </tr>\n",
              "    <tr>\n",
              "      <th>PHS</th>\n",
              "      <td>180,055.49</td>\n",
              "      <td>7,596,368.96</td>\n",
              "      <td>2.37</td>\n",
              "    </tr>\n",
              "    <tr>\n",
              "      <th>PRB</th>\n",
              "      <td>621,097.18</td>\n",
              "      <td>25,777,452.01</td>\n",
              "      <td>2.41</td>\n",
              "    </tr>\n",
              "    <tr>\n",
              "      <th>PR</th>\n",
              "      <td>1,218,771.70</td>\n",
              "      <td>48,049,881.27</td>\n",
              "      <td>2.54</td>\n",
              "    </tr>\n",
              "    <tr>\n",
              "      <th>PPL</th>\n",
              "      <td>44,925.75</td>\n",
              "      <td>1,209,336.35</td>\n",
              "      <td>3.71</td>\n",
              "    </tr>\n",
              "    <tr>\n",
              "      <th>NOVO</th>\n",
              "      <td>1,097,705.91</td>\n",
              "      <td>9,294,719.46</td>\n",
              "      <td>11.81</td>\n",
              "    </tr>\n",
              "    <tr>\n",
              "      <th>REDE</th>\n",
              "      <td>501,309.38</td>\n",
              "      <td>3,789,700.40</td>\n",
              "      <td>13.23</td>\n",
              "    </tr>\n",
              "    <tr>\n",
              "      <th>PODE</th>\n",
              "      <td>5,592,259.15</td>\n",
              "      <td>29,222,451.01</td>\n",
              "      <td>19.14</td>\n",
              "    </tr>\n",
              "    <tr>\n",
              "      <th>PSC</th>\n",
              "      <td>4,876,752.33</td>\n",
              "      <td>24,265,819.16</td>\n",
              "      <td>20.10</td>\n",
              "    </tr>\n",
              "    <tr>\n",
              "      <th>PV</th>\n",
              "      <td>1,654,988.82</td>\n",
              "      <td>8,227,231.67</td>\n",
              "      <td>20.12</td>\n",
              "    </tr>\n",
              "  </tbody>\n",
              "</table>\n",
              "</div>\n",
              "      <button class=\"colab-df-convert\" onclick=\"convertToInteractive('df-6e71a807-40e0-4470-8ac2-5d47c63f3ac0')\"\n",
              "              title=\"Convert this dataframe to an interactive table.\"\n",
              "              style=\"display:none;\">\n",
              "        \n",
              "  <svg xmlns=\"http://www.w3.org/2000/svg\" height=\"24px\"viewBox=\"0 0 24 24\"\n",
              "       width=\"24px\">\n",
              "    <path d=\"M0 0h24v24H0V0z\" fill=\"none\"/>\n",
              "    <path d=\"M18.56 5.44l.94 2.06.94-2.06 2.06-.94-2.06-.94-.94-2.06-.94 2.06-2.06.94zm-11 1L8.5 8.5l.94-2.06 2.06-.94-2.06-.94L8.5 2.5l-.94 2.06-2.06.94zm10 10l.94 2.06.94-2.06 2.06-.94-2.06-.94-.94-2.06-.94 2.06-2.06.94z\"/><path d=\"M17.41 7.96l-1.37-1.37c-.4-.4-.92-.59-1.43-.59-.52 0-1.04.2-1.43.59L10.3 9.45l-7.72 7.72c-.78.78-.78 2.05 0 2.83L4 21.41c.39.39.9.59 1.41.59.51 0 1.02-.2 1.41-.59l7.78-7.78 2.81-2.81c.8-.78.8-2.07 0-2.86zM5.41 20L4 18.59l7.72-7.72 1.47 1.35L5.41 20z\"/>\n",
              "  </svg>\n",
              "      </button>\n",
              "      \n",
              "  <style>\n",
              "    .colab-df-container {\n",
              "      display:flex;\n",
              "      flex-wrap:wrap;\n",
              "      gap: 12px;\n",
              "    }\n",
              "\n",
              "    .colab-df-convert {\n",
              "      background-color: #E8F0FE;\n",
              "      border: none;\n",
              "      border-radius: 50%;\n",
              "      cursor: pointer;\n",
              "      display: none;\n",
              "      fill: #1967D2;\n",
              "      height: 32px;\n",
              "      padding: 0 0 0 0;\n",
              "      width: 32px;\n",
              "    }\n",
              "\n",
              "    .colab-df-convert:hover {\n",
              "      background-color: #E2EBFA;\n",
              "      box-shadow: 0px 1px 2px rgba(60, 64, 67, 0.3), 0px 1px 3px 1px rgba(60, 64, 67, 0.15);\n",
              "      fill: #174EA6;\n",
              "    }\n",
              "\n",
              "    [theme=dark] .colab-df-convert {\n",
              "      background-color: #3B4455;\n",
              "      fill: #D2E3FC;\n",
              "    }\n",
              "\n",
              "    [theme=dark] .colab-df-convert:hover {\n",
              "      background-color: #434B5C;\n",
              "      box-shadow: 0px 1px 3px 1px rgba(0, 0, 0, 0.15);\n",
              "      filter: drop-shadow(0px 1px 2px rgba(0, 0, 0, 0.3));\n",
              "      fill: #FFFFFF;\n",
              "    }\n",
              "  </style>\n",
              "\n",
              "      <script>\n",
              "        const buttonEl =\n",
              "          document.querySelector('#df-6e71a807-40e0-4470-8ac2-5d47c63f3ac0 button.colab-df-convert');\n",
              "        buttonEl.style.display =\n",
              "          google.colab.kernel.accessAllowed ? 'block' : 'none';\n",
              "\n",
              "        async function convertToInteractive(key) {\n",
              "          const element = document.querySelector('#df-6e71a807-40e0-4470-8ac2-5d47c63f3ac0');\n",
              "          const dataTable =\n",
              "            await google.colab.kernel.invokeFunction('convertToInteractive',\n",
              "                                                     [key], {});\n",
              "          if (!dataTable) return;\n",
              "\n",
              "          const docLinkHtml = 'Like what you see? Visit the ' +\n",
              "            '<a target=\"_blank\" href=https://colab.research.google.com/notebooks/data_table.ipynb>data table notebook</a>'\n",
              "            + ' to learn more about interactive tables.';\n",
              "          element.innerHTML = '';\n",
              "          dataTable['output_type'] = 'display_data';\n",
              "          await google.colab.output.renderOutput(dataTable, element);\n",
              "          const docLink = document.createElement('div');\n",
              "          docLink.innerHTML = docLinkHtml;\n",
              "          element.appendChild(docLink);\n",
              "        }\n",
              "      </script>\n",
              "    </div>\n",
              "  </div>\n",
              "  "
            ]
          },
          "metadata": {},
          "execution_count": 32
        }
      ]
    },
    {
      "cell_type": "code",
      "source": [
        "graf_menor_consumo = partido_menor_consumo.head(10).plot(kind='barh',figsize=(15,10))\n",
        "graf_menor_consumo.set_xlabel(' Consumo',fontsize=16)\n",
        "graf_menor_consumo.set_ylabel('Partido', fontsize=18)\n",
        "graf_menor_consumo.set_title('Partidos que menos utilizaram a Cota Parlamentar', fontsize=18)\n",
        "graf_menor_consumo = graf_menor_consumo"
      ],
      "metadata": {
        "id": "PuymnM94IwlS",
        "colab": {
          "base_uri": "https://localhost:8080/",
          "height": 630
        },
        "outputId": "cc1cffcb-0112-454a-8792-262e18a1ae2d"
      },
      "execution_count": null,
      "outputs": [
        {
          "output_type": "display_data",
          "data": {
            "text/plain": [
              "<Figure size 1080x720 with 1 Axes>"
            ],
            "image/png": "[encoded data removed]"
          },
          "metadata": {
            "needs_background": "light"
          }
        }
      ]
    },
    {
      "cell_type": "markdown",
      "source": [
        "><font color='orange' style='font-size: 50px;'>**Resultado da Análise**\n",
        "\n",
        "Desconsiderando os Partidos PPS, PHS, PRB,PR e PPL que fazem parte do grupo dos Partidos que foram renomeados ou incorporporados à outro Partido no ano de 2019 e por isso apresentaram consumo muito baixo, o NOVO também aparece com o menor consumo da Cota Parlamentar seguido dos Partidos REDE, PODE, PSC e PV."
      ],
      "metadata": {
        "id": "At_D1bN15AOH"
      }
    },
    {
      "cell_type": "markdown",
      "source": [
        "><font color='orange' style='font-size: 50px;'>**Partidos que mais utilizaram a Cota Parlamentar**</font>\n",
        "<hr style='border: 2px solid red;'>"
      ],
      "metadata": {
        "id": "pYE7XdyESMfH"
      }
    },
    {
      "cell_type": "code",
      "source": [
        "partido_maior_consumo =consumo_cota_partido.sort_values('Percentual',ascending = False)\n",
        "partido_maior_consumo.head()"
      ],
      "metadata": {
        "id": "3Z609AIpRiHp",
        "colab": {
          "base_uri": "https://localhost:8080/",
          "height": 237
        },
        "outputId": "369faff4-720b-462d-83d9-3867bcebc46e"
      },
      "execution_count": null,
      "outputs": [
        {
          "output_type": "execute_result",
          "data": {
            "text/plain": [
              "              ValorLiquido  TotalCotaEstado  Percentual\n",
              "Partido                                                \n",
              "REPUBLICANOS 18,262,657.90    45,435,707.07       40.19\n",
              "PL           22,606,968.92    56,817,096.36       39.79\n",
              "CIDADANIA     3,376,855.99     9,417,492.79       35.86\n",
              "PDT          16,422,094.69    46,572,163.35       35.26\n",
              "PSL          24,492,725.37    69,558,342.19       35.21"
            ],
            "text/html": [
              "\n",
              "  <div id=\"df-57fee79f-386b-45cd-8e79-cc447261ae0a\">\n",
              "    <div class=\"colab-df-container\">\n",
              "      <div>\n",
              "<style scoped>\n",
              "    .dataframe tbody tr th:only-of-type {\n",
              "        vertical-align: middle;\n",
              "    }\n",
              "\n",
              "    .dataframe tbody tr th {\n",
              "        vertical-align: top;\n",
              "    }\n",
              "\n",
              "    .dataframe thead th {\n",
              "        text-align: right;\n",
              "    }\n",
              "</style>\n",
              "<table border=\"1\" class=\"dataframe\">\n",
              "  <thead>\n",
              "    <tr style=\"text-align: right;\">\n",
              "      <th></th>\n",
              "      <th>ValorLiquido</th>\n",
              "      <th>TotalCotaEstado</th>\n",
              "      <th>Percentual</th>\n",
              "    </tr>\n",
              "    <tr>\n",
              "      <th>Partido</th>\n",
              "      <th></th>\n",
              "      <th></th>\n",
              "      <th></th>\n",
              "    </tr>\n",
              "  </thead>\n",
              "  <tbody>\n",
              "    <tr>\n",
              "      <th>REPUBLICANOS</th>\n",
              "      <td>18,262,657.90</td>\n",
              "      <td>45,435,707.07</td>\n",
              "      <td>40.19</td>\n",
              "    </tr>\n",
              "    <tr>\n",
              "      <th>PL</th>\n",
              "      <td>22,606,968.92</td>\n",
              "      <td>56,817,096.36</td>\n",
              "      <td>39.79</td>\n",
              "    </tr>\n",
              "    <tr>\n",
              "      <th>CIDADANIA</th>\n",
              "      <td>3,376,855.99</td>\n",
              "      <td>9,417,492.79</td>\n",
              "      <td>35.86</td>\n",
              "    </tr>\n",
              "    <tr>\n",
              "      <th>PDT</th>\n",
              "      <td>16,422,094.69</td>\n",
              "      <td>46,572,163.35</td>\n",
              "      <td>35.26</td>\n",
              "    </tr>\n",
              "    <tr>\n",
              "      <th>PSL</th>\n",
              "      <td>24,492,725.37</td>\n",
              "      <td>69,558,342.19</td>\n",
              "      <td>35.21</td>\n",
              "    </tr>\n",
              "  </tbody>\n",
              "</table>\n",
              "</div>\n",
              "      <button class=\"colab-df-convert\" onclick=\"convertToInteractive('df-57fee79f-386b-45cd-8e79-cc447261ae0a')\"\n",
              "              title=\"Convert this dataframe to an interactive table.\"\n",
              "              style=\"display:none;\">\n",
              "        \n",
              "  <svg xmlns=\"http://www.w3.org/2000/svg\" height=\"24px\"viewBox=\"0 0 24 24\"\n",
              "       width=\"24px\">\n",
              "    <path d=\"M0 0h24v24H0V0z\" fill=\"none\"/>\n",
              "    <path d=\"M18.56 5.44l.94 2.06.94-2.06 2.06-.94-2.06-.94-.94-2.06-.94 2.06-2.06.94zm-11 1L8.5 8.5l.94-2.06 2.06-.94-2.06-.94L8.5 2.5l-.94 2.06-2.06.94zm10 10l.94 2.06.94-2.06 2.06-.94-2.06-.94-.94-2.06-.94 2.06-2.06.94z\"/><path d=\"M17.41 7.96l-1.37-1.37c-.4-.4-.92-.59-1.43-.59-.52 0-1.04.2-1.43.59L10.3 9.45l-7.72 7.72c-.78.78-.78 2.05 0 2.83L4 21.41c.39.39.9.59 1.41.59.51 0 1.02-.2 1.41-.59l7.78-7.78 2.81-2.81c.8-.78.8-2.07 0-2.86zM5.41 20L4 18.59l7.72-7.72 1.47 1.35L5.41 20z\"/>\n",
              "  </svg>\n",
              "      </button>\n",
              "      \n",
              "  <style>\n",
              "    .colab-df-container {\n",
              "      display:flex;\n",
              "      flex-wrap:wrap;\n",
              "      gap: 12px;\n",
              "    }\n",
              "\n",
              "    .colab-df-convert {\n",
              "      background-color: #E8F0FE;\n",
              "      border: none;\n",
              "      border-radius: 50%;\n",
              "      cursor: pointer;\n",
              "      display: none;\n",
              "      fill: #1967D2;\n",
              "      height: 32px;\n",
              "      padding: 0 0 0 0;\n",
              "      width: 32px;\n",
              "    }\n",
              "\n",
              "    .colab-df-convert:hover {\n",
              "      background-color: #E2EBFA;\n",
              "      box-shadow: 0px 1px 2px rgba(60, 64, 67, 0.3), 0px 1px 3px 1px rgba(60, 64, 67, 0.15);\n",
              "      fill: #174EA6;\n",
              "    }\n",
              "\n",
              "    [theme=dark] .colab-df-convert {\n",
              "      background-color: #3B4455;\n",
              "      fill: #D2E3FC;\n",
              "    }\n",
              "\n",
              "    [theme=dark] .colab-df-convert:hover {\n",
              "      background-color: #434B5C;\n",
              "      box-shadow: 0px 1px 3px 1px rgba(0, 0, 0, 0.15);\n",
              "      filter: drop-shadow(0px 1px 2px rgba(0, 0, 0, 0.3));\n",
              "      fill: #FFFFFF;\n",
              "    }\n",
              "  </style>\n",
              "\n",
              "      <script>\n",
              "        const buttonEl =\n",
              "          document.querySelector('#df-57fee79f-386b-45cd-8e79-cc447261ae0a button.colab-df-convert');\n",
              "        buttonEl.style.display =\n",
              "          google.colab.kernel.accessAllowed ? 'block' : 'none';\n",
              "\n",
              "        async function convertToInteractive(key) {\n",
              "          const element = document.querySelector('#df-57fee79f-386b-45cd-8e79-cc447261ae0a');\n",
              "          const dataTable =\n",
              "            await google.colab.kernel.invokeFunction('convertToInteractive',\n",
              "                                                     [key], {});\n",
              "          if (!dataTable) return;\n",
              "\n",
              "          const docLinkHtml = 'Like what you see? Visit the ' +\n",
              "            '<a target=\"_blank\" href=https://colab.research.google.com/notebooks/data_table.ipynb>data table notebook</a>'\n",
              "            + ' to learn more about interactive tables.';\n",
              "          element.innerHTML = '';\n",
              "          dataTable['output_type'] = 'display_data';\n",
              "          await google.colab.output.renderOutput(dataTable, element);\n",
              "          const docLink = document.createElement('div');\n",
              "          docLink.innerHTML = docLinkHtml;\n",
              "          element.appendChild(docLink);\n",
              "        }\n",
              "      </script>\n",
              "    </div>\n",
              "  </div>\n",
              "  "
            ]
          },
          "metadata": {},
          "execution_count": 34
        }
      ]
    },
    {
      "cell_type": "code",
      "source": [
        "graf_maior_consumo = partido_maior_consumo.head().plot(kind='barh',figsize=(15,10))\n",
        "graf_maior_consumo.set_xlabel('Consumo',fontsize=16)\n",
        "graf_maior_consumo.set_ylabel('Partido', fontsize=18)\n",
        "graf_maior_consumo.set_title('Partidos que mais utilizaram a Cota Parlamentar', fontsize=18)\n",
        "graf_maior_consumo =graf_maior_consumo"
      ],
      "metadata": {
        "id": "A2RehZa9JoDR",
        "colab": {
          "base_uri": "https://localhost:8080/",
          "height": 630
        },
        "outputId": "39ec3153-9b61-47a3-b7f8-b900dbe21f1d"
      },
      "execution_count": null,
      "outputs": [
        {
          "output_type": "display_data",
          "data": {
            "text/plain": [
              "<Figure size 1080x720 with 1 Axes>"
            ],
            "image/png": "[encoded data removed]"
          },
          "metadata": {
            "needs_background": "light"
          }
        }
      ]
    },
    {
      "cell_type": "markdown",
      "source": [
        "><font color='orange' style='font-size: 50px;'>**Resultado da Análise**\n",
        "\n",
        "**Os Partidos que mais consumiram a Cota Parlamentar:**\n",
        "\n",
        "- Republicanos \n",
        "- PL\n",
        "- Cidadania\n",
        "- PDT\n",
        "- PSL\n",
        "\n",
        "O PSL mesmo possuindo a maior Cota dentre os Partidos com os cinco maiores consumos, o Republicanos foi o que obteve o maior percentual."
      ],
      "metadata": {
        "id": "Si9v6TE__mBd"
      }
    },
    {
      "cell_type": "markdown",
      "metadata": {
        "id": "DViMUSw_BQAE"
      },
      "source": [
        "## **Questão 12** \n",
        "\n",
        ">###  Há alguma correlação entre a quantidade de parlamentares por partido e o valor total dos gastos?"
      ]
    },
    {
      "cell_type": "markdown",
      "source": [
        ">### 1- **Criando o primeiro dataframe** - <font color='orange' style='font-size: 50px;'>Quantidade de Parlamentares por Partido"
      ],
      "metadata": {
        "id": "r1F3LNOWV1d6"
      }
    },
    {
      "cell_type": "markdown",
      "metadata": {
        "id": "Uti74aZ9UJex"
      },
      "source": [
        "- Criei um dataframe com as duas colunas selecionadas do Dataframe original ´Partido'e 'NomeParlamentar' sem os valores duplicados utilizando `.drop_duplicates()`.Foi feito uma cópia `.copy()` pra que o Dataset original não fosse alterado.\n",
        "\n",
        "- Utilizei `.groupby()` para fazer o agrupamento da nova tabela por Partido e usei `.count()` para fazer a contagem de quantos Parlamentares há em cada Partido;\n",
        "\n",
        "- Com `.sort_values(ascending = False)` ordenei os valores em ordem decrescente e com `.rename()`renomei a coluna 'NomeParlamentar'."
      ]
    },
    {
      "cell_type": "code",
      "execution_count": null,
      "metadata": {
        "id": "wl0qR8lqsWe8",
        "colab": {
          "base_uri": "https://localhost:8080/"
        },
        "outputId": "e8c0b6d4-bb0e-44b5-8bf2-4dd7111c6cb5"
      },
      "outputs": [
        {
          "output_type": "execute_result",
          "data": {
            "text/plain": [
              "         Qtd.Parlamentares\n",
              "Partido                   \n",
              "PT                      79\n",
              "PP                      70\n",
              "PSDB                    66\n",
              "MDB                     64\n",
              "PSL                     59"
            ],
            "text/html": [
              "\n",
              "  <div id=\"df-b534e9bf-860a-438a-a0ee-a3086512f853\">\n",
              "    <div class=\"colab-df-container\">\n",
              "      <div>\n",
              "<style scoped>\n",
              "    .dataframe tbody tr th:only-of-type {\n",
              "        vertical-align: middle;\n",
              "    }\n",
              "\n",
              "    .dataframe tbody tr th {\n",
              "        vertical-align: top;\n",
              "    }\n",
              "\n",
              "    .dataframe thead th {\n",
              "        text-align: right;\n",
              "    }\n",
              "</style>\n",
              "<table border=\"1\" class=\"dataframe\">\n",
              "  <thead>\n",
              "    <tr style=\"text-align: right;\">\n",
              "      <th></th>\n",
              "      <th>Qtd.Parlamentares</th>\n",
              "    </tr>\n",
              "    <tr>\n",
              "      <th>Partido</th>\n",
              "      <th></th>\n",
              "    </tr>\n",
              "  </thead>\n",
              "  <tbody>\n",
              "    <tr>\n",
              "      <th>PT</th>\n",
              "      <td>79</td>\n",
              "    </tr>\n",
              "    <tr>\n",
              "      <th>PP</th>\n",
              "      <td>70</td>\n",
              "    </tr>\n",
              "    <tr>\n",
              "      <th>PSDB</th>\n",
              "      <td>66</td>\n",
              "    </tr>\n",
              "    <tr>\n",
              "      <th>MDB</th>\n",
              "      <td>64</td>\n",
              "    </tr>\n",
              "    <tr>\n",
              "      <th>PSL</th>\n",
              "      <td>59</td>\n",
              "    </tr>\n",
              "  </tbody>\n",
              "</table>\n",
              "</div>\n",
              "      <button class=\"colab-df-convert\" onclick=\"convertToInteractive('df-b534e9bf-860a-438a-a0ee-a3086512f853')\"\n",
              "              title=\"Convert this dataframe to an interactive table.\"\n",
              "              style=\"display:none;\">\n",
              "        \n",
              "  <svg xmlns=\"http://www.w3.org/2000/svg\" height=\"24px\"viewBox=\"0 0 24 24\"\n",
              "       width=\"24px\">\n",
              "    <path d=\"M0 0h24v24H0V0z\" fill=\"none\"/>\n",
              "    <path d=\"M18.56 5.44l.94 2.06.94-2.06 2.06-.94-2.06-.94-.94-2.06-.94 2.06-2.06.94zm-11 1L8.5 8.5l.94-2.06 2.06-.94-2.06-.94L8.5 2.5l-.94 2.06-2.06.94zm10 10l.94 2.06.94-2.06 2.06-.94-2.06-.94-.94-2.06-.94 2.06-2.06.94z\"/><path d=\"M17.41 7.96l-1.37-1.37c-.4-.4-.92-.59-1.43-.59-.52 0-1.04.2-1.43.59L10.3 9.45l-7.72 7.72c-.78.78-.78 2.05 0 2.83L4 21.41c.39.39.9.59 1.41.59.51 0 1.02-.2 1.41-.59l7.78-7.78 2.81-2.81c.8-.78.8-2.07 0-2.86zM5.41 20L4 18.59l7.72-7.72 1.47 1.35L5.41 20z\"/>\n",
              "  </svg>\n",
              "      </button>\n",
              "      \n",
              "  <style>\n",
              "    .colab-df-container {\n",
              "      display:flex;\n",
              "      flex-wrap:wrap;\n",
              "      gap: 12px;\n",
              "    }\n",
              "\n",
              "    .colab-df-convert {\n",
              "      background-color: #E8F0FE;\n",
              "      border: none;\n",
              "      border-radius: 50%;\n",
              "      cursor: pointer;\n",
              "      display: none;\n",
              "      fill: #1967D2;\n",
              "      height: 32px;\n",
              "      padding: 0 0 0 0;\n",
              "      width: 32px;\n",
              "    }\n",
              "\n",
              "    .colab-df-convert:hover {\n",
              "      background-color: #E2EBFA;\n",
              "      box-shadow: 0px 1px 2px rgba(60, 64, 67, 0.3), 0px 1px 3px 1px rgba(60, 64, 67, 0.15);\n",
              "      fill: #174EA6;\n",
              "    }\n",
              "\n",
              "    [theme=dark] .colab-df-convert {\n",
              "      background-color: #3B4455;\n",
              "      fill: #D2E3FC;\n",
              "    }\n",
              "\n",
              "    [theme=dark] .colab-df-convert:hover {\n",
              "      background-color: #434B5C;\n",
              "      box-shadow: 0px 1px 3px 1px rgba(0, 0, 0, 0.15);\n",
              "      filter: drop-shadow(0px 1px 2px rgba(0, 0, 0, 0.3));\n",
              "      fill: #FFFFFF;\n",
              "    }\n",
              "  </style>\n",
              "\n",
              "      <script>\n",
              "        const buttonEl =\n",
              "          document.querySelector('#df-b534e9bf-860a-438a-a0ee-a3086512f853 button.colab-df-convert');\n",
              "        buttonEl.style.display =\n",
              "          google.colab.kernel.accessAllowed ? 'block' : 'none';\n",
              "\n",
              "        async function convertToInteractive(key) {\n",
              "          const element = document.querySelector('#df-b534e9bf-860a-438a-a0ee-a3086512f853');\n",
              "          const dataTable =\n",
              "            await google.colab.kernel.invokeFunction('convertToInteractive',\n",
              "                                                     [key], {});\n",
              "          if (!dataTable) return;\n",
              "\n",
              "          const docLinkHtml = 'Like what you see? Visit the ' +\n",
              "            '<a target=\"_blank\" href=https://colab.research.google.com/notebooks/data_table.ipynb>data table notebook</a>'\n",
              "            + ' to learn more about interactive tables.';\n",
              "          element.innerHTML = '';\n",
              "          dataTable['output_type'] = 'display_data';\n",
              "          await google.colab.output.renderOutput(dataTable, element);\n",
              "          const docLink = document.createElement('div');\n",
              "          docLink.innerHTML = docLinkHtml;\n",
              "          element.appendChild(docLink);\n",
              "        }\n",
              "      </script>\n",
              "    </div>\n",
              "  </div>\n",
              "  "
            ]
          },
          "metadata": {},
          "execution_count": 36
        }
      ],
      "source": [
        "parlamentar_partido_aux = dados_ceap[['Partido','NomeParlamentar']].drop_duplicates().copy() \n",
        "parlamentar_partido = parlamentar_partido_aux.groupby('Partido').count().sort_values('NomeParlamentar',\n",
        "    ascending = False).rename(columns={'NomeParlamentar':'Qtd.Parlamentares'}) \n",
        "\n",
        "parlamentar_partido.head()"
      ]
    },
    {
      "cell_type": "markdown",
      "source": [
        ">### 2 - **Criando o segundo dataframe** - <font color='orange' style='font-size: 50px;'>Valor total dos gastos por Partido"
      ],
      "metadata": {
        "id": "YZ82T3AFWAGJ"
      }
    },
    {
      "cell_type": "markdown",
      "metadata": {
        "id": "mDmCVcmkWIkd"
      },
      "source": [
        "- Criei o dataframe somente com as colunas 'Partido'e 'ValorLiquido' do dataset original;\n",
        "- Realizei a soma `.sum()` dos valores gastos agrupando `.groupby()`o resultado por Partido; \n",
        "- Utilizei  `.sort_values(ascending = False)` para ordenar os valores em ordem decrescente e `.rename()`para renomar a coluna 'ValorLiquido'.\n"
      ]
    },
    {
      "cell_type": "code",
      "execution_count": null,
      "metadata": {
        "id": "CavB9dkUsonI",
        "colab": {
          "base_uri": "https://localhost:8080/"
        },
        "outputId": "d8d05a5b-9ef2-4b0d-e817-3cbcfbed356c"
      },
      "outputs": [
        {
          "output_type": "execute_result",
          "data": {
            "text/plain": [
              "         Total Gastos\n",
              "Partido              \n",
              "PT      53,101,273.58\n",
              "PSL     38,739,174.80\n",
              "PL      36,009,565.01\n",
              "PP      34,429,101.14\n",
              "MDB     31,505,872.66"
            ],
            "text/html": [
              "\n",
              "  <div id=\"df-8d5c1bbc-2b3e-43de-ba7a-456225883cf6\">\n",
              "    <div class=\"colab-df-container\">\n",
              "      <div>\n",
              "<style scoped>\n",
              "    .dataframe tbody tr th:only-of-type {\n",
              "        vertical-align: middle;\n",
              "    }\n",
              "\n",
              "    .dataframe tbody tr th {\n",
              "        vertical-align: top;\n",
              "    }\n",
              "\n",
              "    .dataframe thead th {\n",
              "        text-align: right;\n",
              "    }\n",
              "</style>\n",
              "<table border=\"1\" class=\"dataframe\">\n",
              "  <thead>\n",
              "    <tr style=\"text-align: right;\">\n",
              "      <th></th>\n",
              "      <th>Total Gastos</th>\n",
              "    </tr>\n",
              "    <tr>\n",
              "      <th>Partido</th>\n",
              "      <th></th>\n",
              "    </tr>\n",
              "  </thead>\n",
              "  <tbody>\n",
              "    <tr>\n",
              "      <th>PT</th>\n",
              "      <td>53,101,273.58</td>\n",
              "    </tr>\n",
              "    <tr>\n",
              "      <th>PSL</th>\n",
              "      <td>38,739,174.80</td>\n",
              "    </tr>\n",
              "    <tr>\n",
              "      <th>PL</th>\n",
              "      <td>36,009,565.01</td>\n",
              "    </tr>\n",
              "    <tr>\n",
              "      <th>PP</th>\n",
              "      <td>34,429,101.14</td>\n",
              "    </tr>\n",
              "    <tr>\n",
              "      <th>MDB</th>\n",
              "      <td>31,505,872.66</td>\n",
              "    </tr>\n",
              "  </tbody>\n",
              "</table>\n",
              "</div>\n",
              "      <button class=\"colab-df-convert\" onclick=\"convertToInteractive('df-8d5c1bbc-2b3e-43de-ba7a-456225883cf6')\"\n",
              "              title=\"Convert this dataframe to an interactive table.\"\n",
              "              style=\"display:none;\">\n",
              "        \n",
              "  <svg xmlns=\"http://www.w3.org/2000/svg\" height=\"24px\"viewBox=\"0 0 24 24\"\n",
              "       width=\"24px\">\n",
              "    <path d=\"M0 0h24v24H0V0z\" fill=\"none\"/>\n",
              "    <path d=\"M18.56 5.44l.94 2.06.94-2.06 2.06-.94-2.06-.94-.94-2.06-.94 2.06-2.06.94zm-11 1L8.5 8.5l.94-2.06 2.06-.94-2.06-.94L8.5 2.5l-.94 2.06-2.06.94zm10 10l.94 2.06.94-2.06 2.06-.94-2.06-.94-.94-2.06-.94 2.06-2.06.94z\"/><path d=\"M17.41 7.96l-1.37-1.37c-.4-.4-.92-.59-1.43-.59-.52 0-1.04.2-1.43.59L10.3 9.45l-7.72 7.72c-.78.78-.78 2.05 0 2.83L4 21.41c.39.39.9.59 1.41.59.51 0 1.02-.2 1.41-.59l7.78-7.78 2.81-2.81c.8-.78.8-2.07 0-2.86zM5.41 20L4 18.59l7.72-7.72 1.47 1.35L5.41 20z\"/>\n",
              "  </svg>\n",
              "      </button>\n",
              "      \n",
              "  <style>\n",
              "    .colab-df-container {\n",
              "      display:flex;\n",
              "      flex-wrap:wrap;\n",
              "      gap: 12px;\n",
              "    }\n",
              "\n",
              "    .colab-df-convert {\n",
              "      background-color: #E8F0FE;\n",
              "      border: none;\n",
              "      border-radius: 50%;\n",
              "      cursor: pointer;\n",
              "      display: none;\n",
              "      fill: #1967D2;\n",
              "      height: 32px;\n",
              "      padding: 0 0 0 0;\n",
              "      width: 32px;\n",
              "    }\n",
              "\n",
              "    .colab-df-convert:hover {\n",
              "      background-color: #E2EBFA;\n",
              "      box-shadow: 0px 1px 2px rgba(60, 64, 67, 0.3), 0px 1px 3px 1px rgba(60, 64, 67, 0.15);\n",
              "      fill: #174EA6;\n",
              "    }\n",
              "\n",
              "    [theme=dark] .colab-df-convert {\n",
              "      background-color: #3B4455;\n",
              "      fill: #D2E3FC;\n",
              "    }\n",
              "\n",
              "    [theme=dark] .colab-df-convert:hover {\n",
              "      background-color: #434B5C;\n",
              "      box-shadow: 0px 1px 3px 1px rgba(0, 0, 0, 0.15);\n",
              "      filter: drop-shadow(0px 1px 2px rgba(0, 0, 0, 0.3));\n",
              "      fill: #FFFFFF;\n",
              "    }\n",
              "  </style>\n",
              "\n",
              "      <script>\n",
              "        const buttonEl =\n",
              "          document.querySelector('#df-8d5c1bbc-2b3e-43de-ba7a-456225883cf6 button.colab-df-convert');\n",
              "        buttonEl.style.display =\n",
              "          google.colab.kernel.accessAllowed ? 'block' : 'none';\n",
              "\n",
              "        async function convertToInteractive(key) {\n",
              "          const element = document.querySelector('#df-8d5c1bbc-2b3e-43de-ba7a-456225883cf6');\n",
              "          const dataTable =\n",
              "            await google.colab.kernel.invokeFunction('convertToInteractive',\n",
              "                                                     [key], {});\n",
              "          if (!dataTable) return;\n",
              "\n",
              "          const docLinkHtml = 'Like what you see? Visit the ' +\n",
              "            '<a target=\"_blank\" href=https://colab.research.google.com/notebooks/data_table.ipynb>data table notebook</a>'\n",
              "            + ' to learn more about interactive tables.';\n",
              "          element.innerHTML = '';\n",
              "          dataTable['output_type'] = 'display_data';\n",
              "          await google.colab.output.renderOutput(dataTable, element);\n",
              "          const docLink = document.createElement('div');\n",
              "          docLink.innerHTML = docLinkHtml;\n",
              "          element.appendChild(docLink);\n",
              "        }\n",
              "      </script>\n",
              "    </div>\n",
              "  </div>\n",
              "  "
            ]
          },
          "metadata": {},
          "execution_count": 37
        }
      ],
      "source": [
        "gasto_partido_total= dados_ceap[['Partido','ValorLiquido']].groupby('Partido').sum().sort_values('ValorLiquido', \n",
        "       ascending=False).rename(columns={'ValorLiquido':'Total Gastos'})\n",
        "\n",
        "gasto_partido_total.head()"
      ]
    },
    {
      "cell_type": "markdown",
      "source": [
        ">### 3 -**Dataframe - <font color='orange' style='font-size: 50px;'>Correlação**"
      ],
      "metadata": {
        "id": "qBOjuhccYxDo"
      }
    },
    {
      "cell_type": "markdown",
      "metadata": {
        "id": "4G1pXlLjY7bP"
      },
      "source": [
        "- Utilizei a função `.merge()` para fazer a junção das duas tabelas e indicando nos parâmetros a coluna 'Partido' como chave ( ponto de interseção entre as duas tabelas)"
      ]
    },
    {
      "cell_type": "code",
      "execution_count": null,
      "metadata": {
        "id": "jr8kJGCfssYX",
        "colab": {
          "base_uri": "https://localhost:8080/",
          "height": 237
        },
        "outputId": "fe36eb6b-0e81-41d6-e859-12d7215bc08a"
      },
      "outputs": [
        {
          "output_type": "execute_result",
          "data": {
            "text/plain": [
              "         Qtd.Parlamentares  Total Gastos\n",
              "Partido                                 \n",
              "PT                      79 53,101,273.58\n",
              "PP                      70 34,429,101.14\n",
              "PSDB                    66 29,144,733.57\n",
              "MDB                     64 31,505,872.66\n",
              "PSL                     59 38,739,174.80"
            ],
            "text/html": [
              "\n",
              "  <div id=\"df-3410f628-05ba-45aa-b059-fbc4ff61a74f\">\n",
              "    <div class=\"colab-df-container\">\n",
              "      <div>\n",
              "<style scoped>\n",
              "    .dataframe tbody tr th:only-of-type {\n",
              "        vertical-align: middle;\n",
              "    }\n",
              "\n",
              "    .dataframe tbody tr th {\n",
              "        vertical-align: top;\n",
              "    }\n",
              "\n",
              "    .dataframe thead th {\n",
              "        text-align: right;\n",
              "    }\n",
              "</style>\n",
              "<table border=\"1\" class=\"dataframe\">\n",
              "  <thead>\n",
              "    <tr style=\"text-align: right;\">\n",
              "      <th></th>\n",
              "      <th>Qtd.Parlamentares</th>\n",
              "      <th>Total Gastos</th>\n",
              "    </tr>\n",
              "    <tr>\n",
              "      <th>Partido</th>\n",
              "      <th></th>\n",
              "      <th></th>\n",
              "    </tr>\n",
              "  </thead>\n",
              "  <tbody>\n",
              "    <tr>\n",
              "      <th>PT</th>\n",
              "      <td>79</td>\n",
              "      <td>53,101,273.58</td>\n",
              "    </tr>\n",
              "    <tr>\n",
              "      <th>PP</th>\n",
              "      <td>70</td>\n",
              "      <td>34,429,101.14</td>\n",
              "    </tr>\n",
              "    <tr>\n",
              "      <th>PSDB</th>\n",
              "      <td>66</td>\n",
              "      <td>29,144,733.57</td>\n",
              "    </tr>\n",
              "    <tr>\n",
              "      <th>MDB</th>\n",
              "      <td>64</td>\n",
              "      <td>31,505,872.66</td>\n",
              "    </tr>\n",
              "    <tr>\n",
              "      <th>PSL</th>\n",
              "      <td>59</td>\n",
              "      <td>38,739,174.80</td>\n",
              "    </tr>\n",
              "  </tbody>\n",
              "</table>\n",
              "</div>\n",
              "      <button class=\"colab-df-convert\" onclick=\"convertToInteractive('df-3410f628-05ba-45aa-b059-fbc4ff61a74f')\"\n",
              "              title=\"Convert this dataframe to an interactive table.\"\n",
              "              style=\"display:none;\">\n",
              "        \n",
              "  <svg xmlns=\"http://www.w3.org/2000/svg\" height=\"24px\"viewBox=\"0 0 24 24\"\n",
              "       width=\"24px\">\n",
              "    <path d=\"M0 0h24v24H0V0z\" fill=\"none\"/>\n",
              "    <path d=\"M18.56 5.44l.94 2.06.94-2.06 2.06-.94-2.06-.94-.94-2.06-.94 2.06-2.06.94zm-11 1L8.5 8.5l.94-2.06 2.06-.94-2.06-.94L8.5 2.5l-.94 2.06-2.06.94zm10 10l.94 2.06.94-2.06 2.06-.94-2.06-.94-.94-2.06-.94 2.06-2.06.94z\"/><path d=\"M17.41 7.96l-1.37-1.37c-.4-.4-.92-.59-1.43-.59-.52 0-1.04.2-1.43.59L10.3 9.45l-7.72 7.72c-.78.78-.78 2.05 0 2.83L4 21.41c.39.39.9.59 1.41.59.51 0 1.02-.2 1.41-.59l7.78-7.78 2.81-2.81c.8-.78.8-2.07 0-2.86zM5.41 20L4 18.59l7.72-7.72 1.47 1.35L5.41 20z\"/>\n",
              "  </svg>\n",
              "      </button>\n",
              "      \n",
              "  <style>\n",
              "    .colab-df-container {\n",
              "      display:flex;\n",
              "      flex-wrap:wrap;\n",
              "      gap: 12px;\n",
              "    }\n",
              "\n",
              "    .colab-df-convert {\n",
              "      background-color: #E8F0FE;\n",
              "      border: none;\n",
              "      border-radius: 50%;\n",
              "      cursor: pointer;\n",
              "      display: none;\n",
              "      fill: #1967D2;\n",
              "      height: 32px;\n",
              "      padding: 0 0 0 0;\n",
              "      width: 32px;\n",
              "    }\n",
              "\n",
              "    .colab-df-convert:hover {\n",
              "      background-color: #E2EBFA;\n",
              "      box-shadow: 0px 1px 2px rgba(60, 64, 67, 0.3), 0px 1px 3px 1px rgba(60, 64, 67, 0.15);\n",
              "      fill: #174EA6;\n",
              "    }\n",
              "\n",
              "    [theme=dark] .colab-df-convert {\n",
              "      background-color: #3B4455;\n",
              "      fill: #D2E3FC;\n",
              "    }\n",
              "\n",
              "    [theme=dark] .colab-df-convert:hover {\n",
              "      background-color: #434B5C;\n",
              "      box-shadow: 0px 1px 3px 1px rgba(0, 0, 0, 0.15);\n",
              "      filter: drop-shadow(0px 1px 2px rgba(0, 0, 0, 0.3));\n",
              "      fill: #FFFFFF;\n",
              "    }\n",
              "  </style>\n",
              "\n",
              "      <script>\n",
              "        const buttonEl =\n",
              "          document.querySelector('#df-3410f628-05ba-45aa-b059-fbc4ff61a74f button.colab-df-convert');\n",
              "        buttonEl.style.display =\n",
              "          google.colab.kernel.accessAllowed ? 'block' : 'none';\n",
              "\n",
              "        async function convertToInteractive(key) {\n",
              "          const element = document.querySelector('#df-3410f628-05ba-45aa-b059-fbc4ff61a74f');\n",
              "          const dataTable =\n",
              "            await google.colab.kernel.invokeFunction('convertToInteractive',\n",
              "                                                     [key], {});\n",
              "          if (!dataTable) return;\n",
              "\n",
              "          const docLinkHtml = 'Like what you see? Visit the ' +\n",
              "            '<a target=\"_blank\" href=https://colab.research.google.com/notebooks/data_table.ipynb>data table notebook</a>'\n",
              "            + ' to learn more about interactive tables.';\n",
              "          element.innerHTML = '';\n",
              "          dataTable['output_type'] = 'display_data';\n",
              "          await google.colab.output.renderOutput(dataTable, element);\n",
              "          const docLink = document.createElement('div');\n",
              "          docLink.innerHTML = docLinkHtml;\n",
              "          element.appendChild(docLink);\n",
              "        }\n",
              "      </script>\n",
              "    </div>\n",
              "  </div>\n",
              "  "
            ]
          },
          "metadata": {},
          "execution_count": 38
        }
      ],
      "source": [
        "corr_part_gasto = parlamentar_partido.merge(gasto_partido_total, how='inner', left_on='Partido', right_on='Partido')\n",
        "corr_part_gasto.head()\n"
      ]
    },
    {
      "cell_type": "markdown",
      "metadata": {
        "id": "x1TL4Zw_ZJQh"
      },
      "source": [
        ">### 4 -<font color='orange' style='font-size: 50px;'>  **Cálculo do coeficiente de correlação**\n",
        "\n"
      ]
    },
    {
      "cell_type": "markdown",
      "source": [
        "- Utilizando a função `.corr()`, calculei a correlação entre os valores das colunas 'Total Gastos' e 'Qtd.Parlamentares'."
      ],
      "metadata": {
        "id": "q8Z1baZFIW5_"
      }
    },
    {
      "cell_type": "code",
      "source": [
        "corr_part_gasto ['Total Gastos'].corr(corr_part_gasto ['Qtd.Parlamentares'])"
      ],
      "metadata": {
        "id": "M1i-iyfosdMH",
        "colab": {
          "base_uri": "https://localhost:8080/"
        },
        "outputId": "036760b9-d299-43eb-c5b9-dd4dfb3a7914"
      },
      "execution_count": null,
      "outputs": [
        {
          "output_type": "execute_result",
          "data": {
            "text/plain": [
              "0.913310979686924"
            ]
          },
          "metadata": {},
          "execution_count": 39
        }
      ]
    },
    {
      "cell_type": "code",
      "source": [
        "grafico_corr_part_gasto = corr_part_gasto.corr(method='pearson')\n",
        "\n",
        "plt.figure(figsize=(8,6))\n",
        "sns.heatmap(grafico_corr_part_gasto , annot=True)\n",
        "\n",
        "plt.show()"
      ],
      "metadata": {
        "id": "ZGBI1-xGs0Xp",
        "colab": {
          "base_uri": "https://localhost:8080/",
          "height": 378
        },
        "outputId": "acc4c4d2-7548-4fa7-857e-8bfbad1bb66e"
      },
      "execution_count": null,
      "outputs": [
        {
          "output_type": "display_data",
          "data": {
            "text/plain": [
              "<Figure size 576x432 with 2 Axes>"
            ],
            "image/png": "[encoded data removed]"
          },
          "metadata": {
            "needs_background": "light"
          }
        }
      ]
    },
    {
      "cell_type": "code",
      "source": [
        "ax1 = corr_part_gasto.plot.scatter(x='Qtd.Parlamentares',y='Total Gastos', c='Red')\n",
        "ax1 = ax1"
      ],
      "metadata": {
        "id": "g8D8eKuYt-qH",
        "colab": {
          "base_uri": "https://localhost:8080/",
          "height": 290
        },
        "outputId": "43f6afdb-32df-4981-a76b-e4b4d7ed1e44"
      },
      "execution_count": null,
      "outputs": [
        {
          "output_type": "display_data",
          "data": {
            "text/plain": [
              "<Figure size 432x288 with 1 Axes>"
            ],
            "image/png": "[encoded data removed]"
          },
          "metadata": {
            "needs_background": "light"
          }
        }
      ]
    },
    {
      "cell_type": "code",
      "source": [
        "sns.regplot(corr_part_gasto['Qtd.Parlamentares'], corr_part_gasto['Total Gastos'])\n",
        "\n",
        "\n",
        "#método *regplot* do *seaborn*, gera uma plotagem de dispersão e inclui um traço de regressão linear"
      ],
      "metadata": {
        "id": "MMVVcbAwug16",
        "colab": {
          "base_uri": "https://localhost:8080/",
          "height": 364
        },
        "outputId": "9a84f0a0-ecf9-4a0e-9037-0e635fcce797"
      },
      "execution_count": null,
      "outputs": [
        {
          "output_type": "stream",
          "name": "stderr",
          "text": [
            "/usr/local/lib/python3.7/dist-packages/seaborn/_decorators.py:43: FutureWarning: Pass the following variables as keyword args: x, y. From version 0.12, the only valid positional argument will be `data`, and passing other arguments without an explicit keyword will result in an error or misinterpretation.\n",
            "  FutureWarning\n"
          ]
        },
        {
          "output_type": "execute_result",
          "data": {
            "text/plain": [
              "<matplotlib.axes._subplots.AxesSubplot at 0x7fd3a516eb10>"
            ]
          },
          "metadata": {},
          "execution_count": 42
        },
        {
          "output_type": "display_data",
          "data": {
            "text/plain": [
              "<Figure size 432x288 with 1 Axes>"
            ],
            "image/png": "[encoded data removed]"
          },
          "metadata": {
            "needs_background": "light"
          }
        }
      ]
    },
    {
      "cell_type": "markdown",
      "source": [
        "><font color='orange' style='font-size: 50px;'>**Resultado da Análise**\n",
        "\n",
        "As duas variáveis possuem uma correlação muito forte e estão diretamente correlacionadas, ou seja, à medida que a quantidade de Parlamentares aumenta, o mesmo acontece com o valor referente ao total dos gastos\n"
      ],
      "metadata": {
        "id": "xZpq1xzQHEJh"
      }
    },
    {
      "cell_type": "markdown",
      "source": [
        "##**Questão 13** \n",
        "\n",
        ">###  Quais são os Estados que mais e que menos consumiram a cota parlamentar?"
      ],
      "metadata": {
        "id": "4OWhKVRVKon5"
      }
    },
    {
      "cell_type": "markdown",
      "source": [
        "### 1 - **Criação do primeiro dataframe auxiliar:**<font color='orange' style='font-size: 50px;'> Total de Parlamentares por Estado\n"
      ],
      "metadata": {
        "id": "wKgXsU5vlS5z"
      }
    },
    {
      "cell_type": "markdown",
      "source": [
        "- Selecionei as coluna 'UF' e 'NomeParlamentar' do dataset original e exclui os valores duplicados com `.drop_duplicates()` e fiz uma cópia `.copy()`para que o original não fosse alterado;\n",
        "- Fiz a contagem dos Parlamentares usando `.count()`e agrupando os resulatdos por Estado com `.groupby()`\n",
        "- Renomeei a coluna 'NomeParlamentares\" usando `.rename()`"
      ],
      "metadata": {
        "id": "LZpqffoTF5BQ"
      }
    },
    {
      "cell_type": "code",
      "source": [
        "qtd_parlamentar_estado_aux= dados_ceap[['UF','NomeParlamentar']].drop_duplicates().copy()\n",
        "qtd_parlamentar_estado = qtd_parlamentar_estado_aux.groupby(['UF']).count().sort_values('NomeParlamentar',ascending = False).rename(columns={'NomeParlamentar':'Qtd.Parlamentares'})\n",
        "qtd_parlamentar_estado.head()"
      ],
      "metadata": {
        "id": "pR_1M0Lgb8xl",
        "colab": {
          "base_uri": "https://localhost:8080/"
        },
        "outputId": "7c586b8a-48f0-4c3a-ab7f-52e50cc2a223"
      },
      "execution_count": null,
      "outputs": [
        {
          "output_type": "execute_result",
          "data": {
            "text/plain": [
              "    Qtd.Parlamentares\n",
              "UF                   \n",
              "SP                104\n",
              "RJ                 82\n",
              "MG                 81\n",
              "BA                 56\n",
              "RS                 47"
            ],
            "text/html": [
              "\n",
              "  <div id=\"df-436857a5-f16b-44ef-a91b-a692eca3cb60\">\n",
              "    <div class=\"colab-df-container\">\n",
              "      <div>\n",
              "<style scoped>\n",
              "    .dataframe tbody tr th:only-of-type {\n",
              "        vertical-align: middle;\n",
              "    }\n",
              "\n",
              "    .dataframe tbody tr th {\n",
              "        vertical-align: top;\n",
              "    }\n",
              "\n",
              "    .dataframe thead th {\n",
              "        text-align: right;\n",
              "    }\n",
              "</style>\n",
              "<table border=\"1\" class=\"dataframe\">\n",
              "  <thead>\n",
              "    <tr style=\"text-align: right;\">\n",
              "      <th></th>\n",
              "      <th>Qtd.Parlamentares</th>\n",
              "    </tr>\n",
              "    <tr>\n",
              "      <th>UF</th>\n",
              "      <th></th>\n",
              "    </tr>\n",
              "  </thead>\n",
              "  <tbody>\n",
              "    <tr>\n",
              "      <th>SP</th>\n",
              "      <td>104</td>\n",
              "    </tr>\n",
              "    <tr>\n",
              "      <th>RJ</th>\n",
              "      <td>82</td>\n",
              "    </tr>\n",
              "    <tr>\n",
              "      <th>MG</th>\n",
              "      <td>81</td>\n",
              "    </tr>\n",
              "    <tr>\n",
              "      <th>BA</th>\n",
              "      <td>56</td>\n",
              "    </tr>\n",
              "    <tr>\n",
              "      <th>RS</th>\n",
              "      <td>47</td>\n",
              "    </tr>\n",
              "  </tbody>\n",
              "</table>\n",
              "</div>\n",
              "      <button class=\"colab-df-convert\" onclick=\"convertToInteractive('df-436857a5-f16b-44ef-a91b-a692eca3cb60')\"\n",
              "              title=\"Convert this dataframe to an interactive table.\"\n",
              "              style=\"display:none;\">\n",
              "        \n",
              "  <svg xmlns=\"http://www.w3.org/2000/svg\" height=\"24px\"viewBox=\"0 0 24 24\"\n",
              "       width=\"24px\">\n",
              "    <path d=\"M0 0h24v24H0V0z\" fill=\"none\"/>\n",
              "    <path d=\"M18.56 5.44l.94 2.06.94-2.06 2.06-.94-2.06-.94-.94-2.06-.94 2.06-2.06.94zm-11 1L8.5 8.5l.94-2.06 2.06-.94-2.06-.94L8.5 2.5l-.94 2.06-2.06.94zm10 10l.94 2.06.94-2.06 2.06-.94-2.06-.94-.94-2.06-.94 2.06-2.06.94z\"/><path d=\"M17.41 7.96l-1.37-1.37c-.4-.4-.92-.59-1.43-.59-.52 0-1.04.2-1.43.59L10.3 9.45l-7.72 7.72c-.78.78-.78 2.05 0 2.83L4 21.41c.39.39.9.59 1.41.59.51 0 1.02-.2 1.41-.59l7.78-7.78 2.81-2.81c.8-.78.8-2.07 0-2.86zM5.41 20L4 18.59l7.72-7.72 1.47 1.35L5.41 20z\"/>\n",
              "  </svg>\n",
              "      </button>\n",
              "      \n",
              "  <style>\n",
              "    .colab-df-container {\n",
              "      display:flex;\n",
              "      flex-wrap:wrap;\n",
              "      gap: 12px;\n",
              "    }\n",
              "\n",
              "    .colab-df-convert {\n",
              "      background-color: #E8F0FE;\n",
              "      border: none;\n",
              "      border-radius: 50%;\n",
              "      cursor: pointer;\n",
              "      display: none;\n",
              "      fill: #1967D2;\n",
              "      height: 32px;\n",
              "      padding: 0 0 0 0;\n",
              "      width: 32px;\n",
              "    }\n",
              "\n",
              "    .colab-df-convert:hover {\n",
              "      background-color: #E2EBFA;\n",
              "      box-shadow: 0px 1px 2px rgba(60, 64, 67, 0.3), 0px 1px 3px 1px rgba(60, 64, 67, 0.15);\n",
              "      fill: #174EA6;\n",
              "    }\n",
              "\n",
              "    [theme=dark] .colab-df-convert {\n",
              "      background-color: #3B4455;\n",
              "      fill: #D2E3FC;\n",
              "    }\n",
              "\n",
              "    [theme=dark] .colab-df-convert:hover {\n",
              "      background-color: #434B5C;\n",
              "      box-shadow: 0px 1px 3px 1px rgba(0, 0, 0, 0.15);\n",
              "      filter: drop-shadow(0px 1px 2px rgba(0, 0, 0, 0.3));\n",
              "      fill: #FFFFFF;\n",
              "    }\n",
              "  </style>\n",
              "\n",
              "      <script>\n",
              "        const buttonEl =\n",
              "          document.querySelector('#df-436857a5-f16b-44ef-a91b-a692eca3cb60 button.colab-df-convert');\n",
              "        buttonEl.style.display =\n",
              "          google.colab.kernel.accessAllowed ? 'block' : 'none';\n",
              "\n",
              "        async function convertToInteractive(key) {\n",
              "          const element = document.querySelector('#df-436857a5-f16b-44ef-a91b-a692eca3cb60');\n",
              "          const dataTable =\n",
              "            await google.colab.kernel.invokeFunction('convertToInteractive',\n",
              "                                                     [key], {});\n",
              "          if (!dataTable) return;\n",
              "\n",
              "          const docLinkHtml = 'Like what you see? Visit the ' +\n",
              "            '<a target=\"_blank\" href=https://colab.research.google.com/notebooks/data_table.ipynb>data table notebook</a>'\n",
              "            + ' to learn more about interactive tables.';\n",
              "          element.innerHTML = '';\n",
              "          dataTable['output_type'] = 'display_data';\n",
              "          await google.colab.output.renderOutput(dataTable, element);\n",
              "          const docLink = document.createElement('div');\n",
              "          docLink.innerHTML = docLinkHtml;\n",
              "          element.appendChild(docLink);\n",
              "        }\n",
              "      </script>\n",
              "    </div>\n",
              "  </div>\n",
              "  "
            ]
          },
          "metadata": {},
          "execution_count": 43
        }
      ]
    },
    {
      "cell_type": "markdown",
      "source": [
        "### 2 - **junção dos dataframes**\n"
      ],
      "metadata": {
        "id": "clTBvf04mi0i"
      }
    },
    {
      "cell_type": "markdown",
      "source": [
        "- utilizando `.join()`uni o dataframe criado acima com o dataframe que possui os valores da cota mensal de cada Estado (cota_total) "
      ],
      "metadata": {
        "id": "zrIF2vdBGI6o"
      }
    },
    {
      "cell_type": "code",
      "source": [
        "vlr_total_cota = qtd_parlamentar_estado.join(cota_total)\n",
        "vlr_total_cota['Vlr Total Cota'] = vlr_total_cota ['Qtd.Parlamentares']*vlr_total_cota['TotalCota']\n",
        "vlr_total_cota.head()"
      ],
      "metadata": {
        "id": "eR41ibAVg5s3",
        "colab": {
          "base_uri": "https://localhost:8080/"
        },
        "outputId": "01257369-363f-41de-ee82-6bb64de3bbd7"
      },
      "execution_count": null,
      "outputs": [
        {
          "output_type": "execute_result",
          "data": {
            "text/plain": [
              "    Qtd.Parlamentares    TotalCota  Vlr Total Cota\n",
              "UF                                                \n",
              "SP                104 1,148,349.43  119,428,340.72\n",
              "RJ                 82 1,108,559.07   90,901,843.74\n",
              "MG                 81 1,118,874.01   90,628,794.81\n",
              "BA                 56 1,209,336.35   67,722,835.60\n",
              "RS                 47 1,267,152.90   59,556,186.30"
            ],
            "text/html": [
              "\n",
              "  <div id=\"df-50fc10fb-61c1-4759-aab8-bc0144b14a85\">\n",
              "    <div class=\"colab-df-container\">\n",
              "      <div>\n",
              "<style scoped>\n",
              "    .dataframe tbody tr th:only-of-type {\n",
              "        vertical-align: middle;\n",
              "    }\n",
              "\n",
              "    .dataframe tbody tr th {\n",
              "        vertical-align: top;\n",
              "    }\n",
              "\n",
              "    .dataframe thead th {\n",
              "        text-align: right;\n",
              "    }\n",
              "</style>\n",
              "<table border=\"1\" class=\"dataframe\">\n",
              "  <thead>\n",
              "    <tr style=\"text-align: right;\">\n",
              "      <th></th>\n",
              "      <th>Qtd.Parlamentares</th>\n",
              "      <th>TotalCota</th>\n",
              "      <th>Vlr Total Cota</th>\n",
              "    </tr>\n",
              "    <tr>\n",
              "      <th>UF</th>\n",
              "      <th></th>\n",
              "      <th></th>\n",
              "      <th></th>\n",
              "    </tr>\n",
              "  </thead>\n",
              "  <tbody>\n",
              "    <tr>\n",
              "      <th>SP</th>\n",
              "      <td>104</td>\n",
              "      <td>1,148,349.43</td>\n",
              "      <td>119,428,340.72</td>\n",
              "    </tr>\n",
              "    <tr>\n",
              "      <th>RJ</th>\n",
              "      <td>82</td>\n",
              "      <td>1,108,559.07</td>\n",
              "      <td>90,901,843.74</td>\n",
              "    </tr>\n",
              "    <tr>\n",
              "      <th>MG</th>\n",
              "      <td>81</td>\n",
              "      <td>1,118,874.01</td>\n",
              "      <td>90,628,794.81</td>\n",
              "    </tr>\n",
              "    <tr>\n",
              "      <th>BA</th>\n",
              "      <td>56</td>\n",
              "      <td>1,209,336.35</td>\n",
              "      <td>67,722,835.60</td>\n",
              "    </tr>\n",
              "    <tr>\n",
              "      <th>RS</th>\n",
              "      <td>47</td>\n",
              "      <td>1,267,152.90</td>\n",
              "      <td>59,556,186.30</td>\n",
              "    </tr>\n",
              "  </tbody>\n",
              "</table>\n",
              "</div>\n",
              "      <button class=\"colab-df-convert\" onclick=\"convertToInteractive('df-50fc10fb-61c1-4759-aab8-bc0144b14a85')\"\n",
              "              title=\"Convert this dataframe to an interactive table.\"\n",
              "              style=\"display:none;\">\n",
              "        \n",
              "  <svg xmlns=\"http://www.w3.org/2000/svg\" height=\"24px\"viewBox=\"0 0 24 24\"\n",
              "       width=\"24px\">\n",
              "    <path d=\"M0 0h24v24H0V0z\" fill=\"none\"/>\n",
              "    <path d=\"M18.56 5.44l.94 2.06.94-2.06 2.06-.94-2.06-.94-.94-2.06-.94 2.06-2.06.94zm-11 1L8.5 8.5l.94-2.06 2.06-.94-2.06-.94L8.5 2.5l-.94 2.06-2.06.94zm10 10l.94 2.06.94-2.06 2.06-.94-2.06-.94-.94-2.06-.94 2.06-2.06.94z\"/><path d=\"M17.41 7.96l-1.37-1.37c-.4-.4-.92-.59-1.43-.59-.52 0-1.04.2-1.43.59L10.3 9.45l-7.72 7.72c-.78.78-.78 2.05 0 2.83L4 21.41c.39.39.9.59 1.41.59.51 0 1.02-.2 1.41-.59l7.78-7.78 2.81-2.81c.8-.78.8-2.07 0-2.86zM5.41 20L4 18.59l7.72-7.72 1.47 1.35L5.41 20z\"/>\n",
              "  </svg>\n",
              "      </button>\n",
              "      \n",
              "  <style>\n",
              "    .colab-df-container {\n",
              "      display:flex;\n",
              "      flex-wrap:wrap;\n",
              "      gap: 12px;\n",
              "    }\n",
              "\n",
              "    .colab-df-convert {\n",
              "      background-color: #E8F0FE;\n",
              "      border: none;\n",
              "      border-radius: 50%;\n",
              "      cursor: pointer;\n",
              "      display: none;\n",
              "      fill: #1967D2;\n",
              "      height: 32px;\n",
              "      padding: 0 0 0 0;\n",
              "      width: 32px;\n",
              "    }\n",
              "\n",
              "    .colab-df-convert:hover {\n",
              "      background-color: #E2EBFA;\n",
              "      box-shadow: 0px 1px 2px rgba(60, 64, 67, 0.3), 0px 1px 3px 1px rgba(60, 64, 67, 0.15);\n",
              "      fill: #174EA6;\n",
              "    }\n",
              "\n",
              "    [theme=dark] .colab-df-convert {\n",
              "      background-color: #3B4455;\n",
              "      fill: #D2E3FC;\n",
              "    }\n",
              "\n",
              "    [theme=dark] .colab-df-convert:hover {\n",
              "      background-color: #434B5C;\n",
              "      box-shadow: 0px 1px 3px 1px rgba(0, 0, 0, 0.15);\n",
              "      filter: drop-shadow(0px 1px 2px rgba(0, 0, 0, 0.3));\n",
              "      fill: #FFFFFF;\n",
              "    }\n",
              "  </style>\n",
              "\n",
              "      <script>\n",
              "        const buttonEl =\n",
              "          document.querySelector('#df-50fc10fb-61c1-4759-aab8-bc0144b14a85 button.colab-df-convert');\n",
              "        buttonEl.style.display =\n",
              "          google.colab.kernel.accessAllowed ? 'block' : 'none';\n",
              "\n",
              "        async function convertToInteractive(key) {\n",
              "          const element = document.querySelector('#df-50fc10fb-61c1-4759-aab8-bc0144b14a85');\n",
              "          const dataTable =\n",
              "            await google.colab.kernel.invokeFunction('convertToInteractive',\n",
              "                                                     [key], {});\n",
              "          if (!dataTable) return;\n",
              "\n",
              "          const docLinkHtml = 'Like what you see? Visit the ' +\n",
              "            '<a target=\"_blank\" href=https://colab.research.google.com/notebooks/data_table.ipynb>data table notebook</a>'\n",
              "            + ' to learn more about interactive tables.';\n",
              "          element.innerHTML = '';\n",
              "          dataTable['output_type'] = 'display_data';\n",
              "          await google.colab.output.renderOutput(dataTable, element);\n",
              "          const docLink = document.createElement('div');\n",
              "          docLink.innerHTML = docLinkHtml;\n",
              "          element.appendChild(docLink);\n",
              "        }\n",
              "      </script>\n",
              "    </div>\n",
              "  </div>\n",
              "  "
            ]
          },
          "metadata": {},
          "execution_count": 44
        }
      ]
    },
    {
      "cell_type": "markdown",
      "source": [
        "### 3 - Criação do Dataframe <font color='orange' style='font-size: 50px;'>  Total de gastos por Partido\n"
      ],
      "metadata": {
        "id": "_XYQMiEZn6pK"
      }
    },
    {
      "cell_type": "markdown",
      "source": [
        "- Selecionei as colunas 'UF' e 'ValorLiquido' do dataset original e somei os valores `.sum()`e agrupei `.groupby()`os resultados por Estado\n",
        "\n",
        "**OBS: Foi considerado os valores dos gastos até julho de 2021**"
      ],
      "metadata": {
        "id": "oxkOjlp7GNcH"
      }
    },
    {
      "cell_type": "code",
      "source": [
        "gasto_estado_aux = dados_ceap[['UF','ValorLiquido']].loc[dados_ceap['Mes']<= 7]\n",
        "gasto_estado = gasto_estado_aux.groupby(['UF']).sum()\n",
        "gasto_estado.head()"
      ],
      "metadata": {
        "id": "k-aASWWkskw2",
        "colab": {
          "base_uri": "https://localhost:8080/",
          "height": 237
        },
        "outputId": "d25ca74e-41cf-4a41-a81a-a2d04e8ef596"
      },
      "execution_count": null,
      "outputs": [
        {
          "output_type": "execute_result",
          "data": {
            "text/plain": [
              "    ValorLiquido\n",
              "UF              \n",
              "AC  6,571,041.27\n",
              "AL  4,802,047.16\n",
              "AM  5,337,757.32\n",
              "AP  5,847,143.43\n",
              "BA 25,020,181.53"
            ],
            "text/html": [
              "\n",
              "  <div id=\"df-8f56bedb-2000-4aaf-b797-919c347b348e\">\n",
              "    <div class=\"colab-df-container\">\n",
              "      <div>\n",
              "<style scoped>\n",
              "    .dataframe tbody tr th:only-of-type {\n",
              "        vertical-align: middle;\n",
              "    }\n",
              "\n",
              "    .dataframe tbody tr th {\n",
              "        vertical-align: top;\n",
              "    }\n",
              "\n",
              "    .dataframe thead th {\n",
              "        text-align: right;\n",
              "    }\n",
              "</style>\n",
              "<table border=\"1\" class=\"dataframe\">\n",
              "  <thead>\n",
              "    <tr style=\"text-align: right;\">\n",
              "      <th></th>\n",
              "      <th>ValorLiquido</th>\n",
              "    </tr>\n",
              "    <tr>\n",
              "      <th>UF</th>\n",
              "      <th></th>\n",
              "    </tr>\n",
              "  </thead>\n",
              "  <tbody>\n",
              "    <tr>\n",
              "      <th>AC</th>\n",
              "      <td>6,571,041.27</td>\n",
              "    </tr>\n",
              "    <tr>\n",
              "      <th>AL</th>\n",
              "      <td>4,802,047.16</td>\n",
              "    </tr>\n",
              "    <tr>\n",
              "      <th>AM</th>\n",
              "      <td>5,337,757.32</td>\n",
              "    </tr>\n",
              "    <tr>\n",
              "      <th>AP</th>\n",
              "      <td>5,847,143.43</td>\n",
              "    </tr>\n",
              "    <tr>\n",
              "      <th>BA</th>\n",
              "      <td>25,020,181.53</td>\n",
              "    </tr>\n",
              "  </tbody>\n",
              "</table>\n",
              "</div>\n",
              "      <button class=\"colab-df-convert\" onclick=\"convertToInteractive('df-8f56bedb-2000-4aaf-b797-919c347b348e')\"\n",
              "              title=\"Convert this dataframe to an interactive table.\"\n",
              "              style=\"display:none;\">\n",
              "        \n",
              "  <svg xmlns=\"http://www.w3.org/2000/svg\" height=\"24px\"viewBox=\"0 0 24 24\"\n",
              "       width=\"24px\">\n",
              "    <path d=\"M0 0h24v24H0V0z\" fill=\"none\"/>\n",
              "    <path d=\"M18.56 5.44l.94 2.06.94-2.06 2.06-.94-2.06-.94-.94-2.06-.94 2.06-2.06.94zm-11 1L8.5 8.5l.94-2.06 2.06-.94-2.06-.94L8.5 2.5l-.94 2.06-2.06.94zm10 10l.94 2.06.94-2.06 2.06-.94-2.06-.94-.94-2.06-.94 2.06-2.06.94z\"/><path d=\"M17.41 7.96l-1.37-1.37c-.4-.4-.92-.59-1.43-.59-.52 0-1.04.2-1.43.59L10.3 9.45l-7.72 7.72c-.78.78-.78 2.05 0 2.83L4 21.41c.39.39.9.59 1.41.59.51 0 1.02-.2 1.41-.59l7.78-7.78 2.81-2.81c.8-.78.8-2.07 0-2.86zM5.41 20L4 18.59l7.72-7.72 1.47 1.35L5.41 20z\"/>\n",
              "  </svg>\n",
              "      </button>\n",
              "      \n",
              "  <style>\n",
              "    .colab-df-container {\n",
              "      display:flex;\n",
              "      flex-wrap:wrap;\n",
              "      gap: 12px;\n",
              "    }\n",
              "\n",
              "    .colab-df-convert {\n",
              "      background-color: #E8F0FE;\n",
              "      border: none;\n",
              "      border-radius: 50%;\n",
              "      cursor: pointer;\n",
              "      display: none;\n",
              "      fill: #1967D2;\n",
              "      height: 32px;\n",
              "      padding: 0 0 0 0;\n",
              "      width: 32px;\n",
              "    }\n",
              "\n",
              "    .colab-df-convert:hover {\n",
              "      background-color: #E2EBFA;\n",
              "      box-shadow: 0px 1px 2px rgba(60, 64, 67, 0.3), 0px 1px 3px 1px rgba(60, 64, 67, 0.15);\n",
              "      fill: #174EA6;\n",
              "    }\n",
              "\n",
              "    [theme=dark] .colab-df-convert {\n",
              "      background-color: #3B4455;\n",
              "      fill: #D2E3FC;\n",
              "    }\n",
              "\n",
              "    [theme=dark] .colab-df-convert:hover {\n",
              "      background-color: #434B5C;\n",
              "      box-shadow: 0px 1px 3px 1px rgba(0, 0, 0, 0.15);\n",
              "      filter: drop-shadow(0px 1px 2px rgba(0, 0, 0, 0.3));\n",
              "      fill: #FFFFFF;\n",
              "    }\n",
              "  </style>\n",
              "\n",
              "      <script>\n",
              "        const buttonEl =\n",
              "          document.querySelector('#df-8f56bedb-2000-4aaf-b797-919c347b348e button.colab-df-convert');\n",
              "        buttonEl.style.display =\n",
              "          google.colab.kernel.accessAllowed ? 'block' : 'none';\n",
              "\n",
              "        async function convertToInteractive(key) {\n",
              "          const element = document.querySelector('#df-8f56bedb-2000-4aaf-b797-919c347b348e');\n",
              "          const dataTable =\n",
              "            await google.colab.kernel.invokeFunction('convertToInteractive',\n",
              "                                                     [key], {});\n",
              "          if (!dataTable) return;\n",
              "\n",
              "          const docLinkHtml = 'Like what you see? Visit the ' +\n",
              "            '<a target=\"_blank\" href=https://colab.research.google.com/notebooks/data_table.ipynb>data table notebook</a>'\n",
              "            + ' to learn more about interactive tables.';\n",
              "          element.innerHTML = '';\n",
              "          dataTable['output_type'] = 'display_data';\n",
              "          await google.colab.output.renderOutput(dataTable, element);\n",
              "          const docLink = document.createElement('div');\n",
              "          docLink.innerHTML = docLinkHtml;\n",
              "          element.appendChild(docLink);\n",
              "        }\n",
              "      </script>\n",
              "    </div>\n",
              "  </div>\n",
              "  "
            ]
          },
          "metadata": {},
          "execution_count": 45
        }
      ]
    },
    {
      "cell_type": "markdown",
      "source": [
        "###<font color='orange' style='font-size: 50px;'>  **Consumo da Cota por Estado**\n"
      ],
      "metadata": {
        "id": "ibyViXbqomAP"
      }
    },
    {
      "cell_type": "markdown",
      "source": [
        "- Uni os dataframes vlr_total_cota e gasto_estado usando `.join() e renomeando algumas colunas `.rename()`;\n",
        "- criei a coluna '%Consumo' e o valor contido nela será o percentual de gastos em relação ao total da cota de cada Estado."
      ],
      "metadata": {
        "id": "sV7uCl1yIiKS"
      }
    },
    {
      "cell_type": "code",
      "source": [
        "consumo_cota_uf = vlr_total_cota.join(gasto_estado).rename(columns={'TotalCota':'CotaEstado','Vlr Total Cota':'TotalCota'})\n",
        "consumo_cota_uf['%Consumo'] = (consumo_cota_uf['ValorLiquido']/consumo_cota_uf['TotalCota'])*100\n",
        "consumo_cota_uf.head()"
      ],
      "metadata": {
        "id": "_qtdBESMoukO",
        "colab": {
          "base_uri": "https://localhost:8080/",
          "height": 237
        },
        "outputId": "7984fa6b-7ace-4517-deea-66d298f3db8c"
      },
      "execution_count": null,
      "outputs": [
        {
          "output_type": "execute_result",
          "data": {
            "text/plain": [
              "    Qtd.Parlamentares   CotaEstado      TotalCota  ValorLiquido  %Consumo\n",
              "UF                                                                       \n",
              "SP                104 1,148,349.43 119,428,340.72 34,229,634.46     28.66\n",
              "RJ                 82 1,108,559.07  90,901,843.74 23,830,248.70     26.22\n",
              "MG                 81 1,118,874.01  90,628,794.81 26,653,536.26     29.41\n",
              "BA                 56 1,209,336.35  67,722,835.60 25,020,181.53     36.94\n",
              "RS                 47 1,267,152.90  59,556,186.30 16,220,774.76     27.24"
            ],
            "text/html": [
              "\n",
              "  <div id=\"df-dc9d35f7-5343-47cc-ae5c-6acb6190e170\">\n",
              "    <div class=\"colab-df-container\">\n",
              "      <div>\n",
              "<style scoped>\n",
              "    .dataframe tbody tr th:only-of-type {\n",
              "        vertical-align: middle;\n",
              "    }\n",
              "\n",
              "    .dataframe tbody tr th {\n",
              "        vertical-align: top;\n",
              "    }\n",
              "\n",
              "    .dataframe thead th {\n",
              "        text-align: right;\n",
              "    }\n",
              "</style>\n",
              "<table border=\"1\" class=\"dataframe\">\n",
              "  <thead>\n",
              "    <tr style=\"text-align: right;\">\n",
              "      <th></th>\n",
              "      <th>Qtd.Parlamentares</th>\n",
              "      <th>CotaEstado</th>\n",
              "      <th>TotalCota</th>\n",
              "      <th>ValorLiquido</th>\n",
              "      <th>%Consumo</th>\n",
              "    </tr>\n",
              "    <tr>\n",
              "      <th>UF</th>\n",
              "      <th></th>\n",
              "      <th></th>\n",
              "      <th></th>\n",
              "      <th></th>\n",
              "      <th></th>\n",
              "    </tr>\n",
              "  </thead>\n",
              "  <tbody>\n",
              "    <tr>\n",
              "      <th>SP</th>\n",
              "      <td>104</td>\n",
              "      <td>1,148,349.43</td>\n",
              "      <td>119,428,340.72</td>\n",
              "      <td>34,229,634.46</td>\n",
              "      <td>28.66</td>\n",
              "    </tr>\n",
              "    <tr>\n",
              "      <th>RJ</th>\n",
              "      <td>82</td>\n",
              "      <td>1,108,559.07</td>\n",
              "      <td>90,901,843.74</td>\n",
              "      <td>23,830,248.70</td>\n",
              "      <td>26.22</td>\n",
              "    </tr>\n",
              "    <tr>\n",
              "      <th>MG</th>\n",
              "      <td>81</td>\n",
              "      <td>1,118,874.01</td>\n",
              "      <td>90,628,794.81</td>\n",
              "      <td>26,653,536.26</td>\n",
              "      <td>29.41</td>\n",
              "    </tr>\n",
              "    <tr>\n",
              "      <th>BA</th>\n",
              "      <td>56</td>\n",
              "      <td>1,209,336.35</td>\n",
              "      <td>67,722,835.60</td>\n",
              "      <td>25,020,181.53</td>\n",
              "      <td>36.94</td>\n",
              "    </tr>\n",
              "    <tr>\n",
              "      <th>RS</th>\n",
              "      <td>47</td>\n",
              "      <td>1,267,152.90</td>\n",
              "      <td>59,556,186.30</td>\n",
              "      <td>16,220,774.76</td>\n",
              "      <td>27.24</td>\n",
              "    </tr>\n",
              "  </tbody>\n",
              "</table>\n",
              "</div>\n",
              "      <button class=\"colab-df-convert\" onclick=\"convertToInteractive('df-dc9d35f7-5343-47cc-ae5c-6acb6190e170')\"\n",
              "              title=\"Convert this dataframe to an interactive table.\"\n",
              "              style=\"display:none;\">\n",
              "        \n",
              "  <svg xmlns=\"http://www.w3.org/2000/svg\" height=\"24px\"viewBox=\"0 0 24 24\"\n",
              "       width=\"24px\">\n",
              "    <path d=\"M0 0h24v24H0V0z\" fill=\"none\"/>\n",
              "    <path d=\"M18.56 5.44l.94 2.06.94-2.06 2.06-.94-2.06-.94-.94-2.06-.94 2.06-2.06.94zm-11 1L8.5 8.5l.94-2.06 2.06-.94-2.06-.94L8.5 2.5l-.94 2.06-2.06.94zm10 10l.94 2.06.94-2.06 2.06-.94-2.06-.94-.94-2.06-.94 2.06-2.06.94z\"/><path d=\"M17.41 7.96l-1.37-1.37c-.4-.4-.92-.59-1.43-.59-.52 0-1.04.2-1.43.59L10.3 9.45l-7.72 7.72c-.78.78-.78 2.05 0 2.83L4 21.41c.39.39.9.59 1.41.59.51 0 1.02-.2 1.41-.59l7.78-7.78 2.81-2.81c.8-.78.8-2.07 0-2.86zM5.41 20L4 18.59l7.72-7.72 1.47 1.35L5.41 20z\"/>\n",
              "  </svg>\n",
              "      </button>\n",
              "      \n",
              "  <style>\n",
              "    .colab-df-container {\n",
              "      display:flex;\n",
              "      flex-wrap:wrap;\n",
              "      gap: 12px;\n",
              "    }\n",
              "\n",
              "    .colab-df-convert {\n",
              "      background-color: #E8F0FE;\n",
              "      border: none;\n",
              "      border-radius: 50%;\n",
              "      cursor: pointer;\n",
              "      display: none;\n",
              "      fill: #1967D2;\n",
              "      height: 32px;\n",
              "      padding: 0 0 0 0;\n",
              "      width: 32px;\n",
              "    }\n",
              "\n",
              "    .colab-df-convert:hover {\n",
              "      background-color: #E2EBFA;\n",
              "      box-shadow: 0px 1px 2px rgba(60, 64, 67, 0.3), 0px 1px 3px 1px rgba(60, 64, 67, 0.15);\n",
              "      fill: #174EA6;\n",
              "    }\n",
              "\n",
              "    [theme=dark] .colab-df-convert {\n",
              "      background-color: #3B4455;\n",
              "      fill: #D2E3FC;\n",
              "    }\n",
              "\n",
              "    [theme=dark] .colab-df-convert:hover {\n",
              "      background-color: #434B5C;\n",
              "      box-shadow: 0px 1px 3px 1px rgba(0, 0, 0, 0.15);\n",
              "      filter: drop-shadow(0px 1px 2px rgba(0, 0, 0, 0.3));\n",
              "      fill: #FFFFFF;\n",
              "    }\n",
              "  </style>\n",
              "\n",
              "      <script>\n",
              "        const buttonEl =\n",
              "          document.querySelector('#df-dc9d35f7-5343-47cc-ae5c-6acb6190e170 button.colab-df-convert');\n",
              "        buttonEl.style.display =\n",
              "          google.colab.kernel.accessAllowed ? 'block' : 'none';\n",
              "\n",
              "        async function convertToInteractive(key) {\n",
              "          const element = document.querySelector('#df-dc9d35f7-5343-47cc-ae5c-6acb6190e170');\n",
              "          const dataTable =\n",
              "            await google.colab.kernel.invokeFunction('convertToInteractive',\n",
              "                                                     [key], {});\n",
              "          if (!dataTable) return;\n",
              "\n",
              "          const docLinkHtml = 'Like what you see? Visit the ' +\n",
              "            '<a target=\"_blank\" href=https://colab.research.google.com/notebooks/data_table.ipynb>data table notebook</a>'\n",
              "            + ' to learn more about interactive tables.';\n",
              "          element.innerHTML = '';\n",
              "          dataTable['output_type'] = 'display_data';\n",
              "          await google.colab.output.renderOutput(dataTable, element);\n",
              "          const docLink = document.createElement('div');\n",
              "          docLink.innerHTML = docLinkHtml;\n",
              "          element.appendChild(docLink);\n",
              "        }\n",
              "      </script>\n",
              "    </div>\n",
              "  </div>\n",
              "  "
            ]
          },
          "metadata": {},
          "execution_count": 46
        }
      ]
    },
    {
      "cell_type": "markdown",
      "source": [
        "- CotaEstado - Valor da Cota do Estado multiplicado por 31 meses\n",
        "- TotalCota - Valor da Cota do Estado multiplicado pela quantidade de Parlamentares\n",
        "- Valor Liquido - Total de gastos do Estado\n",
        "- %Consumo - percentual de consumo da Cota"
      ],
      "metadata": {
        "id": "VWvQthGUEAVB"
      }
    },
    {
      "cell_type": "markdown",
      "source": [
        "><font color='orange' style='font-size: 50px;'>**Estados que mais utilizaram a Cota Parlamentar**</font>\n",
        "<hr style='border: 2px solid red;'>"
      ],
      "metadata": {
        "id": "HklsBFBsrhNv"
      }
    },
    {
      "cell_type": "code",
      "source": [
        "estado_maior_consumo = consumo_cota_uf.sort_values('%Consumo',ascending = False)\n",
        "estado_maior_consumo.head()"
      ],
      "metadata": {
        "id": "sBVGSkokrosE",
        "colab": {
          "base_uri": "https://localhost:8080/",
          "height": 237
        },
        "outputId": "c81e51ae-bd71-479f-ba47-b8d7ba98a91e"
      },
      "execution_count": null,
      "outputs": [
        {
          "output_type": "execute_result",
          "data": {
            "text/plain": [
              "    Qtd.Parlamentares   CotaEstado     TotalCota  ValorLiquido  %Consumo\n",
              "UF                                                                      \n",
              "BA                 56 1,209,336.35 67,722,835.60 25,020,181.53     36.94\n",
              "SE                 12 1,244,317.06 14,931,804.72  5,187,347.97     34.74\n",
              "PI                 15 1,270,124.87 19,051,873.05  6,483,189.64     34.03\n",
              "AC                 14 1,383,606.26 19,370,487.64  6,571,041.27     33.92\n",
              "TO                 12 1,224,611.91 14,695,342.92  4,919,003.30     33.47"
            ],
            "text/html": [
              "\n",
              "  <div id=\"df-6fc6315b-460f-4c76-beb1-4720597bd4d1\">\n",
              "    <div class=\"colab-df-container\">\n",
              "      <div>\n",
              "<style scoped>\n",
              "    .dataframe tbody tr th:only-of-type {\n",
              "        vertical-align: middle;\n",
              "    }\n",
              "\n",
              "    .dataframe tbody tr th {\n",
              "        vertical-align: top;\n",
              "    }\n",
              "\n",
              "    .dataframe thead th {\n",
              "        text-align: right;\n",
              "    }\n",
              "</style>\n",
              "<table border=\"1\" class=\"dataframe\">\n",
              "  <thead>\n",
              "    <tr style=\"text-align: right;\">\n",
              "      <th></th>\n",
              "      <th>Qtd.Parlamentares</th>\n",
              "      <th>CotaEstado</th>\n",
              "      <th>TotalCota</th>\n",
              "      <th>ValorLiquido</th>\n",
              "      <th>%Consumo</th>\n",
              "    </tr>\n",
              "    <tr>\n",
              "      <th>UF</th>\n",
              "      <th></th>\n",
              "      <th></th>\n",
              "      <th></th>\n",
              "      <th></th>\n",
              "      <th></th>\n",
              "    </tr>\n",
              "  </thead>\n",
              "  <tbody>\n",
              "    <tr>\n",
              "      <th>BA</th>\n",
              "      <td>56</td>\n",
              "      <td>1,209,336.35</td>\n",
              "      <td>67,722,835.60</td>\n",
              "      <td>25,020,181.53</td>\n",
              "      <td>36.94</td>\n",
              "    </tr>\n",
              "    <tr>\n",
              "      <th>SE</th>\n",
              "      <td>12</td>\n",
              "      <td>1,244,317.06</td>\n",
              "      <td>14,931,804.72</td>\n",
              "      <td>5,187,347.97</td>\n",
              "      <td>34.74</td>\n",
              "    </tr>\n",
              "    <tr>\n",
              "      <th>PI</th>\n",
              "      <td>15</td>\n",
              "      <td>1,270,124.87</td>\n",
              "      <td>19,051,873.05</td>\n",
              "      <td>6,483,189.64</td>\n",
              "      <td>34.03</td>\n",
              "    </tr>\n",
              "    <tr>\n",
              "      <th>AC</th>\n",
              "      <td>14</td>\n",
              "      <td>1,383,606.26</td>\n",
              "      <td>19,370,487.64</td>\n",
              "      <td>6,571,041.27</td>\n",
              "      <td>33.92</td>\n",
              "    </tr>\n",
              "    <tr>\n",
              "      <th>TO</th>\n",
              "      <td>12</td>\n",
              "      <td>1,224,611.91</td>\n",
              "      <td>14,695,342.92</td>\n",
              "      <td>4,919,003.30</td>\n",
              "      <td>33.47</td>\n",
              "    </tr>\n",
              "  </tbody>\n",
              "</table>\n",
              "</div>\n",
              "      <button class=\"colab-df-convert\" onclick=\"convertToInteractive('df-6fc6315b-460f-4c76-beb1-4720597bd4d1')\"\n",
              "              title=\"Convert this dataframe to an interactive table.\"\n",
              "              style=\"display:none;\">\n",
              "        \n",
              "  <svg xmlns=\"http://www.w3.org/2000/svg\" height=\"24px\"viewBox=\"0 0 24 24\"\n",
              "       width=\"24px\">\n",
              "    <path d=\"M0 0h24v24H0V0z\" fill=\"none\"/>\n",
              "    <path d=\"M18.56 5.44l.94 2.06.94-2.06 2.06-.94-2.06-.94-.94-2.06-.94 2.06-2.06.94zm-11 1L8.5 8.5l.94-2.06 2.06-.94-2.06-.94L8.5 2.5l-.94 2.06-2.06.94zm10 10l.94 2.06.94-2.06 2.06-.94-2.06-.94-.94-2.06-.94 2.06-2.06.94z\"/><path d=\"M17.41 7.96l-1.37-1.37c-.4-.4-.92-.59-1.43-.59-.52 0-1.04.2-1.43.59L10.3 9.45l-7.72 7.72c-.78.78-.78 2.05 0 2.83L4 21.41c.39.39.9.59 1.41.59.51 0 1.02-.2 1.41-.59l7.78-7.78 2.81-2.81c.8-.78.8-2.07 0-2.86zM5.41 20L4 18.59l7.72-7.72 1.47 1.35L5.41 20z\"/>\n",
              "  </svg>\n",
              "      </button>\n",
              "      \n",
              "  <style>\n",
              "    .colab-df-container {\n",
              "      display:flex;\n",
              "      flex-wrap:wrap;\n",
              "      gap: 12px;\n",
              "    }\n",
              "\n",
              "    .colab-df-convert {\n",
              "      background-color: #E8F0FE;\n",
              "      border: none;\n",
              "      border-radius: 50%;\n",
              "      cursor: pointer;\n",
              "      display: none;\n",
              "      fill: #1967D2;\n",
              "      height: 32px;\n",
              "      padding: 0 0 0 0;\n",
              "      width: 32px;\n",
              "    }\n",
              "\n",
              "    .colab-df-convert:hover {\n",
              "      background-color: #E2EBFA;\n",
              "      box-shadow: 0px 1px 2px rgba(60, 64, 67, 0.3), 0px 1px 3px 1px rgba(60, 64, 67, 0.15);\n",
              "      fill: #174EA6;\n",
              "    }\n",
              "\n",
              "    [theme=dark] .colab-df-convert {\n",
              "      background-color: #3B4455;\n",
              "      fill: #D2E3FC;\n",
              "    }\n",
              "\n",
              "    [theme=dark] .colab-df-convert:hover {\n",
              "      background-color: #434B5C;\n",
              "      box-shadow: 0px 1px 3px 1px rgba(0, 0, 0, 0.15);\n",
              "      filter: drop-shadow(0px 1px 2px rgba(0, 0, 0, 0.3));\n",
              "      fill: #FFFFFF;\n",
              "    }\n",
              "  </style>\n",
              "\n",
              "      <script>\n",
              "        const buttonEl =\n",
              "          document.querySelector('#df-6fc6315b-460f-4c76-beb1-4720597bd4d1 button.colab-df-convert');\n",
              "        buttonEl.style.display =\n",
              "          google.colab.kernel.accessAllowed ? 'block' : 'none';\n",
              "\n",
              "        async function convertToInteractive(key) {\n",
              "          const element = document.querySelector('#df-6fc6315b-460f-4c76-beb1-4720597bd4d1');\n",
              "          const dataTable =\n",
              "            await google.colab.kernel.invokeFunction('convertToInteractive',\n",
              "                                                     [key], {});\n",
              "          if (!dataTable) return;\n",
              "\n",
              "          const docLinkHtml = 'Like what you see? Visit the ' +\n",
              "            '<a target=\"_blank\" href=https://colab.research.google.com/notebooks/data_table.ipynb>data table notebook</a>'\n",
              "            + ' to learn more about interactive tables.';\n",
              "          element.innerHTML = '';\n",
              "          dataTable['output_type'] = 'display_data';\n",
              "          await google.colab.output.renderOutput(dataTable, element);\n",
              "          const docLink = document.createElement('div');\n",
              "          docLink.innerHTML = docLinkHtml;\n",
              "          element.appendChild(docLink);\n",
              "        }\n",
              "      </script>\n",
              "    </div>\n",
              "  </div>\n",
              "  "
            ]
          },
          "metadata": {},
          "execution_count": 47
        }
      ]
    },
    {
      "cell_type": "markdown",
      "source": [
        "><font color='orange' style='font-size: 50px;'>**Resultado da Análise**\n",
        "\n",
        "**Os Estados que mais utilizaram a Cota Parlamentar:**\n",
        "- Bahia\n",
        "- Sergipe\n",
        "- Piauí\n",
        "- Acre\n",
        "- Tocantins"
      ],
      "metadata": {
        "id": "FLQDaLZnFHby"
      }
    },
    {
      "cell_type": "markdown",
      "source": [
        "><font color='orange' style='font-size: 50px;'>**Estados que menos utilizaram a Cota Parlamentar**</font>\n",
        "<hr style='border: 2px solid red;'>"
      ],
      "metadata": {
        "id": "eqCuPQ8YsB41"
      }
    },
    {
      "cell_type": "code",
      "source": [
        "estado_menor_consumo = consumo_cota_uf.sort_values('%Consumo',ascending = True)\n",
        "estado_menor_consumo.head()"
      ],
      "metadata": {
        "id": "NhLDVjRKsH3G",
        "colab": {
          "base_uri": "https://localhost:8080/",
          "height": 237
        },
        "outputId": "f5adeef2-99d8-46ad-da81-825ddbcc6234"
      },
      "execution_count": null,
      "outputs": [
        {
          "output_type": "execute_result",
          "data": {
            "text/plain": [
              "    Qtd.Parlamentares   CotaEstado     TotalCota  ValorLiquido  %Consumo\n",
              "UF                                                                      \n",
              "SC                 30 1,236,211.18 37,086,335.40  6,354,646.95     17.13\n",
              "DF                 15   954,448.46 14,316,726.90  2,583,288.41     18.04\n",
              "RO                 13 1,353,847.19 17,600,013.47  3,967,549.92     22.54\n",
              "MS                 16 1,256,828.04 20,109,248.64  4,595,391.00     22.85\n",
              "MT                 15 1,222,268.93 18,334,033.95  4,471,838.27     24.39"
            ],
            "text/html": [
              "\n",
              "  <div id=\"df-a0d1f078-f61b-410a-9eaf-0c48f55c58dc\">\n",
              "    <div class=\"colab-df-container\">\n",
              "      <div>\n",
              "<style scoped>\n",
              "    .dataframe tbody tr th:only-of-type {\n",
              "        vertical-align: middle;\n",
              "    }\n",
              "\n",
              "    .dataframe tbody tr th {\n",
              "        vertical-align: top;\n",
              "    }\n",
              "\n",
              "    .dataframe thead th {\n",
              "        text-align: right;\n",
              "    }\n",
              "</style>\n",
              "<table border=\"1\" class=\"dataframe\">\n",
              "  <thead>\n",
              "    <tr style=\"text-align: right;\">\n",
              "      <th></th>\n",
              "      <th>Qtd.Parlamentares</th>\n",
              "      <th>CotaEstado</th>\n",
              "      <th>TotalCota</th>\n",
              "      <th>ValorLiquido</th>\n",
              "      <th>%Consumo</th>\n",
              "    </tr>\n",
              "    <tr>\n",
              "      <th>UF</th>\n",
              "      <th></th>\n",
              "      <th></th>\n",
              "      <th></th>\n",
              "      <th></th>\n",
              "      <th></th>\n",
              "    </tr>\n",
              "  </thead>\n",
              "  <tbody>\n",
              "    <tr>\n",
              "      <th>SC</th>\n",
              "      <td>30</td>\n",
              "      <td>1,236,211.18</td>\n",
              "      <td>37,086,335.40</td>\n",
              "      <td>6,354,646.95</td>\n",
              "      <td>17.13</td>\n",
              "    </tr>\n",
              "    <tr>\n",
              "      <th>DF</th>\n",
              "      <td>15</td>\n",
              "      <td>954,448.46</td>\n",
              "      <td>14,316,726.90</td>\n",
              "      <td>2,583,288.41</td>\n",
              "      <td>18.04</td>\n",
              "    </tr>\n",
              "    <tr>\n",
              "      <th>RO</th>\n",
              "      <td>13</td>\n",
              "      <td>1,353,847.19</td>\n",
              "      <td>17,600,013.47</td>\n",
              "      <td>3,967,549.92</td>\n",
              "      <td>22.54</td>\n",
              "    </tr>\n",
              "    <tr>\n",
              "      <th>MS</th>\n",
              "      <td>16</td>\n",
              "      <td>1,256,828.04</td>\n",
              "      <td>20,109,248.64</td>\n",
              "      <td>4,595,391.00</td>\n",
              "      <td>22.85</td>\n",
              "    </tr>\n",
              "    <tr>\n",
              "      <th>MT</th>\n",
              "      <td>15</td>\n",
              "      <td>1,222,268.93</td>\n",
              "      <td>18,334,033.95</td>\n",
              "      <td>4,471,838.27</td>\n",
              "      <td>24.39</td>\n",
              "    </tr>\n",
              "  </tbody>\n",
              "</table>\n",
              "</div>\n",
              "      <button class=\"colab-df-convert\" onclick=\"convertToInteractive('df-a0d1f078-f61b-410a-9eaf-0c48f55c58dc')\"\n",
              "              title=\"Convert this dataframe to an interactive table.\"\n",
              "              style=\"display:none;\">\n",
              "        \n",
              "  <svg xmlns=\"http://www.w3.org/2000/svg\" height=\"24px\"viewBox=\"0 0 24 24\"\n",
              "       width=\"24px\">\n",
              "    <path d=\"M0 0h24v24H0V0z\" fill=\"none\"/>\n",
              "    <path d=\"M18.56 5.44l.94 2.06.94-2.06 2.06-.94-2.06-.94-.94-2.06-.94 2.06-2.06.94zm-11 1L8.5 8.5l.94-2.06 2.06-.94-2.06-.94L8.5 2.5l-.94 2.06-2.06.94zm10 10l.94 2.06.94-2.06 2.06-.94-2.06-.94-.94-2.06-.94 2.06-2.06.94z\"/><path d=\"M17.41 7.96l-1.37-1.37c-.4-.4-.92-.59-1.43-.59-.52 0-1.04.2-1.43.59L10.3 9.45l-7.72 7.72c-.78.78-.78 2.05 0 2.83L4 21.41c.39.39.9.59 1.41.59.51 0 1.02-.2 1.41-.59l7.78-7.78 2.81-2.81c.8-.78.8-2.07 0-2.86zM5.41 20L4 18.59l7.72-7.72 1.47 1.35L5.41 20z\"/>\n",
              "  </svg>\n",
              "      </button>\n",
              "      \n",
              "  <style>\n",
              "    .colab-df-container {\n",
              "      display:flex;\n",
              "      flex-wrap:wrap;\n",
              "      gap: 12px;\n",
              "    }\n",
              "\n",
              "    .colab-df-convert {\n",
              "      background-color: #E8F0FE;\n",
              "      border: none;\n",
              "      border-radius: 50%;\n",
              "      cursor: pointer;\n",
              "      display: none;\n",
              "      fill: #1967D2;\n",
              "      height: 32px;\n",
              "      padding: 0 0 0 0;\n",
              "      width: 32px;\n",
              "    }\n",
              "\n",
              "    .colab-df-convert:hover {\n",
              "      background-color: #E2EBFA;\n",
              "      box-shadow: 0px 1px 2px rgba(60, 64, 67, 0.3), 0px 1px 3px 1px rgba(60, 64, 67, 0.15);\n",
              "      fill: #174EA6;\n",
              "    }\n",
              "\n",
              "    [theme=dark] .colab-df-convert {\n",
              "      background-color: #3B4455;\n",
              "      fill: #D2E3FC;\n",
              "    }\n",
              "\n",
              "    [theme=dark] .colab-df-convert:hover {\n",
              "      background-color: #434B5C;\n",
              "      box-shadow: 0px 1px 3px 1px rgba(0, 0, 0, 0.15);\n",
              "      filter: drop-shadow(0px 1px 2px rgba(0, 0, 0, 0.3));\n",
              "      fill: #FFFFFF;\n",
              "    }\n",
              "  </style>\n",
              "\n",
              "      <script>\n",
              "        const buttonEl =\n",
              "          document.querySelector('#df-a0d1f078-f61b-410a-9eaf-0c48f55c58dc button.colab-df-convert');\n",
              "        buttonEl.style.display =\n",
              "          google.colab.kernel.accessAllowed ? 'block' : 'none';\n",
              "\n",
              "        async function convertToInteractive(key) {\n",
              "          const element = document.querySelector('#df-a0d1f078-f61b-410a-9eaf-0c48f55c58dc');\n",
              "          const dataTable =\n",
              "            await google.colab.kernel.invokeFunction('convertToInteractive',\n",
              "                                                     [key], {});\n",
              "          if (!dataTable) return;\n",
              "\n",
              "          const docLinkHtml = 'Like what you see? Visit the ' +\n",
              "            '<a target=\"_blank\" href=https://colab.research.google.com/notebooks/data_table.ipynb>data table notebook</a>'\n",
              "            + ' to learn more about interactive tables.';\n",
              "          element.innerHTML = '';\n",
              "          dataTable['output_type'] = 'display_data';\n",
              "          await google.colab.output.renderOutput(dataTable, element);\n",
              "          const docLink = document.createElement('div');\n",
              "          docLink.innerHTML = docLinkHtml;\n",
              "          element.appendChild(docLink);\n",
              "        }\n",
              "      </script>\n",
              "    </div>\n",
              "  </div>\n",
              "  "
            ]
          },
          "metadata": {},
          "execution_count": 48
        }
      ]
    },
    {
      "cell_type": "markdown",
      "source": [
        "> <font color='orange' style='font-size: 50px;'>**Resultado da Análise**\n",
        "\n",
        "**Os Estados que menos utilizaram a Cota Parlamentar:**\n",
        "- Santa Catarina\n",
        "- Distrido Federal\n",
        "- Rondônia\n",
        "- Mato Grosso do Sul\n",
        "- Mato Grosso"
      ],
      "metadata": {
        "id": "yFyZFm_zFcwb"
      }
    },
    {
      "cell_type": "markdown",
      "metadata": {
        "id": "sJqogMIXBaqJ"
      },
      "source": [
        "## **Questão 14**\n",
        "\n",
        ">###  Análise de gastos no exterior durante a pandemia"
      ]
    },
    {
      "cell_type": "markdown",
      "metadata": {
        "id": "Iakqw8Mxjfh2"
      },
      "source": [
        "Estrutura de desenvolvimento sugerida:\n",
        "\n",
        "- Filtrar qtd de parlamentares, valor liquido , TipoDocumento e UF, Ano"
      ]
    },
    {
      "cell_type": "code",
      "source": [
        "gastos_exterior = dados_ceap.filter([ 'NomeParlamentar','UF','NomeParlementar', 'ValorLiquido','Mes' ,'Ano', 'TipoDocumento'], axis = 1)\n",
        "gastos_exterior"
      ],
      "metadata": {
        "id": "pK20l85KICMB",
        "colab": {
          "base_uri": "https://localhost:8080/"
        },
        "outputId": "219f6744-0521-4466-87bb-b2d1deba647f"
      },
      "execution_count": null,
      "outputs": [
        {
          "output_type": "execute_result",
          "data": {
            "text/plain": [
              "            NomeParlamentar  UF  ValorLiquido  Mes   Ano  TipoDocumento\n",
              "905            SILVIO COSTA  PE      5,990.37    1  2019              4\n",
              "906            SILVIO COSTA  PE     22,000.00    1  2019              0\n",
              "907            SILVIO COSTA  PE      5,500.00    1  2019              4\n",
              "908            SILVIO COSTA  PE          0.61    1  2019              0\n",
              "909            SILVIO COSTA  PE        305.59    1  2019              0\n",
              "...                     ...  ..           ...  ...   ...            ...\n",
              "105600  Henrique do Paraíso  SP      5,000.00    7  2021              0\n",
              "105601  Henrique do Paraíso  SP      7,000.00    8  2021              0\n",
              "105602  Henrique do Paraíso  SP      4,000.00    7  2021              0\n",
              "105603  Henrique do Paraíso  SP          1.10    7  2021              0\n",
              "105604        DaLua do Rota  AP          1.08    7  2021              0\n",
              "\n",
              "[553759 rows x 6 columns]"
            ],
            "text/html": [
              "\n",
              "  <div id=\"df-c061f2af-0fbc-4b14-a545-d9957e4e87cb\">\n",
              "    <div class=\"colab-df-container\">\n",
              "      <div>\n",
              "<style scoped>\n",
              "    .dataframe tbody tr th:only-of-type {\n",
              "        vertical-align: middle;\n",
              "    }\n",
              "\n",
              "    .dataframe tbody tr th {\n",
              "        vertical-align: top;\n",
              "    }\n",
              "\n",
              "    .dataframe thead th {\n",
              "        text-align: right;\n",
              "    }\n",
              "</style>\n",
              "<table border=\"1\" class=\"dataframe\">\n",
              "  <thead>\n",
              "    <tr style=\"text-align: right;\">\n",
              "      <th></th>\n",
              "      <th>NomeParlamentar</th>\n",
              "      <th>UF</th>\n",
              "      <th>ValorLiquido</th>\n",
              "      <th>Mes</th>\n",
              "      <th>Ano</th>\n",
              "      <th>TipoDocumento</th>\n",
              "    </tr>\n",
              "  </thead>\n",
              "  <tbody>\n",
              "    <tr>\n",
              "      <th>905</th>\n",
              "      <td>SILVIO COSTA</td>\n",
              "      <td>PE</td>\n",
              "      <td>5,990.37</td>\n",
              "      <td>1</td>\n",
              "      <td>2019</td>\n",
              "      <td>4</td>\n",
              "    </tr>\n",
              "    <tr>\n",
              "      <th>906</th>\n",
              "      <td>SILVIO COSTA</td>\n",
              "      <td>PE</td>\n",
              "      <td>22,000.00</td>\n",
              "      <td>1</td>\n",
              "      <td>2019</td>\n",
              "      <td>0</td>\n",
              "    </tr>\n",
              "    <tr>\n",
              "      <th>907</th>\n",
              "      <td>SILVIO COSTA</td>\n",
              "      <td>PE</td>\n",
              "      <td>5,500.00</td>\n",
              "      <td>1</td>\n",
              "      <td>2019</td>\n",
              "      <td>4</td>\n",
              "    </tr>\n",
              "    <tr>\n",
              "      <th>908</th>\n",
              "      <td>SILVIO COSTA</td>\n",
              "      <td>PE</td>\n",
              "      <td>0.61</td>\n",
              "      <td>1</td>\n",
              "      <td>2019</td>\n",
              "      <td>0</td>\n",
              "    </tr>\n",
              "    <tr>\n",
              "      <th>909</th>\n",
              "      <td>SILVIO COSTA</td>\n",
              "      <td>PE</td>\n",
              "      <td>305.59</td>\n",
              "      <td>1</td>\n",
              "      <td>2019</td>\n",
              "      <td>0</td>\n",
              "    </tr>\n",
              "    <tr>\n",
              "      <th>...</th>\n",
              "      <td>...</td>\n",
              "      <td>...</td>\n",
              "      <td>...</td>\n",
              "      <td>...</td>\n",
              "      <td>...</td>\n",
              "      <td>...</td>\n",
              "    </tr>\n",
              "    <tr>\n",
              "      <th>105600</th>\n",
              "      <td>Henrique do Paraíso</td>\n",
              "      <td>SP</td>\n",
              "      <td>5,000.00</td>\n",
              "      <td>7</td>\n",
              "      <td>2021</td>\n",
              "      <td>0</td>\n",
              "    </tr>\n",
              "    <tr>\n",
              "      <th>105601</th>\n",
              "      <td>Henrique do Paraíso</td>\n",
              "      <td>SP</td>\n",
              "      <td>7,000.00</td>\n",
              "      <td>8</td>\n",
              "      <td>2021</td>\n",
              "      <td>0</td>\n",
              "    </tr>\n",
              "    <tr>\n",
              "      <th>105602</th>\n",
              "      <td>Henrique do Paraíso</td>\n",
              "      <td>SP</td>\n",
              "      <td>4,000.00</td>\n",
              "      <td>7</td>\n",
              "      <td>2021</td>\n",
              "      <td>0</td>\n",
              "    </tr>\n",
              "    <tr>\n",
              "      <th>105603</th>\n",
              "      <td>Henrique do Paraíso</td>\n",
              "      <td>SP</td>\n",
              "      <td>1.10</td>\n",
              "      <td>7</td>\n",
              "      <td>2021</td>\n",
              "      <td>0</td>\n",
              "    </tr>\n",
              "    <tr>\n",
              "      <th>105604</th>\n",
              "      <td>DaLua do Rota</td>\n",
              "      <td>AP</td>\n",
              "      <td>1.08</td>\n",
              "      <td>7</td>\n",
              "      <td>2021</td>\n",
              "      <td>0</td>\n",
              "    </tr>\n",
              "  </tbody>\n",
              "</table>\n",
              "<p>553759 rows × 6 columns</p>\n",
              "</div>\n",
              "      <button class=\"colab-df-convert\" onclick=\"convertToInteractive('df-c061f2af-0fbc-4b14-a545-d9957e4e87cb')\"\n",
              "              title=\"Convert this dataframe to an interactive table.\"\n",
              "              style=\"display:none;\">\n",
              "        \n",
              "  <svg xmlns=\"http://www.w3.org/2000/svg\" height=\"24px\"viewBox=\"0 0 24 24\"\n",
              "       width=\"24px\">\n",
              "    <path d=\"M0 0h24v24H0V0z\" fill=\"none\"/>\n",
              "    <path d=\"M18.56 5.44l.94 2.06.94-2.06 2.06-.94-2.06-.94-.94-2.06-.94 2.06-2.06.94zm-11 1L8.5 8.5l.94-2.06 2.06-.94-2.06-.94L8.5 2.5l-.94 2.06-2.06.94zm10 10l.94 2.06.94-2.06 2.06-.94-2.06-.94-.94-2.06-.94 2.06-2.06.94z\"/><path d=\"M17.41 7.96l-1.37-1.37c-.4-.4-.92-.59-1.43-.59-.52 0-1.04.2-1.43.59L10.3 9.45l-7.72 7.72c-.78.78-.78 2.05 0 2.83L4 21.41c.39.39.9.59 1.41.59.51 0 1.02-.2 1.41-.59l7.78-7.78 2.81-2.81c.8-.78.8-2.07 0-2.86zM5.41 20L4 18.59l7.72-7.72 1.47 1.35L5.41 20z\"/>\n",
              "  </svg>\n",
              "      </button>\n",
              "      \n",
              "  <style>\n",
              "    .colab-df-container {\n",
              "      display:flex;\n",
              "      flex-wrap:wrap;\n",
              "      gap: 12px;\n",
              "    }\n",
              "\n",
              "    .colab-df-convert {\n",
              "      background-color: #E8F0FE;\n",
              "      border: none;\n",
              "      border-radius: 50%;\n",
              "      cursor: pointer;\n",
              "      display: none;\n",
              "      fill: #1967D2;\n",
              "      height: 32px;\n",
              "      padding: 0 0 0 0;\n",
              "      width: 32px;\n",
              "    }\n",
              "\n",
              "    .colab-df-convert:hover {\n",
              "      background-color: #E2EBFA;\n",
              "      box-shadow: 0px 1px 2px rgba(60, 64, 67, 0.3), 0px 1px 3px 1px rgba(60, 64, 67, 0.15);\n",
              "      fill: #174EA6;\n",
              "    }\n",
              "\n",
              "    [theme=dark] .colab-df-convert {\n",
              "      background-color: #3B4455;\n",
              "      fill: #D2E3FC;\n",
              "    }\n",
              "\n",
              "    [theme=dark] .colab-df-convert:hover {\n",
              "      background-color: #434B5C;\n",
              "      box-shadow: 0px 1px 3px 1px rgba(0, 0, 0, 0.15);\n",
              "      filter: drop-shadow(0px 1px 2px rgba(0, 0, 0, 0.3));\n",
              "      fill: #FFFFFF;\n",
              "    }\n",
              "  </style>\n",
              "\n",
              "      <script>\n",
              "        const buttonEl =\n",
              "          document.querySelector('#df-c061f2af-0fbc-4b14-a545-d9957e4e87cb button.colab-df-convert');\n",
              "        buttonEl.style.display =\n",
              "          google.colab.kernel.accessAllowed ? 'block' : 'none';\n",
              "\n",
              "        async function convertToInteractive(key) {\n",
              "          const element = document.querySelector('#df-c061f2af-0fbc-4b14-a545-d9957e4e87cb');\n",
              "          const dataTable =\n",
              "            await google.colab.kernel.invokeFunction('convertToInteractive',\n",
              "                                                     [key], {});\n",
              "          if (!dataTable) return;\n",
              "\n",
              "          const docLinkHtml = 'Like what you see? Visit the ' +\n",
              "            '<a target=\"_blank\" href=https://colab.research.google.com/notebooks/data_table.ipynb>data table notebook</a>'\n",
              "            + ' to learn more about interactive tables.';\n",
              "          element.innerHTML = '';\n",
              "          dataTable['output_type'] = 'display_data';\n",
              "          await google.colab.output.renderOutput(dataTable, element);\n",
              "          const docLink = document.createElement('div');\n",
              "          docLink.innerHTML = docLinkHtml;\n",
              "          element.appendChild(docLink);\n",
              "        }\n",
              "      </script>\n",
              "    </div>\n",
              "  </div>\n",
              "  "
            ]
          },
          "metadata": {},
          "execution_count": 49
        }
      ]
    },
    {
      "cell_type": "code",
      "source": [
        "gastos_exterior_pandemia = gastos_exterior[gastos_exterior['TipoDocumento'].isin([2])]\n",
        "gastos_exterior_pandemia\n"
      ],
      "metadata": {
        "id": "hkLxqi_sBkyi",
        "colab": {
          "base_uri": "https://localhost:8080/"
        },
        "outputId": "9de4ac04-94f0-4a61-8950-2d61724ea44a"
      },
      "execution_count": null,
      "outputs": [
        {
          "output_type": "execute_result",
          "data": {
            "text/plain": [
              "         NomeParlamentar  UF  ValorLiquido  Mes   Ano  TipoDocumento\n",
              "5489       Gustavo Fruet  PR      3,480.57   11  2019              2\n",
              "14709   Darcísio Perondi  RS        271.71    8  2019              2\n",
              "14924   Darcísio Perondi  RS        246.63    8  2019              2\n",
              "14925   Darcísio Perondi  RS        180.62    8  2019              2\n",
              "15310   Perpétua Almeida  AC        145.56   11  2019              2\n",
              "...                  ...  ..           ...  ...   ...            ...\n",
              "249498         Igor Timo  MG      6,515.97    3  2019              2\n",
              "249602         Igor Timo  MG      3,991.80    3  2019              2\n",
              "272821    AJ Albuquerque  CE     16,679.10   10  2019              2\n",
              "272822    AJ Albuquerque  CE      7,360.00   10  2019              2\n",
              "35208          Hugo Leal  RJ      4,414.83    7  2020              2\n",
              "\n",
              "[71 rows x 6 columns]"
            ],
            "text/html": [
              "\n",
              "  <div id=\"df-caa93dd8-2e6f-4567-b85d-62ad04ba8478\">\n",
              "    <div class=\"colab-df-container\">\n",
              "      <div>\n",
              "<style scoped>\n",
              "    .dataframe tbody tr th:only-of-type {\n",
              "        vertical-align: middle;\n",
              "    }\n",
              "\n",
              "    .dataframe tbody tr th {\n",
              "        vertical-align: top;\n",
              "    }\n",
              "\n",
              "    .dataframe thead th {\n",
              "        text-align: right;\n",
              "    }\n",
              "</style>\n",
              "<table border=\"1\" class=\"dataframe\">\n",
              "  <thead>\n",
              "    <tr style=\"text-align: right;\">\n",
              "      <th></th>\n",
              "      <th>NomeParlamentar</th>\n",
              "      <th>UF</th>\n",
              "      <th>ValorLiquido</th>\n",
              "      <th>Mes</th>\n",
              "      <th>Ano</th>\n",
              "      <th>TipoDocumento</th>\n",
              "    </tr>\n",
              "  </thead>\n",
              "  <tbody>\n",
              "    <tr>\n",
              "      <th>5489</th>\n",
              "      <td>Gustavo Fruet</td>\n",
              "      <td>PR</td>\n",
              "      <td>3,480.57</td>\n",
              "      <td>11</td>\n",
              "      <td>2019</td>\n",
              "      <td>2</td>\n",
              "    </tr>\n",
              "    <tr>\n",
              "      <th>14709</th>\n",
              "      <td>Darcísio Perondi</td>\n",
              "      <td>RS</td>\n",
              "      <td>271.71</td>\n",
              "      <td>8</td>\n",
              "      <td>2019</td>\n",
              "      <td>2</td>\n",
              "    </tr>\n",
              "    <tr>\n",
              "      <th>14924</th>\n",
              "      <td>Darcísio Perondi</td>\n",
              "      <td>RS</td>\n",
              "      <td>246.63</td>\n",
              "      <td>8</td>\n",
              "      <td>2019</td>\n",
              "      <td>2</td>\n",
              "    </tr>\n",
              "    <tr>\n",
              "      <th>14925</th>\n",
              "      <td>Darcísio Perondi</td>\n",
              "      <td>RS</td>\n",
              "      <td>180.62</td>\n",
              "      <td>8</td>\n",
              "      <td>2019</td>\n",
              "      <td>2</td>\n",
              "    </tr>\n",
              "    <tr>\n",
              "      <th>15310</th>\n",
              "      <td>Perpétua Almeida</td>\n",
              "      <td>AC</td>\n",
              "      <td>145.56</td>\n",
              "      <td>11</td>\n",
              "      <td>2019</td>\n",
              "      <td>2</td>\n",
              "    </tr>\n",
              "    <tr>\n",
              "      <th>...</th>\n",
              "      <td>...</td>\n",
              "      <td>...</td>\n",
              "      <td>...</td>\n",
              "      <td>...</td>\n",
              "      <td>...</td>\n",
              "      <td>...</td>\n",
              "    </tr>\n",
              "    <tr>\n",
              "      <th>249498</th>\n",
              "      <td>Igor Timo</td>\n",
              "      <td>MG</td>\n",
              "      <td>6,515.97</td>\n",
              "      <td>3</td>\n",
              "      <td>2019</td>\n",
              "      <td>2</td>\n",
              "    </tr>\n",
              "    <tr>\n",
              "      <th>249602</th>\n",
              "      <td>Igor Timo</td>\n",
              "      <td>MG</td>\n",
              "      <td>3,991.80</td>\n",
              "      <td>3</td>\n",
              "      <td>2019</td>\n",
              "      <td>2</td>\n",
              "    </tr>\n",
              "    <tr>\n",
              "      <th>272821</th>\n",
              "      <td>AJ Albuquerque</td>\n",
              "      <td>CE</td>\n",
              "      <td>16,679.10</td>\n",
              "      <td>10</td>\n",
              "      <td>2019</td>\n",
              "      <td>2</td>\n",
              "    </tr>\n",
              "    <tr>\n",
              "      <th>272822</th>\n",
              "      <td>AJ Albuquerque</td>\n",
              "      <td>CE</td>\n",
              "      <td>7,360.00</td>\n",
              "      <td>10</td>\n",
              "      <td>2019</td>\n",
              "      <td>2</td>\n",
              "    </tr>\n",
              "    <tr>\n",
              "      <th>35208</th>\n",
              "      <td>Hugo Leal</td>\n",
              "      <td>RJ</td>\n",
              "      <td>4,414.83</td>\n",
              "      <td>7</td>\n",
              "      <td>2020</td>\n",
              "      <td>2</td>\n",
              "    </tr>\n",
              "  </tbody>\n",
              "</table>\n",
              "<p>71 rows × 6 columns</p>\n",
              "</div>\n",
              "      <button class=\"colab-df-convert\" onclick=\"convertToInteractive('df-caa93dd8-2e6f-4567-b85d-62ad04ba8478')\"\n",
              "              title=\"Convert this dataframe to an interactive table.\"\n",
              "              style=\"display:none;\">\n",
              "        \n",
              "  <svg xmlns=\"http://www.w3.org/2000/svg\" height=\"24px\"viewBox=\"0 0 24 24\"\n",
              "       width=\"24px\">\n",
              "    <path d=\"M0 0h24v24H0V0z\" fill=\"none\"/>\n",
              "    <path d=\"M18.56 5.44l.94 2.06.94-2.06 2.06-.94-2.06-.94-.94-2.06-.94 2.06-2.06.94zm-11 1L8.5 8.5l.94-2.06 2.06-.94-2.06-.94L8.5 2.5l-.94 2.06-2.06.94zm10 10l.94 2.06.94-2.06 2.06-.94-2.06-.94-.94-2.06-.94 2.06-2.06.94z\"/><path d=\"M17.41 7.96l-1.37-1.37c-.4-.4-.92-.59-1.43-.59-.52 0-1.04.2-1.43.59L10.3 9.45l-7.72 7.72c-.78.78-.78 2.05 0 2.83L4 21.41c.39.39.9.59 1.41.59.51 0 1.02-.2 1.41-.59l7.78-7.78 2.81-2.81c.8-.78.8-2.07 0-2.86zM5.41 20L4 18.59l7.72-7.72 1.47 1.35L5.41 20z\"/>\n",
              "  </svg>\n",
              "      </button>\n",
              "      \n",
              "  <style>\n",
              "    .colab-df-container {\n",
              "      display:flex;\n",
              "      flex-wrap:wrap;\n",
              "      gap: 12px;\n",
              "    }\n",
              "\n",
              "    .colab-df-convert {\n",
              "      background-color: #E8F0FE;\n",
              "      border: none;\n",
              "      border-radius: 50%;\n",
              "      cursor: pointer;\n",
              "      display: none;\n",
              "      fill: #1967D2;\n",
              "      height: 32px;\n",
              "      padding: 0 0 0 0;\n",
              "      width: 32px;\n",
              "    }\n",
              "\n",
              "    .colab-df-convert:hover {\n",
              "      background-color: #E2EBFA;\n",
              "      box-shadow: 0px 1px 2px rgba(60, 64, 67, 0.3), 0px 1px 3px 1px rgba(60, 64, 67, 0.15);\n",
              "      fill: #174EA6;\n",
              "    }\n",
              "\n",
              "    [theme=dark] .colab-df-convert {\n",
              "      background-color: #3B4455;\n",
              "      fill: #D2E3FC;\n",
              "    }\n",
              "\n",
              "    [theme=dark] .colab-df-convert:hover {\n",
              "      background-color: #434B5C;\n",
              "      box-shadow: 0px 1px 3px 1px rgba(0, 0, 0, 0.15);\n",
              "      filter: drop-shadow(0px 1px 2px rgba(0, 0, 0, 0.3));\n",
              "      fill: #FFFFFF;\n",
              "    }\n",
              "  </style>\n",
              "\n",
              "      <script>\n",
              "        const buttonEl =\n",
              "          document.querySelector('#df-caa93dd8-2e6f-4567-b85d-62ad04ba8478 button.colab-df-convert');\n",
              "        buttonEl.style.display =\n",
              "          google.colab.kernel.accessAllowed ? 'block' : 'none';\n",
              "\n",
              "        async function convertToInteractive(key) {\n",
              "          const element = document.querySelector('#df-caa93dd8-2e6f-4567-b85d-62ad04ba8478');\n",
              "          const dataTable =\n",
              "            await google.colab.kernel.invokeFunction('convertToInteractive',\n",
              "                                                     [key], {});\n",
              "          if (!dataTable) return;\n",
              "\n",
              "          const docLinkHtml = 'Like what you see? Visit the ' +\n",
              "            '<a target=\"_blank\" href=https://colab.research.google.com/notebooks/data_table.ipynb>data table notebook</a>'\n",
              "            + ' to learn more about interactive tables.';\n",
              "          element.innerHTML = '';\n",
              "          dataTable['output_type'] = 'display_data';\n",
              "          await google.colab.output.renderOutput(dataTable, element);\n",
              "          const docLink = document.createElement('div');\n",
              "          docLink.innerHTML = docLinkHtml;\n",
              "          element.appendChild(docLink);\n",
              "        }\n",
              "      </script>\n",
              "    </div>\n",
              "  </div>\n",
              "  "
            ]
          },
          "metadata": {},
          "execution_count": 50
        }
      ]
    },
    {
      "cell_type": "code",
      "source": [
        "gastos_exterior_pandemia_2019 = gastos_exterior_pandemia[gastos_exterior_pandemia['Ano'].isin([2019])].sort_values(by='UF', ascending = False)\n",
        "gastos_exterior_pandemia_2019 "
      ],
      "metadata": {
        "id": "1DRmrb0dVDT2",
        "colab": {
          "base_uri": "https://localhost:8080/"
        },
        "outputId": "c19cc7af-51e1-44bd-8290-5f768201a01c"
      },
      "execution_count": null,
      "outputs": [
        {
          "output_type": "execute_result",
          "data": {
            "text/plain": [
              "         NomeParlamentar  UF  ValorLiquido  Mes   Ano  TipoDocumento\n",
              "162177      Eduardo Cury  SP      5,618.69   10  2019              2\n",
              "167967       Vitor Lippi  SP         35.91    6  2019              2\n",
              "162185      Eduardo Cury  SP      5,001.10    4  2019              2\n",
              "162212      Eduardo Cury  SP         85.15    4  2019              2\n",
              "167727       Vitor Lippi  SP        163.20    6  2019              2\n",
              "...                  ...  ..           ...  ...   ...            ...\n",
              "81002     Márcio Marinho  BA      8,038.61    4  2019              2\n",
              "15310   Perpétua Almeida  AC        145.56   11  2019              2\n",
              "15311   Perpétua Almeida  AC        108.33   11  2019              2\n",
              "15342   Perpétua Almeida  AC        918.50   11  2019              2\n",
              "15343   Perpétua Almeida  AC      1,377.22    9  2019              2\n",
              "\n",
              "[70 rows x 6 columns]"
            ],
            "text/html": [
              "\n",
              "  <div id=\"df-01d8024e-7ce2-4608-a0f8-9a834bd56663\">\n",
              "    <div class=\"colab-df-container\">\n",
              "      <div>\n",
              "<style scoped>\n",
              "    .dataframe tbody tr th:only-of-type {\n",
              "        vertical-align: middle;\n",
              "    }\n",
              "\n",
              "    .dataframe tbody tr th {\n",
              "        vertical-align: top;\n",
              "    }\n",
              "\n",
              "    .dataframe thead th {\n",
              "        text-align: right;\n",
              "    }\n",
              "</style>\n",
              "<table border=\"1\" class=\"dataframe\">\n",
              "  <thead>\n",
              "    <tr style=\"text-align: right;\">\n",
              "      <th></th>\n",
              "      <th>NomeParlamentar</th>\n",
              "      <th>UF</th>\n",
              "      <th>ValorLiquido</th>\n",
              "      <th>Mes</th>\n",
              "      <th>Ano</th>\n",
              "      <th>TipoDocumento</th>\n",
              "    </tr>\n",
              "  </thead>\n",
              "  <tbody>\n",
              "    <tr>\n",
              "      <th>162177</th>\n",
              "      <td>Eduardo Cury</td>\n",
              "      <td>SP</td>\n",
              "      <td>5,618.69</td>\n",
              "      <td>10</td>\n",
              "      <td>2019</td>\n",
              "      <td>2</td>\n",
              "    </tr>\n",
              "    <tr>\n",
              "      <th>167967</th>\n",
              "      <td>Vitor Lippi</td>\n",
              "      <td>SP</td>\n",
              "      <td>35.91</td>\n",
              "      <td>6</td>\n",
              "      <td>2019</td>\n",
              "      <td>2</td>\n",
              "    </tr>\n",
              "    <tr>\n",
              "      <th>162185</th>\n",
              "      <td>Eduardo Cury</td>\n",
              "      <td>SP</td>\n",
              "      <td>5,001.10</td>\n",
              "      <td>4</td>\n",
              "      <td>2019</td>\n",
              "      <td>2</td>\n",
              "    </tr>\n",
              "    <tr>\n",
              "      <th>162212</th>\n",
              "      <td>Eduardo Cury</td>\n",
              "      <td>SP</td>\n",
              "      <td>85.15</td>\n",
              "      <td>4</td>\n",
              "      <td>2019</td>\n",
              "      <td>2</td>\n",
              "    </tr>\n",
              "    <tr>\n",
              "      <th>167727</th>\n",
              "      <td>Vitor Lippi</td>\n",
              "      <td>SP</td>\n",
              "      <td>163.20</td>\n",
              "      <td>6</td>\n",
              "      <td>2019</td>\n",
              "      <td>2</td>\n",
              "    </tr>\n",
              "    <tr>\n",
              "      <th>...</th>\n",
              "      <td>...</td>\n",
              "      <td>...</td>\n",
              "      <td>...</td>\n",
              "      <td>...</td>\n",
              "      <td>...</td>\n",
              "      <td>...</td>\n",
              "    </tr>\n",
              "    <tr>\n",
              "      <th>81002</th>\n",
              "      <td>Márcio Marinho</td>\n",
              "      <td>BA</td>\n",
              "      <td>8,038.61</td>\n",
              "      <td>4</td>\n",
              "      <td>2019</td>\n",
              "      <td>2</td>\n",
              "    </tr>\n",
              "    <tr>\n",
              "      <th>15310</th>\n",
              "      <td>Perpétua Almeida</td>\n",
              "      <td>AC</td>\n",
              "      <td>145.56</td>\n",
              "      <td>11</td>\n",
              "      <td>2019</td>\n",
              "      <td>2</td>\n",
              "    </tr>\n",
              "    <tr>\n",
              "      <th>15311</th>\n",
              "      <td>Perpétua Almeida</td>\n",
              "      <td>AC</td>\n",
              "      <td>108.33</td>\n",
              "      <td>11</td>\n",
              "      <td>2019</td>\n",
              "      <td>2</td>\n",
              "    </tr>\n",
              "    <tr>\n",
              "      <th>15342</th>\n",
              "      <td>Perpétua Almeida</td>\n",
              "      <td>AC</td>\n",
              "      <td>918.50</td>\n",
              "      <td>11</td>\n",
              "      <td>2019</td>\n",
              "      <td>2</td>\n",
              "    </tr>\n",
              "    <tr>\n",
              "      <th>15343</th>\n",
              "      <td>Perpétua Almeida</td>\n",
              "      <td>AC</td>\n",
              "      <td>1,377.22</td>\n",
              "      <td>9</td>\n",
              "      <td>2019</td>\n",
              "      <td>2</td>\n",
              "    </tr>\n",
              "  </tbody>\n",
              "</table>\n",
              "<p>70 rows × 6 columns</p>\n",
              "</div>\n",
              "      <button class=\"colab-df-convert\" onclick=\"convertToInteractive('df-01d8024e-7ce2-4608-a0f8-9a834bd56663')\"\n",
              "              title=\"Convert this dataframe to an interactive table.\"\n",
              "              style=\"display:none;\">\n",
              "        \n",
              "  <svg xmlns=\"http://www.w3.org/2000/svg\" height=\"24px\"viewBox=\"0 0 24 24\"\n",
              "       width=\"24px\">\n",
              "    <path d=\"M0 0h24v24H0V0z\" fill=\"none\"/>\n",
              "    <path d=\"M18.56 5.44l.94 2.06.94-2.06 2.06-.94-2.06-.94-.94-2.06-.94 2.06-2.06.94zm-11 1L8.5 8.5l.94-2.06 2.06-.94-2.06-.94L8.5 2.5l-.94 2.06-2.06.94zm10 10l.94 2.06.94-2.06 2.06-.94-2.06-.94-.94-2.06-.94 2.06-2.06.94z\"/><path d=\"M17.41 7.96l-1.37-1.37c-.4-.4-.92-.59-1.43-.59-.52 0-1.04.2-1.43.59L10.3 9.45l-7.72 7.72c-.78.78-.78 2.05 0 2.83L4 21.41c.39.39.9.59 1.41.59.51 0 1.02-.2 1.41-.59l7.78-7.78 2.81-2.81c.8-.78.8-2.07 0-2.86zM5.41 20L4 18.59l7.72-7.72 1.47 1.35L5.41 20z\"/>\n",
              "  </svg>\n",
              "      </button>\n",
              "      \n",
              "  <style>\n",
              "    .colab-df-container {\n",
              "      display:flex;\n",
              "      flex-wrap:wrap;\n",
              "      gap: 12px;\n",
              "    }\n",
              "\n",
              "    .colab-df-convert {\n",
              "      background-color: #E8F0FE;\n",
              "      border: none;\n",
              "      border-radius: 50%;\n",
              "      cursor: pointer;\n",
              "      display: none;\n",
              "      fill: #1967D2;\n",
              "      height: 32px;\n",
              "      padding: 0 0 0 0;\n",
              "      width: 32px;\n",
              "    }\n",
              "\n",
              "    .colab-df-convert:hover {\n",
              "      background-color: #E2EBFA;\n",
              "      box-shadow: 0px 1px 2px rgba(60, 64, 67, 0.3), 0px 1px 3px 1px rgba(60, 64, 67, 0.15);\n",
              "      fill: #174EA6;\n",
              "    }\n",
              "\n",
              "    [theme=dark] .colab-df-convert {\n",
              "      background-color: #3B4455;\n",
              "      fill: #D2E3FC;\n",
              "    }\n",
              "\n",
              "    [theme=dark] .colab-df-convert:hover {\n",
              "      background-color: #434B5C;\n",
              "      box-shadow: 0px 1px 3px 1px rgba(0, 0, 0, 0.15);\n",
              "      filter: drop-shadow(0px 1px 2px rgba(0, 0, 0, 0.3));\n",
              "      fill: #FFFFFF;\n",
              "    }\n",
              "  </style>\n",
              "\n",
              "      <script>\n",
              "        const buttonEl =\n",
              "          document.querySelector('#df-01d8024e-7ce2-4608-a0f8-9a834bd56663 button.colab-df-convert');\n",
              "        buttonEl.style.display =\n",
              "          google.colab.kernel.accessAllowed ? 'block' : 'none';\n",
              "\n",
              "        async function convertToInteractive(key) {\n",
              "          const element = document.querySelector('#df-01d8024e-7ce2-4608-a0f8-9a834bd56663');\n",
              "          const dataTable =\n",
              "            await google.colab.kernel.invokeFunction('convertToInteractive',\n",
              "                                                     [key], {});\n",
              "          if (!dataTable) return;\n",
              "\n",
              "          const docLinkHtml = 'Like what you see? Visit the ' +\n",
              "            '<a target=\"_blank\" href=https://colab.research.google.com/notebooks/data_table.ipynb>data table notebook</a>'\n",
              "            + ' to learn more about interactive tables.';\n",
              "          element.innerHTML = '';\n",
              "          dataTable['output_type'] = 'display_data';\n",
              "          await google.colab.output.renderOutput(dataTable, element);\n",
              "          const docLink = document.createElement('div');\n",
              "          docLink.innerHTML = docLinkHtml;\n",
              "          element.appendChild(docLink);\n",
              "        }\n",
              "      </script>\n",
              "    </div>\n",
              "  </div>\n",
              "  "
            ]
          },
          "metadata": {},
          "execution_count": 51
        }
      ]
    },
    {
      "cell_type": "code",
      "source": [
        "gastos_exterior_pandemia_2020 = gastos_exterior_pandemia[gastos_exterior_pandemia['Ano'].isin([2020])].sort_values(by='UF', ascending = False)\n",
        "gastos_exterior_pandemia_2020"
      ],
      "metadata": {
        "id": "NY1I2MgTWyHV",
        "colab": {
          "base_uri": "https://localhost:8080/"
        },
        "outputId": "93fc37c6-2cb5-423d-d983-84e749d97306"
      },
      "execution_count": null,
      "outputs": [
        {
          "output_type": "execute_result",
          "data": {
            "text/plain": [
              "      NomeParlamentar  UF  ValorLiquido  Mes   Ano  TipoDocumento\n",
              "35208       Hugo Leal  RJ      4,414.83    7  2020              2"
            ],
            "text/html": [
              "\n",
              "  <div id=\"df-91f114ae-8d5a-4f43-ae75-ddc9fb2cd697\">\n",
              "    <div class=\"colab-df-container\">\n",
              "      <div>\n",
              "<style scoped>\n",
              "    .dataframe tbody tr th:only-of-type {\n",
              "        vertical-align: middle;\n",
              "    }\n",
              "\n",
              "    .dataframe tbody tr th {\n",
              "        vertical-align: top;\n",
              "    }\n",
              "\n",
              "    .dataframe thead th {\n",
              "        text-align: right;\n",
              "    }\n",
              "</style>\n",
              "<table border=\"1\" class=\"dataframe\">\n",
              "  <thead>\n",
              "    <tr style=\"text-align: right;\">\n",
              "      <th></th>\n",
              "      <th>NomeParlamentar</th>\n",
              "      <th>UF</th>\n",
              "      <th>ValorLiquido</th>\n",
              "      <th>Mes</th>\n",
              "      <th>Ano</th>\n",
              "      <th>TipoDocumento</th>\n",
              "    </tr>\n",
              "  </thead>\n",
              "  <tbody>\n",
              "    <tr>\n",
              "      <th>35208</th>\n",
              "      <td>Hugo Leal</td>\n",
              "      <td>RJ</td>\n",
              "      <td>4,414.83</td>\n",
              "      <td>7</td>\n",
              "      <td>2020</td>\n",
              "      <td>2</td>\n",
              "    </tr>\n",
              "  </tbody>\n",
              "</table>\n",
              "</div>\n",
              "      <button class=\"colab-df-convert\" onclick=\"convertToInteractive('df-91f114ae-8d5a-4f43-ae75-ddc9fb2cd697')\"\n",
              "              title=\"Convert this dataframe to an interactive table.\"\n",
              "              style=\"display:none;\">\n",
              "        \n",
              "  <svg xmlns=\"http://www.w3.org/2000/svg\" height=\"24px\"viewBox=\"0 0 24 24\"\n",
              "       width=\"24px\">\n",
              "    <path d=\"M0 0h24v24H0V0z\" fill=\"none\"/>\n",
              "    <path d=\"M18.56 5.44l.94 2.06.94-2.06 2.06-.94-2.06-.94-.94-2.06-.94 2.06-2.06.94zm-11 1L8.5 8.5l.94-2.06 2.06-.94-2.06-.94L8.5 2.5l-.94 2.06-2.06.94zm10 10l.94 2.06.94-2.06 2.06-.94-2.06-.94-.94-2.06-.94 2.06-2.06.94z\"/><path d=\"M17.41 7.96l-1.37-1.37c-.4-.4-.92-.59-1.43-.59-.52 0-1.04.2-1.43.59L10.3 9.45l-7.72 7.72c-.78.78-.78 2.05 0 2.83L4 21.41c.39.39.9.59 1.41.59.51 0 1.02-.2 1.41-.59l7.78-7.78 2.81-2.81c.8-.78.8-2.07 0-2.86zM5.41 20L4 18.59l7.72-7.72 1.47 1.35L5.41 20z\"/>\n",
              "  </svg>\n",
              "      </button>\n",
              "      \n",
              "  <style>\n",
              "    .colab-df-container {\n",
              "      display:flex;\n",
              "      flex-wrap:wrap;\n",
              "      gap: 12px;\n",
              "    }\n",
              "\n",
              "    .colab-df-convert {\n",
              "      background-color: #E8F0FE;\n",
              "      border: none;\n",
              "      border-radius: 50%;\n",
              "      cursor: pointer;\n",
              "      display: none;\n",
              "      fill: #1967D2;\n",
              "      height: 32px;\n",
              "      padding: 0 0 0 0;\n",
              "      width: 32px;\n",
              "    }\n",
              "\n",
              "    .colab-df-convert:hover {\n",
              "      background-color: #E2EBFA;\n",
              "      box-shadow: 0px 1px 2px rgba(60, 64, 67, 0.3), 0px 1px 3px 1px rgba(60, 64, 67, 0.15);\n",
              "      fill: #174EA6;\n",
              "    }\n",
              "\n",
              "    [theme=dark] .colab-df-convert {\n",
              "      background-color: #3B4455;\n",
              "      fill: #D2E3FC;\n",
              "    }\n",
              "\n",
              "    [theme=dark] .colab-df-convert:hover {\n",
              "      background-color: #434B5C;\n",
              "      box-shadow: 0px 1px 3px 1px rgba(0, 0, 0, 0.15);\n",
              "      filter: drop-shadow(0px 1px 2px rgba(0, 0, 0, 0.3));\n",
              "      fill: #FFFFFF;\n",
              "    }\n",
              "  </style>\n",
              "\n",
              "      <script>\n",
              "        const buttonEl =\n",
              "          document.querySelector('#df-91f114ae-8d5a-4f43-ae75-ddc9fb2cd697 button.colab-df-convert');\n",
              "        buttonEl.style.display =\n",
              "          google.colab.kernel.accessAllowed ? 'block' : 'none';\n",
              "\n",
              "        async function convertToInteractive(key) {\n",
              "          const element = document.querySelector('#df-91f114ae-8d5a-4f43-ae75-ddc9fb2cd697');\n",
              "          const dataTable =\n",
              "            await google.colab.kernel.invokeFunction('convertToInteractive',\n",
              "                                                     [key], {});\n",
              "          if (!dataTable) return;\n",
              "\n",
              "          const docLinkHtml = 'Like what you see? Visit the ' +\n",
              "            '<a target=\"_blank\" href=https://colab.research.google.com/notebooks/data_table.ipynb>data table notebook</a>'\n",
              "            + ' to learn more about interactive tables.';\n",
              "          element.innerHTML = '';\n",
              "          dataTable['output_type'] = 'display_data';\n",
              "          await google.colab.output.renderOutput(dataTable, element);\n",
              "          const docLink = document.createElement('div');\n",
              "          docLink.innerHTML = docLinkHtml;\n",
              "          element.appendChild(docLink);\n",
              "        }\n",
              "      </script>\n",
              "    </div>\n",
              "  </div>\n",
              "  "
            ]
          },
          "metadata": {},
          "execution_count": 52
        }
      ]
    },
    {
      "cell_type": "code",
      "source": [
        "gastos_exterior_pandemia_2021 = gastos_exterior_pandemia[gastos_exterior_pandemia['Ano'].isin([2021])].sort_values(by='UF', ascending = False)\n",
        "gastos_exterior_pandemia_2021"
      ],
      "metadata": {
        "id": "oD-WHa7xW6Tv",
        "colab": {
          "base_uri": "https://localhost:8080/"
        },
        "outputId": "2ced26b0-9ac9-496a-a49c-96dc4332da14"
      },
      "execution_count": null,
      "outputs": [
        {
          "output_type": "execute_result",
          "data": {
            "text/plain": [
              "Empty DataFrame\n",
              "Columns: [NomeParlamentar, UF, ValorLiquido, Mes, Ano, TipoDocumento]\n",
              "Index: []"
            ],
            "text/html": [
              "\n",
              "  <div id=\"df-3a154370-5a9d-4663-9912-027ec68bad23\">\n",
              "    <div class=\"colab-df-container\">\n",
              "      <div>\n",
              "<style scoped>\n",
              "    .dataframe tbody tr th:only-of-type {\n",
              "        vertical-align: middle;\n",
              "    }\n",
              "\n",
              "    .dataframe tbody tr th {\n",
              "        vertical-align: top;\n",
              "    }\n",
              "\n",
              "    .dataframe thead th {\n",
              "        text-align: right;\n",
              "    }\n",
              "</style>\n",
              "<table border=\"1\" class=\"dataframe\">\n",
              "  <thead>\n",
              "    <tr style=\"text-align: right;\">\n",
              "      <th></th>\n",
              "      <th>NomeParlamentar</th>\n",
              "      <th>UF</th>\n",
              "      <th>ValorLiquido</th>\n",
              "      <th>Mes</th>\n",
              "      <th>Ano</th>\n",
              "      <th>TipoDocumento</th>\n",
              "    </tr>\n",
              "  </thead>\n",
              "  <tbody>\n",
              "  </tbody>\n",
              "</table>\n",
              "</div>\n",
              "      <button class=\"colab-df-convert\" onclick=\"convertToInteractive('df-3a154370-5a9d-4663-9912-027ec68bad23')\"\n",
              "              title=\"Convert this dataframe to an interactive table.\"\n",
              "              style=\"display:none;\">\n",
              "        \n",
              "  <svg xmlns=\"http://www.w3.org/2000/svg\" height=\"24px\"viewBox=\"0 0 24 24\"\n",
              "       width=\"24px\">\n",
              "    <path d=\"M0 0h24v24H0V0z\" fill=\"none\"/>\n",
              "    <path d=\"M18.56 5.44l.94 2.06.94-2.06 2.06-.94-2.06-.94-.94-2.06-.94 2.06-2.06.94zm-11 1L8.5 8.5l.94-2.06 2.06-.94-2.06-.94L8.5 2.5l-.94 2.06-2.06.94zm10 10l.94 2.06.94-2.06 2.06-.94-2.06-.94-.94-2.06-.94 2.06-2.06.94z\"/><path d=\"M17.41 7.96l-1.37-1.37c-.4-.4-.92-.59-1.43-.59-.52 0-1.04.2-1.43.59L10.3 9.45l-7.72 7.72c-.78.78-.78 2.05 0 2.83L4 21.41c.39.39.9.59 1.41.59.51 0 1.02-.2 1.41-.59l7.78-7.78 2.81-2.81c.8-.78.8-2.07 0-2.86zM5.41 20L4 18.59l7.72-7.72 1.47 1.35L5.41 20z\"/>\n",
              "  </svg>\n",
              "      </button>\n",
              "      \n",
              "  <style>\n",
              "    .colab-df-container {\n",
              "      display:flex;\n",
              "      flex-wrap:wrap;\n",
              "      gap: 12px;\n",
              "    }\n",
              "\n",
              "    .colab-df-convert {\n",
              "      background-color: #E8F0FE;\n",
              "      border: none;\n",
              "      border-radius: 50%;\n",
              "      cursor: pointer;\n",
              "      display: none;\n",
              "      fill: #1967D2;\n",
              "      height: 32px;\n",
              "      padding: 0 0 0 0;\n",
              "      width: 32px;\n",
              "    }\n",
              "\n",
              "    .colab-df-convert:hover {\n",
              "      background-color: #E2EBFA;\n",
              "      box-shadow: 0px 1px 2px rgba(60, 64, 67, 0.3), 0px 1px 3px 1px rgba(60, 64, 67, 0.15);\n",
              "      fill: #174EA6;\n",
              "    }\n",
              "\n",
              "    [theme=dark] .colab-df-convert {\n",
              "      background-color: #3B4455;\n",
              "      fill: #D2E3FC;\n",
              "    }\n",
              "\n",
              "    [theme=dark] .colab-df-convert:hover {\n",
              "      background-color: #434B5C;\n",
              "      box-shadow: 0px 1px 3px 1px rgba(0, 0, 0, 0.15);\n",
              "      filter: drop-shadow(0px 1px 2px rgba(0, 0, 0, 0.3));\n",
              "      fill: #FFFFFF;\n",
              "    }\n",
              "  </style>\n",
              "\n",
              "      <script>\n",
              "        const buttonEl =\n",
              "          document.querySelector('#df-3a154370-5a9d-4663-9912-027ec68bad23 button.colab-df-convert');\n",
              "        buttonEl.style.display =\n",
              "          google.colab.kernel.accessAllowed ? 'block' : 'none';\n",
              "\n",
              "        async function convertToInteractive(key) {\n",
              "          const element = document.querySelector('#df-3a154370-5a9d-4663-9912-027ec68bad23');\n",
              "          const dataTable =\n",
              "            await google.colab.kernel.invokeFunction('convertToInteractive',\n",
              "                                                     [key], {});\n",
              "          if (!dataTable) return;\n",
              "\n",
              "          const docLinkHtml = 'Like what you see? Visit the ' +\n",
              "            '<a target=\"_blank\" href=https://colab.research.google.com/notebooks/data_table.ipynb>data table notebook</a>'\n",
              "            + ' to learn more about interactive tables.';\n",
              "          element.innerHTML = '';\n",
              "          dataTable['output_type'] = 'display_data';\n",
              "          await google.colab.output.renderOutput(dataTable, element);\n",
              "          const docLink = document.createElement('div');\n",
              "          docLink.innerHTML = docLinkHtml;\n",
              "          element.appendChild(docLink);\n",
              "        }\n",
              "      </script>\n",
              "    </div>\n",
              "  </div>\n",
              "  "
            ]
          },
          "metadata": {},
          "execution_count": 53
        }
      ]
    },
    {
      "cell_type": "markdown",
      "source": [
        "A difereça entre uso de recursos público no exterior entre 2019 e 2021 é gritante. Porém tivemos um político que no meio de um caos sanitário viajou para a Europa."
      ],
      "metadata": {
        "id": "LomnKXnTGV5Y"
      }
    },
    {
      "cell_type": "markdown",
      "source": [
        "O único parlamentar que teve gasto no exterior durante a pandemia foi o deputado federal do PSD-RJ Hugo Leal com a justificativa de uma passagem pela KLM. O que é um tanto questionável considerando as recomendações de isolamento do periodo viajado.\n",
        " \n",
        "![image.png](data:image/png;base64,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)\n",
        "\n",
        "(Imagem divulgada no site do próprio deputado)"
      ],
      "metadata": {
        "id": "vBWZuJJyYAN6"
      }
    },
    {
      "cell_type": "markdown",
      "source": [
        "Após uma análise sobre o comportamento político do parlamentar é possível compreender o por que da atitude um tanto controversa com o período vivido. As manobras politicas através do anos o colocaram nos holofotes do senado e sua habilidade de transitar em governos de forma bem posicionada, o colocou como relator Fiscal, dando poder para esse parlamentar quanto ao uso das verbas estudadas nesse projeto. \n",
        "\n",
        "Apesar de ter muitas informações faltantes, é notório o quanto a verba é aplicada de forma inadequada e irresponsável.\n",
        "\n",
        "É necessário, como cidadãos, termos uma maior presença e cobrarmos dos parlamentares que votamos o uso da verba pública como um bem que vai ser revertido, mesmo de forma indireta, para a população.\n",
        "\n",
        "\n",
        "(*fonte disponível em 13.2*)"
      ],
      "metadata": {
        "id": "QGxw_pHe41lk"
      }
    },
    {
      "cell_type": "markdown",
      "source": [
        "# **Fontes:**\n",
        "\n",
        "\n",
        "- 13.1 https://adeusbolsonaro.com.br/rj/deputado-hugo-leal.html?2\n",
        "- 13.2 https://veja.abril.com.br/politica/relator-do-orcamento-hugo-leal-ganha-poder-e-guarda-segredos-valiosos/"
      ],
      "metadata": {
        "id": "jeVTxwy96BsB"
      }
    }
  ],
  "metadata": {
    "colab": {
      "collapsed_sections": [
        "z4X_oq6AU-6M",
        "I3WACpqEUjcI",
        "JKgKeDYLBF3u",
        "6esZZN4FBL8s",
        "V4bspS-S3No5",
        "TH9mLSQeQWR2",
        "r09d8IJjXy9H",
        "uqd3emuKPE7I",
        "DViMUSw_BQAE",
        "r1F3LNOWV1d6",
        "YZ82T3AFWAGJ",
        "qBOjuhccYxDo",
        "4OWhKVRVKon5",
        "wKgXsU5vlS5z",
        "clTBvf04mi0i",
        "_XYQMiEZn6pK"
      ],
      "name": "projeto5_grupo1.ipynb",
      "provenance": [],
      "include_colab_link": true
    },
    "kernelspec": {
      "display_name": "Python 3",
      "name": "python3"
    },
    "language_info": {
      "name": "python"
    }
  },
  "nbformat": 4,
  "nbformat_minor": 0
}