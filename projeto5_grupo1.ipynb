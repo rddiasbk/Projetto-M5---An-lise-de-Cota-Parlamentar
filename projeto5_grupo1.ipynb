{
  "cells": [
    {
      "cell_type": "markdown",
      "metadata": {
        "id": "view-in-github",
        "colab_type": "text"
      },
      "source": [
        "<a href=\"https://colab.research.google.com/github/rddiasbk/Projetto-M5---An-lise-de-Cota-Parlamentar/blob/main/projeto5_grupo1.ipynb\" target=\"_parent\"><img src=\"https://colab.research.google.com/assets/colab-badge.svg\" alt=\"Open In Colab\"/></a>"
      ]
    },
    {
      "cell_type": "markdown",
      "metadata": {
        "id": "ziBZiD1VJYip"
      },
      "source": [
        "# **Briefing**"
      ]
    },
    {
      "cell_type": "markdown",
      "metadata": {
        "id": "jwc-S_PgVIXW"
      },
      "source": [
        "\n",
        "O objetivo do projeto é investigar os gastos dos parlamentares brasileiros nos anos de 2019, 2020 e 2021. \n",
        "\n",
        "Para isso, foi utilizado o conjunto de dados sobre a Cota para o Exercício da Atividade Parlamentar, a CEAP. Em resumo, a CEAP pode ser definida como: “cota única mensal destinada a custear os gastos dos deputados exclusivamente vinculados ao exercício da atividade parlamentar.” Essa ajuda de custo para os nossos digníssimos representantes podem cobrir despesas com alimentação, transporte, hospedagem, consultoria técnica, combustíveis e entre outras.\n",
        "\n",
        "A CEAP é regida por uma série de regras. Há algumas iniciativas, como o Serenata de Amor, que visam acompanhar\n",
        "os gastos realizados pelos nossos políticos e podem ser utilizadas para\n",
        "auxiliar na geração de insights.\n"
      ]
    },
    {
      "cell_type": "markdown",
      "metadata": {
        "id": "z4X_oq6AU-6M"
      },
      "source": [
        "## **01. Importação de bibliotecas**"
      ]
    },
    {
      "cell_type": "code",
      "source": [
        "from google.colab import drive\n",
        "drive.mount('/content/drive')"
      ],
      "metadata": {
        "colab": {
          "base_uri": "https://localhost:8080/"
        },
        "id": "opt_3LYyc-wu",
        "outputId": "1acdf8ad-0255-48e2-a554-e13f75f8dc88"
      },
      "execution_count": 42,
      "outputs": [
        {
          "output_type": "stream",
          "name": "stdout",
          "text": [
            "Drive already mounted at /content/drive; to attempt to forcibly remount, call drive.mount(\"/content/drive\", force_remount=True).\n"
          ]
        }
      ]
    },
    {
      "cell_type": "code",
      "execution_count": 43,
      "metadata": {
        "id": "h5noJZUN8SO2"
      },
      "outputs": [],
      "source": [
        "import pandas as pd\n",
        "import numpy as np\n",
        "import seaborn as sns\n",
        "import matplotlib.pyplot as plt"
      ]
    },
    {
      "cell_type": "markdown",
      "metadata": {
        "id": "I3WACpqEUjcI"
      },
      "source": [
        "## 02. **Limpeza e tratamento de dados**"
      ]
    },
    {
      "cell_type": "markdown",
      "metadata": {
        "id": "M44Tf0pk2bjO"
      },
      "source": [
        "  > **Importação de Datasets**"
      ]
    },
    {
      "cell_type": "code",
      "execution_count": 44,
      "metadata": {
        "id": "OpClwPcPJYKX",
        "colab": {
          "base_uri": "https://localhost:8080/",
          "height": 341
        },
        "outputId": "3ac8ef8f-35d0-4a71-c695-27f1ef0b69ca"
      },
      "outputs": [
        {
          "output_type": "error",
          "ename": "FileNotFoundError",
          "evalue": "ignored",
          "traceback": [
            "\u001b[0;31m---------------------------------------------------------------------------\u001b[0m",
            "\u001b[0;31mFileNotFoundError\u001b[0m                         Traceback (most recent call last)",
            "\u001b[0;32m<ipython-input-44-f5b011fbb6cd>\u001b[0m in \u001b[0;36m<module>\u001b[0;34m()\u001b[0m\n\u001b[0;32m----> 1\u001b[0;31m \u001b[0mdados_2019\u001b[0m \u001b[0;34m=\u001b[0m \u001b[0mpd\u001b[0m\u001b[0;34m.\u001b[0m\u001b[0mread_csv\u001b[0m\u001b[0;34m(\u001b[0m\u001b[0;34m'/content/Ano-2019.csv'\u001b[0m\u001b[0;34m,\u001b[0m \u001b[0msep\u001b[0m \u001b[0;34m=\u001b[0m \u001b[0;34m';'\u001b[0m\u001b[0;34m)\u001b[0m\u001b[0;34m\u001b[0m\u001b[0;34m\u001b[0m\u001b[0m\n\u001b[0m",
            "\u001b[0;32m/usr/local/lib/python3.7/dist-packages/pandas/util/_decorators.py\u001b[0m in \u001b[0;36mwrapper\u001b[0;34m(*args, **kwargs)\u001b[0m\n\u001b[1;32m    309\u001b[0m                     \u001b[0mstacklevel\u001b[0m\u001b[0;34m=\u001b[0m\u001b[0mstacklevel\u001b[0m\u001b[0;34m,\u001b[0m\u001b[0;34m\u001b[0m\u001b[0;34m\u001b[0m\u001b[0m\n\u001b[1;32m    310\u001b[0m                 )\n\u001b[0;32m--> 311\u001b[0;31m             \u001b[0;32mreturn\u001b[0m \u001b[0mfunc\u001b[0m\u001b[0;34m(\u001b[0m\u001b[0;34m*\u001b[0m\u001b[0margs\u001b[0m\u001b[0;34m,\u001b[0m \u001b[0;34m**\u001b[0m\u001b[0mkwargs\u001b[0m\u001b[0;34m)\u001b[0m\u001b[0;34m\u001b[0m\u001b[0;34m\u001b[0m\u001b[0m\n\u001b[0m\u001b[1;32m    312\u001b[0m \u001b[0;34m\u001b[0m\u001b[0m\n\u001b[1;32m    313\u001b[0m         \u001b[0;32mreturn\u001b[0m \u001b[0mwrapper\u001b[0m\u001b[0;34m\u001b[0m\u001b[0;34m\u001b[0m\u001b[0m\n",
            "\u001b[0;32m/usr/local/lib/python3.7/dist-packages/pandas/io/parsers/readers.py\u001b[0m in \u001b[0;36mread_csv\u001b[0;34m(filepath_or_buffer, sep, delimiter, header, names, index_col, usecols, squeeze, prefix, mangle_dupe_cols, dtype, engine, converters, true_values, false_values, skipinitialspace, skiprows, skipfooter, nrows, na_values, keep_default_na, na_filter, verbose, skip_blank_lines, parse_dates, infer_datetime_format, keep_date_col, date_parser, dayfirst, cache_dates, iterator, chunksize, compression, thousands, decimal, lineterminator, quotechar, quoting, doublequote, escapechar, comment, encoding, encoding_errors, dialect, error_bad_lines, warn_bad_lines, on_bad_lines, delim_whitespace, low_memory, memory_map, float_precision, storage_options)\u001b[0m\n\u001b[1;32m    584\u001b[0m     \u001b[0mkwds\u001b[0m\u001b[0;34m.\u001b[0m\u001b[0mupdate\u001b[0m\u001b[0;34m(\u001b[0m\u001b[0mkwds_defaults\u001b[0m\u001b[0;34m)\u001b[0m\u001b[0;34m\u001b[0m\u001b[0;34m\u001b[0m\u001b[0m\n\u001b[1;32m    585\u001b[0m \u001b[0;34m\u001b[0m\u001b[0m\n\u001b[0;32m--> 586\u001b[0;31m     \u001b[0;32mreturn\u001b[0m \u001b[0m_read\u001b[0m\u001b[0;34m(\u001b[0m\u001b[0mfilepath_or_buffer\u001b[0m\u001b[0;34m,\u001b[0m \u001b[0mkwds\u001b[0m\u001b[0;34m)\u001b[0m\u001b[0;34m\u001b[0m\u001b[0;34m\u001b[0m\u001b[0m\n\u001b[0m\u001b[1;32m    587\u001b[0m \u001b[0;34m\u001b[0m\u001b[0m\n\u001b[1;32m    588\u001b[0m \u001b[0;34m\u001b[0m\u001b[0m\n",
            "\u001b[0;32m/usr/local/lib/python3.7/dist-packages/pandas/io/parsers/readers.py\u001b[0m in \u001b[0;36m_read\u001b[0;34m(filepath_or_buffer, kwds)\u001b[0m\n\u001b[1;32m    480\u001b[0m \u001b[0;34m\u001b[0m\u001b[0m\n\u001b[1;32m    481\u001b[0m     \u001b[0;31m# Create the parser.\u001b[0m\u001b[0;34m\u001b[0m\u001b[0;34m\u001b[0m\u001b[0;34m\u001b[0m\u001b[0m\n\u001b[0;32m--> 482\u001b[0;31m     \u001b[0mparser\u001b[0m \u001b[0;34m=\u001b[0m \u001b[0mTextFileReader\u001b[0m\u001b[0;34m(\u001b[0m\u001b[0mfilepath_or_buffer\u001b[0m\u001b[0;34m,\u001b[0m \u001b[0;34m**\u001b[0m\u001b[0mkwds\u001b[0m\u001b[0;34m)\u001b[0m\u001b[0;34m\u001b[0m\u001b[0;34m\u001b[0m\u001b[0m\n\u001b[0m\u001b[1;32m    483\u001b[0m \u001b[0;34m\u001b[0m\u001b[0m\n\u001b[1;32m    484\u001b[0m     \u001b[0;32mif\u001b[0m \u001b[0mchunksize\u001b[0m \u001b[0;32mor\u001b[0m \u001b[0miterator\u001b[0m\u001b[0;34m:\u001b[0m\u001b[0;34m\u001b[0m\u001b[0;34m\u001b[0m\u001b[0m\n",
            "\u001b[0;32m/usr/local/lib/python3.7/dist-packages/pandas/io/parsers/readers.py\u001b[0m in \u001b[0;36m__init__\u001b[0;34m(self, f, engine, **kwds)\u001b[0m\n\u001b[1;32m    809\u001b[0m             \u001b[0mself\u001b[0m\u001b[0;34m.\u001b[0m\u001b[0moptions\u001b[0m\u001b[0;34m[\u001b[0m\u001b[0;34m\"has_index_names\"\u001b[0m\u001b[0;34m]\u001b[0m \u001b[0;34m=\u001b[0m \u001b[0mkwds\u001b[0m\u001b[0;34m[\u001b[0m\u001b[0;34m\"has_index_names\"\u001b[0m\u001b[0;34m]\u001b[0m\u001b[0;34m\u001b[0m\u001b[0;34m\u001b[0m\u001b[0m\n\u001b[1;32m    810\u001b[0m \u001b[0;34m\u001b[0m\u001b[0m\n\u001b[0;32m--> 811\u001b[0;31m         \u001b[0mself\u001b[0m\u001b[0;34m.\u001b[0m\u001b[0m_engine\u001b[0m \u001b[0;34m=\u001b[0m \u001b[0mself\u001b[0m\u001b[0;34m.\u001b[0m\u001b[0m_make_engine\u001b[0m\u001b[0;34m(\u001b[0m\u001b[0mself\u001b[0m\u001b[0;34m.\u001b[0m\u001b[0mengine\u001b[0m\u001b[0;34m)\u001b[0m\u001b[0;34m\u001b[0m\u001b[0;34m\u001b[0m\u001b[0m\n\u001b[0m\u001b[1;32m    812\u001b[0m \u001b[0;34m\u001b[0m\u001b[0m\n\u001b[1;32m    813\u001b[0m     \u001b[0;32mdef\u001b[0m \u001b[0mclose\u001b[0m\u001b[0;34m(\u001b[0m\u001b[0mself\u001b[0m\u001b[0;34m)\u001b[0m\u001b[0;34m:\u001b[0m\u001b[0;34m\u001b[0m\u001b[0;34m\u001b[0m\u001b[0m\n",
            "\u001b[0;32m/usr/local/lib/python3.7/dist-packages/pandas/io/parsers/readers.py\u001b[0m in \u001b[0;36m_make_engine\u001b[0;34m(self, engine)\u001b[0m\n\u001b[1;32m   1038\u001b[0m             )\n\u001b[1;32m   1039\u001b[0m         \u001b[0;31m# error: Too many arguments for \"ParserBase\"\u001b[0m\u001b[0;34m\u001b[0m\u001b[0;34m\u001b[0m\u001b[0;34m\u001b[0m\u001b[0m\n\u001b[0;32m-> 1040\u001b[0;31m         \u001b[0;32mreturn\u001b[0m \u001b[0mmapping\u001b[0m\u001b[0;34m[\u001b[0m\u001b[0mengine\u001b[0m\u001b[0;34m]\u001b[0m\u001b[0;34m(\u001b[0m\u001b[0mself\u001b[0m\u001b[0;34m.\u001b[0m\u001b[0mf\u001b[0m\u001b[0;34m,\u001b[0m \u001b[0;34m**\u001b[0m\u001b[0mself\u001b[0m\u001b[0;34m.\u001b[0m\u001b[0moptions\u001b[0m\u001b[0;34m)\u001b[0m  \u001b[0;31m# type: ignore[call-arg]\u001b[0m\u001b[0;34m\u001b[0m\u001b[0;34m\u001b[0m\u001b[0m\n\u001b[0m\u001b[1;32m   1041\u001b[0m \u001b[0;34m\u001b[0m\u001b[0m\n\u001b[1;32m   1042\u001b[0m     \u001b[0;32mdef\u001b[0m \u001b[0m_failover_to_python\u001b[0m\u001b[0;34m(\u001b[0m\u001b[0mself\u001b[0m\u001b[0;34m)\u001b[0m\u001b[0;34m:\u001b[0m\u001b[0;34m\u001b[0m\u001b[0;34m\u001b[0m\u001b[0m\n",
            "\u001b[0;32m/usr/local/lib/python3.7/dist-packages/pandas/io/parsers/c_parser_wrapper.py\u001b[0m in \u001b[0;36m__init__\u001b[0;34m(self, src, **kwds)\u001b[0m\n\u001b[1;32m     49\u001b[0m \u001b[0;34m\u001b[0m\u001b[0m\n\u001b[1;32m     50\u001b[0m         \u001b[0;31m# open handles\u001b[0m\u001b[0;34m\u001b[0m\u001b[0;34m\u001b[0m\u001b[0;34m\u001b[0m\u001b[0m\n\u001b[0;32m---> 51\u001b[0;31m         \u001b[0mself\u001b[0m\u001b[0;34m.\u001b[0m\u001b[0m_open_handles\u001b[0m\u001b[0;34m(\u001b[0m\u001b[0msrc\u001b[0m\u001b[0;34m,\u001b[0m \u001b[0mkwds\u001b[0m\u001b[0;34m)\u001b[0m\u001b[0;34m\u001b[0m\u001b[0;34m\u001b[0m\u001b[0m\n\u001b[0m\u001b[1;32m     52\u001b[0m         \u001b[0;32massert\u001b[0m \u001b[0mself\u001b[0m\u001b[0;34m.\u001b[0m\u001b[0mhandles\u001b[0m \u001b[0;32mis\u001b[0m \u001b[0;32mnot\u001b[0m \u001b[0;32mNone\u001b[0m\u001b[0;34m\u001b[0m\u001b[0;34m\u001b[0m\u001b[0m\n\u001b[1;32m     53\u001b[0m \u001b[0;34m\u001b[0m\u001b[0m\n",
            "\u001b[0;32m/usr/local/lib/python3.7/dist-packages/pandas/io/parsers/base_parser.py\u001b[0m in \u001b[0;36m_open_handles\u001b[0;34m(self, src, kwds)\u001b[0m\n\u001b[1;32m    227\u001b[0m             \u001b[0mmemory_map\u001b[0m\u001b[0;34m=\u001b[0m\u001b[0mkwds\u001b[0m\u001b[0;34m.\u001b[0m\u001b[0mget\u001b[0m\u001b[0;34m(\u001b[0m\u001b[0;34m\"memory_map\"\u001b[0m\u001b[0;34m,\u001b[0m \u001b[0;32mFalse\u001b[0m\u001b[0;34m)\u001b[0m\u001b[0;34m,\u001b[0m\u001b[0;34m\u001b[0m\u001b[0;34m\u001b[0m\u001b[0m\n\u001b[1;32m    228\u001b[0m             \u001b[0mstorage_options\u001b[0m\u001b[0;34m=\u001b[0m\u001b[0mkwds\u001b[0m\u001b[0;34m.\u001b[0m\u001b[0mget\u001b[0m\u001b[0;34m(\u001b[0m\u001b[0;34m\"storage_options\"\u001b[0m\u001b[0;34m,\u001b[0m \u001b[0;32mNone\u001b[0m\u001b[0;34m)\u001b[0m\u001b[0;34m,\u001b[0m\u001b[0;34m\u001b[0m\u001b[0;34m\u001b[0m\u001b[0m\n\u001b[0;32m--> 229\u001b[0;31m             \u001b[0merrors\u001b[0m\u001b[0;34m=\u001b[0m\u001b[0mkwds\u001b[0m\u001b[0;34m.\u001b[0m\u001b[0mget\u001b[0m\u001b[0;34m(\u001b[0m\u001b[0;34m\"encoding_errors\"\u001b[0m\u001b[0;34m,\u001b[0m \u001b[0;34m\"strict\"\u001b[0m\u001b[0;34m)\u001b[0m\u001b[0;34m,\u001b[0m\u001b[0;34m\u001b[0m\u001b[0;34m\u001b[0m\u001b[0m\n\u001b[0m\u001b[1;32m    230\u001b[0m         )\n\u001b[1;32m    231\u001b[0m \u001b[0;34m\u001b[0m\u001b[0m\n",
            "\u001b[0;32m/usr/local/lib/python3.7/dist-packages/pandas/io/common.py\u001b[0m in \u001b[0;36mget_handle\u001b[0;34m(path_or_buf, mode, encoding, compression, memory_map, is_text, errors, storage_options)\u001b[0m\n\u001b[1;32m    705\u001b[0m                 \u001b[0mencoding\u001b[0m\u001b[0;34m=\u001b[0m\u001b[0mioargs\u001b[0m\u001b[0;34m.\u001b[0m\u001b[0mencoding\u001b[0m\u001b[0;34m,\u001b[0m\u001b[0;34m\u001b[0m\u001b[0;34m\u001b[0m\u001b[0m\n\u001b[1;32m    706\u001b[0m                 \u001b[0merrors\u001b[0m\u001b[0;34m=\u001b[0m\u001b[0merrors\u001b[0m\u001b[0;34m,\u001b[0m\u001b[0;34m\u001b[0m\u001b[0;34m\u001b[0m\u001b[0m\n\u001b[0;32m--> 707\u001b[0;31m                 \u001b[0mnewline\u001b[0m\u001b[0;34m=\u001b[0m\u001b[0;34m\"\"\u001b[0m\u001b[0;34m,\u001b[0m\u001b[0;34m\u001b[0m\u001b[0;34m\u001b[0m\u001b[0m\n\u001b[0m\u001b[1;32m    708\u001b[0m             )\n\u001b[1;32m    709\u001b[0m         \u001b[0;32melse\u001b[0m\u001b[0;34m:\u001b[0m\u001b[0;34m\u001b[0m\u001b[0;34m\u001b[0m\u001b[0m\n",
            "\u001b[0;31mFileNotFoundError\u001b[0m: [Errno 2] No such file or directory: '/content/Ano-2019.csv'"
          ]
        }
      ],
      "source": [
        "dados_2019 = pd.read_csv('/content/Ano-2019.csv', sep = ';')"
      ]
    },
    {
      "cell_type": "markdown",
      "metadata": {
        "id": "dV0ihmZVWKq4"
      },
      "source": [
        "  > **Concatenando os Datasets**"
      ]
    },
    {
      "cell_type": "code",
      "execution_count": null,
      "metadata": {
        "id": "hD2cUl5ZWSyV"
      },
      "outputs": [],
      "source": [
        "dados_concat = pd.concat([dados_2019,dados_2020,dados_2021])"
      ]
    },
    {
      "cell_type": "code",
      "execution_count": null,
      "metadata": {
        "id": "UT7ku8ncWa99"
      },
      "outputs": [],
      "source": [
        "dados_ceap1 = dados_concat.copy()"
      ]
    },
    {
      "cell_type": "code",
      "execution_count": null,
      "metadata": {
        "id": "_TfIKNwvlzI9"
      },
      "outputs": [],
      "source": [
        "dados_ceap1.drop(['cpf', 'ideCadastro','txtDescricaoEspecificacao','nuCarteiraParlamentar','nuLegislatura','codLegislatura','numSubCota','numEspecificacaoSubCota','txtCNPJCPF', 'txtNumero','numParcela','numLote','nuDeputadoId', 'ideDocumento','urlDocumento'],axis='columns', inplace = True)"
      ]
    },
    {
      "cell_type": "markdown",
      "metadata": {
        "id": "ehIysuBAksI9"
      },
      "source": [
        ">Dicionário dos Dados"
      ]
    },
    {
      "cell_type": "markdown",
      "metadata": {
        "id": "XQGfOdTylNRz"
      },
      "source": [
        "- **NomeParlamentar** (txNomeParlamentar) : Nome adotado pelo Parlamentar ao tomar posse do seu mandato. \n",
        "-**UF** (sgUF) : Unidade da federação pela qual o deputado foi eleito e é utilizada para definir o valor da cota a que o deputado tem.\n",
        "-**Partido** (sgPartido) : Sigla do Partido\n",
        "-**TipoDespesa** (txtDescricao) : descrição do Tipo de Despesa.\n",
        "-**EspecificacaoDespesa** (numEspecificacaoSubCota) : Número da Especificação mais detalhada do Tipo de Despesa.\n",
        "- **Fornecedor** (txtFornecedor):O conteúdo deste dado representa o nome do fornecedor do produto ou serviço presente no documento fiscal.\n",
        "-**TipoDocumento** (indTipoDocumento) : Indicativo de Tipo de Documento Fiscal - 0 (Zero), para Nota Fiscal 1 (um), para Recibo; e 2, para Despesa no Exterior.\n",
        "-**DataEmissao** (datEmissao) : data de emissão do documento fiscal ou a data do documento que tenha dado causa à despesa.\n",
        "-**ValorDocumento** (vlrDocumento) : Valor do Documento.valor de face do documento fiscal ou o valor do documento que deu causa à despesa. Quando se tratar de bilhete aéreo, esse valor poderá ser negativo, significando que o referido bilhete é um bilhete de compensação, pois compensa um outro bilhete emitido e não utilizado pelo deputado\n",
        "-**ValorGlosa** (vlrGlosa) : valor da glosa do documento fiscal que incidirá sobre o Valor do Documento, ou o valor da glosa do documento que deu causa à despesa.\n",
        "-**ValorLiquido**(vlrLiquido) : valor líquido do documento fiscal ou do documento que deu causa à despesa e será calculado pela diferença entre o Valor do Documento e o Valor da Glosa. É este valor que será debitado da cota do deputado. Caso o débito seja do Tipo Telefonia e o valor seja igual a zero, significa que a despesa foi franqueada.\n",
        "-**Mes** (numMes) : Mês da competência financeira do documento fiscal ou do documento que deu causa à despesa. É utilizado, junto com o ano, para determinar em que período o débito gerará efeito financeiro sobre a cota.\n",
        "-**Ano**(numAno) : Ano da competência financeira do documento fiscal ou do documento que deu causa à despesa. É utilizado, junto com o mês, para determinar em que período o débito gerará efeito financeiro sobre a cota.\n",
        "-**NomePassageiro**(txtPassageiro) : nome do passageiro, quando o documento que deu causa à despesa se tratar de emissão de bilhete aéreo.\n",
        "-**Trecho**(txtTrecho) : trecho da viagem, quando o documento que deu causa à despesa se tratar de emissão de bilhete aéreo.\n",
        "-**IdRessarcimento** (numRessarcimento) : indica o ressarcimento do qual o documento fez parte por ocasião do processamento do seu reembolso. Este dado, juntamente com o Número do Ressarcimento, auxilia a localização do documento no Arquivo da Casa.\n",
        "-**Restituicao**(vlrRestituicao) :  valor restituído do documento fiscal que incidirá sobre o Valor do Documento.\n"
      ]
    },
    {
      "cell_type": "markdown",
      "metadata": {
        "id": "xO_kFt9y22Zt"
      },
      "source": [
        "> Análise de objetos"
      ]
    },
    {
      "cell_type": "code",
      "execution_count": null,
      "metadata": {
        "id": "WR7RCCLQWgMl"
      },
      "outputs": [],
      "source": [
        "dados_ceap1.head()"
      ]
    },
    {
      "cell_type": "code",
      "execution_count": null,
      "metadata": {
        "id": "89MAYUoy274y"
      },
      "outputs": [],
      "source": [
        "dados_ceap1.shape"
      ]
    },
    {
      "cell_type": "code",
      "execution_count": null,
      "metadata": {
        "id": "IkdsjZ14Wspt"
      },
      "outputs": [],
      "source": [
        "dados_ceap1.dtypes"
      ]
    },
    {
      "cell_type": "code",
      "execution_count": null,
      "metadata": {
        "id": "jd5BvmiGWvil"
      },
      "outputs": [],
      "source": [
        "(dados_ceap1.isnull().sum() / dados_ceap1.shape[0]).sort_values(ascending=False) # Cálculo do percentual de dados faltantes por coluna"
      ]
    },
    {
      "cell_type": "code",
      "execution_count": null,
      "metadata": {
        "id": "6PZKgbASlS4P"
      },
      "outputs": [],
      "source": [
        "dados_ceap1.describe().T"
      ]
    },
    {
      "cell_type": "markdown",
      "metadata": {
        "id": "ZxTs-ihD25pk"
      },
      "source": [
        "> Substituições"
      ]
    },
    {
      "cell_type": "markdown",
      "metadata": {
        "id": "vHb5W8zTv_8d"
      },
      "source": [
        "Ajuste de hora e ano"
      ]
    },
    {
      "cell_type": "code",
      "execution_count": null,
      "metadata": {
        "id": "yQ_rkabNumRN"
      },
      "outputs": [],
      "source": [
        "dados_ceap1['datEmissao'] = pd.to_datetime(dados_ceap1['datEmissao'], format='%Y-%m-%d %H:%M:%S').dt.strftime('%d-%m-%Y')"
      ]
    },
    {
      "cell_type": "code",
      "execution_count": null,
      "metadata": {
        "id": "-I4F0AjCzkeF"
      },
      "outputs": [],
      "source": [
        "dados_ceap_int = dados_ceap1['numAno'].astype('float').astype('Int64')"
      ]
    },
    {
      "cell_type": "code",
      "execution_count": null,
      "metadata": {
        "id": "W5CnoN71P048"
      },
      "outputs": [],
      "source": [
        "dados_ceap = dados_ceap1.rename(columns={'txNomeParlamentar': 'NomeParlamentar', 'sgUF':'UF', 'sgPartido':'Partido', 'txtDescricao':'TipoDespesa', 'txtFornecedor': 'Fornecedor','numEspecificacaoSubCota':'EspecificacaoDespesa', 'indTipoDocumento':'TipoDocumento', 'datEmissao':'DataEmissao', 'vlrDocumento':'ValorDocumento', 'vlrGlosa':'ValorGlosa', 'vlrLiquido':'ValorLiquido', 'numMes':'Mes', 'numAno':'Ano', 'txtPassageiro':'NomePassageiro','txtTrecho':'Trecho','numRessarcimento':'IdRessarcimento','vlrRestituicao' : 'Restituicao'})\n",
        "dados_ceap.head()"
      ]
    },
    {
      "cell_type": "markdown",
      "source": [
        "Substituindo Valores"
      ],
      "metadata": {
        "id": "INRi0EgI8OYO"
      }
    },
    {
      "cell_type": "code",
      "source": [
        "dados_ceap['Partido']= dados_ceap['Partido'].replace(r'\\bPATRI\\b','PATRIOTA',regex = True)"
      ],
      "metadata": {
        "id": "XA7in3hA8Yaj"
      },
      "execution_count": null,
      "outputs": []
    },
    {
      "cell_type": "markdown",
      "metadata": {
        "id": "La1XoHpFpA9H"
      },
      "source": [
        "> Tratando Dados Ausentes"
      ]
    },
    {
      "cell_type": "code",
      "execution_count": null,
      "metadata": {
        "id": "EwyTpunMuWpD"
      },
      "outputs": [],
      "source": [
        "dados_ceap.isnull().sum().sum() # vlr total de dados ausentes no dataset"
      ]
    },
    {
      "cell_type": "code",
      "execution_count": null,
      "metadata": {
        "id": "0un_rKvnuEDy"
      },
      "outputs": [],
      "source": [
        "dados_ceap.isnull().sum() # qtd de dados ausentes por coluna"
      ]
    },
    {
      "cell_type": "code",
      "execution_count": null,
      "metadata": {
        "id": "8ZIAjbeNxESB"
      },
      "outputs": [],
      "source": [
        "# fiz um filtro pegando da coluna 'nome parlamentar' somente os lideres de partido na camara, e verificando  usando o isnull().sum() dentro dessa seleção,\n",
        "# é possível que a maioria dos dados faltantes do dataset encontram-se aqui.\n",
        "# já identifiquei quem sao os lideres de partido e farei a substituição da nomenclatura lider pelo seu respectivo parlamentar e completarei as\n",
        "# as colunas respectivas com as informações corretas. (Carla) \n",
        "lideres = dados_ceap[dados_ceap['NomeParlamentar'].str.contains('LID')]\n",
        "lideres.head()"
      ]
    },
    {
      "cell_type": "code",
      "execution_count": null,
      "metadata": {
        "id": "GA6TY-RGxV4I"
      },
      "outputs": [],
      "source": [
        "(lideres.isnull().sum() / lideres.shape[0]).sort_values(ascending=False) "
      ]
    },
    {
      "cell_type": "code",
      "execution_count": null,
      "metadata": {
        "id": "gjMVH10DxLcA"
      },
      "outputs": [],
      "source": [
        "lideres.isnull().sum() "
      ]
    },
    {
      "cell_type": "code",
      "source": [
        "dados_ceap = dados_ceap[dados_ceap.NomeParlamentar.str.startswith('LID') == False]\n",
        "dados_ceap"
      ],
      "metadata": {
        "id": "fCaPHAjc-0Z8"
      },
      "execution_count": null,
      "outputs": []
    },
    {
      "cell_type": "markdown",
      "metadata": {
        "id": "hA95ykqBUtH_"
      },
      "source": [
        "## 03. Organização"
      ]
    },
    {
      "cell_type": "markdown",
      "metadata": {
        "id": "TN8MjaaI9EXO"
      },
      "source": [
        "## **Questão 1**\n",
        "\n",
        ">### Como se comportam os gastos com cotas parlamentares ao longo do tempo? Existe alguma tendência de aumento ou redução desse custo?"
      ]
    },
    {
      "cell_type": "markdown",
      "metadata": {
        "id": "8vhBLlqLjK-P"
      },
      "source": [
        "Estrutura de desenvolvimento sugerida:\n",
        "\n",
        "- Separar dados de gastos, mantendo parlamentares, ano, Número da especificação subcota.\n",
        "- Num do mes, valor liquido < a analise pode ser feita de forma anual e mensal"
      ]
    },
    {
      "cell_type": "markdown",
      "source": [
        "Podemos ver a seguir a media dos gastos de  cada ano  de cada partido."
      ],
      "metadata": {
        "id": "gaqmgJtzLssO"
      }
    },
    {
      "cell_type": "code",
      "execution_count": null,
      "metadata": {
        "id": "gCUL45eG-tcQ"
      },
      "outputs": [],
      "source": [
        "#codigo que a carla me ajudou para ver as tendencias de gastos\n",
        "tendencia = pd.crosstab(dados_ceap['Partido'],dados_ceap['Ano'],aggfunc = 'sum',values = dados_ceap['ValorLiquido'])\n",
        "tendencia"
      ]
    },
    {
      "cell_type": "markdown",
      "source": [
        "No grafico é possivel ter um noção de que a media dos gastos tem um tendencia a queda."
      ],
      "metadata": {
        "id": "uhiVVuq2MDz8"
      }
    },
    {
      "cell_type": "code",
      "source": [
        "#grafico da 1\n",
        "plt.figure(figsize=(15,5))\n",
        "sns.barplot(data=tendencia,palette='Blues_d')\n",
        "plt.title('Tendencia da media de gastos')\n",
        "sns.set_theme(style=\"whitegrid\")\n",
        "plt.ylabel('Valor em Reais (R$)')\n",
        "plt.show()"
      ],
      "metadata": {
        "id": "QQJ88PjRWszl"
      },
      "execution_count": null,
      "outputs": []
    },
    {
      "cell_type": "markdown",
      "metadata": {
        "id": "CATr_mfh_xxh"
      },
      "source": [
        "## **Questão 2**\n",
        "\n",
        ">### Qual a média de gastos por parlamentar?"
      ]
    },
    {
      "cell_type": "markdown",
      "metadata": {
        "id": "YBySACs4jSdg"
      },
      "source": [
        "Estrutura de desenvolvimento sugerida:\n",
        "\n",
        "- Seleção de nomes de parlamentar, ano, valor liquido, mes.\n",
        "- Organizar e concatenar\n",
        "- criar_variavel.mean()\n",
        "\n"
      ]
    },
    {
      "cell_type": "code",
      "source": [
        "#  RESPOSTA DA QUESTÃO 2\n",
        "#Media de gastos por parlamentar \n",
        "#Seleção de nomes de parlamentar, Partido,ano, valor liquido.\n",
        "media_gastos_parlamentar = dados_ceap.groupby(['NomeParlamentar','Partido','Ano'])[['ValorLiquido']].mean().sort_values(by='ValorLiquido',ascending=False).reset_index()\n",
        "media_gastos_parlamentar"
      ],
      "metadata": {
        "id": "IB3Uv-8PH-GG"
      },
      "execution_count": null,
      "outputs": []
    },
    {
      "cell_type": "markdown",
      "source": [
        "As  5 maiores medias dos gastos dos  parlamenteres,nota-se que a maioria se deu no ano de 2019."
      ],
      "metadata": {
        "id": "AuT0eFUxMVoL"
      }
    },
    {
      "cell_type": "code",
      "source": [
        "plt.figure(figsize=(20,8))\n",
        "sns.barplot(data= media_gastos_parlamentar.head(),x='NomeParlamentar',y='ValorLiquido',hue='Ano',ci=\"sd\")\n",
        "sns.set_theme(style='whitegrid')\n",
        "plt.xlabel('Nome do Parlamentar')\n",
        "plt.ylabel('Valor em Reais (R$)')\n",
        "plt.show()"
      ],
      "metadata": {
        "id": "jvGchI7AIFd-"
      },
      "execution_count": null,
      "outputs": []
    },
    {
      "cell_type": "markdown",
      "metadata": {
        "id": "0v642dnY_2lv"
      },
      "source": [
        "## **Questão 3**\n",
        "\n",
        ">### Quais foram os parlamentares que mais e que menos consumiram recursos?"
      ]
    },
    {
      "cell_type": "markdown",
      "metadata": {
        "id": "u2UC5C9NjTD9"
      },
      "source": [
        "Estrutura de desenvolvimento sugerida:\n",
        "\n",
        "- Seleção de nomes de parlamentar, ano, valor liquido, mes.\n",
        "- Organizar e concatenar\n",
        "- ordenar uma lista e utilizar head() e tail()"
      ]
    },
    {
      "cell_type": "markdown",
      "source": [
        "Podemos ver a seguir a media dos gastos de  cada ano  de cada partido."
      ],
      "metadata": {
        "id": "OgjCaA0lMcNW"
      }
    },
    {
      "cell_type": "code",
      "source": [
        "m = dados_ceap[['NomeParlamentar','Partido','Ano','ValorLiquido']]\n",
        "m['Ano'] = m['Ano'].astype(str)\n",
        "m"
      ],
      "metadata": {
        "id": "E18AeIhtMlql"
      },
      "execution_count": null,
      "outputs": []
    },
    {
      "cell_type": "markdown",
      "source": [
        "organizando ordenando pelo valor do maior para o menor."
      ],
      "metadata": {
        "id": "W9zszFHrMsh8"
      }
    },
    {
      "cell_type": "code",
      "source": [
        "#SOMA DE TODOS OS GASTOS\n",
        "soma_par = m.groupby(['NomeParlamentar']).sum().sort_values(by='ValorLiquido',ascending=False).reset_index()\n",
        "soma_par"
      ],
      "metadata": {
        "id": "30TAd2U9Mwoj"
      },
      "execution_count": null,
      "outputs": []
    },
    {
      "cell_type": "code",
      "source": [
        "#SOMA DOS QUE MAIS GASTARAM POR ANO\n",
        "soma_par_ano = m.groupby(['NomeParlamentar','Partido','Ano']).sum().sort_values(by='ValorLiquido',ascending=False).reset_index()\n",
        "soma_par_ano"
      ],
      "metadata": {
        "id": "pAAN2yh8NGwU"
      },
      "execution_count": null,
      "outputs": []
    },
    {
      "cell_type": "markdown",
      "source": [
        "Grafico dos 5 parlamentares que mais gastaram."
      ],
      "metadata": {
        "id": "EIQghIeJM5ST"
      }
    },
    {
      "cell_type": "code",
      "source": [
        "soma_par.head()"
      ],
      "metadata": {
        "id": "f8UYxmQhM9Az"
      },
      "execution_count": null,
      "outputs": []
    },
    {
      "cell_type": "code",
      "source": [
        "plt.figure(figsize=(20,8))\n",
        "sns.barplot(data= soma_par.head(),x='NomeParlamentar',y='ValorLiquido')\n",
        "sns.set_theme(style='whitegrid')\n",
        "plt.xlabel('Nome do Parlamentar')\n",
        "plt.ylabel('Valor em Reais (R$)')\n",
        "plt.show()"
      ],
      "metadata": {
        "id": "mpuK0K2fNPMb"
      },
      "execution_count": null,
      "outputs": []
    },
    {
      "cell_type": "markdown",
      "source": [
        "Usando a soma por ano."
      ],
      "metadata": {
        "id": "Fch2YtV6NR50"
      }
    },
    {
      "cell_type": "code",
      "source": [
        "soma_par_ano.head(10)"
      ],
      "metadata": {
        "id": "15BKI9TMNTu7"
      },
      "execution_count": null,
      "outputs": []
    },
    {
      "cell_type": "code",
      "source": [
        "plt.figure(figsize=(20,8))\n",
        "sns.barplot(data= soma_par_ano.head(),x='NomeParlamentar',y='ValorLiquido',hue = 'Ano')\n",
        "sns.set_theme(style='whitegrid')\n",
        "plt.xlabel('Nome do Parlamentar')\n",
        "plt.ylabel('Valor em Reais (R$)')\n",
        "plt.show()"
      ],
      "metadata": {
        "id": "Lt0DPm5wNZxk"
      },
      "execution_count": null,
      "outputs": []
    },
    {
      "cell_type": "markdown",
      "source": [
        "Grafico dos 5 parlamentares que menos gastaram"
      ],
      "metadata": {
        "id": "wsbvbvVdNoSk"
      }
    },
    {
      "cell_type": "code",
      "source": [
        "soma_par.tail()"
      ],
      "metadata": {
        "id": "4F68m03eNqJM"
      },
      "execution_count": null,
      "outputs": []
    },
    {
      "cell_type": "markdown",
      "source": [
        "No grafico existem valores do Mandeta e Lucina Santos são tão proximos de 0 e a distancia dos outros valores é tão grande que a barra praticamente  não aparece."
      ],
      "metadata": {
        "id": "P91g9BxINsn7"
      }
    },
    {
      "cell_type": "code",
      "source": [
        "plt.figure(figsize=(20,8))\n",
        "sns.barplot(data= soma_par.tail(),x='NomeParlamentar',y='ValorLiquido',hue = 'ValorLiquido')\n",
        "sns.set_theme(style='whitegrid')\n",
        "plt.xlabel('Nome do Parlamentar')\n",
        "plt.ylabel('Valor em Reais (R$)')\n",
        "plt.show()"
      ],
      "metadata": {
        "id": "bL82pf9gNvCj"
      },
      "execution_count": null,
      "outputs": []
    },
    {
      "cell_type": "markdown",
      "source": [
        "Os menores valores so que por ano."
      ],
      "metadata": {
        "id": "hCkLdQ7oNyB1"
      }
    },
    {
      "cell_type": "code",
      "source": [
        "soma_par_ano.tail()"
      ],
      "metadata": {
        "id": "OP_I4k--N1oD"
      },
      "execution_count": null,
      "outputs": []
    },
    {
      "cell_type": "code",
      "source": [
        "plt.figure(figsize=(20,8))\n",
        "sns.barplot(data= soma_par_ano.tail(),x='NomeParlamentar',y='ValorLiquido')\n",
        "sns.set_theme(style='whitegrid')\n",
        "plt.xlabel('Nome do Parlamentar')\n",
        "plt.ylabel('Valor em Reais (R$)')\n",
        "plt.show()"
      ],
      "metadata": {
        "id": "-tzqMmGrN3gz"
      },
      "execution_count": null,
      "outputs": []
    },
    {
      "cell_type": "markdown",
      "metadata": {
        "id": "eukG1SUQ_79T"
      },
      "source": [
        "## **Questão 4**\n",
        "\n",
        ">###  Quais são as categorias de despesas mais onerosas dentre os recursos destinados às cotas parlamentares?"
      ]
    },
    {
      "cell_type": "markdown",
      "metadata": {
        "id": "pK7Ym3yFjVmb"
      },
      "source": [
        "Estrutura de Desenvolvimento:\n",
        "\n",
        "- Filtragem da cota e da despesa para saber a qual correspondente e o nome do parlamentar \n",
        "- Filtragem somada à soma dos gastos."
      ]
    },
    {
      "cell_type": "code",
      "source": [
        "dados_concat_3 = pd.concat([dados_2019,dados_2020,dados_2021])\n",
        "dados_concat_3 = dados_concat.copy()\n",
        "dados_concat_3 = dados_concat_3.rename(columns={'txNomeParlamentar': 'NomeParlamentar', \n",
        "                                        'sgUF':'UF', 'sgPartido':'Partido',\n",
        "                                        'txtDescricao':'TipoDespesa', \n",
        "                                        'txtFornecedor': 'Fornecedor',\n",
        "                                        'numEspecificacaoSubCota':'EspecificacaoDespesa',\n",
        "                                        'indTipoDocumento':'TipoDocumento', \n",
        "                                        'datEmissao':'DataEmissao', \n",
        "                                        'vlrDocumento':'ValorDocumento',\n",
        "                                        'vlrGlosa':'ValorGlosa', \n",
        "                                        'vlrLiquido':'ValorLiquido', \n",
        "                                        'numMes':'Mes', 'numAno':'Ano', \n",
        "                                        'txtPassageiro':'NomePassageiro',\n",
        "                                        'txtTrecho':'Trecho',\n",
        "                                        'numRessarcimento':'IdRessarcimento',\n",
        "                                        'vlrRestituicao' : 'Restituicao'})\n",
        "dados_concat_3['DataEmissao'] = pd.to_datetime(dados_concat_3['DataEmissao'], format='%Y-%m-%d %H:%M:%S').dt.strftime('%d-%m-%Y')\n"
      ],
      "metadata": {
        "id": "bWBs6qynhHa8"
      },
      "execution_count": null,
      "outputs": []
    },
    {
      "cell_type": "code",
      "execution_count": null,
      "metadata": {
        "id": "9_qS-s2dLa_3"
      },
      "outputs": [],
      "source": [
        "desc = dados_concat_3[['numSubCota','TipoDespesa']]\n",
        "desc.drop_duplicates().sort_values(by ='numSubCota') # VISUALIZAÇÃO de subcota e respectiva descrição"
      ]
    },
    {
      "cell_type": "code",
      "execution_count": null,
      "metadata": {
        "id": "MWh4UcuULgyS"
      },
      "outputs": [],
      "source": [
        "gasto_cota_grup = dados_concat_3.groupby(['numSubCota', 'TipoDespesa',]).agg({'ValorLiquido':sum}) \n",
        "gasto_cota_grup = gasto_cota_grup.sort_values(by = 'ValorLiquido', ascending = False)\n",
        "#Somei pelo valor da cota ressarcida(valor liquido) e mantive a visualização do valor total dos documentos\n"
      ]
    },
    {
      "cell_type": "code",
      "source": [
        "gasto_por_cota = gasto_cota_grup.reset_index().head(5)"
      ],
      "metadata": {
        "id": "9vYPqxFinOMy"
      },
      "execution_count": null,
      "outputs": []
    },
    {
      "cell_type": "markdown",
      "source": [
        "Gráfico de barras:"
      ],
      "metadata": {
        "id": "odx8Avw3nb3A"
      }
    },
    {
      "cell_type": "code",
      "source": [
        "sns.set(rc={'figure.figsize': (11.7, 8.27)})\n",
        "f,ax = plt.subplots()\n",
        "ax.ticklabel_format(style='plain', axis='both')\n",
        "sns.barplot(y=\"TipoDespesa\", x=\"ValorLiquido\", palette = 'mako', data=gasto_por_cota, ax=ax)"
      ],
      "metadata": {
        "id": "kMqdOvy1nfy-"
      },
      "execution_count": null,
      "outputs": []
    },
    {
      "cell_type": "markdown",
      "metadata": {
        "id": "0AhCbgHMAlZW"
      },
      "source": [
        "## **Questão 5**\n",
        "\n",
        ">###  Quais são os trechos de viagem mais recorrentes entre as despesas de viagem?"
      ]
    },
    {
      "cell_type": "markdown",
      "metadata": {
        "id": "5_25mBXsjWIs"
      },
      "source": [
        "Estrutura de desenvolvimento sugerida:\n",
        "\n",
        "-  analisar a frequencia de txtTrecho \n",
        "- ordenar e utilizar count"
      ]
    },
    {
      "cell_type": "code",
      "execution_count": null,
      "metadata": {
        "id": "0_sUmghbqV2I"
      },
      "outputs": [],
      "source": [
        "viagens = dados_ceap.Trecho.dropna()"
      ]
    },
    {
      "cell_type": "code",
      "execution_count": null,
      "metadata": {
        "id": "wJfdDp9RqY9d"
      },
      "outputs": [],
      "source": [
        "trechos_viajados = pd.DataFrame(viagens.value_counts().head(5))\n",
        "trechos_viajados.reset_index(inplace = True)"
      ]
    },
    {
      "cell_type": "markdown",
      "source": [
        "O trecho mais recorrente foi o de BSB/BSB"
      ],
      "metadata": {
        "id": "XyrYrLgqnrc-"
      }
    },
    {
      "cell_type": "code",
      "source": [
        "sns.set(rc={'figure.figsize': (11.7, 8.27)})\n",
        "plt.title('Principais trechos de viagens aéreas')\n",
        "sns.barplot(x= 'index', y ='Trecho',palette = 'mako', data=trechos_viajados)"
      ],
      "metadata": {
        "id": "LzlU7HvkoI8w"
      },
      "execution_count": null,
      "outputs": []
    },
    {
      "cell_type": "markdown",
      "source": [
        "**Extra:** Os 5 políticos que mais viajaram no trecho BSB/BSB.\n",
        "Resultado: \n",
        "1.   João Henrique Campos\n",
        "2.   Joice Hasselmann\n",
        "3.   Arthur Lira\n",
        "4.   David Soares\n",
        "5.   Dionilso Marcon"
      ],
      "metadata": {
        "id": "PGyndnJ7oGOx"
      }
    },
    {
      "cell_type": "code",
      "source": [
        "#Os 5 políticos que mais utilizaram o voo \n",
        "filtro_bsb = dados_ceap[(dados_ceap['Trecho'] == 'BSB/BSB')]\n",
        "grupo = filtro_bsb[['Trecho','DataEmissao','cpf','NomePassageiro','Partido','ValorLiquido']]\n",
        "grupo2 = grupo.groupby(['NomePassageiro','Partido', 'Trecho']).agg({'ValorLiquido': sum}).sort_values('ValorLiquido', ascending = False)\n",
        "cinco_maiores_gastos = grupo2.head(5).reset_index()\n",
        "cinco_maiores_gastos"
      ],
      "metadata": {
        "id": "NQnL-2tJnnt7"
      },
      "execution_count": null,
      "outputs": []
    },
    {
      "cell_type": "markdown",
      "source": [
        "Gráfico de Barras"
      ],
      "metadata": {
        "id": "EM8lzbB4n2pf"
      }
    },
    {
      "cell_type": "code",
      "source": [
        "sns.set(rc={'figure.figsize': (11.7, 8.27)})\n",
        "plt.title('05 maiores gastos no trecho BSB/BSB')\n",
        "sns.barplot(x = 'Partido',y = 'ValorLiquido', hue = 'NomePassageiro', palette = \"mako\", data = cinco_maiores_gastos,)"
      ],
      "metadata": {
        "id": "NQW1fLEKnzo2"
      },
      "execution_count": null,
      "outputs": []
    },
    {
      "cell_type": "markdown",
      "metadata": {
        "id": "JLDlwxyJqbT5"
      },
      "source": [
        ""
      ]
    },
    {
      "cell_type": "markdown",
      "metadata": {
        "id": "yE2rAS6GArgh"
      },
      "source": [
        "## **Questão 6**\n",
        "\n",
        ">###  Qual a média de gastos por Estado?"
      ]
    },
    {
      "cell_type": "markdown",
      "metadata": {
        "id": "yvFldvnbjXdq"
      },
      "source": [
        "Estrutura de desenvolvimento: \n",
        "\n",
        "- Filtro e visualização da UF + Despesa e Valor\n",
        "- Agrupamento da UF e o tipo de Despesa com a Soma dos valores\n",
        "- Visualização da maior média, a despesa e o estado.\n"
      ]
    },
    {
      "cell_type": "code",
      "source": [
        "gasto_UF = dados_concat_3[['UF','ValorLiquido']].groupby('UF')\n",
        "media_por_estado = gasto_UF.mean().sort_values(by='ValorLiquido', ascending = False) #FILTRA os dados por estado etc\n",
        "media_por_estado"
      ],
      "metadata": {
        "id": "fIq0Tew-ofVq"
      },
      "execution_count": null,
      "outputs": []
    },
    {
      "cell_type": "code",
      "source": [
        "sns.set(rc={'figure.figsize': (11.7, 8.27)})\n",
        "plt.title('Média de Gastos por Unidade Federativa')\n",
        "sns.barplot(x=media_por_estado.index, y = 'ValorLiquido',palette = 'mako', data = media_por_estado)"
      ],
      "metadata": {
        "id": "8EwQNwPFogRA"
      },
      "execution_count": null,
      "outputs": []
    },
    {
      "cell_type": "markdown",
      "source": [
        "**Extra:** A média de gastos de cada estado por classificado pelo *tipo de despesa*.\n",
        ">   Como os gastos acabaram diluidos entre os diversos tipos de gastos e notas optei por agrupar e conferir os estados possuíam maior média de gastos e em quais despesa se concentravam.\n",
        "\n",
        "\n",
        ">   Os gastos maiores foram de Locação de Aeronaves e Consultorias. A maior parte de estados da região Norte. Talvez explique-se pela conhecida dificuldade de locomoção nas rodovias e hidrovias da Região Norte."
      ],
      "metadata": {
        "id": "TSFzsPvKoiIB"
      }
    },
    {
      "cell_type": "code",
      "execution_count": null,
      "metadata": {
        "id": "IByGN_06qshk"
      },
      "outputs": [],
      "source": [
        "gasto_UF2 = dados_concat_3.groupby(['UF', 'numSubCota','TipoDespesa']).agg({'ValorLiquido':'mean'})\n",
        "media_por_estado_despesa = gasto_UF2.sort_values(by = 'ValorLiquido', ascending = False).head(5).reset_index()\n",
        "#organizar os valores valores e a maior média.\n",
        "media_por_estado_despesa"
      ]
    },
    {
      "cell_type": "markdown",
      "source": [
        "Gráfico de barras: "
      ],
      "metadata": {
        "id": "5qgYFuAEoERJ"
      }
    },
    {
      "cell_type": "code",
      "source": [
        "sns.set(rc={'figure.figsize': (11.7, 8.27)})\n",
        "plt.title('Média de gasto X Tipo de Despesa')\n",
        "sns.barplot(x= 'UF', y = 'ValorLiquido', hue = 'TipoDespesa', palette = 'mako', data = media_por_estado_despesa)"
      ],
      "metadata": {
        "id": "T1glGLLOoDXK"
      },
      "execution_count": null,
      "outputs": []
    },
    {
      "cell_type": "markdown",
      "metadata": {
        "id": "mJKMyovLAwDc"
      },
      "source": [
        "## **Questão 7**\n",
        "\n",
        ">###  Qual é o valor total de gastos por Estado?"
      ]
    },
    {
      "cell_type": "markdown",
      "metadata": {
        "id": "_Odf8vPMjYeO"
      },
      "source": [
        "Estrutura de desenvolvimento sugerida:\n",
        "\n",
        "- Tipos de gastos e UF\n",
        "- Somar os gastos por federação e ordenar lista"
      ]
    },
    {
      "cell_type": "code",
      "source": [
        "dados_ceap_uf= dados_ceap.filter(['UF', 'ValorLiquido'], axis=1).groupby(['UF']).sum()\n",
        "dados_ceap_uf"
      ],
      "metadata": {
        "id": "CojKVv-1digu"
      },
      "execution_count": null,
      "outputs": []
    },
    {
      "cell_type": "code",
      "source": [
        "dados_ceap_valoruf = dados_ceap_uf.sort_values(['ValorLiquido'], ascending=False)\n",
        "dados_ceap_valoruf"
      ],
      "metadata": {
        "id": "1Txk0JHik_gZ"
      },
      "execution_count": null,
      "outputs": []
    },
    {
      "cell_type": "markdown",
      "source": [
        "Os estados que possuem maior gastos: \n",
        "- SP\t\n",
        "- MG\t\n",
        "- BA\t\n",
        "- RJ\t\n",
        "- PR"
      ],
      "metadata": {
        "id": "et5-VcSTJXoD"
      }
    },
    {
      "cell_type": "code",
      "source": [
        "sns.set(rc={'figure.figsize': (11.7, 8.27)})\n",
        "# sns.set_theme(style=\"whitegrid\")\n",
        "\n",
        "# palette=\"Blues_d\" -> Colocar dentro do gráfico para mudar o esquema de cores das barras.\n",
        "sns.barplot(y=dados_ceap_valoruf.index, x=\"ValorLiquido\" ,data=dados_ceap_valoruf)"
      ],
      "metadata": {
        "id": "b9gshWrrQTVK"
      },
      "execution_count": null,
      "outputs": []
    },
    {
      "cell_type": "markdown",
      "metadata": {
        "id": "_q-TDPhQA0Vi"
      },
      "source": [
        "## **Questão 8**\n",
        "\n",
        ">###  Quais Estados têm maior número de representantes?\n",
        "\n"
      ]
    },
    {
      "cell_type": "markdown",
      "metadata": {
        "id": "DAnoweREjZwz"
      },
      "source": [
        "Estrutura de desenvolvimento sugerida:\n",
        "- separar nome de representantes por UF\n",
        "- count por UF"
      ]
    },
    {
      "cell_type": "code",
      "execution_count": null,
      "metadata": {
        "id": "hGeSudaBwEDd"
      },
      "outputs": [],
      "source": [
        "dados_ceap_parlamentar = dados_ceap[['UF', 'NomeParlamentar']].drop_duplicates().copy()\n",
        "dados_ceap_parlamentar"
      ]
    },
    {
      "cell_type": "code",
      "source": [
        "dados_ceap_parlamentarcount = dados_ceap_parlamentar.groupby(['UF']).count().sort_values(['NomeParlamentar'], ascending=False)\n",
        "dados_ceap_parlamentarcount "
      ],
      "metadata": {
        "id": "vveo5-MEYK-1"
      },
      "execution_count": null,
      "outputs": []
    },
    {
      "cell_type": "code",
      "source": [
        "sns.set(rc={'figure.figsize': (11.7, 8.27)})\n",
        "sns.barplot(y=dados_ceap_parlamentarcount.index, x=\"NomeParlamentar\" ,data=dados_ceap_parlamentarcount)"
      ],
      "metadata": {
        "id": "PGmTZOzanBm0"
      },
      "execution_count": null,
      "outputs": []
    },
    {
      "cell_type": "markdown",
      "source": [
        "As unidades federativas que mais possuem parlamentares são: \n",
        "- SP\n",
        "- RJ\n",
        "- MG\n",
        "- BA\n",
        "- RS\n"
      ],
      "metadata": {
        "id": "tgV9sPmQLDDS"
      }
    },
    {
      "cell_type": "markdown",
      "metadata": {
        "id": "r8RAr1Z8A_22"
      },
      "source": [
        "## **Questão 9**\n",
        "\n",
        ">###  Há alguma correlação entre a quantidade de parlamentares por estado e o valor total dos gastos?"
      ]
    },
    {
      "cell_type": "markdown",
      "metadata": {
        "id": "U6yW60AWjbNh"
      },
      "source": [
        "Estrutura de desenvolvimento sugerida:\n",
        "\n",
        "- UF, utilizar a variavel da questao 8 de count por UF, total de gastos\n",
        "- calculo da correlação"
      ]
    },
    {
      "cell_type": "code",
      "source": [
        "dadosParlamentar_ceap = dados_ceap_parlamentarcount.copy()"
      ],
      "metadata": {
        "id": "w3FrJiDvYX7N"
      },
      "execution_count": null,
      "outputs": []
    },
    {
      "cell_type": "code",
      "source": [
        "valorLiquidoTotalUf = dados_ceap_valoruf.copy()"
      ],
      "metadata": {
        "id": "mEUHWK3AYaY1"
      },
      "execution_count": null,
      "outputs": []
    },
    {
      "cell_type": "code",
      "source": [
        "corr_gasto_parlamentar_uf = dadosParlamentar_ceap.merge(valorLiquidoTotalUf, how='inner', left_on='UF', right_on='UF')\n",
        "corr_gasto_parlamentar_uf"
      ],
      "metadata": {
        "id": "XKMgRudrYa-5"
      },
      "execution_count": null,
      "outputs": []
    },
    {
      "cell_type": "code",
      "source": [
        "corr_gasto_parlamentar_uf.corr()"
      ],
      "metadata": {
        "id": "ito9kWH-YfT6"
      },
      "execution_count": null,
      "outputs": []
    },
    {
      "cell_type": "markdown",
      "source": [
        "A correlação entre quantidade de parlamentares por estados é proporcional aos valores líquidos abatidos das cotas mensais.\n",
        "\n",
        "É interessante observar que esse cálculo se faz necessário dentro do contexto, pois a distancia entre eles demonstraria uma possível alerta de fraude onde as despesas não estariam sendo apresentadas de forma correta."
      ],
      "metadata": {
        "id": "LOGCBLkOYf0l"
      }
    },
    {
      "cell_type": "code",
      "source": [
        "# corr_gasto_parlamentar_uf.plot.scatter(x='NomeParlamentar',y='ValorLiquido', c='Red')\n",
        "sns.regplot(corr_gasto_parlamentar_uf['NomeParlamentar'], corr_gasto_parlamentar_uf['ValorLiquido'] )"
      ],
      "metadata": {
        "id": "02nPN3aeCVZo"
      },
      "execution_count": null,
      "outputs": []
    },
    {
      "cell_type": "markdown",
      "metadata": {
        "id": "JKgKeDYLBF3u"
      },
      "source": [
        "## **Questão 10** \n",
        "\n",
        ">### Qual a média de gastos por partido?\n"
      ]
    },
    {
      "cell_type": "markdown",
      "metadata": {
        "id": "dRws6ymR5itw"
      },
      "source": [
        "- Selecionei as colunas `'Partido'` e `'Valor Líquido'` do Dataset original;\n",
        "\n",
        "- Para calcular a média dos valores utilizei a função `.mean()` agrupando o resultado por Partido com o `.groupby()` ;\n",
        "\n",
        "- Com o método `.sort_values()` ordenei pelos valores da coluna `'Valor Liquido', de forma decrescente `(ascending = False)`;\n",
        "\n",
        "- E com a função `.round()` fiz o arredondadento dos valores para duas casas decimais."
      ]
    },
    {
      "cell_type": "code",
      "source": [
        "media_gasto_partido_total= dados_ceap[['Partido','ValorLiquido']].groupby('Partido').mean().sort_values('ValorLiquido', ascending=False).round(2).reset_index()\n",
        "media_gasto_partido_total.head()"
      ],
      "metadata": {
        "id": "JG518C8N_tYY"
      },
      "execution_count": null,
      "outputs": []
    },
    {
      "cell_type": "markdown",
      "metadata": {
        "id": "dP2XwYKguho6"
      },
      "source": [
        ">Os Partidos que não possuem registro de gastos nos anos de 2020 e 2021 foram incorporados a outros partidos ou tiveram alteração na nomenclatura no ano de 2019 conforme abaixo:\n",
        "\n",
        "- mudança da denominação do Partido da República (PR) para Partido Liberal (PL) em 07/05/2019\n",
        "\n",
        "- Fusão do Partido Humanista da Solidariedade (PHS) ao Podemos em 19/07/2019\n",
        "\n",
        "- a incorporação do Partido Pátria Livre (PPL) ao Partido Comunista do Brasil (PCdoB) em 28/05/2019\n",
        "\n",
        "- mudança do nome do Partido Popular Socialista (PPS) para Cidadania em 19/09/2019\n",
        "\n",
        "- mudança de nome do PRB (Partido Republicano Brasileiro) para Republicanos em 15/08/2019"
      ]
    },
    {
      "cell_type": "code",
      "source": [
        "media_gasto_partido_total.boxplot(vert=False,figsize = (16,8))"
      ],
      "metadata": {
        "id": "ookP6-I9_-g4"
      },
      "execution_count": null,
      "outputs": []
    },
    {
      "cell_type": "markdown",
      "source": [
        "><font color='orange' style='font-size: 50px;'>**Resultado da Análise**\n",
        "\n",
        "A média geral dos gastos foi de 952,48 reais,com a mediana no valor de 890,46 e apresentou apenas três outliers:\n",
        "\n",
        "- O Partido PPL apresentou a maior média por não haver registro de gastos nos anos de 2020 e 2021 pois foi incorporado  ao Partido Comunista do Brasil (PCdoB) em 28/05/2019.\n",
        "\n",
        "- S.PART também apresentou uma média muito alta pois nesse grupo só há um Parlamentar, o Deputado Federal licenciado Rodrigo Maia.Apesar de ter sido filiado ao Democratas até 13/06/2021, data que antecedeu à sua expulsão do Partido, só há registro de gastos no mês de janeiro de 2019.\n",
        "\n",
        "- O Partido NOVO apresentou a menor média,monstrando que seus Parlamentares vem seguindo a risca um dos príncípios do Partido, a economia de gastos públicos com o uso racional dos recursos públicos.\n",
        "\n",
        "\n"
      ],
      "metadata": {
        "id": "Z6MMATM0Lujy"
      }
    },
    {
      "cell_type": "markdown",
      "metadata": {
        "id": "6esZZN4FBL8s"
      },
      "source": [
        "##**Questão 11** \n",
        "\n",
        ">### Quais são os partidos que mais e que menos consumiram a cota parlamentar?"
      ]
    },
    {
      "cell_type": "markdown",
      "source": [
        "><font color='orange' style='font-size: 50px;'>Cota para o Exercício da Atividade Parlamentar\n",
        "\n",
        "<hr style='border: 2px solid red;'>\n",
        "\n",
        "O valor máximo mensal da cota depende da unidade da federação que o deputado representa. Essa variação ocorre por causa das passagens aéreas e está relacionada ao valor do trecho entre Brasília e o Estado que o deputado representa.\n",
        "\n",
        "\n",
        "|UF    |Cota Mensal  |\n",
        "|------|-------------|\n",
        "|AC|38433,51|\n",
        "|AL|35257,42|\n",
        "|AM|37518,71|\n",
        "|AP|37350,51|\n",
        "|BA|3592,68|\n",
        "|CE|36555,69|\n",
        "|DF|\t26512,46|\n",
        "|ES\t|32226,14|\n",
        "|GO\t|30575,52|\n",
        "|MA\t|36297,29|\n",
        "|MG|\t31079,83|\n",
        "|MS\t|34911,89|\n",
        "|MT|\t33951,91|\n",
        "|PA\t|36362,53|\n",
        "|PB|\t36194,70|\n",
        "|PE\t|35888,36|\n",
        "|PI|\t35281,25|\n",
        "|PR|33472,99|\n",
        "|RJ\t|30793,31|\n",
        "|RN\t|36796,99|\n",
        "|RO\t|37606,87|\n",
        "|RR\t|39277,46|\n",
        "|RS\t|35198,69|\n",
        "|SC\t|34339,20|\n",
        "|SE|\t34564,36|\n",
        "|SP|\t31898,60|\n",
        "|TO\t|34017,00|"
      ],
      "metadata": {
        "id": "ykVojQNgzUAi"
      }
    },
    {
      "cell_type": "markdown",
      "metadata": {
        "id": "V4bspS-S3No5"
      },
      "source": [
        "### 1 - **Criando o Primeiro Dataframe Auxiliar** : <font color='orange' style='font-size: 50px;'>Valor da Cota por Estado\n",
        "\n"
      ]
    },
    {
      "cell_type": "markdown",
      "source": [
        "- criei uma planilha no excel com os valores das cotas e seus respectivos Estados;\n",
        "- Utilizando `pd.read_excel` fiz a leitura do arquivo.\n",
        "\n",
        "\n",
        "**OBS.: Os valores são referentes a soma dos três anos, de 2019 até julho de 2021**"
      ],
      "metadata": {
        "id": "prAhV9eAHodg"
      }
    },
    {
      "cell_type": "code",
      "execution_count": null,
      "metadata": {
        "id": "DBRZNP9jTwex"
      },
      "outputs": [],
      "source": [
        "cota_total =pd.read_excel('/content/Cota_Total.xlsx', index_col=0) \n",
        "cota_total.head()"
      ]
    },
    {
      "cell_type": "markdown",
      "metadata": {
        "id": "TH9mLSQeQWR2"
      },
      "source": [
        "### 2 -  **Criando o Segundo DataFrame Auxiliar** : <font color='orange' style='font-size: 50px;'>Qtd de Parlamentares por Estado\n",
        " \n",
        "\n"
      ]
    },
    {
      "cell_type": "markdown",
      "source": [
        "- Selecionei as colunas 'UF', 'Partido' e 'NomeParlamentar' do DataFrame original e exclui seus valores duplicados utilizando a função `.drop_duplicates()`;\n",
        "- Fiz o agrupamento `.groupby()` por 'Partido' e 'UF' e a contagem dos Parlamentares  `.count()`;\n",
        "- Os valores foram ordenados `.sort_values()`em ordem decrescente `ascendig=False`;\n",
        "- A coluna 'NomeParlamentar'foi renomeada `.rename()`.\n"
      ],
      "metadata": {
        "id": "249ZeVVRH1gI"
      }
    },
    {
      "cell_type": "code",
      "source": [
        "qtd_parlamentar_aux = dados_ceap[['UF','Partido','NomeParlamentar']].drop_duplicates().copy()\n",
        "qtd_parlamentar = qtd_parlamentar_aux.groupby(['Partido','UF']).count().sort_values('NomeParlamentar',ascending = False).rename(columns={'NomeParlamentar':'Qtd.Parlamentares'})\n",
        "qtd_parlamentar\n"
      ],
      "metadata": {
        "id": "XK-cw6rnCGTC"
      },
      "execution_count": null,
      "outputs": []
    },
    {
      "cell_type": "markdown",
      "source": [
        "### 3 - **Terceiro DataFrame Auxiliar** : <font color='orange' style='font-size: 50px;'>Junção do Primeiro com o Segundo Dataframe Auxiliares\n"
      ],
      "metadata": {
        "id": "r09d8IJjXy9H"
      }
    },
    {
      "cell_type": "markdown",
      "source": [
        "- A junção dos dois primeiros Dataframes foi feita através da função `.join()`"
      ],
      "metadata": {
        "id": "FKNkAkCCH8-K"
      }
    },
    {
      "cell_type": "code",
      "execution_count": null,
      "metadata": {
        "id": "loyDGi69KiG1"
      },
      "outputs": [],
      "source": [
        "df_aux=cota_total.join(qtd_parlamentar)\n",
        "df_aux.head()"
      ]
    },
    {
      "cell_type": "markdown",
      "source": [
        "- Criei uma nova coluna `'TotalCotaEstado` onde o valor contido nela será o valor da Cota de cada Estado multiplicado pela quantidade de Parlamentares que o representa;\n",
        "- Fiz a conversão dos valores de notação científica para float `pd.options.display.float_format´` "
      ],
      "metadata": {
        "id": "BpLO09qlY2UL"
      }
    },
    {
      "cell_type": "code",
      "execution_count": null,
      "metadata": {
        "id": "PgR5_3IiLZo4"
      },
      "outputs": [],
      "source": [
        "pd.options.display.float_format = '{:,.2f}'.format\n",
        "df_aux['TotalCotaEstado'] = df_aux['TotalCota'] * df_aux['Qtd.Parlamentares']\n",
        "df_aux.head()"
      ]
    },
    {
      "cell_type": "markdown",
      "metadata": {
        "id": "uqd3emuKPE7I"
      },
      "source": [
        "### 4 - **Criando o Quarto DataFrame Auxiliar**: <font color='orange' style='font-size: 50px;'>Total de gastos por Partido\n",
        "\n",
        "\n",
        "\n"
      ]
    },
    {
      "cell_type": "markdown",
      "source": [
        "- Criei um Dataframe com três colunas selecionadas do Dataframe original , fiz uma cópia pra que o Dataset original não fosse alterado.\n",
        "\n",
        "- Utilizei `groupby()` para fazer o agrupamento da nova tabela por Partido e UF usei a função `.sum()` para somar os valores gastos;\n",
        "\n",
        "**OBS: Foram considerados os valores até julho de 2021**"
      ],
      "metadata": {
        "id": "zgUcVGpgIB3f"
      }
    },
    {
      "cell_type": "code",
      "execution_count": null,
      "metadata": {
        "id": "79VKO1KQdt1m"
      },
      "outputs": [],
      "source": [
        "gasto_partido_total_aux = dados_ceap[['Partido','UF','ValorLiquido']].loc[dados_ceap['Mes']<= 7].copy()\n",
        "gasto_partido_total = gasto_partido_total_aux.groupby(['Partido','UF']).sum()\n",
        "gasto_partido_total.fillna(0)"
      ]
    },
    {
      "cell_type": "markdown",
      "source": [
        "###<font color='orange' style='font-size: 50px;'> **DataFrame Consumo da Cota Por Partido**\n",
        "\n",
        "\n"
      ],
      "metadata": {
        "id": "JkPSVkJskDgp"
      }
    },
    {
      "cell_type": "markdown",
      "source": [
        "\n",
        "- Junção do Terceiro e Quarto Dataframe Auxiliar `.join()`"
      ],
      "metadata": {
        "id": "b0BkA8AeGmEQ"
      }
    },
    {
      "cell_type": "code",
      "execution_count": null,
      "metadata": {
        "id": "Gf0R8tdkfIMy"
      },
      "outputs": [],
      "source": [
        "df_aux2 =gasto_partido_total.join(df_aux)\n",
        "df_aux2"
      ]
    },
    {
      "cell_type": "markdown",
      "source": [
        "- Selecionei apenas as colunas 'ValorLiquido' e 'ValorEstado' do DataFrame gerado após a junção;\n",
        "- Agrupei o resultado da soma `.sum()`por Partido;\n",
        "- Criei uma nova coluna `Percentual`cujo valor será o percentual do total de gastos do Partido (ValorLiquido) em relação a Cota (TotalCotaEstado)"
      ],
      "metadata": {
        "id": "jWlcAc_hk_H2"
      }
    },
    {
      "cell_type": "code",
      "source": [
        "consumo_cota_partido_aux= df_aux2[['ValorLiquido','TotalCotaEstado']]\n",
        "consumo_cota_partido = consumo_cota_partido_aux.groupby(['Partido']).sum()\n",
        "consumo_cota_partido['Percentual'] = ((consumo_cota_partido['ValorLiquido'] /consumo_cota_partido['TotalCotaEstado']) * 100)\n",
        "consumo_cota_partido.head()"
      ],
      "metadata": {
        "id": "eY5GQx5YFdDH"
      },
      "execution_count": null,
      "outputs": []
    },
    {
      "cell_type": "markdown",
      "source": [
        "><font color='orange' style='font-size: 50px;'>**Partidos que menos utilizaram a Cota Parlamentar**</font>\n",
        "<hr style='border: 2px solid red;'>"
      ],
      "metadata": {
        "id": "mMMn8FQnPlpj"
      }
    },
    {
      "cell_type": "code",
      "source": [
        "partido_menor_consumo =consumo_cota_partido.sort_values('Percentual',ascending = True)\n",
        "partido_menor_consumo.head(10)"
      ],
      "metadata": {
        "id": "-WWRhaEARVhS"
      },
      "execution_count": null,
      "outputs": []
    },
    {
      "cell_type": "code",
      "source": [
        "graf_menor_consumo = partido_menor_consumo.head(10).plot(kind='barh',figsize=(15,10))\n",
        "graf_menor_consumo.set_xlabel(' Consumo',fontsize=16)\n",
        "graf_menor_consumo.set_ylabel('Partido', fontsize=18)\n",
        "graf_menor_consumo.set_title('Partidos que menos utilizaram a Cota Parlamentar', fontsize=18)\n",
        "graf_menor_consumo = graf_menor_consumo"
      ],
      "metadata": {
        "id": "PuymnM94IwlS"
      },
      "execution_count": null,
      "outputs": []
    },
    {
      "cell_type": "markdown",
      "source": [
        "><font color='orange' style='font-size: 50px;'>**Resultado da Análise**\n",
        "\n",
        "Desconsiderando os Partidos PPS, PHS, PRB,PR e PPL que fazem parte do grupo dos Partidos que foram renomeados ou incorporporados à outro Partido no ano de 2019 e por isso apresentaram consumo muito baixo, o NOVO também aparece com o menor consumo da Cota Parlamentar seguido dos Partidos REDE, PODE, PSC e PV."
      ],
      "metadata": {
        "id": "At_D1bN15AOH"
      }
    },
    {
      "cell_type": "markdown",
      "source": [
        "><font color='orange' style='font-size: 50px;'>**Partidos que mais utilizaram a Cota Parlamentar**</font>\n",
        "<hr style='border: 2px solid red;'>"
      ],
      "metadata": {
        "id": "pYE7XdyESMfH"
      }
    },
    {
      "cell_type": "code",
      "source": [
        "partido_maior_consumo =consumo_cota_partido.sort_values('Percentual',ascending = False)\n",
        "partido_maior_consumo.head()"
      ],
      "metadata": {
        "id": "3Z609AIpRiHp"
      },
      "execution_count": null,
      "outputs": []
    },
    {
      "cell_type": "code",
      "source": [
        "graf_maior_consumo = partido_maior_consumo.head().plot(kind='barh',figsize=(15,10))\n",
        "graf_maior_consumo.set_xlabel('Consumo',fontsize=16)\n",
        "graf_maior_consumo.set_ylabel('Partido', fontsize=18)\n",
        "graf_maior_consumo.set_title('Partidos que mais utilizaram a Cota Parlamentar', fontsize=18)\n",
        "graf_maior_consumo =graf_maior_consumo"
      ],
      "metadata": {
        "id": "A2RehZa9JoDR"
      },
      "execution_count": null,
      "outputs": []
    },
    {
      "cell_type": "markdown",
      "source": [
        "><font color='orange' style='font-size: 50px;'>**Resultado da Análise**\n",
        "\n",
        "**Os Partidos que mais consumiram a Cota Parlamentar:**\n",
        "\n",
        "- Republicanos \n",
        "- PL\n",
        "- Cidadania\n",
        "- PDT\n",
        "- PSL\n",
        "\n",
        "O PSL mesmo possuindo a maior Cota dentre os Partidos com os cinco maiores consumos, o Republicanos foi o que obteve o maior percentual."
      ],
      "metadata": {
        "id": "Si9v6TE__mBd"
      }
    },
    {
      "cell_type": "markdown",
      "metadata": {
        "id": "DViMUSw_BQAE"
      },
      "source": [
        "## **Questão 12** \n",
        "\n",
        ">###  Há alguma correlação entre a quantidade de parlamentares por partido e o valor total dos gastos?"
      ]
    },
    {
      "cell_type": "markdown",
      "source": [
        ">### 1- **Criando o primeiro dataframe** - <font color='orange' style='font-size: 50px;'>Quantidade de Parlamentares por Partido"
      ],
      "metadata": {
        "id": "r1F3LNOWV1d6"
      }
    },
    {
      "cell_type": "markdown",
      "metadata": {
        "id": "Uti74aZ9UJex"
      },
      "source": [
        "- Criei um dataframe com as duas colunas selecionadas do Dataframe original ´Partido'e 'NomeParlamentar' sem os valores duplicados utilizando `.drop_duplicates()`.Foi feito uma cópia `.copy()` pra que o Dataset original não fosse alterado.\n",
        "\n",
        "- Utilizei `.groupby()` para fazer o agrupamento da nova tabela por Partido e usei `.count()` para fazer a contagem de quantos Parlamentares há em cada Partido;\n",
        "\n",
        "- Com `.sort_values(ascending = False)` ordenei os valores em ordem decrescente e com `.rename()`renomei a coluna 'NomeParlamentar'."
      ]
    },
    {
      "cell_type": "code",
      "execution_count": null,
      "metadata": {
        "id": "wl0qR8lqsWe8"
      },
      "outputs": [],
      "source": [
        "parlamentar_partido_aux = dados_ceap[['Partido','NomeParlamentar']].drop_duplicates().copy() \n",
        "parlamentar_partido = parlamentar_partido_aux.groupby('Partido').count().sort_values('NomeParlamentar',\n",
        "    ascending = False).rename(columns={'NomeParlamentar':'Qtd.Parlamentares'}) \n",
        "\n",
        "parlamentar_partido.head()"
      ]
    },
    {
      "cell_type": "markdown",
      "source": [
        ">### 2 - **Criando o segundo dataframe** - <font color='orange' style='font-size: 50px;'>Valor total dos gastos por Partido"
      ],
      "metadata": {
        "id": "YZ82T3AFWAGJ"
      }
    },
    {
      "cell_type": "markdown",
      "metadata": {
        "id": "mDmCVcmkWIkd"
      },
      "source": [
        "- Criei o dataframe somente com as colunas 'Partido'e 'ValorLiquido' do dataset original;\n",
        "- Realizei a soma `.sum()` dos valores gastos agrupando `.groupby()`o resultado por Partido; \n",
        "- Utilizei  `.sort_values(ascending = False)` para ordenar os valores em ordem decrescente e `.rename()`para renomar a coluna 'ValorLiquido'.\n"
      ]
    },
    {
      "cell_type": "code",
      "execution_count": null,
      "metadata": {
        "id": "CavB9dkUsonI"
      },
      "outputs": [],
      "source": [
        "gasto_partido_total= dados_ceap[['Partido','ValorLiquido']].groupby('Partido').sum().sort_values('ValorLiquido', \n",
        "       ascending=False).rename(columns={'ValorLiquido':'Total Gastos'})\n",
        "\n",
        "gasto_partido_total.head()"
      ]
    },
    {
      "cell_type": "markdown",
      "source": [
        ">### 3 -**Dataframe - <font color='orange' style='font-size: 50px;'>Correlação**"
      ],
      "metadata": {
        "id": "qBOjuhccYxDo"
      }
    },
    {
      "cell_type": "markdown",
      "metadata": {
        "id": "4G1pXlLjY7bP"
      },
      "source": [
        "- Utilizei a função `.merge()` para fazer a junção das duas tabelas e indicando nos parâmetros a coluna 'Partido' como chave ( ponto de interseção entre as duas tabelas)"
      ]
    },
    {
      "cell_type": "code",
      "execution_count": null,
      "metadata": {
        "id": "jr8kJGCfssYX"
      },
      "outputs": [],
      "source": [
        "corr_part_gasto = parlamentar_partido.merge(gasto_partido_total, how='inner', left_on='Partido', right_on='Partido')\n",
        "corr_part_gasto.head()\n"
      ]
    },
    {
      "cell_type": "markdown",
      "metadata": {
        "id": "x1TL4Zw_ZJQh"
      },
      "source": [
        ">### 4 -<font color='orange' style='font-size: 50px;'>  **Cálculo do coeficiente de correlação**\n",
        "\n"
      ]
    },
    {
      "cell_type": "markdown",
      "source": [
        "- Utilizando a função `.corr()`, calculei a correlação entre os valores das colunas 'Total Gastos' e 'Qtd.Parlamentares'."
      ],
      "metadata": {
        "id": "q8Z1baZFIW5_"
      }
    },
    {
      "cell_type": "code",
      "source": [
        "corr_part_gasto ['Total Gastos'].corr(corr_part_gasto ['Qtd.Parlamentares'])"
      ],
      "metadata": {
        "id": "M1i-iyfosdMH"
      },
      "execution_count": null,
      "outputs": []
    },
    {
      "cell_type": "code",
      "source": [
        "grafico_corr_part_gasto = corr_part_gasto.corr(method='pearson')\n",
        "\n",
        "plt.figure(figsize=(8,6))\n",
        "sns.heatmap(grafico_corr_part_gasto , annot=True)\n",
        "\n",
        "plt.show()"
      ],
      "metadata": {
        "id": "ZGBI1-xGs0Xp"
      },
      "execution_count": null,
      "outputs": []
    },
    {
      "cell_type": "code",
      "source": [
        "ax1 = corr_part_gasto.plot.scatter(x='Qtd.Parlamentares',y='Total Gastos', c='Red')\n",
        "ax1 = ax1"
      ],
      "metadata": {
        "id": "g8D8eKuYt-qH"
      },
      "execution_count": null,
      "outputs": []
    },
    {
      "cell_type": "code",
      "source": [
        "sns.regplot(corr_part_gasto['Qtd.Parlamentares'], corr_part_gasto['Total Gastos'])\n",
        "\n",
        "\n",
        "#método *regplot* do *seaborn*, gera uma plotagem de dispersão e inclui um traço de regressão linear"
      ],
      "metadata": {
        "id": "MMVVcbAwug16"
      },
      "execution_count": null,
      "outputs": []
    },
    {
      "cell_type": "markdown",
      "source": [
        "><font color='orange' style='font-size: 50px;'>**Resultado da Análise**\n",
        "\n",
        "As duas variáveis possuem uma correlação muito forte e estão diretamente correlacionadas, ou seja, à medida que a quantidade de Parlamentares aumenta, o mesmo acontece com o valor referente ao total dos gastos\n"
      ],
      "metadata": {
        "id": "xZpq1xzQHEJh"
      }
    },
    {
      "cell_type": "markdown",
      "source": [
        "##**Questão 13** \n",
        "\n",
        ">###  Quais são os Estados que mais e que menos consumiram a cota parlamentar?"
      ],
      "metadata": {
        "id": "4OWhKVRVKon5"
      }
    },
    {
      "cell_type": "markdown",
      "source": [
        "### 1 - **Criação do primeiro dataframe auxiliar:**<font color='orange' style='font-size: 50px;'> Total de Parlamentares por Estado\n"
      ],
      "metadata": {
        "id": "wKgXsU5vlS5z"
      }
    },
    {
      "cell_type": "markdown",
      "source": [
        "- Selecionei as coluna 'UF' e 'NomeParlamentar' do dataset original e exclui os valores duplicados com `.drop_duplicates()` e fiz uma cópia `.copy()`para que o original não fosse alterado;\n",
        "- Fiz a contagem dos Parlamentares usando `.count()`e agrupando os resulatdos por Estado com `.groupby()`\n",
        "- Renomeei a coluna 'NomeParlamentares\" usando `.rename()`"
      ],
      "metadata": {
        "id": "LZpqffoTF5BQ"
      }
    },
    {
      "cell_type": "code",
      "source": [
        "qtd_parlamentar_estado_aux= dados_ceap[['UF','NomeParlamentar']].drop_duplicates().copy()\n",
        "qtd_parlamentar_estado = qtd_parlamentar_estado_aux.groupby(['UF']).count().sort_values('NomeParlamentar',ascending = False).rename(columns={'NomeParlamentar':'Qtd.Parlamentares'})\n",
        "qtd_parlamentar_estado.head()"
      ],
      "metadata": {
        "id": "pR_1M0Lgb8xl"
      },
      "execution_count": null,
      "outputs": []
    },
    {
      "cell_type": "markdown",
      "source": [
        "### 2 - **junção dos dataframes**\n"
      ],
      "metadata": {
        "id": "clTBvf04mi0i"
      }
    },
    {
      "cell_type": "markdown",
      "source": [
        "- utilizando `.join()`uni o dataframe criado acima com o dataframe que possui os valores da cota mensal de cada Estado (cota_total) "
      ],
      "metadata": {
        "id": "zrIF2vdBGI6o"
      }
    },
    {
      "cell_type": "code",
      "source": [
        "vlr_total_cota = qtd_parlamentar_estado.join(cota_total)\n",
        "vlr_total_cota['Vlr Total Cota'] = vlr_total_cota ['Qtd.Parlamentares']*vlr_total_cota['TotalCota']\n",
        "vlr_total_cota.head()"
      ],
      "metadata": {
        "id": "eR41ibAVg5s3"
      },
      "execution_count": null,
      "outputs": []
    },
    {
      "cell_type": "markdown",
      "source": [
        "### 3 - Criação do Dataframe <font color='orange' style='font-size: 50px;'>  Total de gastos por Partido\n"
      ],
      "metadata": {
        "id": "_XYQMiEZn6pK"
      }
    },
    {
      "cell_type": "markdown",
      "source": [
        "- Selecionei as colunas 'UF' e 'ValorLiquido' do dataset original e somei os valores `.sum()`e agrupei `.groupby()`os resultados por Estado\n",
        "\n",
        "**OBS: Foi considerado os valores dos gastos até julho de 2021**"
      ],
      "metadata": {
        "id": "oxkOjlp7GNcH"
      }
    },
    {
      "cell_type": "code",
      "source": [
        "gasto_estado_aux = dados_ceap[['UF','ValorLiquido']].loc[dados_ceap['Mes']<= 7]\n",
        "gasto_estado = gasto_estado_aux.groupby(['UF']).sum()\n",
        "gasto_estado.head()"
      ],
      "metadata": {
        "id": "k-aASWWkskw2"
      },
      "execution_count": null,
      "outputs": []
    },
    {
      "cell_type": "markdown",
      "source": [
        "###<font color='orange' style='font-size: 50px;'>  **Consumo da Cota por Estado**\n"
      ],
      "metadata": {
        "id": "ibyViXbqomAP"
      }
    },
    {
      "cell_type": "markdown",
      "source": [
        "- Uni os dataframes vlr_total_cota e gasto_estado usando `.join() e renomeando algumas colunas `.rename()`;\n",
        "- criei a coluna '%Consumo' e o valor contido nela será o percentual de gastos em relação ao total da cota de cada Estado."
      ],
      "metadata": {
        "id": "sV7uCl1yIiKS"
      }
    },
    {
      "cell_type": "code",
      "source": [
        "consumo_cota_uf = vlr_total_cota.join(gasto_estado).rename(columns={'TotalCota':'CotaEstado','Vlr Total Cota':'TotalCota'})\n",
        "consumo_cota_uf['%Consumo'] = (consumo_cota_uf['ValorLiquido']/consumo_cota_uf['TotalCota'])*100\n",
        "consumo_cota_uf.head()"
      ],
      "metadata": {
        "id": "_qtdBESMoukO"
      },
      "execution_count": null,
      "outputs": []
    },
    {
      "cell_type": "markdown",
      "source": [
        "- CotaEstado - Valor da Cota do Estado multiplicado por 31 meses\n",
        "- TotalCota - Valor da Cota do Estado multiplicado pela quantidade de Parlamentares\n",
        "- Valor Liquido - Total de gastos do Estado\n",
        "- %Consumo - percentual de consumo da Cota"
      ],
      "metadata": {
        "id": "VWvQthGUEAVB"
      }
    },
    {
      "cell_type": "markdown",
      "source": [
        "><font color='orange' style='font-size: 50px;'>**Estados que mais utilizaram a Cota Parlamentar**</font>\n",
        "<hr style='border: 2px solid red;'>"
      ],
      "metadata": {
        "id": "HklsBFBsrhNv"
      }
    },
    {
      "cell_type": "code",
      "source": [
        "estado_maior_consumo = consumo_cota_uf.sort_values('%Consumo',ascending = False)\n",
        "estado_maior_consumo.head()"
      ],
      "metadata": {
        "id": "sBVGSkokrosE"
      },
      "execution_count": null,
      "outputs": []
    },
    {
      "cell_type": "markdown",
      "source": [
        "><font color='orange' style='font-size: 50px;'>**Resultado da Análise**\n",
        "\n",
        "**Os Estados que mais utilizaram a Cota Parlamentar:**\n",
        "- Bahia\n",
        "- Sergipe\n",
        "- Piauí\n",
        "- Acre\n",
        "- Tocantins"
      ],
      "metadata": {
        "id": "FLQDaLZnFHby"
      }
    },
    {
      "cell_type": "markdown",
      "source": [
        "><font color='orange' style='font-size: 50px;'>**Estados que menos utilizaram a Cota Parlamentar**</font>\n",
        "<hr style='border: 2px solid red;'>"
      ],
      "metadata": {
        "id": "eqCuPQ8YsB41"
      }
    },
    {
      "cell_type": "code",
      "source": [
        "estado_menor_consumo = consumo_cota_uf.sort_values('%Consumo',ascending = True)\n",
        "estado_menor_consumo.head()"
      ],
      "metadata": {
        "id": "NhLDVjRKsH3G"
      },
      "execution_count": null,
      "outputs": []
    },
    {
      "cell_type": "markdown",
      "source": [
        "> <font color='orange' style='font-size: 50px;'>**Resultado da Análise**\n",
        "\n",
        "**Os Estados que menos utilizaram a Cota Parlamentar:**\n",
        "- Santa Catarina\n",
        "- Distrido Federal\n",
        "- Rondônia\n",
        "- Mato Grosso do Sul\n",
        "- Mato Grosso"
      ],
      "metadata": {
        "id": "yFyZFm_zFcwb"
      }
    },
    {
      "cell_type": "markdown",
      "metadata": {
        "id": "sJqogMIXBaqJ"
      },
      "source": [
        "## **Questão 14**\n",
        "\n",
        ">###  Análise de gastos no exterior durante a pandemia"
      ]
    },
    {
      "cell_type": "markdown",
      "metadata": {
        "id": "Iakqw8Mxjfh2"
      },
      "source": [
        "Estrutura de desenvolvimento sugerida:\n",
        "\n",
        "- Filtrar qtd de parlamentares, valor liquido , TipoDocumento e UF, Ano"
      ]
    },
    {
      "cell_type": "code",
      "source": [
        "gastos_exterior = dados_ceap.filter([ 'NomeParlamentar','UF','NomeParlementar', 'ValorLiquido','Mes' ,'Ano', 'TipoDocumento'], axis = 1)\n",
        "gastos_exterior"
      ],
      "metadata": {
        "id": "pK20l85KICMB"
      },
      "execution_count": null,
      "outputs": []
    },
    {
      "cell_type": "code",
      "source": [
        "gastos_exterior_pandemia = gastos_exterior[gastos_exterior['TipoDocumento'].isin([2])]\n",
        "gastos_exterior_pandemia\n"
      ],
      "metadata": {
        "id": "hkLxqi_sBkyi"
      },
      "execution_count": null,
      "outputs": []
    },
    {
      "cell_type": "code",
      "source": [
        "gastos_exterior_pandemia_2019 = gastos_exterior_pandemia[gastos_exterior_pandemia['Ano'].isin([2019])].sort_values(by='UF', ascending = False)\n",
        "gastos_exterior_pandemia_2019 "
      ],
      "metadata": {
        "id": "1DRmrb0dVDT2"
      },
      "execution_count": null,
      "outputs": []
    },
    {
      "cell_type": "code",
      "source": [
        "gastos_exterior_pandemia_2020 = gastos_exterior_pandemia[gastos_exterior_pandemia['Ano'].isin([2020])].sort_values(by='UF', ascending = False)\n",
        "gastos_exterior_pandemia_2020"
      ],
      "metadata": {
        "id": "NY1I2MgTWyHV"
      },
      "execution_count": null,
      "outputs": []
    },
    {
      "cell_type": "code",
      "source": [
        "gastos_exterior_pandemia_2021 = gastos_exterior_pandemia[gastos_exterior_pandemia['Ano'].isin([2021])].sort_values(by='UF', ascending = False)\n",
        "gastos_exterior_pandemia_2021"
      ],
      "metadata": {
        "id": "oD-WHa7xW6Tv"
      },
      "execution_count": null,
      "outputs": []
    },
    {
      "cell_type": "markdown",
      "source": [
        "A difereça entre uso de recursos público no exterior entre 2019 e 2021 é gritante. Porém tivemos um político que no meio de um caos sanitário viajou para a Europa."
      ],
      "metadata": {
        "id": "LomnKXnTGV5Y"
      }
    },
    {
      "cell_type": "markdown",
      "source": [
        "O único parlamentar que teve gasto no exterior durante a pandemia foi o deputado federal do PSD-RJ Hugo Leal com a justificativa de uma passagem pela KLM. O que é um tanto questionável considerando as recomendações de isolamento do periodo viajado.\n",
        " \n",
        "![image.png](data:image/png;base64,iVBORw0KGgoAAAANSUhEUgAAAq8AAABtCAYAAACP3ogLAAAccElEQVR4nO3df1BU57kH8K/WTGqtoEtZjV7BtaZJBZR7IWAgMgETUdrKjIp0UpJ7LyaT2IlgrFond3A62sk4aCMQW+M08kekToGYCWkv/oqQa4Ljks0UQWwyBhFSTVxkFRxrral7/zjn7PmxZ3cPuweWhe9nhhl2z9n3fffssufZ5zzvywS32+0GEREREVEEmBjuARARERERGcXglYiIiIgiBoNXIiIiIooYDF6JiIiIKGIweCUiIiKiiMHglYiIiIgiBoNXIiIiIooYDF6JiIiIKGIweCUiIiKiiMHglYiIiIgiRkQFr9/0d+GTjz9C10C4R0JERERE4TB6gtdbV9HV68Kdb/Q3O5ur8Kvdv8eRP/8vGhxO/205G1CamopUnZ/S9/vNHzt59L9fyuNMREQUpPaqVKSmVqB9CI8Rzr2laPAZHvWjocTf9iH2rY2zqrwfIbQl/QTueygmmddUCG61oabijzh/W7g5aeosfD8hEYkJjyIx3opbH/0Or5+8Ku5swSM/tPptrv9sE1pQhGrHRixUbnA2oDQvFxVxDmxMHo4nMs45G7Bjhw3Vjkr1cSciIqKA+t8vRfHbADJsmG30QW0VyN3RAqAINh/hUXtVLnaeKUK1n/DJcN9tFUh9vgZFbzlQmQwIgXEuUquq4ShZKPaXiuIvynDckY8Yse3cvFKgsRL5/kM4Q0ZH8DrJglmzpuL8xVsAgG9uXcXnZ6/i87MncESz66yn/ws/muW/uSuXW4CMHO+Db30CORlAU28/kBxj1uhJ1H/Vhu3iG5WIiIiGwNmAHTtaAACZTz1h8Fzajorna4Rfn8vRTRy1V6UGDkoN992Phuoa4LlqRRIwBvnFRdj5fBPaSxZiobMBB9/ORFmjHA/ErFyHoh3F6L4KwITgdXSUDUyOQ866/8Gvt/wUj8X6jqdnPb0JJUsDPet2NL0NYL7NwAvfj4aSAGntQKnxgKlzA320VcjbSxrQLz5GdendYD+l7/d7Lt3rXb4fehrfwPjFfXKfL0Zuqs4lh7YK4T7Pc5Da0Latd6nChNeIiIhoVGtHRd5O2N6qRhEAW5yR0LUfDSXF6N5ejbIMIHOuNjRtR0WqGLjCX1A69L61ffX3dss3rPmodJiTYfXJbaL+lt+6f/nLX/r9+fWfegK2M/jFcfdvf6V97G/dZwYNDOLae+6SlBT33r8E2nbd/d6GFHdK5TnP5usNJe6UlL3ucz7bOufem5LiLmm4bmy7kT7+stedklLifu+aYvuGEnW7f9nrTlG1q+1Hvk+1n6btc5Up7pQN77k9o9OOxYuB8Uv9KtrV7WdDibtEcZ+Rx5nyGhEREY1qwrmupOG613nbn3OV4vlRN+5RnguF33XjoiD69nUe9nfe9T6/h8bUzKtl8Ros+zc/lQgxj2HN0riA7dy5/Bl672jv7UVXb+AxCPWumbB5lRYI3yxapFR32yGh/qNETrLHLM5BJrrRLWX2rnajBUXI8aTGF+LZ7Zlo+eBj9BvZHrAPId1f9Jb8DSVm5XaUoUXRrnhJ4LlqVK6MUfez45CcqWxrQg0g1KBI+82yIVM+Muj+Qv3NK2blOhShBk1tPg6mgWPUXlWMGhShukq+PLDwp2XIPLMTh8R2r1xuAc7YsE6xj5HHmfIaERERjWLtVbnYiTJsXxkjZjBtPmtXJUJ9qnh+vNqtE/csxEaHGA84u9GtGxcF17cUOxRLVzvzmpDTqIg95NZRIe5TjGo4qswrKzS35nWiFTk/LwF+V4UTf9MsGxDzGP775dV4ZLLO4+5cxed/A+Jss3Dr/6oUk7MgFDbcF37t6e4FEvwHv1cuCzUbO/NSsVOzLXP7cTikg5u8EQ6HZoer3WgBkCPdnmVDJnaiOBWeyV8xKyvhWGlwe4A++t8/KARwqsljMbDNBwCxNqWtCTXIRNlP1ZUsMXE21e3+3m4gowzPKtoSAnnp+QjttuzIRSmOi28y4c3tU8BjJJRoZG5/Vl1nY7VBHp0QNKtrcYw8zkj/CPwaEBERjVKeIFScL9J+uQV4bp3/Sc9tFcjdAZQ1Cuc84fyfgyd8BJ1CLGDDOs32oPp2NqBUTARKk7N8T8YSYoyNzgaU5hWjdO5xnQA3OOZP2NILYP0FrnCi6fdVOHHVe8uspzfhhZknUH7oPO4AuPW3K7iFOEz12bkUKMkH1Sdxtpw3xWw9az4qG4HSvJ0oTq0BtCsYBNoeoA+fE8sAT81u+2nh8XrBOFDked4ff9ACzF+n+lYjtF/meUMvLHGgGqko3pGL1B1CMO/3jRToGInZXojt6Y/uCrrPAEXFitfD0OMM9A8Efg2IiIhGI00QKl8h9TPX39mAUnGmvxQoXrnsff5XuqIXlAbTN4D2P+5ES0YZjiuviIqTsZrO9iNfL6aw5mPdcztR/MHH6F9pTvZ1eFYbUAawd/7dT+AKAFY8vnIZug6dQNdt+V55clY+ls09j4bLAC53oev+40j2Vezg/BhN2kBJdz/5xVcumSUs7aCZjWfNR6Uj3/NtQ5nh87vdQB9XAJ2JZVJWUjGKgMG4ToAoBfKa9heWOOAoEcehysIGe4wCBIttTTrZZQOPM/M1IiIiGmV8JqfO5CL1gzIc17nMLl1RbXk+FerUTjFS39Y7r+oHpcH0rVd+aNTsuZnAF0N8kB/Dt9rARCtyfv4r/PoVf4GrYPLcHLyw+edY4qnHeASPL5FSa1PxeN4SWAAAXejq8tOQbt2Hr/2UdZKAJ2gUXxRhxr5i9rs1H5WNZcgUa0QDbTfSh/BidqtrM8WspDTbT3cfcXZ9RZvyMZrnLQXyWQsh1Z0oVx5YWOJA9XPwXRtqYPzCJXtF/SkAz+oA4ox/4XKGJtg08DgzXiMiIqLRamGJAw6H4uetIgCZKGt0+KwPjVlZqX5MYxkyIcx3ceglbcRYQLuCQDB9+yTGIDmLY4QVjUoaNHGFcHU4mKDXl+FdKmviJEwymtudHIcfvVCExCkA8Dk+v6jYFpeLvKTJwMTJ+PYDPv4FF6RvEoGLjYXgSRngCMtNKL/FCDWlNTioCPikf36Qkxx4u6E+FueoJyiJ2UYoAlGvfbQTz+Cj3kUV/M2GLQPqCV7aQDSIYySsm9uCnX9UtCothCxmioXLGZrssoHHmfEaERERRYpAtau6dBM92u2Bk3rG+o7BE09lomXHDsWSlcKk8szt25Fv1Zl4Dfn8vs6keldgtPyTAsnkRBT95xKUvwdkzVNumITEVS+gJG8WZk339WC9iUE+WPOxfXsTchVp96K3jqMMuWiS9kneCMdbQOrzyrpMRUo+0HYjfVjzUflWN1KlfTLKUL09Ey0fKN5AnprOVKSKd6kmnvmod20/XQNklIkZzxjkVx0HSnLFulC5HZ81r0bGr2g3VRpchvwfNXzX0AR6nMH+A70GREREEUHvXN6OitRidPs5V6vP9TqtGgpKfcQRVeIqAar61kocRylyFeUGqlhCJ2bxOr+bYILb7Xab2B6FRPgXazvnG5hwRkRERDRcnA2oOPsENpqYMTXL6PgPW+OSUIdaoazNbDuEnWe8l8UiIiIiGkn9Z7thWzz6AleAmdfw8loKKhNlXuukEREREY2gtgqU9j5r2rqsZmPwSkREREQRg2UDRERERBQxGLwSERERUcRg8EpEREREEYPBKxERERFFDAavRERERBQxGLwSERERUcRg8EpEREREEYPBKxERERFFDAavRERERBQxGLwSERERUcRg8EpEREREEWPSpUuXwj0GIiIiIiLMmzcv4D6TYr4XOwJDISIiIiIKHcsGiIiIiChiMHglIiIioojB4JWIiIiIIgaDVyIiIiKKGAxeiYiIiChiTAr3AEz1zR3cunNvePuYNBlTJz8wvH0QERERka4xErzewZefnsVfr98dme4mPIApMbMx/5EfYMZ3mbwmIiIiGiljIvK6f+ncyAWuAOC+h9vXL+NcSzMcvXdGrl8iIiKicW5MBK83b4crgLwH11/PoPUSA1giIiKikTBGygaUojA3IxEPmdjiYNen6LwmZXYfwOTvAHf+LtXW3sPNi2fQigykzZtsYq9EREREpDUGg9eJmDQ1ClNNbPHet5S3pmD2kkV4sO2sIqBlAEtEREQ0EsZE2cDIm4zZyYuRMONBxX1iAGtGCUFfI17NycbSnG042qfe5Dq2DUtzsrE0JxuvHnMBAC4cEG4vPdDpp9FOvCk+TndfT5/qtoOlHKfeT6jth8TP8ZX4Hf+2RoQyetexbUN8/vJr92ZHkJ127Fc8B/3nbex9FPx4jLdPRDQOdez3e17SJZ7P/H0WXzhg4Jw7hL49n+W+zieaeGI4PvMZvAZtmANYHa5j21BQbhduFO7Da8stwTdWexoXlG1/ehr2kEY3NPby1eENYEPRuhsFOftVx8+oCwey5ddwBF04U6e4ZcdHn0bosSciGpM68WZpXeDdVFw4+pvdfs/drmPbsKHWvL6F9tbijaZmnGpqRv1WYE+hMoDtxJuFu4GtR3CqqRmnmvahoPZl0wNYBq8hGcEAtmO/KnA99WJCiA32oMfzZnPB/uEwBVRpW1AvvslPed7s6QAA+4dnQ8pgjgjt+Gu3QBh9HTZETAaxE6drASAdBYW+j/2CF8XnGPJ7S99wt09EFKkuHHgZ9UN8jOtYOfa0+tyKo9uMJUuM992JunI70rcWYoF4j2X5VmxOkxMirmOHUI+1KPIk1xLwUuVar4RZqBi8hmwEAtiO/VgqfSsyIXBNT0uHOvv2FXpaASAd6WkhNW2IZXa88EtrD75WbtBealBmN31e6hf+QNWXsOX7TL9sEZuH1yrXCr97/hj1L6N7Sg+2NcIljkn6BmwvX615LpqyDj+ZXdUlGyPPq+O08MGUloW1q7KE4Lv1NOyaSz1el/UVx/zNA9v8lhyo95d/lMfDX/tH+9TP3zsrrzk+OqUbXqUeIZZ3EBGNiI79QjZTOrcY0deIPeXA5kopoaLkwtFtq7GndS3eaNqHArP79sOyfBdONa33BLcA4LrSY0rbSgxeTTGMAezXjXhVClzTtqDehKxV3JNCAGPv+Uq4QwpuCrOwJOTWA/Ncwk6Lx0zpzo79WFqovfxRhw1SsBSbh6JCwOuSd99ZfNQKAGuRlQTIf7SaTmtfNq9MISlL/DCow+lga1CV+hrxao72m28dNugEsPWl2epLQAael3S8059cDEvsYixJA4ZWOmBHfa30ysQjPtbHc/B6/YD6UiM1VHbsKVQ/f3v5ajnw1Ts+mtINVUmNch8GsEQ0qgmX7JXZzMDEcoHCZ7Fipt52C1bsavYKIkPvOwFrt6bDXl6r+Owtx57WdCxJ8VXG6J2tNQODV9P4CmDPoqPvfpBt2rGnVBEQtO7GHjMCsNnxiAM8mUPpW1F6fHzobWu17kaBJhsnBV8FP8uD8HZX1NsU7vNcon9DDFb3/EYIQBZkCN8MlZe8pVpdzx+GFMwqLvcL7SiC9ZA9hPghZ6iFDxNpLOlbj+BU0y6siAUuvCu+xp4xH8HmNACoQ4329dZ7Xn7LL6SSASButgWABelPBlG24Xld9D8M5ddBUeck9IKer3Ue4LN9OUtQf0bI0ErHR25beu7y8fm6R/gr8ewjlXfoZJiJiEYL17FDqE/bgs1DmcPSUStkVUNMZgXTt2X5LpyqBDaI5/OC8ni8IZ7LNK2LV0Bf1pQRmIPBq6n0Ati7+KqzI7TsT9oWbJYCFcU3nuAlIEs8+Z/ukOpd07EkxczVcf0QA7CXksTbUuYX6j/GBas0AYiU8fQEJMqxi38YsXl4rakZp3blwSLOsA9crB5OLvR0C7/Jwbz0rbnZa1KevA8wM977YpEXxbHNEo+3JcV36YC+dGxe5f9DUrhUJIxXKA8YSv2Wsn3pvSmRg2+h1EL9BUj6QiIdC2mfVz9dLLwPdD9UiYhGAenS/y/kz/XAhGRPQWWgrOpw9C0GpH+Il+eCiIGs92oH8nlM2GeIqygEwODVdGIAG6sIYO9ew6Uvg2wubQvqd+VhxYv7PJeqzZgoJJ3se8/UipnKLKQbOcmrllzyX5sJQJEpVNTdaGtdPfsqyggAIFbMEHtIgY14ybujVigPUI1dURs55JmbRkk1wqOtLW/yKgN1nm/KcnmGiasOKN4XI/plobsHLkiTBuS75UA3uFUhiIiGl3DpH1u3DukL9oUDL6O+cJ+c/BnBvoVzbro64E1ajzcKgfo/+CnRSirE5jQ79rxr3iTnMfhPCobbXdz84iK+CLTbd76LB3EXwr8xuI/B/q+AOUPNbCrfJEKtSX25Hag9hKOrQssoCdk3O+y1YnBjix/Ct69gJOCl2i3oLdwNO+qwYVs86ndpvvGJQa3nvr4e9GpaWZCxFqitg/3DszhqU9RyituFmY4AkI7NteJl+QMmB1SeccnZzOCJJQjDEsDKWUtf7OW1uLA8xG/wcOHoHxR12bvyYEEn3hxS9jWwgspmPx/Ywrf8FeIt+TWvQ82xwtCWlSMiMptY4mZvXY2l5epNewqz8dHWIzqfW9Jn+stYqvlst5dmo97ohO6g+pZ4z3uYGZ8O1GrO38OMmdchu4PrXV24FOinpx93FY/65u7fQ+7ZsvxZTx2hVAcaNE1WsyDDYO1M0nrVsleBC8KVfeZhs7hMFlp3o066zKCYAKXMKsu1oIrMqqd0YDf21ALQ1NJItY8ofFYM7gMHcEMjrGFnB4DCLK/n3nvF5dmvzs8SJXL9rQXxNuE35TdXUxb0V5ZjaJYrUy75FfqkMzl77Clr8PQdKrmMQD4+8moSwmQ17W1hWS7za52JiEwilbgpfyrXQki8eJeMCRLwko/P8oLKISxDGFTfEuUymwrildMLB/RWehHOEenx5pUmMvNqwLRp38XEq3cR7LQr8yiyr627UdeRp85E1Xp/GwMgLq/l3VZWIVAvrv8Zrztj0XyW5Vux+UNhNYD60v3IalqPBaqssvY5aC5RKPcFvAJIoRxCr50gte5GQc5unQ3K+lz5WNrLvb/J6hLHV1DZjJdWbUF67W7YvfqSakGDC2A9JQM6QTbEVQfsrcLEqJeSQin8l7PH9aXZpmZbAbH2Wff4yF9cVvxsLfa01ukef8NfzIiIyLekQmxOW409v2lEunTlVFyDvqByFywALKu2IL1wN/YcW+wJgoV1ZNfiDROvgDHzasDEOSlIjovCpAnhHom6tq++NLR6Ps+EH6P1rqawYMUvvBf6tyzfpcgGStbqzmL0TDiCd2BiWb7Lk3EDIATuUrtmLZJcuM8r47zgxSOqmkukbcEbW70nVC14UWfNvdg8vOa1Fp9c9hAcOeOs/21XXnUg9ONiwYpd6vEXVMr/jEJaNSBosXl4Tfe9oXgNktaLmQMlIYsQWm0YEVH4uI5tC9+a1X2NeFU10UpcNcemWEWotE5d0iV+XkM5wbZ7C+qHcpXWgAk3BwbdJrYXFq6OZjiuShfpp2F+7mLMC+uIAKAfHR9+gq88w3oYy9K/H9YRjRmef9qgCWCIiIjINK5j+2FPWT+iq7ZER00NuA/LBihiaBeiN3vRYyIiIpK4YP8QiF8e7nF4Y9kARQzPv5UFgMJ9nEFOREQ0XPrO4iObzpyJUWB8ZV7v38Sljotw/dOk9iZOxkM/TMTs75jUHvmXtB6nmtaHexRERERjX2weXvOa7D06jK/g9UYPvvxavYRVqO5/nYjZ4S+wJSIiIhoXWDZARERERBFjfGVep0RjyoPX8a9/mdXgg5gSbVZbRERERBTI+Apevz0XqU/ODfcoiIiIiChILBsgIiIioojB4JWIiIiIIsb4Khv4Ry/OObrQf/e+Oe09MAVxCYsxP8ac5oiIiIjIv/EVvN6+gZu37+Ibs9r75iZcAwAYvBIRERGNCJYNEBEREVHEGF+Z1ynTMW2Ky9SyAcswLZXV+e7rONkj3YrGomfWIXtG4G0A4Gw+iD/jJyjOtsLZfBCH2wYAAFHJRSjOtgJwovlgDc4Nanv17uezhzdhtbUJ1Yfb4Nk9fhk2rkrUHeucpzZhdZK05TyO7D2BL6WbUcl4Zl0OrIpxeo+NiIiIyLfxFbx+Ow6LnogL9ygCcjYfxMkbyXjmFSHQczYfxOHD78D6yhrE+tmWID6+78YAoh+2Atea8Oc2YNEzm5CNJlQf/hOaF6xD9gwrstdtQraiz853X8dJpCuCYCecN6JhsZ7HkcNtiH5qE4qTACkgrW62CsFmxzs42ROHp19Zg4SOd1DxwTvoTFqDBDjRfPAEBpKLsFERMB9+1yoEvj7HNmKHmYiIiCIQywZGIWv2OmxUZCitC2yIwgCc1/xvE5zHZz1xeDQJcF7oxmCUDQkzAMzIQXr8ALovOL07lAJQRTYV186jGzYkzEjE6leU2dREPBoPDN4Q2um82AvEPyoEzklZWBTVi886AEAIkOVsqhUJ86KBG044MYSxERERESkweB1rOj7Dl2Iw2XdjAJhuhfJivBR0ypxobu1FVHKWJ3MLCMEl5iXC/4V8J5w3gKjp6r0GrgcOQo2NjYiIiEhtfJUN/OMyHGe7MGjiv4edkfwEEoZ5tYHOljYMRiULWcoA25zXB1TBpPL32OnRwA1NAx2ncW4wDk9r6k09pQda15pg7wHmPJUIQAg2o78nZ1et04Fu3WdxHh+1DSAqWQiI+4yMjYiIiEhjfAWvtwdw++4985bKwj3cHualspzNB3GyJxqLnsnxyoJ6b3Oi8xJg+7HxiU/CZf9lqqyrp/RglXZvof51MH6ZWP9q+Fmg+eAJfBmVjGc4KYuIiIhCwLKBUUyYjQ+v1QR8b3PCNRgNq2Jf5aX4vhsD2h7gvAHMeThRffc1JwaiLIhV3SmuHKBZaQBQlgkI7Wn7aD5Yg3NQrzQQeGxERERE3sZX5nV6PObM/Cdc/zSpvYmT8dBMk9rSEILTaGEWv9FtYr3ravGm3qV4VX3qtfPoHoyGTZMMFepdf6IINIXAVV45QKJfJiCXEYiB63TvgDfg2IiIiIh0jK/gdeI0zFv0GOaFexyBdLwjZlW9A1d/2zov9mLOw2s8t60LbIg6bEfztURkown2nmjYMhUBotMlz/iX79SUHoiX/OOXaQJXQcLDcTj5wWl0Zq9BglQ/K5YUdL4rZlw1gauhsRERERHpGF/Ba4TovNgLADh3+HWcU9w/56lNeNTntiJYbkTDooz/ZuTgx8kHcVjcNyq5SP3PDK4PALBoehdKDx6V9rt2Ht2DAAZPoGLvCXk36R8OJK3B0xdfx8m9r+OkOEYhqD6Pz3oAoA2H97Yp2hfXhA0wNiIiIiI9E24ODLrDPYhQuTqa4bh6V7w1DfNzF4+C7Go/Oj78BF95hvUwlqV/P6wjIiIiIhrNoqOmBtyHE7aIiIiIKGIweCUiIiKiiMHglYiIiIgixhicsHUbX33yCVzhHgbu4fa9cI+BiIiIaGwZg8HrPdx29eN2uIehNeFb4R4BERERUcQbE2UDlthpozwKn4hpMx4K9yCIiIiIIt7ojvmMmrkI6XfPoa3bhbv/CvdgtCYhau4i/Ef8g+EeCBEREVHEGxPrvBIRERFR5OM6r0REREQ0pjB4JSIiIqKIweCViIiIiCIGg1ciIiIiihgMXomIiIgoYjB4JSIiIqKIMan/el+4x0BEREREZGiprAlut5vrvBIRERFRRGDZABERERFFDAavRERERBQxGLwSERERUcRg8EpEREREEYPBKxERERFFjP8Hq9Jfqh847ewAAAAASUVORK5CYII=)\n",
        "\n",
        "(Imagem divulgada no site do próprio deputado)"
      ],
      "metadata": {
        "id": "vBWZuJJyYAN6"
      }
    },
    {
      "cell_type": "markdown",
      "source": [
        "Após uma análise sobre o comportamento político do parlamentar é possível compreender o por que da atitude um tanto controversa com o período vivido. As manobras politicas através do anos o colocaram nos holofotes do senado e sua habilidade de transitar em governos de forma bem posicionada, o colocou como relator Fiscal, dando poder para esse parlamentar quanto ao uso das verbas estudadas nesse projeto. \n",
        "\n",
        "Apesar de ter muitas informações faltantes, é notório o quanto a verba é aplicada de forma inadequada e irresponsável.\n",
        "\n",
        "É necessário, como cidadãos, termos uma maior presença e cobrarmos dos parlamentares que votamos o uso da verba pública como um bem que vai ser revertido, mesmo de forma indireta, para a população.\n",
        "\n",
        "\n",
        "(*fonte disponível em 13.2*)"
      ],
      "metadata": {
        "id": "QGxw_pHe41lk"
      }
    },
    {
      "cell_type": "markdown",
      "source": [
        "# **Fontes:**\n",
        "\n",
        "\n",
        "- 13.1 https://adeusbolsonaro.com.br/rj/deputado-hugo-leal.html?2\n",
        "- 13.2 https://veja.abril.com.br/politica/relator-do-orcamento-hugo-leal-ganha-poder-e-guarda-segredos-valiosos/"
      ],
      "metadata": {
        "id": "jeVTxwy96BsB"
      }
    }
  ],
  "metadata": {
    "colab": {
      "collapsed_sections": [
        "z4X_oq6AU-6M",
        "I3WACpqEUjcI",
        "JKgKeDYLBF3u",
        "6esZZN4FBL8s",
        "V4bspS-S3No5",
        "TH9mLSQeQWR2",
        "r09d8IJjXy9H",
        "uqd3emuKPE7I",
        "DViMUSw_BQAE",
        "r1F3LNOWV1d6",
        "YZ82T3AFWAGJ",
        "qBOjuhccYxDo",
        "4OWhKVRVKon5",
        "wKgXsU5vlS5z",
        "clTBvf04mi0i",
        "_XYQMiEZn6pK"
      ],
      "name": "projeto5_grupo1.ipynb",
      "provenance": [],
      "include_colab_link": true
    },
    "kernelspec": {
      "display_name": "Python 3",
      "name": "python3"
    },
    "language_info": {
      "name": "python"
    }
  },
  "nbformat": 4,
  "nbformat_minor": 0
}